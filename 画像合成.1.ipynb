{
  "nbformat": 4,
  "nbformat_minor": 0,
  "metadata": {
    "colab": {
      "name": "画像合成.ipynb",
      "provenance": [],
      "include_colab_link": true
    },
    "kernelspec": {
      "name": "python3",
      "display_name": "Python 3"
    },
    "language_info": {
      "name": "python"
    }
  },
  "cells": [
    {
      "cell_type": "markdown",
      "metadata": {
        "id": "view-in-github",
        "colab_type": "text"
      },
      "source": [
        "<a href=\"https://colab.research.google.com/github/1900690/kyouyu/blob/main/%E7%94%BB%E5%83%8F%E5%90%88%E6%88%90.1.ipynb\" target=\"_parent\"><img src=\"https://colab.research.google.com/assets/colab-badge.svg\" alt=\"Open In Colab\"/></a>"
      ]
    },
    {
      "cell_type": "code",
      "execution_count": null,
      "metadata": {
        "id": "jhdt6quCemSY"
      },
      "outputs": [],
      "source": [
        "#画像を入れたzipを解凍\n",
        "!cd \"/content/\" && unzip -q images.zip"
      ]
    },
    {
      "cell_type": "code",
      "source": [
        "#アルファブレンド\n",
        "import cv2\n",
        "import glob\n",
        "import os\n",
        "from google.colab.patches import cv2_imshow\n",
        "\n",
        "#階層移動\n",
        "os.chdir(\"/content/images\")\n",
        "#階層内のPathを全取得\n",
        "path = glob.glob(\"*\")\n",
        "print(path)\n",
        "\n",
        "#一枚目と二枚目を合成\n",
        "dst=cv2.addWeighted(cv2.imread(path[0]), 1/len(path), cv2.imread(path[1]), 1/len(path), 0)\n",
        "\n",
        "#残りを合成\n",
        "for number in list(range(2,len(path))):\n",
        "  src = cv2.imread(path[number])\n",
        "  #src = cv2.resize(src, dst.shape[1::-1])#サイズを合わせる必要があるなら\n",
        "  dst=cv2.addWeighted(dst,1, src, 1/len(path), 0)\n",
        "\n",
        "#書き出し\n",
        "cv2.imwrite(\"/content/result.jpg\", dst)\n",
        "#表示する場合 \n",
        "#cv2_imshow(dst)"
      ],
      "metadata": {
        "id": "GtOLqUB4fNqd"
      },
      "execution_count": null,
      "outputs": []
    },
    {
      "cell_type": "code",
      "source": [
        "#比較明合成\n",
        "import cv2\n",
        "import glob\n",
        " \n",
        "flist = glob.glob(\"/content/oroginal/*.jpg\")    #ソースの写真群がある場所    \n",
        "sums = cv2.imread(flist.pop())\n",
        "for fname in flist:\n",
        "    current = cv2.imread(fname)\n",
        "    #sums = np.maximum(current,sums)   # ここで比較明合成！\n",
        "    sums = np.minimum(current,sums)   # ここで比較暗合成！\n",
        "cv2.imwrite(\"result.jpg\", sums)"
      ],
      "metadata": {
        "id": "Zpl2LccHfuLa"
      },
      "execution_count": null,
      "outputs": []
    }
  ]
}