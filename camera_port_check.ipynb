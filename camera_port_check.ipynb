{
  "nbformat": 4,
  "nbformat_minor": 0,
  "metadata": {
    "colab": {
      "provenance": [],
      "toc_visible": true,
      "include_colab_link": true
    },
    "kernelspec": {
      "name": "python3",
      "display_name": "Python 3"
    },
    "language_info": {
      "name": "python"
    }
  },
  "cells": [
    {
      "cell_type": "markdown",
      "metadata": {
        "id": "view-in-github",
        "colab_type": "text"
      },
      "source": [
        "<a href=\"https://colab.research.google.com/github/1900690/kyouyu/blob/main/camera_port_check.ipynb\" target=\"_parent\"><img src=\"https://colab.research.google.com/assets/colab-badge.svg\" alt=\"Open In Colab\"/></a>"
      ]
    },
    {
      "cell_type": "code",
      "execution_count": null,
      "metadata": {
        "id": "jrAkmrHwJ_0K"
      },
      "outputs": [],
      "source": [
        "import cv2\n",
        "import time\n",
        "\n",
        "#　参考にしたコード\n",
        "def check_camera_connection():\n",
        "    \"\"\"\n",
        "    Check the connection between the camera numbers and the computer. \n",
        "\n",
        "    \"\"\"\n",
        "    true_camera_is = []  \n",
        "\n",
        "    # check the camera number from 0 to 9\n",
        "    for camera_number in range(0, 10):\n",
        "        cap = cv2.VideoCapture(camera_number)\n",
        "        ret, frame = cap.read()\n",
        "\n",
        "        if ret is True:\n",
        "            true_camera_is.append(camera_number)\n",
        "            print(\"port number\", camera_number, \"Find!\")\n",
        "\n",
        "        else:\n",
        "            print(\"port number\", camera_number,\"None\")\n",
        "    print(\"Connected camera\", len(true_camera_is))\n",
        "\n",
        "\n",
        "# 画像を表示させて実際に確かめるコード\n",
        "def check_camera_connection_display(save_flag=False):\n",
        "    \"\"\"\n",
        "    Display the image and check the camera number \n",
        "\n",
        "    \"\"\"\n",
        "    true_camera_is = [] \n",
        "\n",
        "    for camera_number in range(0, 5):\n",
        "        #  for windows -> cv2.CAP_DSHOW\n",
        "        cap = cv2.VideoCapture(camera_number,cv2.CAP_DSHOW)\n",
        "        # other\n",
        "        # cap = cv2.VideoCapture(camera_number)\n",
        "\n",
        "        ret, frame = cap.read()\n",
        "\n",
        "        if ret is True:\n",
        "            start = time.time()\n",
        "\n",
        "            while True:\n",
        "                elasped_time = time.time() - start\n",
        "                ret2, frame = cap.read()\n",
        "                gray = cv2.cvtColor(frame, cv2.COLOR_BGR2GRAY)\n",
        "\n",
        "                if elasped_time > 3.0:\n",
        "                    if save_flag :\n",
        "                        # save data file\n",
        "                        save_data_name = f'N_{camera_number}.png'\n",
        "                        cv2.imwrite(save_data_name, gray)\n",
        "\n",
        "                    break\n",
        "\n",
        "                cv2.imshow(f'Camera Number: {camera_number}',gray)\n",
        "\n",
        "                if cv2.waitKey(1) & 0xFF == ord('q'):\n",
        "                    break\n",
        "\n",
        "\n",
        "            cap.release()\n",
        "            cv2.destroyAllWindows()\n",
        "\n",
        "            true_camera_is.append(camera_number)\n",
        "            print(\"port number\", camera_number, \"Find!\")\n",
        "\n",
        "        else:\n",
        "            print(\"port number\", camera_number,\"None\")\n",
        "\n",
        "    print(f\"Number of connected camera: {len(true_camera_is)}\")\n",
        "\n",
        "if __name__ == '__main__':\n",
        "    # check_camera_connection()\n",
        "    check_camera_connection_display(save_flag=False)"
      ]
    }
  ]
}