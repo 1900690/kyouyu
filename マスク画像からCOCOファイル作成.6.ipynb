{
  "nbformat": 4,
  "nbformat_minor": 0,
  "metadata": {
    "colab": {
      "name": "マスク画像からCOCOファイル作成.ipynb",
      "provenance": [],
      "include_colab_link": true
    },
    "kernelspec": {
      "name": "python3",
      "display_name": "Python 3"
    },
    "language_info": {
      "name": "python"
    }
  },
  "cells": [
    {
      "cell_type": "markdown",
      "metadata": {
        "id": "view-in-github",
        "colab_type": "text"
      },
      "source": [
        "<a href=\"https://colab.research.google.com/github/1900690/kyouyu/blob/main/%E3%83%9E%E3%82%B9%E3%82%AF%E7%94%BB%E5%83%8F%E3%81%8B%E3%82%89COCO%E3%83%95%E3%82%A1%E3%82%A4%E3%83%AB%E4%BD%9C%E6%88%90.6.ipynb\" target=\"_parent\"><img src=\"https://colab.research.google.com/assets/colab-badge.svg\" alt=\"Open In Colab\"/></a>"
      ]
    },
    {
      "cell_type": "markdown",
      "source": [
        "#背景処理画像を作成\n",
        "[remobe.bg](https://www.remove.bg/ja)にアクセスして、背景消去した画像を作成する"
      ],
      "metadata": {
        "id": "sSyAALr5UAk_"
      }
    },
    {
      "cell_type": "markdown",
      "source": [
        "※フォルダには生画像、背景処理画像をセットで入れておく"
      ],
      "metadata": {
        "id": "csL-qRHPV5Aq"
      }
    },
    {
      "cell_type": "markdown",
      "source": [
        "##グーグルドライブから画像を入手する場合\n",
        "\n",
        "グーグルドライブをマウント"
      ],
      "metadata": {
        "id": "btW8nb_W_dX7"
      }
    },
    {
      "cell_type": "code",
      "metadata": {
        "id": "fi5zLmBGco2M",
        "outputId": "eac7c162-53ae-45ea-818f-df094841cde9",
        "colab": {
          "base_uri": "https://localhost:8080/"
        }
      },
      "source": [
        "from google.colab import drive\n",
        "drive.mount('/content/drive')"
      ],
      "execution_count": null,
      "outputs": [
        {
          "output_type": "stream",
          "name": "stdout",
          "text": [
            "Mounted at /content/drive\n"
          ]
        }
      ]
    },
    {
      "cell_type": "markdown",
      "source": [
        "##ローカルから画像を入手する場合\n",
        "\n",
        "画像の入ったフォルダをzip化(日本語は文字化けする)、ダウンロードののち、以下のコードで解凍"
      ],
      "metadata": {
        "id": "HGRL9p2N6qDD"
      }
    },
    {
      "cell_type": "code",
      "source": [
        "!unzip -q copy_from.zip"
      ],
      "metadata": {
        "id": "ciEn7BP26nIT"
      },
      "execution_count": 1,
      "outputs": []
    },
    {
      "cell_type": "markdown",
      "source": [
        "ディレクトリを移動"
      ],
      "metadata": {
        "id": "awnk-ZTYZ6_Y"
      }
    },
    {
      "cell_type": "code",
      "source": [
        "%cd haikeisyori"
      ],
      "metadata": {
        "id": "ifVLrLq7Z2pB",
        "outputId": "3225f133-7805-457f-96d7-2a1e765c99af",
        "colab": {
          "base_uri": "https://localhost:8080/"
        }
      },
      "execution_count": null,
      "outputs": [
        {
          "output_type": "stream",
          "name": "stdout",
          "text": [
            "/content/haikeisyori\n"
          ]
        }
      ]
    },
    {
      "cell_type": "markdown",
      "source": [
        "読み込んだ画像を表示する場合\n",
        "\n",
        "・OpenCVを使って画像を読み込む cv2.imreadでOpenCV形式に変換 OpenCVはBGRなのでcvtColorでRGBに直してから表示する"
      ],
      "metadata": {
        "id": "5VRBG0d67CL_"
      }
    },
    {
      "cell_type": "code",
      "source": [
        "import cv2\n",
        "from matplotlib import pyplot as plt\n",
        "orig = cv2.imread('/content/haikeisyori/inu-removebg-preview.png')\n",
        "src = cv2.cvtColor(orig, cv2.COLOR_BGR2RGB)\n",
        "plt.imshow(src)"
      ],
      "metadata": {
        "id": "15iy-N5W7Dy5",
        "outputId": "a48cabf9-d9b9-4f27-a69f-1e5a7e14b4e1",
        "colab": {
          "base_uri": "https://localhost:8080/",
          "height": 222
        }
      },
      "execution_count": 12,
      "outputs": [
        {
          "output_type": "error",
          "ename": "error",
          "evalue": "ignored",
          "traceback": [
            "\u001b[0;31m---------------------------------------------------------------------------\u001b[0m",
            "\u001b[0;31merror\u001b[0m                                     Traceback (most recent call last)",
            "\u001b[0;32m<ipython-input-12-5da9a9e6d000>\u001b[0m in \u001b[0;36m<module>\u001b[0;34m()\u001b[0m\n\u001b[1;32m      2\u001b[0m \u001b[0;32mfrom\u001b[0m \u001b[0mmatplotlib\u001b[0m \u001b[0;32mimport\u001b[0m \u001b[0mpyplot\u001b[0m \u001b[0;32mas\u001b[0m \u001b[0mplt\u001b[0m\u001b[0;34m\u001b[0m\u001b[0;34m\u001b[0m\u001b[0m\n\u001b[1;32m      3\u001b[0m \u001b[0morig\u001b[0m \u001b[0;34m=\u001b[0m \u001b[0mcv2\u001b[0m\u001b[0;34m.\u001b[0m\u001b[0mimread\u001b[0m\u001b[0;34m(\u001b[0m\u001b[0;34m'/content/haikeisyori/inu-removebg-preview.png'\u001b[0m\u001b[0;34m)\u001b[0m\u001b[0;34m\u001b[0m\u001b[0;34m\u001b[0m\u001b[0m\n\u001b[0;32m----> 4\u001b[0;31m \u001b[0msrc\u001b[0m \u001b[0;34m=\u001b[0m \u001b[0mcv2\u001b[0m\u001b[0;34m.\u001b[0m\u001b[0mcvtColor\u001b[0m\u001b[0;34m(\u001b[0m\u001b[0morig\u001b[0m\u001b[0;34m,\u001b[0m \u001b[0mcv2\u001b[0m\u001b[0;34m.\u001b[0m\u001b[0mCOLOR_BGR2RGB\u001b[0m\u001b[0;34m)\u001b[0m\u001b[0;34m\u001b[0m\u001b[0;34m\u001b[0m\u001b[0m\n\u001b[0m\u001b[1;32m      5\u001b[0m \u001b[0mplt\u001b[0m\u001b[0;34m.\u001b[0m\u001b[0mimshow\u001b[0m\u001b[0;34m(\u001b[0m\u001b[0msrc\u001b[0m\u001b[0;34m)\u001b[0m\u001b[0;34m\u001b[0m\u001b[0;34m\u001b[0m\u001b[0m\n",
            "\u001b[0;31merror\u001b[0m: OpenCV(4.1.2) /io/opencv/modules/imgproc/src/color.cpp:182: error: (-215:Assertion failed) !_src.empty() in function 'cvtColor'\n"
          ]
        }
      ]
    },
    {
      "cell_type": "markdown",
      "source": [
        "#画像の仕分け\n",
        "\n",
        "画像のリストを取得し、生画像、背景処理画像それぞれのフォルダに入れる"
      ],
      "metadata": {
        "id": "Nqojv1P5WG2j"
      }
    },
    {
      "cell_type": "code",
      "source": [
        "#参考https://kino-code.com/files-move/\n",
        "import os\n",
        "import shutil\n",
        "#作成するフォルダネーム\n",
        "file_extensions = ['jpg','png']\n",
        "file_extensions \n",
        "\n",
        "#読み取りたいディレクトリパスを入れる\n",
        "read_path = './copy_from'#★読み取るフォルダネームに合わせて変更\n",
        "read_files = os.listdir(read_path)\n",
        "\n",
        "#拡張子リストを取得するフォー文を追加する。\n",
        "for file_extension in file_extensions:\n",
        "    os.mkdir('./' + file_extension)\n",
        "\n",
        "    #指定の拡張子だけのファイル名をリストを作る\n",
        "    file_list = []\n",
        "    for file_name in read_files:\n",
        "        if file_name.endswith(file_extension):\n",
        "            file_list.append(file_name)\n",
        "\n",
        "    #read_listから、指定の拡張子のファイルだけ指定のディレクトリにコピーする\n",
        "    for file_name in file_list:\n",
        "        copy_from = './' + read_path + '/' + file_name    \n",
        "        copy_to = './' + file_extension + '/' + file_name \n",
        "        shutil.copy2(copy_from, copy_to)"
      ],
      "metadata": {
        "id": "HuMmQBDPWZVF"
      },
      "execution_count": 3,
      "outputs": []
    },
    {
      "cell_type": "markdown",
      "source": [
        "アルファチャンネル（透過度）のみ取得"
      ],
      "metadata": {
        "id": "d4iO6yqx7OSM"
      }
    },
    {
      "cell_type": "code",
      "source": [
        "import cv2\n",
        "from matplotlib import pyplot as plt\n",
        "import glob\n",
        "\n",
        "#jpgフォルダのリストを取得\n",
        "LOAD_FOLDA = 'png'\n",
        "LOAD_NAME = os.listdir(LOAD_FOLDA)\n",
        "\n",
        "\n",
        "#マスクフォルダを作成\n",
        "SAVE_NAME = 'mask'\n",
        "if not os.path.exists('./' +SAVE_NAME):\n",
        "    os.mkdir('./' +SAVE_NAME)\n",
        "\n",
        "#マスク画像を作るためのfor文\n",
        "for file_name in LOAD_NAME:\n",
        "\n",
        "  IMAGE_PATH='/content/' + LOAD_FOLDA +'/'+file_name\n",
        "  image = cv2.imread(IMAGE_PATH, cv2.IMREAD_UNCHANGED)# 画像を読み込んでNumPy配列を作成\n",
        "  alpha_image = image[:,:,3]# スライスを利用してアルファチャンネルのみを切り出し\n",
        "  cv2.imwrite('/content/'+SAVE_NAME+'/'+file_name, alpha_image)# 画像ファイルとして保存\n",
        "\n",
        "#マスク画像の名前を置き換えるためのfor文\n",
        "FILE_PASS=glob.glob('/content/mask/*')\n",
        "\n",
        "for name in FILE_PASS:\n",
        "  #nameの名前をRENAMEへ変更\n",
        "  RENAME=name.replace('-removebg-preview', '')\n",
        "  os.rename(name, RENAME)"
      ],
      "metadata": {
        "id": "VgG8XwOV7NgE"
      },
      "execution_count": 38,
      "outputs": []
    },
    {
      "cell_type": "markdown",
      "source": [
        "jpgフォルダには元の画像を、maskフォルダにはマスク画像を入れる。それぞれのセットごとに同じ名前を付けること"
      ],
      "metadata": {
        "id": "9k7WVm4x_x_i"
      }
    },
    {
      "cell_type": "markdown",
      "source": [
        "ライブラリインポート"
      ],
      "metadata": {
        "id": "GwfJcrH4A6N4"
      }
    },
    {
      "cell_type": "code",
      "source": [
        "import json\n",
        "import collections as cl\n",
        "import numpy as np\n",
        "import matplotlib.pyplot as plt\n",
        "from scipy import ndimage\n",
        "from skimage import measure\n",
        "from skimage.segmentation import clear_border\n",
        "from skimage.filters import threshold_otsu\n",
        "import cv2\n",
        "import glob\n",
        "import sys\n",
        "import os"
      ],
      "metadata": {
        "id": "MlKvQKSNA8ZX"
      },
      "execution_count": 39,
      "outputs": []
    },
    {
      "cell_type": "markdown",
      "source": [
        "関数定義"
      ],
      "metadata": {
        "id": "bksvD6tTA_jg"
      }
    },
    {
      "cell_type": "code",
      "source": [
        "### https://qiita.com/harmegiddo/items/da131ae5bcddbbbde41f\n",
        "\n",
        "def info():\n",
        "    tmp = cl.OrderedDict()\n",
        "    tmp[\"description\"] = \"Test\"\n",
        "    tmp[\"url\"] = \"https://test\"\n",
        "    tmp[\"version\"] = \"0.01\"\n",
        "    tmp[\"year\"] = 2020\n",
        "    tmp[\"contributor\"] = \"salt22g\"\n",
        "    tmp[\"data_created\"] = \"2020/12/20\"\n",
        "    return tmp\n",
        "\n",
        "def licenses():\n",
        "    tmp = cl.OrderedDict()\n",
        "    tmp[\"id\"] = 1\n",
        "    tmp[\"url\"] = \"dummy_words\"\n",
        "    tmp[\"name\"] = \"salt22g\"\n",
        "    return tmp\n",
        "\n",
        "def images(mask_path):\n",
        "    tmps = []\n",
        "    files = glob.glob(mask_path + \"/*.png\")\n",
        "    files.sort()\n",
        "\n",
        "    for i, file in enumerate(files):\n",
        "        img = cv2.imread(file, 0)\n",
        "        height, width = img.shape[:3]\n",
        "\n",
        "        tmp = cl.OrderedDict()\n",
        "        tmp[\"license\"] = 1\n",
        "        tmp[\"id\"] = i\n",
        "        tmp[\"file_name\"] = os.path.basename(file)\n",
        "        tmp[\"width\"] = width\n",
        "        tmp[\"height\"] = height\n",
        "        tmp[\"date_captured\"] = \"\"\n",
        "        tmp[\"coco_url\"] = \"dummy_words\"\n",
        "        tmp[\"flickr_url\"] = \"dummy_words\"\n",
        "        tmps.append(tmp)\n",
        "    return tmps\n",
        "\n",
        "\n",
        "def annotations(mask_path):\n",
        "    tmps = []\n",
        "\n",
        "    files = glob.glob(mask_path + \"/*.png\")\n",
        "    files.sort()\n",
        "    \n",
        "    for i, file in enumerate(files):\n",
        "        img = cv2.imread(file, 0)\n",
        "        tmp = cl.OrderedDict()\n",
        "        contours = measure.find_contours(img, 0.5)\n",
        "        segmentation_list = []\n",
        "\n",
        "        for contour in contours:\n",
        "            for a in contour:\n",
        "                segmentation_list.append(a[0])\n",
        "                segmentation_list.append(a[1])\n",
        "\n",
        "\n",
        "        mask = np.array(img)\n",
        "        obj_ids = np.unique(mask)\n",
        "        obj_ids = obj_ids[1:]\n",
        "        masks = mask == obj_ids[:, None, None]\n",
        "        num_objs = len(obj_ids)\n",
        "        boxes = []\n",
        "\n",
        "        for j in range(num_objs):\n",
        "            pos = np.where(masks[j])\n",
        "            xmin = np.min(pos[1])\n",
        "            xmax = np.max(pos[1])\n",
        "            ymin = np.min(pos[0])\n",
        "            ymax = np.max(pos[0])\n",
        "            boxes.append([xmin, ymin, xmax, ymax])\n",
        "\n",
        "        tmp_segmentation = cl.OrderedDict()\n",
        "\n",
        "        tmp[\"segmentation\"] = [segmentation_list]\n",
        "        tmp[\"id\"] = str(i)\n",
        "        tmp[\"image_id\"] = i\n",
        "        tmp[\"category_id\"] = 1\n",
        "        tmp[\"area\"] = float(boxes[0][3] - boxes[0][1]) * float(boxes[0][2] - boxes[0][0])\n",
        "        tmp[\"iscrowd\"] = 0\n",
        "        tmp[\"bbox\"] =  [float(boxes[0][0]), float(boxes[0][1]), float(boxes[0][3] - boxes[0][1]), float(boxes[0][2] - boxes[0][0])]\n",
        "        tmps.append(tmp)\n",
        "    return tmps\n",
        "\n",
        "def categories():\n",
        "    tmps = []\n",
        "    sup = [\"person\"]\n",
        "    cat = [\"person\"]\n",
        "    for i in range(len(sup)):\n",
        "        tmp = cl.OrderedDict()\n",
        "        tmp[\"id\"] = i+1\n",
        "        tmp[\"name\"] = cat[i]\n",
        "        tmp[\"supercategory\"] = sup[i]\n",
        "        tmps.append(tmp)\n",
        "    return tmps\n",
        "\n",
        "def main(mask_path, json_name):\n",
        "    query_list = [\"info\", \"licenses\", \"images\", \"annotations\", \"categories\", \"segment_info\"]\n",
        "    js = cl.OrderedDict()\n",
        "    for i in range(len(query_list)):\n",
        "        tmp = \"\"\n",
        "        # Info\n",
        "        if query_list[i] == \"info\":\n",
        "            tmp = info()\n",
        "\n",
        "        # licenses\n",
        "        elif query_list[i] == \"licenses\":\n",
        "            tmp = licenses()\n",
        "\n",
        "        elif query_list[i] == \"images\":\n",
        "            tmp = images(mask_path)\n",
        "\n",
        "        elif query_list[i] == \"annotations\":\n",
        "            tmp = annotations(mask_path)\n",
        "\n",
        "        elif query_list[i] == \"categories\":\n",
        "            tmp = categories()\n",
        "\n",
        "        # save it\n",
        "        js[query_list[i]] = tmp\n",
        "\n",
        "    # write\n",
        "    fw = open(json_name,'w')\n",
        "    json.dump(js,fw,indent=2)"
      ],
      "metadata": {
        "id": "RzqJcdTXA1yd"
      },
      "execution_count": 40,
      "outputs": []
    },
    {
      "cell_type": "markdown",
      "source": [
        "main"
      ],
      "metadata": {
        "id": "EIaG55pvBslv"
      }
    },
    {
      "cell_type": "code",
      "source": [
        "#args = sys.argv\n",
        "#mask_path = args[1]\n",
        "mask_path =  \"/content/mask\"\n",
        "#json_name = args[2]\n",
        "json_name = \"inuneko.json\"\n",
        "\n",
        "if __name__=='__main__':\n",
        "    main(mask_path, json_name)"
      ],
      "metadata": {
        "id": "kR6Qw60oBLdP"
      },
      "execution_count": 42,
      "outputs": []
    },
    {
      "cell_type": "code",
      "source": [
        "!cd \"/content/\" && zip -q \"jpg.zip\" -r \"jpg\""
      ],
      "metadata": {
        "id": "cH5wYAIKbki9"
      },
      "execution_count": 46,
      "outputs": []
    }
  ]
}