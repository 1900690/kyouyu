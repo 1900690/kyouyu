{
  "nbformat": 4,
  "nbformat_minor": 0,
  "metadata": {
    "colab": {
      "provenance": [],
      "authorship_tag": "ABX9TyMaeFx585ONuZcyx+k/Qjtx",
      "include_colab_link": true
    },
    "kernelspec": {
      "name": "python3",
      "display_name": "Python 3"
    },
    "language_info": {
      "name": "python"
    }
  },
  "cells": [
    {
      "cell_type": "markdown",
      "metadata": {
        "id": "view-in-github",
        "colab_type": "text"
      },
      "source": [
        "<a href=\"https://colab.research.google.com/github/1900690/kyouyu/blob/main/syakuyaku.ipynb\" target=\"_parent\"><img src=\"https://colab.research.google.com/assets/colab-badge.svg\" alt=\"Open In Colab\"/></a>"
      ]
    },
    {
      "cell_type": "code",
      "execution_count": 1,
      "metadata": {
        "id": "QtAypOjZYSTO",
        "outputId": "a0de3e81-d662-4e4e-9df9-1fc8c2937803",
        "colab": {
          "base_uri": "https://localhost:8080/"
        }
      },
      "outputs": [
        {
          "output_type": "stream",
          "name": "stdout",
          "text": [
            "Mounted at /content/drive\n"
          ]
        }
      ],
      "source": [
        "#ドライブマウント\n",
        "from google.colab import drive\n",
        "drive.mount('/content/drive')"
      ]
    },
    {
      "cell_type": "markdown",
      "source": [
        "#AVIファイルをmp4に変換する"
      ],
      "metadata": {
        "id": "gbIzEsk7brxM"
      }
    },
    {
      "cell_type": "code",
      "source": [
        "#ファイルコピー\n",
        "import shutil\n",
        "shutil.copyfile(\"/content/drive/MyDrive/TLC00001.AVI\", \"/content/TLC00001.AVI\")"
      ],
      "metadata": {
        "id": "eLWOtX8WYtqe",
        "outputId": "817dc407-0def-428f-b7be-25a4e8b3d7d6",
        "colab": {
          "base_uri": "https://localhost:8080/",
          "height": 35
        }
      },
      "execution_count": 6,
      "outputs": [
        {
          "output_type": "execute_result",
          "data": {
            "text/plain": [
              "'/content/TLC00001.AVI'"
            ],
            "application/vnd.google.colaboratory.intrinsic+json": {
              "type": "string"
            }
          },
          "metadata": {},
          "execution_count": 6
        }
      ]
    },
    {
      "cell_type": "code",
      "source": [
        "!pip install opencv-python\n",
        "!pip install opencv-contrib-python"
      ],
      "metadata": {
        "id": "y9gmBB_rcDMZ",
        "outputId": "eaf27ecb-0338-4f88-8a08-fd6fa5516bde",
        "colab": {
          "base_uri": "https://localhost:8080/"
        }
      },
      "execution_count": 3,
      "outputs": [
        {
          "output_type": "stream",
          "name": "stdout",
          "text": [
            "Looking in indexes: https://pypi.org/simple, https://us-python.pkg.dev/colab-wheels/public/simple/\n",
            "Requirement already satisfied: opencv-python in /usr/local/lib/python3.10/dist-packages (4.7.0.72)\n",
            "Requirement already satisfied: numpy>=1.21.2 in /usr/local/lib/python3.10/dist-packages (from opencv-python) (1.22.4)\n",
            "Looking in indexes: https://pypi.org/simple, https://us-python.pkg.dev/colab-wheels/public/simple/\n",
            "Requirement already satisfied: opencv-contrib-python in /usr/local/lib/python3.10/dist-packages (4.7.0.72)\n",
            "Requirement already satisfied: numpy>=1.21.2 in /usr/local/lib/python3.10/dist-packages (from opencv-contrib-python) (1.22.4)\n"
          ]
        }
      ]
    },
    {
      "cell_type": "code",
      "source": [
        "#ライブラリのインポート\n",
        "import cv2\n",
        "\n",
        "#VideoCaptureオブジェクトを取得\n",
        "cap = cv2.VideoCapture('/content/TLC00001.AVI')\n",
        "\n",
        "#動画のプロパティを取得\n",
        "width = int(cap.get(cv2.CAP_PROP_FRAME_WIDTH))\n",
        "height = int(cap.get(cv2.CAP_PROP_FRAME_HEIGHT))\n",
        "fps = cap.get(cv2.CAP_PROP_FPS)\n",
        "\n",
        "#書き出し設定\n",
        "fourcc = cv2.VideoWriter_fourcc('m','p','4','v')\n",
        "writer = cv2.VideoWriter('/content/TLC00001.mp4', fourcc, fps, (width, height))\n",
        "\n",
        "while True:\n",
        "    ret, frame = cap.read()\n",
        "    writer.write(frame)\n",
        "    if not ret:\n",
        "        break\n",
        "\n",
        "writer.release()\n",
        "cap.release()"
      ],
      "metadata": {
        "id": "oNBcks9DcH2i"
      },
      "execution_count": 7,
      "outputs": []
    },
    {
      "cell_type": "code",
      "source": [
        "#ファイルコピー\n",
        "import shutil\n",
        "shutil.copyfile(\"/content/TLC00004.mp4\", \"/content/drive/MyDrive/TLC00004.mp4\")"
      ],
      "metadata": {
        "id": "UMMk3_VvfLUM",
        "outputId": "447dea33-2932-4393-d1ca-e1004040b191",
        "colab": {
          "base_uri": "https://localhost:8080/",
          "height": 35
        }
      },
      "execution_count": 9,
      "outputs": [
        {
          "output_type": "execute_result",
          "data": {
            "text/plain": [
              "'/content/drive/MyDrive/TLC00004.mp4'"
            ],
            "application/vnd.google.colaboratory.intrinsic+json": {
              "type": "string"
            }
          },
          "metadata": {},
          "execution_count": 9
        }
      ]
    },
    {
      "cell_type": "markdown",
      "source": [
        "#動画をクロップ"
      ],
      "metadata": {
        "id": "WRzwk7J6fi1z"
      }
    },
    {
      "cell_type": "code",
      "source": [
        "!pip install moviepy"
      ],
      "metadata": {
        "id": "hx2fyzV4flzu"
      },
      "execution_count": null,
      "outputs": []
    },
    {
      "cell_type": "code",
      "source": [
        "from moviepy.editor import *\n",
        "\n",
        "file_path = \"/content/TLC00001.mp4\"#トリミングしたい動画のパス\n",
        "\n",
        "X_start= 200#切り出しのスタートｘ座標\n",
        "\n",
        "Y_start = 0#切り出しのスタートy座標\n",
        "\n",
        "X_length = 1700#X_startからの切り出す長さ\n",
        "\n",
        "Y_length = 1440#Y_startからの切り出す長さ\n",
        "\n",
        "save_path = \"/content/TLC00001_crop.mp4\"#保存先のパス\n",
        "\n",
        "video = (VideoFileClip(file_path).crop(x1=X_start,y1=Y_start,x2=X_length,y2=Y_length))#トリミング実行\n",
        "\n",
        "video.write_videofile(save_path,fps=29) #保存"
      ],
      "metadata": {
        "id": "w7XJNxmBfqpf",
        "outputId": "dda1fee4-b057-41c4-b91c-efdcc4d62596",
        "colab": {
          "base_uri": "https://localhost:8080/"
        }
      },
      "execution_count": 10,
      "outputs": [
        {
          "output_type": "stream",
          "name": "stdout",
          "text": [
            "Moviepy - Building video /content/TLC00001_crop.mp4.\n",
            "Moviepy - Writing video /content/TLC00001_crop.mp4\n",
            "\n"
          ]
        },
        {
          "output_type": "stream",
          "name": "stderr",
          "text": []
        },
        {
          "output_type": "stream",
          "name": "stdout",
          "text": [
            "Moviepy - Done !\n",
            "Moviepy - video ready /content/TLC00001_crop.mp4\n"
          ]
        }
      ]
    }
  ]
}