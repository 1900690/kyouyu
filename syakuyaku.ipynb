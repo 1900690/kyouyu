{
  "nbformat": 4,
  "nbformat_minor": 0,
  "metadata": {
    "colab": {
      "provenance": [],
      "include_colab_link": true
    },
    "kernelspec": {
      "name": "python3",
      "display_name": "Python 3"
    },
    "language_info": {
      "name": "python"
    }
  },
  "cells": [
    {
      "cell_type": "markdown",
      "metadata": {
        "id": "view-in-github",
        "colab_type": "text"
      },
      "source": [
        "<a href=\"https://colab.research.google.com/github/1900690/kyouyu/blob/main/syakuyaku.ipynb\" target=\"_parent\"><img src=\"https://colab.research.google.com/assets/colab-badge.svg\" alt=\"Open In Colab\"/></a>"
      ]
    },
    {
      "cell_type": "code",
      "execution_count": null,
      "metadata": {
        "id": "QtAypOjZYSTO",
        "outputId": "a0de3e81-d662-4e4e-9df9-1fc8c2937803",
        "colab": {
          "base_uri": "https://localhost:8080/"
        }
      },
      "outputs": [
        {
          "output_type": "stream",
          "name": "stdout",
          "text": [
            "Mounted at /content/drive\n"
          ]
        }
      ],
      "source": [
        "#ドライブマウント\n",
        "from google.colab import drive\n",
        "drive.mount('/content/drive')"
      ]
    },
    {
      "cell_type": "markdown",
      "source": [
        "#AVIファイルをmp4に変換する"
      ],
      "metadata": {
        "id": "gbIzEsk7brxM"
      }
    },
    {
      "cell_type": "code",
      "source": [
        "#ファイルコピー\n",
        "import shutil\n",
        "shutil.copyfile(\"/content/drive/MyDrive/TLC00001.AVI\", \"/content/TLC00001.AVI\")"
      ],
      "metadata": {
        "id": "eLWOtX8WYtqe",
        "outputId": "817dc407-0def-428f-b7be-25a4e8b3d7d6",
        "colab": {
          "base_uri": "https://localhost:8080/",
          "height": 35
        }
      },
      "execution_count": null,
      "outputs": [
        {
          "output_type": "execute_result",
          "data": {
            "text/plain": [
              "'/content/TLC00001.AVI'"
            ],
            "application/vnd.google.colaboratory.intrinsic+json": {
              "type": "string"
            }
          },
          "metadata": {},
          "execution_count": 6
        }
      ]
    },
    {
      "cell_type": "code",
      "source": [
        "!pip install opencv-python\n",
        "!pip install opencv-contrib-python"
      ],
      "metadata": {
        "id": "y9gmBB_rcDMZ",
        "outputId": "eaf27ecb-0338-4f88-8a08-fd6fa5516bde",
        "colab": {
          "base_uri": "https://localhost:8080/"
        }
      },
      "execution_count": null,
      "outputs": [
        {
          "output_type": "stream",
          "name": "stdout",
          "text": [
            "Looking in indexes: https://pypi.org/simple, https://us-python.pkg.dev/colab-wheels/public/simple/\n",
            "Requirement already satisfied: opencv-python in /usr/local/lib/python3.10/dist-packages (4.7.0.72)\n",
            "Requirement already satisfied: numpy>=1.21.2 in /usr/local/lib/python3.10/dist-packages (from opencv-python) (1.22.4)\n",
            "Looking in indexes: https://pypi.org/simple, https://us-python.pkg.dev/colab-wheels/public/simple/\n",
            "Requirement already satisfied: opencv-contrib-python in /usr/local/lib/python3.10/dist-packages (4.7.0.72)\n",
            "Requirement already satisfied: numpy>=1.21.2 in /usr/local/lib/python3.10/dist-packages (from opencv-contrib-python) (1.22.4)\n"
          ]
        }
      ]
    },
    {
      "cell_type": "code",
      "source": [
        "#ライブラリのインポート\n",
        "import cv2\n",
        "\n",
        "#VideoCaptureオブジェクトを取得\n",
        "cap = cv2.VideoCapture('/content/TLC00001.AVI')\n",
        "\n",
        "#動画のプロパティを取得\n",
        "width = int(cap.get(cv2.CAP_PROP_FRAME_WIDTH))\n",
        "height = int(cap.get(cv2.CAP_PROP_FRAME_HEIGHT))\n",
        "fps = cap.get(cv2.CAP_PROP_FPS)\n",
        "\n",
        "#書き出し設定\n",
        "fourcc = cv2.VideoWriter_fourcc('m','p','4','v')\n",
        "writer = cv2.VideoWriter('/content/TLC00001.mp4', fourcc, fps, (width, height))\n",
        "\n",
        "while True:\n",
        "    ret, frame = cap.read()\n",
        "    writer.write(frame)\n",
        "    if not ret:\n",
        "        break\n",
        "\n",
        "writer.release()\n",
        "cap.release()"
      ],
      "metadata": {
        "id": "oNBcks9DcH2i"
      },
      "execution_count": null,
      "outputs": []
    },
    {
      "cell_type": "code",
      "source": [
        "#ファイルコピー\n",
        "import shutil\n",
        "shutil.copyfile(\"/content/TLC00004.mp4\", \"/content/drive/MyDrive/TLC00004.mp4\")"
      ],
      "metadata": {
        "id": "UMMk3_VvfLUM",
        "outputId": "447dea33-2932-4393-d1ca-e1004040b191",
        "colab": {
          "base_uri": "https://localhost:8080/",
          "height": 35
        }
      },
      "execution_count": null,
      "outputs": [
        {
          "output_type": "execute_result",
          "data": {
            "text/plain": [
              "'/content/drive/MyDrive/TLC00004.mp4'"
            ],
            "application/vnd.google.colaboratory.intrinsic+json": {
              "type": "string"
            }
          },
          "metadata": {},
          "execution_count": 9
        }
      ]
    },
    {
      "cell_type": "markdown",
      "source": [
        "#動画から画像を取り出す"
      ],
      "metadata": {
        "id": "WRzwk7J6fi1z"
      }
    },
    {
      "cell_type": "code",
      "source": [
        "import cv2\n",
        "import os\n",
        "\n",
        "\n",
        "\n",
        "def save_frame_range(video_path,\n",
        "                     dir_path, ext='jpg'):\n",
        "  \n",
        "    basename=video_path[-12:-4]\n",
        "    cap = cv2.VideoCapture(video_path)\n",
        "    \n",
        "    # 総フレーム数\n",
        "    total_frames = int(cap.get(cv2.CAP_PROP_FRAME_COUNT));\n",
        "\n",
        "    #真ん中+1のフレームを取り出すプラスの数値を調整することでフレームをずらせる\n",
        "    center_frame=total_frames//2+40\n",
        "    start_frame=center_frame\n",
        "    stop_frame=total_frames\n",
        "    step_frame=center_frame\n",
        "\n",
        "    if not cap.isOpened():\n",
        "        return\n",
        "\n",
        "    os.makedirs(dir_path, exist_ok=True)\n",
        "    base_path = os.path.join(dir_path, basename)\n",
        "\n",
        "    digit = len(str(int(cap.get(cv2.CAP_PROP_FRAME_COUNT))))\n",
        "\n",
        "    for n in range(start_frame, stop_frame, step_frame):\n",
        "        cap.set(cv2.CAP_PROP_POS_FRAMES, n)\n",
        "        ret, frame = cap.read()\n",
        "        if ret:\n",
        "            cv2.imwrite('{}_{}.{}'.format(base_path, str(n).zfill(digit), ext), frame)\n",
        "        else:\n",
        "            return\n",
        "\n",
        "#スライスフォルダを作成\n",
        "SAVE_NAME = 'slice'\n",
        "if not os.path.exists('./' +SAVE_NAME):\n",
        "    os.mkdir('./' +SAVE_NAME)\n",
        "\n",
        "LOAD_FOLDA = '/content/drive/MyDrive/バラ画像/ダニ動画/20220823'\n",
        "LOAD_NAME = os.listdir(LOAD_FOLDA)\n",
        "\n",
        "\n",
        "for file_name in LOAD_NAME:\n",
        "  IMAGE_PATH= LOAD_FOLDA +'/'+file_name\n",
        "  save_frame_range(IMAGE_PATH,\n",
        "                 '/content/'+SAVE_NAME)\n",
        "  \n",
        "image_date=LOAD_FOLDA[-8:]"
      ],
      "metadata": {
        "id": "2d7s1soXdM8D"
      },
      "execution_count": null,
      "outputs": []
    }
  ]
}