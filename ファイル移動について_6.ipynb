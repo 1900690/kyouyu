{
  "nbformat": 4,
  "nbformat_minor": 0,
  "metadata": {
    "colab": {
      "name": "20211110ファイル移動について.ipynb",
      "provenance": [],
      "collapsed_sections": [],
      "include_colab_link": true
    },
    "kernelspec": {
      "name": "python3",
      "display_name": "Python 3"
    },
    "language_info": {
      "name": "python"
    }
  },
  "cells": [
    {
      "cell_type": "markdown",
      "metadata": {
        "id": "view-in-github",
        "colab_type": "text"
      },
      "source": [
        "<a href=\"https://colab.research.google.com/github/1900690/kyouyu/blob/main/%E3%83%95%E3%82%A1%E3%82%A4%E3%83%AB%E7%A7%BB%E5%8B%95%E3%81%AB%E3%81%A4%E3%81%84%E3%81%A6_6.ipynb\" target=\"_parent\"><img src=\"https://colab.research.google.com/assets/colab-badge.svg\" alt=\"Open In Colab\"/></a>"
      ]
    },
    {
      "cell_type": "markdown",
      "metadata": {
        "id": "q5SUDgA9m63b"
      },
      "source": [
        "#グーグルドライブと同期する"
      ]
    },
    {
      "cell_type": "code",
      "metadata": {
        "colab": {
          "base_uri": "https://localhost:8080/"
        },
        "id": "oWqyhM5A3P42",
        "outputId": "42e6f2ef-cddb-4aa3-e660-1f2f48a1658d"
      },
      "source": [
        "from google.colab import drive\n",
        "drive.mount('/content/drive')"
      ],
      "execution_count": null,
      "outputs": [
        {
          "output_type": "stream",
          "name": "stdout",
          "text": [
            "Mounted at /content/drive\n"
          ]
        }
      ]
    },
    {
      "cell_type": "markdown",
      "metadata": {
        "id": "hfY-go90nBtQ"
      },
      "source": [
        "#○ローカルのファイルをドライブにアップロード(ファイルのみ)\n",
        "\n",
        "左のアイコンからファイルを選択\n",
        "\n",
        "driveフォルダができているのを確認し、MyDriveまで詳細を表示\n",
        "\n",
        "ローカルのエクスプローラーを開いてアップロードしたいファイルを選択してMyDriveの中にドラックアンドドロップする"
      ]
    },
    {
      "cell_type": "markdown",
      "metadata": {
        "id": "yli3bThGnYoo"
      },
      "source": [
        "#○ローカルのファイルをドライブにアップロード（フォルダごと）\n",
        "\n",
        "送付したいフォルダを右クリックし　送る＞圧縮でzipファイルを作成\n",
        "\n",
        "zipファイルをcolabのファイルにドラックアンドドロップ\n",
        "\n",
        "currentフォルダ内のzipフォルダ名を直接入力して下記のコードで解凍し、ドラックアンドドロップでドライブ内へ移動"
      ]
    },
    {
      "cell_type": "code",
      "source": [
        "!unzip -q バラ画像.zip"
      ],
      "metadata": {
        "id": "XyLLPYrLefet"
      },
      "execution_count": null,
      "outputs": []
    },
    {
      "cell_type": "markdown",
      "source": [
        "#〇ローカルからcolabへアップロード\n",
        "\n",
        "送付したいフォルダを右クリックし　送る＞圧縮でzipファイルを作成\n",
        "\n",
        "zipファイルをcolabのファイル構成部分にドラックアンドドロップ\n",
        "\n",
        "currentフォルダ内のzipフォルダ名を直接入力して下記のコードで解凍"
      ],
      "metadata": {
        "id": "aCHe8Znphf7-"
      }
    },
    {
      "cell_type": "code",
      "source": [
        "!unzip -q バラ画像.zip"
      ],
      "metadata": {
        "id": "-pGwBFYZvaz6"
      },
      "execution_count": null,
      "outputs": []
    },
    {
      "cell_type": "markdown",
      "metadata": {
        "id": "MFpLiy3AsFH6"
      },
      "source": [
        "#○colabからローカルへダウンロード\n",
        "\n",
        "以下のコードで圧縮し、zipファイルを右クリックしてダウンロード"
      ]
    },
    {
      "cell_type": "code",
      "metadata": {
        "id": "Y52gHFufsEx7"
      },
      "source": [
        "!cd \"/content/\" && zip -q \"バラ画像.zip\" -r \"バラ画像\""
      ],
      "execution_count": null,
      "outputs": []
    },
    {
      "cell_type": "markdown",
      "metadata": {
        "id": "ydlXCvbKOHg8"
      },
      "source": [
        "#○ドライブからローカルへダウンロード（ファイルのみ）\n",
        "\n",
        "左のアイコンからファイルを選択\n",
        "\n",
        "driveフォルダができているのを確認し、MyDriveまで詳細を表示\n",
        "\n",
        "My Driveの中のダウンロードしたいファイルを探し出し右クリックでメニューを表示させダウンロード"
      ]
    },
    {
      "cell_type": "markdown",
      "metadata": {
        "id": "LOILIt866zut"
      },
      "source": [
        "#○ドライブからローカルへダウンロード（フォルダごと）\n",
        "\n",
        "下のコードでフォルダを圧縮し、zipフォルダを右クリックしてダウンロード"
      ]
    },
    {
      "cell_type": "code",
      "metadata": {
        "id": "tq49E2kA6DMq"
      },
      "source": [
        "#--rの後ろの名前のフォルダをzipの後ろの名前に変えてダウンロード\n",
        "!cd \"/content/drive/MyDrive/\" && zip -q \"バラ画像.zip\" -r \"バラ画像\""
      ],
      "execution_count": null,
      "outputs": []
    },
    {
      "cell_type": "markdown",
      "source": [
        "#〇ドライブからcolabへダウンロード（フォルダごと）"
      ],
      "metadata": {
        "id": "C4QqY9RDp2p1"
      }
    },
    {
      "cell_type": "code",
      "source": [
        "#--rの後ろの名前のフォルダをコピーして圧縮しzipの後ろの名前に変える\n",
        "!cd \"/content/drive/MyDrive/\" && zip -q \"バラ画像.zip\" -r \"バラ画像\"\n",
        "\n",
        "#ドライブからzipファイルをcontentに移動\n",
        "!mv /content/drive/MyDrive/バラ画像.zip '/content/'"
      ],
      "metadata": {
        "id": "hX4xooPNp_Oh"
      },
      "execution_count": null,
      "outputs": []
    },
    {
      "cell_type": "markdown",
      "source": [
        "zipファイルがcontentにできてから以下のコードで解凍、zipを消去"
      ],
      "metadata": {
        "id": "4GSXZD9oxWpo"
      }
    },
    {
      "cell_type": "code",
      "source": [
        "#※時間がかかるがそのうち消える\n",
        "#zipファイルを解凍\n",
        "!cd \"/content/\" && unzip -q バラ画像.zip\n",
        "#zipファイルを消去\n",
        "!cd \"/content/\" && rm バラ画像.zip"
      ],
      "metadata": {
        "id": "CxNwtjJ6w6JZ"
      },
      "execution_count": null,
      "outputs": []
    },
    {
      "cell_type": "markdown",
      "source": [
        "#〇colabからドライブへアップロード"
      ],
      "metadata": {
        "id": "xJORC6XtqQCr"
      }
    },
    {
      "cell_type": "code",
      "source": [
        "#--rの後ろの名前のフォルダをコピーして圧縮しzipの後ろの名前に変える\n",
        "#※名前が文字化けしているように見えるがそのうち消える\n",
        "!cd \"/content\" && zip -q \"バラ画像.zip\" -r \"バラ画像\"\n",
        "\n",
        "#zipファイルをドライブに移動\n",
        "!mv バラ画像.zip '/content/drive/My Drive'\n",
        "\n",
        "#ドライブ内でファイルを解凍\n",
        "!cd \"/content/drive/My Drive\" && unzip -q バラ画像.zip\n",
        "\n",
        "#ドライブ内のzipを消去\n",
        "!rm /content/drive/MyDrive/バラ画像.zip"
      ],
      "metadata": {
        "id": "K_FRTLsBqwqy"
      },
      "execution_count": null,
      "outputs": []
    },
    {
      "cell_type": "markdown",
      "metadata": {
        "id": "1EsrExheBBQt"
      },
      "source": [
        "#〇データを消す\n"
      ]
    },
    {
      "cell_type": "code",
      "source": [
        "#ドライブのファイルを中身ごと消去する場合は以下のコード\n",
        "#zipファイルの場合\n",
        "#!cd \"/content/drive/MyDrive/\" && rm -f バラ画像.zip\n",
        "\n",
        "#フォルダの場合\n",
        "#!rm -r /content/drive/MyDrive/バラ画像"
      ],
      "metadata": {
        "id": "Z61UMYTrdLnV"
      },
      "execution_count": null,
      "outputs": []
    },
    {
      "cell_type": "code",
      "source": [
        "#contentのファイルを中身ごと消去する場合は以下のコード\n",
        "#zipファイルの場合\n",
        "#!cd \"/content/\" && rm -f バラ画像.zip\n",
        "\n",
        "#フォルダの場合\n",
        "#!cd \"/content/\" && rm -r バラ画像"
      ],
      "metadata": {
        "id": "RF6h8bns44QN"
      },
      "execution_count": null,
      "outputs": []
    },
    {
      "cell_type": "markdown",
      "source": [
        "#〇ファイルの名前を変更"
      ],
      "metadata": {
        "id": "dg30UF_rwHDh"
      }
    },
    {
      "cell_type": "code",
      "source": [
        "#zipファイルの名前を変更\n",
        "#import os\n",
        "#os.rename('chokobomag','my_dataset')"
      ],
      "metadata": {
        "id": "QNiWFJt6wM2R",
        "outputId": "e531957d-01a3-4a99-d8c0-ac3ba6ca920c",
        "colab": {
          "base_uri": "https://localhost:8080/"
        }
      },
      "execution_count": null,
      "outputs": [
        {
          "output_type": "stream",
          "name": "stdout",
          "text": [
            "cp: missing destination file operand after '/content/drive/MyDrive/chokobomag.zip'\n",
            "Try 'cp --help' for more information.\n"
          ]
        }
      ]
    }
  ]
}