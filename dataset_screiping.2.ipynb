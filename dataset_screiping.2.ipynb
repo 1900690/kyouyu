{
  "cells": [
    {
      "cell_type": "markdown",
      "metadata": {
        "id": "view-in-github",
        "colab_type": "text"
      },
      "source": [
        "<a href=\"https://colab.research.google.com/github/1900690/kyouyu/blob/main/dataset_screiping.2.ipynb\" target=\"_parent\"><img src=\"https://colab.research.google.com/assets/colab-badge.svg\" alt=\"Open In Colab\"/></a>"
      ]
    },
    {
      "cell_type": "code",
      "source": [
        "!pip install keras==2.2.5\n",
        "!pip install tensorflow==1.14.0\n",
        "!pip install h5py==2.10.0"
      ],
      "metadata": {
        "id": "Zx52YfhOmOH8",
        "outputId": "c0ef5a70-0a7c-4354-d2bf-418aad2a78d3",
        "colab": {
          "base_uri": "https://localhost:8080/"
        }
      },
      "execution_count": 1,
      "outputs": [
        {
          "output_type": "stream",
          "name": "stdout",
          "text": [
            "Looking in indexes: https://pypi.org/simple, https://us-python.pkg.dev/colab-wheels/public/simple/\n",
            "Collecting keras==2.2.5\n",
            "  Downloading Keras-2.2.5-py2.py3-none-any.whl (336 kB)\n",
            "\u001b[K     |████████████████████████████████| 336 kB 19.9 MB/s \n",
            "\u001b[?25hCollecting keras-applications>=1.0.8\n",
            "  Downloading Keras_Applications-1.0.8-py3-none-any.whl (50 kB)\n",
            "\u001b[K     |████████████████████████████████| 50 kB 2.5 MB/s \n",
            "\u001b[?25hRequirement already satisfied: pyyaml in /usr/local/lib/python3.8/dist-packages (from keras==2.2.5) (6.0)\n",
            "Requirement already satisfied: numpy>=1.9.1 in /usr/local/lib/python3.8/dist-packages (from keras==2.2.5) (1.21.6)\n",
            "Requirement already satisfied: six>=1.9.0 in /usr/local/lib/python3.8/dist-packages (from keras==2.2.5) (1.15.0)\n",
            "Requirement already satisfied: scipy>=0.14 in /usr/local/lib/python3.8/dist-packages (from keras==2.2.5) (1.7.3)\n",
            "Requirement already satisfied: h5py in /usr/local/lib/python3.8/dist-packages (from keras==2.2.5) (3.1.0)\n",
            "Requirement already satisfied: keras-preprocessing>=1.1.0 in /usr/local/lib/python3.8/dist-packages (from keras==2.2.5) (1.1.2)\n",
            "Installing collected packages: keras-applications, keras\n",
            "  Attempting uninstall: keras\n",
            "    Found existing installation: keras 2.9.0\n",
            "    Uninstalling keras-2.9.0:\n",
            "      Successfully uninstalled keras-2.9.0\n",
            "\u001b[31mERROR: pip's dependency resolver does not currently take into account all the packages that are installed. This behaviour is the source of the following dependency conflicts.\n",
            "tensorflow 2.9.2 requires keras<2.10.0,>=2.9.0rc0, but you have keras 2.2.5 which is incompatible.\u001b[0m\n",
            "Successfully installed keras-2.2.5 keras-applications-1.0.8\n",
            "Looking in indexes: https://pypi.org/simple, https://us-python.pkg.dev/colab-wheels/public/simple/\n",
            "\u001b[31mERROR: Could not find a version that satisfies the requirement tensorflow==1.14.0 (from versions: 2.2.0, 2.2.1, 2.2.2, 2.2.3, 2.3.0, 2.3.1, 2.3.2, 2.3.3, 2.3.4, 2.4.0, 2.4.1, 2.4.2, 2.4.3, 2.4.4, 2.5.0, 2.5.1, 2.5.2, 2.5.3, 2.6.0rc0, 2.6.0rc1, 2.6.0rc2, 2.6.0, 2.6.1, 2.6.2, 2.6.3, 2.6.4, 2.6.5, 2.7.0rc0, 2.7.0rc1, 2.7.0, 2.7.1, 2.7.2, 2.7.3, 2.7.4, 2.8.0rc0, 2.8.0rc1, 2.8.0, 2.8.1, 2.8.2, 2.8.3, 2.8.4, 2.9.0rc0, 2.9.0rc1, 2.9.0rc2, 2.9.0, 2.9.1, 2.9.2, 2.9.3, 2.10.0rc0, 2.10.0rc1, 2.10.0rc2, 2.10.0rc3, 2.10.0, 2.10.1, 2.11.0rc0, 2.11.0rc1, 2.11.0rc2, 2.11.0)\u001b[0m\n",
            "\u001b[31mERROR: No matching distribution found for tensorflow==1.14.0\u001b[0m\n",
            "Looking in indexes: https://pypi.org/simple, https://us-python.pkg.dev/colab-wheels/public/simple/\n",
            "Collecting h5py==2.10.0\n",
            "  Downloading h5py-2.10.0-cp38-cp38-manylinux1_x86_64.whl (2.9 MB)\n",
            "\u001b[K     |████████████████████████████████| 2.9 MB 34.6 MB/s \n",
            "\u001b[?25hRequirement already satisfied: numpy>=1.7 in /usr/local/lib/python3.8/dist-packages (from h5py==2.10.0) (1.21.6)\n",
            "Requirement already satisfied: six in /usr/local/lib/python3.8/dist-packages (from h5py==2.10.0) (1.15.0)\n",
            "Installing collected packages: h5py\n",
            "  Attempting uninstall: h5py\n",
            "    Found existing installation: h5py 3.1.0\n",
            "    Uninstalling h5py-3.1.0:\n",
            "      Successfully uninstalled h5py-3.1.0\n",
            "\u001b[31mERROR: pip's dependency resolver does not currently take into account all the packages that are installed. This behaviour is the source of the following dependency conflicts.\n",
            "tensorflow 2.9.2 requires keras<2.10.0,>=2.9.0rc0, but you have keras 2.2.5 which is incompatible.\u001b[0m\n",
            "Successfully installed h5py-2.10.0\n"
          ]
        }
      ]
    },
    {
      "cell_type": "code",
      "source": [
        "!pip install icrawler"
      ],
      "metadata": {
        "id": "o6F6zC-WmagX",
        "outputId": "626c04bd-5177-4b56-d794-9f431f79c239",
        "colab": {
          "base_uri": "https://localhost:8080/"
        }
      },
      "execution_count": 2,
      "outputs": [
        {
          "output_type": "stream",
          "name": "stdout",
          "text": [
            "Looking in indexes: https://pypi.org/simple, https://us-python.pkg.dev/colab-wheels/public/simple/\n",
            "Collecting icrawler\n",
            "  Downloading icrawler-0.6.6-py2.py3-none-any.whl (35 kB)\n",
            "Requirement already satisfied: six>=1.10.0 in /usr/local/lib/python3.8/dist-packages (from icrawler) (1.15.0)\n",
            "Requirement already satisfied: lxml in /usr/local/lib/python3.8/dist-packages (from icrawler) (4.9.1)\n",
            "Requirement already satisfied: Pillow in /usr/local/lib/python3.8/dist-packages (from icrawler) (7.1.2)\n",
            "Requirement already satisfied: beautifulsoup4>=4.4.1 in /usr/local/lib/python3.8/dist-packages (from icrawler) (4.6.3)\n",
            "Requirement already satisfied: requests>=2.9.1 in /usr/local/lib/python3.8/dist-packages (from icrawler) (2.23.0)\n",
            "Requirement already satisfied: idna<3,>=2.5 in /usr/local/lib/python3.8/dist-packages (from requests>=2.9.1->icrawler) (2.10)\n",
            "Requirement already satisfied: urllib3!=1.25.0,!=1.25.1,<1.26,>=1.21.1 in /usr/local/lib/python3.8/dist-packages (from requests>=2.9.1->icrawler) (1.24.3)\n",
            "Requirement already satisfied: certifi>=2017.4.17 in /usr/local/lib/python3.8/dist-packages (from requests>=2.9.1->icrawler) (2022.9.24)\n",
            "Requirement already satisfied: chardet<4,>=3.0.2 in /usr/local/lib/python3.8/dist-packages (from requests>=2.9.1->icrawler) (3.0.4)\n",
            "Installing collected packages: icrawler\n",
            "Successfully installed icrawler-0.6.6\n"
          ]
        }
      ]
    },
    {
      "cell_type": "code",
      "source": [
        "from icrawler.builtin import BingImageCrawler\n",
        "\n",
        "# 猫の画像を100枚取得\n",
        "crawler = BingImageCrawler(storage={\"root_dir\": \"cat\"})\n",
        "crawler.crawl(keyword=\"猫\", max_num=734)"
      ],
      "metadata": {
        "id": "bmGoUWI2mdQL",
        "outputId": "707cf6b4-cf37-4de3-9193-40d38baa2500",
        "colab": {
          "base_uri": "https://localhost:8080/"
        }
      },
      "execution_count": 3,
      "outputs": [
        {
          "output_type": "stream",
          "name": "stderr",
          "text": [
            "ERROR:downloader:Exception caught when downloading file http://pic16.nipic.com/20110827/5252423_084202542000_2.jpg, error: HTTPConnectionPool(host='pic16.nipic.com', port=80): Max retries exceeded with url: /20110827/5252423_084202542000_2.jpg (Caused by ConnectTimeoutError(<urllib3.connection.HTTPConnection object at 0x7fae8f51ed00>, 'Connection to pic16.nipic.com timed out. (connect timeout=5)')), remaining retry times: 2\n",
            "ERROR:downloader:Exception caught when downloading file http://pic16.nipic.com/20110827/5252423_084202542000_2.jpg, error: HTTPConnectionPool(host='pic16.nipic.com', port=80): Max retries exceeded with url: /20110827/5252423_084202542000_2.jpg (Caused by ConnectTimeoutError(<urllib3.connection.HTTPConnection object at 0x7fae8f539250>, 'Connection to pic16.nipic.com timed out. (connect timeout=5)')), remaining retry times: 1\n",
            "ERROR:downloader:Exception caught when downloading file http://pic16.nipic.com/20110827/5252423_084202542000_2.jpg, error: HTTPConnectionPool(host='pic16.nipic.com', port=80): Max retries exceeded with url: /20110827/5252423_084202542000_2.jpg (Caused by ConnectTimeoutError(<urllib3.connection.HTTPConnection object at 0x7fae8f5397c0>, 'Connection to pic16.nipic.com timed out. (connect timeout=5)')), remaining retry times: 0\n",
            "ERROR:downloader:Exception caught when downloading file http://pic23.nipic.com/20120806/3807395_223043428135_2.jpg, error: HTTPConnectionPool(host='pic23.nipic.com', port=80): Max retries exceeded with url: /20120806/3807395_223043428135_2.jpg (Caused by ConnectTimeoutError(<urllib3.connection.HTTPConnection object at 0x7fae8f535040>, 'Connection to pic23.nipic.com timed out. (connect timeout=5)')), remaining retry times: 2\n",
            "ERROR:downloader:Exception caught when downloading file http://pic23.nipic.com/20120806/3807395_223043428135_2.jpg, error: HTTPConnectionPool(host='pic23.nipic.com', port=80): Max retries exceeded with url: /20120806/3807395_223043428135_2.jpg (Caused by ConnectTimeoutError(<urllib3.connection.HTTPConnection object at 0x7fae8f637940>, 'Connection to pic23.nipic.com timed out. (connect timeout=5)')), remaining retry times: 1\n",
            "ERROR:downloader:Exception caught when downloading file http://pic23.nipic.com/20120806/3807395_223043428135_2.jpg, error: HTTPConnectionPool(host='pic23.nipic.com', port=80): Max retries exceeded with url: /20120806/3807395_223043428135_2.jpg (Caused by ConnectTimeoutError(<urllib3.connection.HTTPConnection object at 0x7fae8f61a1f0>, 'Connection to pic23.nipic.com timed out. (connect timeout=5)')), remaining retry times: 0\n",
            "ERROR:downloader:Exception caught when downloading file http://a2.att.hudong.com/01/69/01300000209541124771691612725.jpg, error: HTTPConnectionPool(host='a2.att.hudong.com', port=80): Max retries exceeded with url: /01/69/01300000209541124771691612725.jpg (Caused by ConnectTimeoutError(<urllib3.connection.HTTPConnection object at 0x7fae8f599b20>, 'Connection to a2.att.hudong.com timed out. (connect timeout=5)')), remaining retry times: 2\n",
            "ERROR:downloader:Exception caught when downloading file http://a2.att.hudong.com/01/69/01300000209541124771691612725.jpg, error: HTTPConnectionPool(host='a2.att.hudong.com', port=80): Max retries exceeded with url: /01/69/01300000209541124771691612725.jpg (Caused by ConnectTimeoutError(<urllib3.connection.HTTPConnection object at 0x7fae8f61a2b0>, 'Connection to a2.att.hudong.com timed out. (connect timeout=5)')), remaining retry times: 1\n",
            "ERROR:downloader:Exception caught when downloading file http://a2.att.hudong.com/01/69/01300000209541124771691612725.jpg, error: HTTPConnectionPool(host='a2.att.hudong.com', port=80): Max retries exceeded with url: /01/69/01300000209541124771691612725.jpg (Caused by ConnectTimeoutError(<urllib3.connection.HTTPConnection object at 0x7fae8f61aaf0>, 'Connection to a2.att.hudong.com timed out. (connect timeout=5)')), remaining retry times: 0\n",
            "ERROR:downloader:Exception caught when downloading file http://files.hangame.co.jp/blog/2011/56/e05b356c/12/05/37135310/e05b356c_1323081188830.jpg, error: HTTPConnectionPool(host='files.hangame.co.jp', port=80): Read timed out. (read timeout=5), remaining retry times: 2\n",
            "ERROR:downloader:Exception caught when downloading file http://files.hangame.co.jp/blog/2011/56/e05b356c/12/05/37135310/e05b356c_1323081188830.jpg, error: HTTPConnectionPool(host='files.hangame.co.jp', port=80): Read timed out. (read timeout=5), remaining retry times: 1\n",
            "ERROR:downloader:Exception caught when downloading file http://files.hangame.co.jp/blog/2011/56/e05b356c/12/05/37135310/e05b356c_1323081188830.jpg, error: HTTPConnectionPool(host='files.hangame.co.jp', port=80): Read timed out. (read timeout=5), remaining retry times: 0\n",
            "ERROR:downloader:Exception caught when downloading file http://pic9.nipic.com/20100919/2572670_180425628954_2.jpg, error: HTTPConnectionPool(host='pic9.nipic.com', port=80): Max retries exceeded with url: /20100919/2572670_180425628954_2.jpg (Caused by ConnectTimeoutError(<urllib3.connection.HTTPConnection object at 0x7fae8f637280>, 'Connection to pic9.nipic.com timed out. (connect timeout=5)')), remaining retry times: 2\n",
            "ERROR:downloader:Exception caught when downloading file http://pic9.nipic.com/20100919/2572670_180425628954_2.jpg, error: HTTPConnectionPool(host='pic9.nipic.com', port=80): Max retries exceeded with url: /20100919/2572670_180425628954_2.jpg (Caused by ConnectTimeoutError(<urllib3.connection.HTTPConnection object at 0x7fae8f46e940>, 'Connection to pic9.nipic.com timed out. (connect timeout=5)')), remaining retry times: 1\n",
            "ERROR:downloader:Exception caught when downloading file http://pic9.nipic.com/20100919/2572670_180425628954_2.jpg, error: HTTPConnectionPool(host='pic9.nipic.com', port=80): Max retries exceeded with url: /20100919/2572670_180425628954_2.jpg (Caused by ConnectTimeoutError(<urllib3.connection.HTTPConnection object at 0x7fae8f3be820>, 'Connection to pic9.nipic.com timed out. (connect timeout=5)')), remaining retry times: 0\n",
            "ERROR:downloader:Exception caught when downloading file http://pic3.nipic.com/20090612/2812821_081735067_2.jpg, error: HTTPConnectionPool(host='pic3.nipic.com', port=80): Max retries exceeded with url: /20090612/2812821_081735067_2.jpg (Caused by ConnectTimeoutError(<urllib3.connection.HTTPConnection object at 0x7fae8f61a1f0>, 'Connection to pic3.nipic.com timed out. (connect timeout=5)')), remaining retry times: 2\n",
            "ERROR:downloader:Exception caught when downloading file http://pic3.nipic.com/20090612/2812821_081735067_2.jpg, error: HTTPConnectionPool(host='pic3.nipic.com', port=80): Max retries exceeded with url: /20090612/2812821_081735067_2.jpg (Caused by ConnectTimeoutError(<urllib3.connection.HTTPConnection object at 0x7fae8f2e01c0>, 'Connection to pic3.nipic.com timed out. (connect timeout=5)')), remaining retry times: 1\n",
            "ERROR:downloader:Exception caught when downloading file http://pic3.nipic.com/20090612/2812821_081735067_2.jpg, error: HTTPConnectionPool(host='pic3.nipic.com', port=80): Max retries exceeded with url: /20090612/2812821_081735067_2.jpg (Caused by ConnectTimeoutError(<urllib3.connection.HTTPConnection object at 0x7fae8f351c70>, 'Connection to pic3.nipic.com timed out. (connect timeout=5)')), remaining retry times: 0\n",
            "ERROR:downloader:Exception caught when downloading file http://pic5.nipic.com/20091211/661401_154438013308_2.jpg, error: HTTPConnectionPool(host='pic5.nipic.com', port=80): Max retries exceeded with url: /20091211/661401_154438013308_2.jpg (Caused by ConnectTimeoutError(<urllib3.connection.HTTPConnection object at 0x7fae8f5357c0>, 'Connection to pic5.nipic.com timed out. (connect timeout=5)')), remaining retry times: 2\n",
            "ERROR:downloader:Exception caught when downloading file http://pic5.nipic.com/20091211/661401_154438013308_2.jpg, error: HTTPConnectionPool(host='pic5.nipic.com', port=80): Max retries exceeded with url: /20091211/661401_154438013308_2.jpg (Caused by ConnectTimeoutError(<urllib3.connection.HTTPConnection object at 0x7fae8f5dd040>, 'Connection to pic5.nipic.com timed out. (connect timeout=5)')), remaining retry times: 1\n",
            "ERROR:downloader:Exception caught when downloading file http://pic5.nipic.com/20091211/661401_154438013308_2.jpg, error: HTTPConnectionPool(host='pic5.nipic.com', port=80): Max retries exceeded with url: /20091211/661401_154438013308_2.jpg (Caused by ConnectTimeoutError(<urllib3.connection.HTTPConnection object at 0x7fae8f5dd550>, 'Connection to pic5.nipic.com timed out. (connect timeout=5)')), remaining retry times: 0\n",
            "ERROR:downloader:Response status code 404, file http://www.kabegamikan.com/img/etc/w/7973a.jpg\n",
            "ERROR:downloader:Exception caught when downloading file http://pic4.nipic.com/20091113/3643310_184556362498_2.jpg, error: HTTPConnectionPool(host='pic4.nipic.com', port=80): Max retries exceeded with url: /20091113/3643310_184556362498_2.jpg (Caused by ConnectTimeoutError(<urllib3.connection.HTTPConnection object at 0x7fae8f3be040>, 'Connection to pic4.nipic.com timed out. (connect timeout=5)')), remaining retry times: 2\n",
            "ERROR:downloader:Exception caught when downloading file http://pic4.nipic.com/20091113/3643310_184556362498_2.jpg, error: HTTPConnectionPool(host='pic4.nipic.com', port=80): Max retries exceeded with url: /20091113/3643310_184556362498_2.jpg (Caused by ConnectTimeoutError(<urllib3.connection.HTTPConnection object at 0x7fae8f385130>, 'Connection to pic4.nipic.com timed out. (connect timeout=5)')), remaining retry times: 1\n",
            "ERROR:downloader:Exception caught when downloading file http://pic4.nipic.com/20091113/3643310_184556362498_2.jpg, error: HTTPConnectionPool(host='pic4.nipic.com', port=80): Max retries exceeded with url: /20091113/3643310_184556362498_2.jpg (Caused by ConnectTimeoutError(<urllib3.connection.HTTPConnection object at 0x7fae8f385910>, 'Connection to pic4.nipic.com timed out. (connect timeout=5)')), remaining retry times: 0\n",
            "ERROR:downloader:Exception caught when downloading file http://pic8.nipic.com/20100809/5038767_171451311479_2.jpg, error: HTTPConnectionPool(host='pic8.nipic.com', port=80): Max retries exceeded with url: /20100809/5038767_171451311479_2.jpg (Caused by NewConnectionError('<urllib3.connection.HTTPConnection object at 0x7fae8f539f40>: Failed to establish a new connection: [Errno -2] Name or service not known')), remaining retry times: 2\n",
            "ERROR:downloader:Exception caught when downloading file http://pic8.nipic.com/20100809/5038767_171451311479_2.jpg, error: HTTPConnectionPool(host='pic8.nipic.com', port=80): Max retries exceeded with url: /20100809/5038767_171451311479_2.jpg (Caused by NewConnectionError('<urllib3.connection.HTTPConnection object at 0x7fae8f539af0>: Failed to establish a new connection: [Errno -2] Name or service not known')), remaining retry times: 1\n",
            "ERROR:downloader:Exception caught when downloading file http://pic8.nipic.com/20100809/5038767_171451311479_2.jpg, error: HTTPConnectionPool(host='pic8.nipic.com', port=80): Max retries exceeded with url: /20100809/5038767_171451311479_2.jpg (Caused by NewConnectionError('<urllib3.connection.HTTPConnection object at 0x7fae8f539af0>: Failed to establish a new connection: [Errno -2] Name or service not known')), remaining retry times: 0\n",
            "ERROR:downloader:Exception caught when downloading file http://pic8.nipic.com/20100705/4580672_121327094784_2.jpg, error: HTTPConnectionPool(host='pic8.nipic.com', port=80): Max retries exceeded with url: /20100705/4580672_121327094784_2.jpg (Caused by NewConnectionError('<urllib3.connection.HTTPConnection object at 0x7fae8f408d60>: Failed to establish a new connection: [Errno -2] Name or service not known')), remaining retry times: 2\n",
            "ERROR:downloader:Exception caught when downloading file http://pic8.nipic.com/20100705/4580672_121327094784_2.jpg, error: HTTPConnectionPool(host='pic8.nipic.com', port=80): Max retries exceeded with url: /20100705/4580672_121327094784_2.jpg (Caused by NewConnectionError('<urllib3.connection.HTTPConnection object at 0x7fae8f408f70>: Failed to establish a new connection: [Errno -2] Name or service not known')), remaining retry times: 1\n",
            "ERROR:downloader:Exception caught when downloading file http://pic8.nipic.com/20100705/4580672_121327094784_2.jpg, error: HTTPConnectionPool(host='pic8.nipic.com', port=80): Max retries exceeded with url: /20100705/4580672_121327094784_2.jpg (Caused by NewConnectionError('<urllib3.connection.HTTPConnection object at 0x7fae8f3858b0>: Failed to establish a new connection: [Errno -2] Name or service not known')), remaining retry times: 0\n",
            "ERROR:downloader:Exception caught when downloading file https://www.huilanghao.com/uploads/allimg/cat/mianyin/FE0D3F04DD1B1E26E66673A603D969BC.jpg, error: HTTPSConnectionPool(host='www.huilanghao.com', port=443): Max retries exceeded with url: /uploads/allimg/cat/mianyin/FE0D3F04DD1B1E26E66673A603D969BC.jpg (Caused by ConnectTimeoutError(<urllib3.connection.VerifiedHTTPSConnection object at 0x7fae8f5dd8b0>, 'Connection to www.huilanghao.com timed out. (connect timeout=5)')), remaining retry times: 2\n",
            "ERROR:downloader:Exception caught when downloading file https://www.huilanghao.com/uploads/allimg/cat/mianyin/FE0D3F04DD1B1E26E66673A603D969BC.jpg, error: HTTPSConnectionPool(host='www.huilanghao.com', port=443): Max retries exceeded with url: /uploads/allimg/cat/mianyin/FE0D3F04DD1B1E26E66673A603D969BC.jpg (Caused by ConnectTimeoutError(<urllib3.connection.VerifiedHTTPSConnection object at 0x7fae8f5dd940>, 'Connection to www.huilanghao.com timed out. (connect timeout=5)')), remaining retry times: 1\n",
            "ERROR:downloader:Exception caught when downloading file https://www.huilanghao.com/uploads/allimg/cat/mianyin/FE0D3F04DD1B1E26E66673A603D969BC.jpg, error: HTTPSConnectionPool(host='www.huilanghao.com', port=443): Max retries exceeded with url: /uploads/allimg/cat/mianyin/FE0D3F04DD1B1E26E66673A603D969BC.jpg (Caused by ConnectTimeoutError(<urllib3.connection.VerifiedHTTPSConnection object at 0x7fae8f273fd0>, 'Connection to www.huilanghao.com timed out. (connect timeout=5)')), remaining retry times: 0\n",
            "ERROR:downloader:Exception caught when downloading file http://a0.att.hudong.com/16/89/01300000164456121370896374210.jpg, error: HTTPConnectionPool(host='a0.att.hudong.com', port=80): Max retries exceeded with url: /16/89/01300000164456121370896374210.jpg (Caused by ConnectTimeoutError(<urllib3.connection.HTTPConnection object at 0x7fae8f5ddf10>, 'Connection to a0.att.hudong.com timed out. (connect timeout=5)')), remaining retry times: 2\n",
            "ERROR:downloader:Exception caught when downloading file http://a0.att.hudong.com/16/89/01300000164456121370896374210.jpg, error: HTTPConnectionPool(host='a0.att.hudong.com', port=80): Max retries exceeded with url: /16/89/01300000164456121370896374210.jpg (Caused by ConnectTimeoutError(<urllib3.connection.HTTPConnection object at 0x7fae8f2e0400>, 'Connection to a0.att.hudong.com timed out. (connect timeout=5)')), remaining retry times: 1\n",
            "ERROR:downloader:Exception caught when downloading file http://a0.att.hudong.com/16/89/01300000164456121370896374210.jpg, error: HTTPConnectionPool(host='a0.att.hudong.com', port=80): Max retries exceeded with url: /16/89/01300000164456121370896374210.jpg (Caused by ConnectTimeoutError(<urllib3.connection.HTTPConnection object at 0x7fae8f4792b0>, 'Connection to a0.att.hudong.com timed out. (connect timeout=5)')), remaining retry times: 0\n"
          ]
        }
      ]
    },
    {
      "cell_type": "code",
      "source": [
        "from icrawler.builtin import BingImageCrawler\n",
        "\n",
        "# 犬の画像を100枚取得\n",
        "crawler = BingImageCrawler(storage={\"root_dir\": \"dog\"})\n",
        "crawler.crawl(keyword=\"犬\", max_num=734)"
      ],
      "metadata": {
        "id": "Wl_frcsWmkP0",
        "outputId": "2457efd7-0f27-4388-effa-a6ff0ce96c73",
        "colab": {
          "base_uri": "https://localhost:8080/"
        }
      },
      "execution_count": 4,
      "outputs": [
        {
          "output_type": "stream",
          "name": "stderr",
          "text": [
            "ERROR:downloader:Exception caught when downloading file http://pic12.nipic.com/20110118/2889686_203848113101_2.jpg, error: HTTPConnectionPool(host='pic12.nipic.com', port=80): Max retries exceeded with url: /20110118/2889686_203848113101_2.jpg (Caused by ConnectTimeoutError(<urllib3.connection.HTTPConnection object at 0x7fae8e902880>, 'Connection to pic12.nipic.com timed out. (connect timeout=5)')), remaining retry times: 2\n",
            "ERROR:downloader:Exception caught when downloading file http://pic12.nipic.com/20110118/2889686_203848113101_2.jpg, error: HTTPConnectionPool(host='pic12.nipic.com', port=80): Max retries exceeded with url: /20110118/2889686_203848113101_2.jpg (Caused by ConnectTimeoutError(<urllib3.connection.HTTPConnection object at 0x7fae8e902a30>, 'Connection to pic12.nipic.com timed out. (connect timeout=5)')), remaining retry times: 1\n",
            "ERROR:downloader:Exception caught when downloading file http://pic12.nipic.com/20110118/2889686_203848113101_2.jpg, error: HTTPConnectionPool(host='pic12.nipic.com', port=80): Max retries exceeded with url: /20110118/2889686_203848113101_2.jpg (Caused by ConnectTimeoutError(<urllib3.connection.HTTPConnection object at 0x7fae8f39fd30>, 'Connection to pic12.nipic.com timed out. (connect timeout=5)')), remaining retry times: 0\n",
            "ERROR:downloader:Exception caught when downloading file http://pic12.nipic.com/20110118/2889686_203848326448_2.jpg, error: HTTPConnectionPool(host='pic12.nipic.com', port=80): Max retries exceeded with url: /20110118/2889686_203848326448_2.jpg (Caused by ConnectTimeoutError(<urllib3.connection.HTTPConnection object at 0x7fae8f39fa90>, 'Connection to pic12.nipic.com timed out. (connect timeout=5)')), remaining retry times: 2\n",
            "ERROR:downloader:Exception caught when downloading file http://pic12.nipic.com/20110118/2889686_203848326448_2.jpg, error: HTTPConnectionPool(host='pic12.nipic.com', port=80): Max retries exceeded with url: /20110118/2889686_203848326448_2.jpg (Caused by ConnectTimeoutError(<urllib3.connection.HTTPConnection object at 0x7fae8f39f5b0>, 'Connection to pic12.nipic.com timed out. (connect timeout=5)')), remaining retry times: 1\n",
            "ERROR:downloader:Exception caught when downloading file http://pic12.nipic.com/20110118/2889686_203848326448_2.jpg, error: HTTPConnectionPool(host='pic12.nipic.com', port=80): Max retries exceeded with url: /20110118/2889686_203848326448_2.jpg (Caused by ConnectTimeoutError(<urllib3.connection.HTTPConnection object at 0x7fae8f4087c0>, 'Connection to pic12.nipic.com timed out. (connect timeout=5)')), remaining retry times: 0\n",
            "ERROR:downloader:Exception caught when downloading file http://pic12.nipic.com/20110118/2889686_203848247615_2.jpg, error: HTTPConnectionPool(host='pic12.nipic.com', port=80): Max retries exceeded with url: /20110118/2889686_203848247615_2.jpg (Caused by ConnectTimeoutError(<urllib3.connection.HTTPConnection object at 0x7fae8f4089d0>, 'Connection to pic12.nipic.com timed out. (connect timeout=5)')), remaining retry times: 2\n",
            "ERROR:downloader:Exception caught when downloading file http://pic12.nipic.com/20110118/2889686_203848247615_2.jpg, error: HTTPConnectionPool(host='pic12.nipic.com', port=80): Max retries exceeded with url: /20110118/2889686_203848247615_2.jpg (Caused by ConnectTimeoutError(<urllib3.connection.HTTPConnection object at 0x7fae8f4083a0>, 'Connection to pic12.nipic.com timed out. (connect timeout=5)')), remaining retry times: 1\n",
            "ERROR:downloader:Exception caught when downloading file http://pic12.nipic.com/20110118/2889686_203848247615_2.jpg, error: HTTPConnectionPool(host='pic12.nipic.com', port=80): Max retries exceeded with url: /20110118/2889686_203848247615_2.jpg (Caused by ConnectTimeoutError(<urllib3.connection.HTTPConnection object at 0x7fae8f180850>, 'Connection to pic12.nipic.com timed out. (connect timeout=5)')), remaining retry times: 0\n",
            "ERROR:downloader:Exception caught when downloading file http://pic12.nipic.com/20110118/2889686_203848437549_2.jpg, error: HTTPConnectionPool(host='pic12.nipic.com', port=80): Max retries exceeded with url: /20110118/2889686_203848437549_2.jpg (Caused by ConnectTimeoutError(<urllib3.connection.HTTPConnection object at 0x7fae8f351ca0>, 'Connection to pic12.nipic.com timed out. (connect timeout=5)')), remaining retry times: 2\n",
            "ERROR:downloader:Exception caught when downloading file http://pic12.nipic.com/20110118/2889686_203848437549_2.jpg, error: HTTPConnectionPool(host='pic12.nipic.com', port=80): Max retries exceeded with url: /20110118/2889686_203848437549_2.jpg (Caused by ConnectTimeoutError(<urllib3.connection.HTTPConnection object at 0x7fae8e906250>, 'Connection to pic12.nipic.com timed out. (connect timeout=5)')), remaining retry times: 1\n",
            "ERROR:downloader:Exception caught when downloading file http://pic12.nipic.com/20110118/2889686_203848437549_2.jpg, error: HTTPConnectionPool(host='pic12.nipic.com', port=80): Max retries exceeded with url: /20110118/2889686_203848437549_2.jpg (Caused by ConnectTimeoutError(<urllib3.connection.HTTPConnection object at 0x7fae8e906b80>, 'Connection to pic12.nipic.com timed out. (connect timeout=5)')), remaining retry times: 0\n",
            "ERROR:downloader:Exception caught when downloading file http://a2.att.hudong.com/32/97/01300000167306121445970811958.jpg, error: HTTPConnectionPool(host='a2.att.hudong.com', port=80): Max retries exceeded with url: /32/97/01300000167306121445970811958.jpg (Caused by ConnectTimeoutError(<urllib3.connection.HTTPConnection object at 0x7fae8f351d30>, 'Connection to a2.att.hudong.com timed out. (connect timeout=5)')), remaining retry times: 2\n",
            "ERROR:downloader:Exception caught when downloading file http://a2.att.hudong.com/32/97/01300000167306121445970811958.jpg, error: HTTPConnectionPool(host='a2.att.hudong.com', port=80): Max retries exceeded with url: /32/97/01300000167306121445970811958.jpg (Caused by ConnectTimeoutError(<urllib3.connection.HTTPConnection object at 0x7fae8e8197c0>, 'Connection to a2.att.hudong.com timed out. (connect timeout=5)')), remaining retry times: 1\n",
            "ERROR:downloader:Exception caught when downloading file http://a2.att.hudong.com/32/97/01300000167306121445970811958.jpg, error: HTTPConnectionPool(host='a2.att.hudong.com', port=80): Max retries exceeded with url: /32/97/01300000167306121445970811958.jpg (Caused by ConnectTimeoutError(<urllib3.connection.HTTPConnection object at 0x7fae8e819b20>, 'Connection to a2.att.hudong.com timed out. (connect timeout=5)')), remaining retry times: 0\n",
            "ERROR:downloader:Response status code 403, file http://www.animal.or.kr/data/file/lost/3745426479_Zn8ipMdB_image.jpg\n",
            "ERROR:downloader:Exception caught when downloading file http://a0.att.hudong.com/51/49/01300000168389121151491626880.jpg, error: HTTPConnectionPool(host='a0.att.hudong.com', port=80): Max retries exceeded with url: /51/49/01300000168389121151491626880.jpg (Caused by ConnectTimeoutError(<urllib3.connection.HTTPConnection object at 0x7fae8e82c670>, 'Connection to a0.att.hudong.com timed out. (connect timeout=5)')), remaining retry times: 2\n",
            "ERROR:downloader:Exception caught when downloading file http://a0.att.hudong.com/51/49/01300000168389121151491626880.jpg, error: HTTPConnectionPool(host='a0.att.hudong.com', port=80): Max retries exceeded with url: /51/49/01300000168389121151491626880.jpg (Caused by ConnectTimeoutError(<urllib3.connection.HTTPConnection object at 0x7fae8f180310>, 'Connection to a0.att.hudong.com timed out. (connect timeout=5)')), remaining retry times: 1\n",
            "ERROR:downloader:Exception caught when downloading file http://a0.att.hudong.com/51/49/01300000168389121151491626880.jpg, error: HTTPConnectionPool(host='a0.att.hudong.com', port=80): Max retries exceeded with url: /51/49/01300000168389121151491626880.jpg (Caused by ConnectTimeoutError(<urllib3.connection.HTTPConnection object at 0x7fae8e70f610>, 'Connection to a0.att.hudong.com timed out. (connect timeout=5)')), remaining retry times: 0\n",
            "ERROR:downloader:Exception caught when downloading file http://a2.att.hudong.com/02/48/01300000168389121151488139468.jpg, error: HTTPConnectionPool(host='a2.att.hudong.com', port=80): Max retries exceeded with url: /02/48/01300000168389121151488139468.jpg (Caused by ConnectTimeoutError(<urllib3.connection.HTTPConnection object at 0x7fae8e82ce50>, 'Connection to a2.att.hudong.com timed out. (connect timeout=5)')), remaining retry times: 2\n",
            "ERROR:downloader:Exception caught when downloading file http://a2.att.hudong.com/02/48/01300000168389121151488139468.jpg, error: HTTPConnectionPool(host='a2.att.hudong.com', port=80): Max retries exceeded with url: /02/48/01300000168389121151488139468.jpg (Caused by ConnectTimeoutError(<urllib3.connection.HTTPConnection object at 0x7fae8e712970>, 'Connection to a2.att.hudong.com timed out. (connect timeout=5)')), remaining retry times: 1\n",
            "ERROR:downloader:Exception caught when downloading file http://a2.att.hudong.com/02/48/01300000168389121151488139468.jpg, error: HTTPConnectionPool(host='a2.att.hudong.com', port=80): Max retries exceeded with url: /02/48/01300000168389121151488139468.jpg (Caused by ConnectTimeoutError(<urllib3.connection.HTTPConnection object at 0x7fae8e713760>, 'Connection to a2.att.hudong.com timed out. (connect timeout=5)')), remaining retry times: 0\n"
          ]
        }
      ]
    },
    {
      "cell_type": "code",
      "source": [
        "from icrawler.builtin import BingImageCrawler\n",
        "\n",
        "# 犬の画像を100枚取得\n",
        "crawler = BingImageCrawler(storage={\"root_dir\": \"rabbit\"})\n",
        "crawler.crawl(keyword=\"兎\", max_num=734)"
      ],
      "metadata": {
        "id": "h2BX9aNdIIYY"
      },
      "execution_count": 5,
      "outputs": []
    },
    {
      "cell_type": "code",
      "source": [
        "from icrawler.builtin import BingImageCrawler\n",
        "\n",
        "# 犬の画像を100枚取得\n",
        "crawler = BingImageCrawler(storage={\"root_dir\": \"Horse\"})\n",
        "crawler.crawl(keyword=\"馬\", max_num=734)"
      ],
      "metadata": {
        "id": "dBhN4ORVIrIG",
        "outputId": "33b3071b-540e-49d2-afc0-dfee686978c5",
        "colab": {
          "base_uri": "https://localhost:8080/"
        }
      },
      "execution_count": 6,
      "outputs": [
        {
          "output_type": "stream",
          "name": "stderr",
          "text": [
            "ERROR:downloader:Response status code 403, file https://umasoku.com/wp-content/uploads/2019/06/D8F2VXsV4AACYHw-1.jpg\n",
            "ERROR:downloader:Response status code 403, file https://www.mjtv.jp/wp-content/uploads/uchidayuma-1110x750.jpg\n",
            "ERROR:downloader:Response status code 404, file https://upload.wikimedia.org/wikipedia/commons/thumb/f/f1/Don_Lee_by_Gage_Skidmore.jpg\n",
            "ERROR:downloader:Response status code 403, file https://d2a6d2ofes041u.cloudfront.net/resize?norotation=true&url=https:%2F%2Fimages.vocus.cc%2F0561f1f3-0be7-4106-8468-1e20bd2a6c15.jpg\n"
          ]
        }
      ]
    },
    {
      "cell_type": "code",
      "source": [
        "from icrawler.builtin import BingImageCrawler\n",
        "\n",
        "# 犬の画像を100枚取得\n",
        "crawler = BingImageCrawler(storage={\"root_dir\": \"Cow\"})\n",
        "crawler.crawl(keyword=\"牛\", max_num=734)"
      ],
      "metadata": {
        "id": "uQoo7s5fI417",
        "outputId": "38fb2eaf-6e1b-4851-a9b0-a32c8d9304b5",
        "colab": {
          "base_uri": "https://localhost:8080/"
        }
      },
      "execution_count": 7,
      "outputs": [
        {
          "output_type": "stream",
          "name": "stderr",
          "text": [
            "ERROR:downloader:Exception caught when downloading file http://a3.att.hudong.com/13/93/01200000031175136323933411725.jpg, error: HTTPConnectionPool(host='a3.att.hudong.com', port=80): Max retries exceeded with url: /13/93/01200000031175136323933411725.jpg (Caused by ConnectTimeoutError(<urllib3.connection.HTTPConnection object at 0x7fae8e675a90>, 'Connection to a3.att.hudong.com timed out. (connect timeout=5)')), remaining retry times: 2\n",
            "ERROR:downloader:Exception caught when downloading file http://a3.att.hudong.com/13/93/01200000031175136323933411725.jpg, error: HTTPConnectionPool(host='a3.att.hudong.com', port=80): Max retries exceeded with url: /13/93/01200000031175136323933411725.jpg (Caused by ConnectTimeoutError(<urllib3.connection.HTTPConnection object at 0x7fae8e1ea9a0>, 'Connection to a3.att.hudong.com timed out. (connect timeout=5)')), remaining retry times: 1\n",
            "ERROR:downloader:Exception caught when downloading file http://a3.att.hudong.com/13/93/01200000031175136323933411725.jpg, error: HTTPConnectionPool(host='a3.att.hudong.com', port=80): Max retries exceeded with url: /13/93/01200000031175136323933411725.jpg (Caused by ConnectTimeoutError(<urllib3.connection.HTTPConnection object at 0x7fae8e1eacd0>, 'Connection to a3.att.hudong.com timed out. (connect timeout=5)')), remaining retry times: 0\n",
            "ERROR:downloader:Exception caught when downloading file http://pic17.nipic.com/20111012/4117721_130456153035_2.jpg, error: HTTPConnectionPool(host='pic17.nipic.com', port=80): Max retries exceeded with url: /20111012/4117721_130456153035_2.jpg (Caused by ConnectTimeoutError(<urllib3.connection.HTTPConnection object at 0x7fae8f121040>, 'Connection to pic17.nipic.com timed out. (connect timeout=5)')), remaining retry times: 2\n",
            "ERROR:downloader:Exception caught when downloading file http://pic17.nipic.com/20111012/4117721_130456153035_2.jpg, error: HTTPConnectionPool(host='pic17.nipic.com', port=80): Max retries exceeded with url: /20111012/4117721_130456153035_2.jpg (Caused by ConnectTimeoutError(<urllib3.connection.HTTPConnection object at 0x7fae8e4bbd00>, 'Connection to pic17.nipic.com timed out. (connect timeout=5)')), remaining retry times: 1\n",
            "ERROR:downloader:Exception caught when downloading file http://pic17.nipic.com/20111012/4117721_130456153035_2.jpg, error: HTTPConnectionPool(host='pic17.nipic.com', port=80): Max retries exceeded with url: /20111012/4117721_130456153035_2.jpg (Caused by ConnectTimeoutError(<urllib3.connection.HTTPConnection object at 0x7fae8f260190>, 'Connection to pic17.nipic.com timed out. (connect timeout=5)')), remaining retry times: 0\n",
            "ERROR:downloader:Exception caught when downloading file http://pic15.nipic.com/20110709/7346956_221256460000_2.jpg, error: HTTPConnectionPool(host='pic15.nipic.com', port=80): Max retries exceeded with url: /20110709/7346956_221256460000_2.jpg (Caused by ConnectTimeoutError(<urllib3.connection.HTTPConnection object at 0x7fae8e5b4640>, 'Connection to pic15.nipic.com timed out. (connect timeout=5)')), remaining retry times: 2\n",
            "ERROR:downloader:Exception caught when downloading file http://pic15.nipic.com/20110709/7346956_221256460000_2.jpg, error: HTTPConnectionPool(host='pic15.nipic.com', port=80): Max retries exceeded with url: /20110709/7346956_221256460000_2.jpg (Caused by ConnectTimeoutError(<urllib3.connection.HTTPConnection object at 0x7fae8f260ca0>, 'Connection to pic15.nipic.com timed out. (connect timeout=5)')), remaining retry times: 1\n",
            "ERROR:downloader:Exception caught when downloading file http://pic15.nipic.com/20110709/7346956_221256460000_2.jpg, error: HTTPConnectionPool(host='pic15.nipic.com', port=80): Max retries exceeded with url: /20110709/7346956_221256460000_2.jpg (Caused by ConnectTimeoutError(<urllib3.connection.HTTPConnection object at 0x7fae8f260400>, 'Connection to pic15.nipic.com timed out. (connect timeout=5)')), remaining retry times: 0\n",
            "ERROR:downloader:Exception caught when downloading file http://pic4.nipic.com/20091019/2505867_112703005506_2.jpg, error: HTTPConnectionPool(host='pic4.nipic.com', port=80): Max retries exceeded with url: /20091019/2505867_112703005506_2.jpg (Caused by ConnectTimeoutError(<urllib3.connection.HTTPConnection object at 0x7fae8f121190>, 'Connection to pic4.nipic.com timed out. (connect timeout=5)')), remaining retry times: 2\n",
            "ERROR:downloader:Exception caught when downloading file http://pic4.nipic.com/20091019/2505867_112703005506_2.jpg, error: HTTPConnectionPool(host='pic4.nipic.com', port=80): Max retries exceeded with url: /20091019/2505867_112703005506_2.jpg (Caused by ConnectTimeoutError(<urllib3.connection.HTTPConnection object at 0x7fae8e16b190>, 'Connection to pic4.nipic.com timed out. (connect timeout=5)')), remaining retry times: 1\n",
            "ERROR:downloader:Exception caught when downloading file http://pic4.nipic.com/20091019/2505867_112703005506_2.jpg, error: HTTPConnectionPool(host='pic4.nipic.com', port=80): Max retries exceeded with url: /20091019/2505867_112703005506_2.jpg (Caused by ConnectTimeoutError(<urllib3.connection.HTTPConnection object at 0x7fae8e16b6a0>, 'Connection to pic4.nipic.com timed out. (connect timeout=5)')), remaining retry times: 0\n",
            "ERROR:downloader:Exception caught when downloading file http://pic7.nipic.com/20100606/4476465_153809023173_2.jpg, error: HTTPConnectionPool(host='pic7.nipic.com', port=80): Max retries exceeded with url: /20100606/4476465_153809023173_2.jpg (Caused by ConnectTimeoutError(<urllib3.connection.HTTPConnection object at 0x7fae8f1211f0>, 'Connection to pic7.nipic.com timed out. (connect timeout=5)')), remaining retry times: 2\n",
            "ERROR:downloader:Exception caught when downloading file http://pic7.nipic.com/20100606/4476465_153809023173_2.jpg, error: HTTPConnectionPool(host='pic7.nipic.com', port=80): Max retries exceeded with url: /20100606/4476465_153809023173_2.jpg (Caused by ConnectTimeoutError(<urllib3.connection.HTTPConnection object at 0x7fae8e5a03a0>, 'Connection to pic7.nipic.com timed out. (connect timeout=5)')), remaining retry times: 1\n",
            "ERROR:downloader:Exception caught when downloading file http://pic7.nipic.com/20100606/4476465_153809023173_2.jpg, error: HTTPConnectionPool(host='pic7.nipic.com', port=80): Max retries exceeded with url: /20100606/4476465_153809023173_2.jpg (Caused by ConnectTimeoutError(<urllib3.connection.HTTPConnection object at 0x7fae8e4bb970>, 'Connection to pic7.nipic.com timed out. (connect timeout=5)')), remaining retry times: 0\n",
            "ERROR:urllib3.connection:Certificate did not match expected hostname: sengoo.com. Certificate: {'subject': ((('commonName', 'www.npfj.com'),),), 'issuer': ((('countryName', 'US'),), (('organizationName', \"Let's Encrypt\"),), (('commonName', 'R3'),)), 'version': 3, 'serialNumber': '03A069499CC095BBC6117FA7D25339D0DC59', 'notBefore': 'Dec  1 00:19:27 2022 GMT', 'notAfter': 'Mar  1 00:19:26 2023 GMT', 'subjectAltName': (('DNS', 'npfj.com'), ('DNS', 'www.npfj.com')), 'OCSP': ('http://r3.o.lencr.org',), 'caIssuers': ('http://r3.i.lencr.org/',)}\n",
            "ERROR:downloader:Exception caught when downloading file https://sengoo.com/uploads/allimg/210423/1-210423164615G3.jpg, error: HTTPSConnectionPool(host='sengoo.com', port=443): Max retries exceeded with url: /uploads/allimg/210423/1-210423164615G3.jpg (Caused by SSLError(SSLCertVerificationError(\"hostname 'sengoo.com' doesn't match either of 'npfj.com', 'www.npfj.com'\"))), remaining retry times: 2\n",
            "ERROR:urllib3.connection:Certificate did not match expected hostname: sengoo.com. Certificate: {'subject': ((('commonName', 'www.npfj.com'),),), 'issuer': ((('countryName', 'US'),), (('organizationName', \"Let's Encrypt\"),), (('commonName', 'R3'),)), 'version': 3, 'serialNumber': '03A069499CC095BBC6117FA7D25339D0DC59', 'notBefore': 'Dec  1 00:19:27 2022 GMT', 'notAfter': 'Mar  1 00:19:26 2023 GMT', 'subjectAltName': (('DNS', 'npfj.com'), ('DNS', 'www.npfj.com')), 'OCSP': ('http://r3.o.lencr.org',), 'caIssuers': ('http://r3.i.lencr.org/',)}\n",
            "ERROR:downloader:Exception caught when downloading file https://sengoo.com/uploads/allimg/210423/1-210423164615G3.jpg, error: HTTPSConnectionPool(host='sengoo.com', port=443): Max retries exceeded with url: /uploads/allimg/210423/1-210423164615G3.jpg (Caused by SSLError(SSLCertVerificationError(\"hostname 'sengoo.com' doesn't match either of 'npfj.com', 'www.npfj.com'\"))), remaining retry times: 1\n",
            "ERROR:urllib3.connection:Certificate did not match expected hostname: sengoo.com. Certificate: {'subject': ((('commonName', 'www.npfj.com'),),), 'issuer': ((('countryName', 'US'),), (('organizationName', \"Let's Encrypt\"),), (('commonName', 'R3'),)), 'version': 3, 'serialNumber': '03A069499CC095BBC6117FA7D25339D0DC59', 'notBefore': 'Dec  1 00:19:27 2022 GMT', 'notAfter': 'Mar  1 00:19:26 2023 GMT', 'subjectAltName': (('DNS', 'npfj.com'), ('DNS', 'www.npfj.com')), 'OCSP': ('http://r3.o.lencr.org',), 'caIssuers': ('http://r3.i.lencr.org/',)}\n",
            "ERROR:downloader:Exception caught when downloading file https://sengoo.com/uploads/allimg/210423/1-210423164615G3.jpg, error: HTTPSConnectionPool(host='sengoo.com', port=443): Max retries exceeded with url: /uploads/allimg/210423/1-210423164615G3.jpg (Caused by SSLError(SSLCertVerificationError(\"hostname 'sengoo.com' doesn't match either of 'npfj.com', 'www.npfj.com'\"))), remaining retry times: 0\n",
            "ERROR:downloader:Response status code 404, file https://yumemilk.co.jp/yumemilkcojp/wp-content/uploads/2019/09/blog238-e1568637416877.jpg\n"
          ]
        }
      ]
    },
    {
      "cell_type": "code",
      "source": [
        "#画像サイズ\n",
        "import cv2\n",
        "import glob\n",
        "import os\n",
        "\n",
        "classname = [\"dog\", \"cat\", \"rabbit\", \"Horse\", \"Cow\"]\n",
        "\n",
        "for class_name in classname:\n",
        "  if not os.path.exists('/content/'+class_name+'_r/'):\n",
        "    os.makedirs('/content/'+class_name+'_r/')\n",
        "\n",
        "  originals=('/content/'+class_name+'/*')\n",
        "  read_files = glob.glob(originals)\n",
        "\n",
        "  for imgpass in read_files:\n",
        "    # 読み込む画像を選択\n",
        "    img = cv2.imread(imgpass)\n",
        "    # サイズ設定｜cv2では(幅、高さ）の順で数値を設定\n",
        "    size = (180,180) \n",
        "    # 画像拡大・縮小 オプションで拡大計算式変更可能\n",
        "    img_inter_area  = cv2.resize(img,size,interpolation = cv2.INTER_LINEAR) \n",
        "    #保存\n",
        "    cv2.imwrite('/content/'+class_name+'_r/'+os.path.split(imgpass)[1][:-4]+\".jpg\", img_inter_area)"
      ],
      "metadata": {
        "id": "U6EcQ3mhwApE"
      },
      "execution_count": 8,
      "outputs": []
    },
    {
      "cell_type": "code",
      "source": [
        "import shutil\n",
        "from google.colab import files\n",
        "\n",
        "if not os.path.exists('/content/zoo/'):\n",
        "    os.makedirs('/content/zoo/')\n",
        "\n",
        "for class_name in classname:\n",
        "  shutil.move('/content/'+class_name+'_r/','/content/zoo/')\n",
        "\n",
        "shutil.make_archive('/content/zoo', format='zip', root_dir='/content/zoo')\n",
        "files.download('/content/zoo.zip')"
      ],
      "metadata": {
        "id": "KSoZ3jGcnP5l",
        "outputId": "dcf7145a-2e63-4f54-fbcd-2fc71d20ab34",
        "colab": {
          "base_uri": "https://localhost:8080/",
          "height": 17
        }
      },
      "execution_count": 9,
      "outputs": [
        {
          "output_type": "display_data",
          "data": {
            "text/plain": [
              "<IPython.core.display.Javascript object>"
            ],
            "application/javascript": [
              "\n",
              "    async function download(id, filename, size) {\n",
              "      if (!google.colab.kernel.accessAllowed) {\n",
              "        return;\n",
              "      }\n",
              "      const div = document.createElement('div');\n",
              "      const label = document.createElement('label');\n",
              "      label.textContent = `Downloading \"${filename}\": `;\n",
              "      div.appendChild(label);\n",
              "      const progress = document.createElement('progress');\n",
              "      progress.max = size;\n",
              "      div.appendChild(progress);\n",
              "      document.body.appendChild(div);\n",
              "\n",
              "      const buffers = [];\n",
              "      let downloaded = 0;\n",
              "\n",
              "      const channel = await google.colab.kernel.comms.open(id);\n",
              "      // Send a message to notify the kernel that we're ready.\n",
              "      channel.send({})\n",
              "\n",
              "      for await (const message of channel.messages) {\n",
              "        // Send a message to notify the kernel that we're ready.\n",
              "        channel.send({})\n",
              "        if (message.buffers) {\n",
              "          for (const buffer of message.buffers) {\n",
              "            buffers.push(buffer);\n",
              "            downloaded += buffer.byteLength;\n",
              "            progress.value = downloaded;\n",
              "          }\n",
              "        }\n",
              "      }\n",
              "      const blob = new Blob(buffers, {type: 'application/binary'});\n",
              "      const a = document.createElement('a');\n",
              "      a.href = window.URL.createObjectURL(blob);\n",
              "      a.download = filename;\n",
              "      div.appendChild(a);\n",
              "      a.click();\n",
              "      div.remove();\n",
              "    }\n",
              "  "
            ]
          },
          "metadata": {}
        },
        {
          "output_type": "display_data",
          "data": {
            "text/plain": [
              "<IPython.core.display.Javascript object>"
            ],
            "application/javascript": [
              "download(\"download_0ba87054-7d77-4211-bc19-ceab6dd09521\", \"zoo.zip\", 10329892)"
            ]
          },
          "metadata": {}
        }
      ]
    }
  ],
  "metadata": {
    "colab": {
      "name": "Colaboratory へようこそ",
      "provenance": [],
      "include_colab_link": true
    },
    "kernelspec": {
      "display_name": "Python 3",
      "name": "python3"
    },
    "gpuClass": "standard",
    "accelerator": "GPU"
  },
  "nbformat": 4,
  "nbformat_minor": 0
}