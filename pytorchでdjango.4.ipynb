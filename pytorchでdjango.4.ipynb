{
  "cells": [
    {
      "cell_type": "markdown",
      "metadata": {
        "id": "view-in-github",
        "colab_type": "text"
      },
      "source": [
        "<a href=\"https://colab.research.google.com/github/1900690/kyouyu/blob/main/pytorch%E3%81%A7django.4.ipynb\" target=\"_parent\"><img src=\"https://colab.research.google.com/assets/colab-badge.svg\" alt=\"Open In Colab\"/></a>"
      ]
    },
    {
      "cell_type": "markdown",
      "metadata": {
        "pycharm": {
          "name": "#%% md\n"
        },
        "id": "zm4suB2E6RQ5"
      },
      "source": [
        "#DjangoアプリでPyTorchを使う方法\n",
        ">\"Djangoと事前に学習したPyTorch DenseNetモデルを使ってシンプルな画像分類のWebアプリを構築する\"\n"
      ]
    },
    {
      "cell_type": "markdown",
      "source": [
        "このブログ記事では、事前に学習した[PyTorchのDenseNet 121モデル](https://pytorch.org/hub/pytorch_vision_densenet/)を使って簡単な画像分類アプリを構築しています。この画像分類モデルをHeroku上のDjango Webアプリ内で使えるようにしています。\n",
        "\n",
        "<img src=\"https://github.com/stefanbschneider/blog/blob/master/_notebooks/pytorch-django/demo.gif?raw=1\" alt=\"image classification demo\" width=\"30%\" />"
      ],
      "metadata": {
        "id": "qmbF_3Dq7JjD"
      }
    },
    {
      "cell_type": "markdown",
      "source": [
        "これは、[PyTorch guide on deployment with Flask](https://pytorch.org/tutorials/intermediate/flask_rest_api_tutorial.html)の記事を参考にしています。ここでは、軽量ではありませんが、Flask よりも多くの機能を内蔵している Django を使った代替手段を紹介します。Django と Flask の違いについては、[このサイト](https://hackr.io/blog/flask-vs-django) を参照してください。\n",
        "\n",
        "* [作成した画像分類アプリはこちら](https://pytorch-django.herokuapp.com/)\n",
        "* [最終的なコードを含むGitHubリポジトリ](https://github.com/stefanbschneider/pytorch-django)\n",
        "* 関連するブログ記事\n",
        "    * [PyTorchを使い始める](https://stefanbschneider.github.io/blog/pytorch-getting-started)\n",
        "    * [Heroku上でDjangoアプリを構築してデプロイする](https://stefanbschneider.github.io/blog/django-heroku)\n",
        "    * [DjangoアプリにGoogle Analyticsを追加する](https://stefanbschneider.github.io/blog/django-google-analytics)\n",
        "\n",
        "なお、デプロイしたアプリのロードには数秒かかることがあります。これは、Herokuの無料アプリコンテナを使用しているためで、未使用時には自動的に切断されます。"
      ],
      "metadata": {
        "id": "CZsfDemu8Gz9"
      }
    },
    {
      "cell_type": "markdown",
      "source": [
        "##初期セットアップ：Django と PyTorch をインストールする\n",
        "必要なもの Python 3、GitHubとHerokuのアカウント。"
      ],
      "metadata": {
        "id": "56SFIAZHP0Er"
      }
    },
    {
      "cell_type": "code",
      "source": [
        "!pip -q install torch        # ライブラリ「PyTorch」をインストール\n",
        "!pip -q install torchvision  # 画像／ビデオ処理のPyTorch用追加パッケージもインストール\n",
        "!pip -q install django torchvision  #Djangoをインストール"
      ],
      "metadata": {
        "id": "jvvg0tM6QNvI",
        "outputId": "2ce1bafc-be43-4157-825d-221c51aafe65",
        "colab": {
          "base_uri": "https://localhost:8080/"
        }
      },
      "execution_count": 1,
      "outputs": [
        {
          "output_type": "stream",
          "name": "stdout",
          "text": [
            "\u001b[K     |████████████████████████████████| 7.9 MB 8.5 MB/s \n",
            "\u001b[?25h"
          ]
        }
      ]
    },
    {
      "cell_type": "code",
      "source": [
        "#インポートしてバージョンチェック\n",
        "import torch\n",
        "import torchvision\n",
        "import django\n",
        "print('PyTorch', torch.__version__)\n",
        "print('Torchvision', torchvision.__version__)\n",
        "print('django', django.__version__)\n",
        "! python -V"
      ],
      "metadata": {
        "id": "ypIrquZLQ10y",
        "outputId": "bebd63b5-66a2-4cbf-a1ff-e13ed114fdfb",
        "colab": {
          "base_uri": "https://localhost:8080/"
        }
      },
      "execution_count": 27,
      "outputs": [
        {
          "output_type": "stream",
          "name": "stdout",
          "text": [
            "PyTorch 1.11.0+cu113\n",
            "Torchvision 0.12.0+cu113\n",
            "django 3.2.13\n",
            "Python 3.7.13\n"
          ]
        }
      ]
    },
    {
      "cell_type": "markdown",
      "source": [
        "Django プロジェクト `pytorch_django` とアプリ `image_classification` を作成します。"
      ],
      "metadata": {
        "id": "w1IXN0rgSJEI"
      }
    },
    {
      "cell_type": "code",
      "source": [
        "!django-admin startproject pytorch_django #pytorch_djangoディレクトリを作成、詳しくはhttps://docs.djangoproject.com/ja/4.0/intro/tutorial01/"
      ],
      "metadata": {
        "id": "rmMKKJ8MSi-4"
      },
      "execution_count": 3,
      "outputs": []
    },
    {
      "cell_type": "code",
      "source": [
        "#ディレクトリの中に移動\n",
        "%cd /content/pytorch_django "
      ],
      "metadata": {
        "colab": {
          "base_uri": "https://localhost:8080/"
        },
        "id": "Hl4kV5aPh_4K",
        "outputId": "ad5adcc6-2497-4a2e-c589-a6de5c5a6b63"
      },
      "execution_count": 7,
      "outputs": [
        {
          "output_type": "stream",
          "name": "stdout",
          "text": [
            "/content/pytorch_django\n"
          ]
        }
      ]
    },
    {
      "cell_type": "code",
      "source": [
        "!python manage.py startapp image_classification #image_classificationアプリケーションを作成"
      ],
      "metadata": {
        "id": "TS7J30qxiBg7"
      },
      "execution_count": 8,
      "outputs": []
    },
    {
      "cell_type": "markdown",
      "source": [
        "以下のコードで`settings.py` 内に、 `'image_classification.apps.ImageClassificationConfig'` を `INSTALLED_APPS` リストに追加する。"
      ],
      "metadata": {
        "id": "-swPBGjrXJ8f"
      }
    },
    {
      "cell_type": "code",
      "source": [
        "#ディレクトリを移動\n",
        "%cd /content/pytorch_django/pytorch_django "
      ],
      "metadata": {
        "colab": {
          "base_uri": "https://localhost:8080/"
        },
        "id": "Ritn6QYYilni",
        "outputId": "38680238-8f09-4be6-826b-e9ef609996af"
      },
      "execution_count": 11,
      "outputs": [
        {
          "output_type": "stream",
          "name": "stdout",
          "text": [
            "/content/pytorch_django/pytorch_django\n"
          ]
        }
      ]
    },
    {
      "cell_type": "code",
      "source": [
        "##settings.pyを下記のコードで上書き、できるまで時間が借る\n",
        "%%writefile settings.py\n",
        "\"\"\"\n",
        "pytorch_django プロジェクト用の Django 設定です。\n",
        "Django 3.2.13 を使って 'django-admin startproject' で生成されます。\n",
        "このファイルに関する詳細な情報は\n",
        "https://docs.djangoproject.com/en/3.2/topics/settings/\n",
        "設定の完全なリストとその値については、以下を参照してください。\n",
        "https://docs.djangoproject.com/en/3.2/ref/settings/\n",
        "\"\"\"\n",
        "\n",
        "from pathlib import Path\n",
        "\n",
        "# プロジェクト内のビルドパスはこのようにします。BASE_DIR / 'subdir'です。\n",
        "BASE_DIR = Path(__file__).resolve().parent.parent\n",
        "\n",
        "\n",
        "# クイックスタートの開発設定 - 製品版には不向き\n",
        "# https://docs.djangoproject.com/en/3.2/howto/deployment/checklist/\n",
        "\n",
        "# セキュリティ警告：プロダクションで使用する秘密鍵は秘密にしてください。\n",
        "SECRET_KEY = 'django-insecure-138#a%l+%vl*^%lf$ir^$7u%!cgra-k97i)p@6j5&7y)w85bjh'\n",
        "\n",
        "# セキュリティ警告：実運用環境ではデバッグをオンにした状態で実行しないでください。\n",
        "DEBUG = True\n",
        "\n",
        "ALLOWED_HOSTS = []\n",
        "\n",
        "\n",
        "# アプリケーションの定義\n",
        "\n",
        "INSTALLED_APPS = [\n",
        "    'django.contrib.admin',\n",
        "    'django.contrib.auth',\n",
        "    'django.contrib.contenttypes',\n",
        "    'django.contrib.sessions',\n",
        "    'django.contrib.messages',\n",
        "    'django.contrib.staticfiles',\n",
        "    'image_classification.apps.ImageClassificationConfig',#ここを追加した\n",
        "]\n",
        "\n",
        "MIDDLEWARE = [\n",
        "    'django.middleware.security.SecurityMiddleware',\n",
        "    'django.contrib.sessions.middleware.SessionMiddleware',\n",
        "    'django.middleware.common.CommonMiddleware',\n",
        "    'django.middleware.csrf.CsrfViewMiddleware',\n",
        "    'django.contrib.auth.middleware.AuthenticationMiddleware',\n",
        "    'django.contrib.messages.middleware.MessageMiddleware',\n",
        "    'django.middleware.clickjacking.XFrameOptionsMiddleware',\n",
        "]\n",
        "\n",
        "ROOT_URLCONF = 'pytorch_django.urls'\n",
        "\n",
        "TEMPLATES = [\n",
        "    {\n",
        "        'BACKEND': 'django.template.backends.django.DjangoTemplates',\n",
        "        'DIRS': [],\n",
        "        'APP_DIRS': True,\n",
        "        'OPTIONS': {\n",
        "            'context_processors': [\n",
        "                'django.template.context_processors.debug',\n",
        "                'django.template.context_processors.request',\n",
        "                'django.contrib.auth.context_processors.auth',\n",
        "                'django.contrib.messages.context_processors.messages',\n",
        "            ],\n",
        "        },\n",
        "    },\n",
        "]\n",
        "\n",
        "WSGI_APPLICATION = 'pytorch_django.wsgi.application'\n",
        "\n",
        "\n",
        "# データベースについて\n",
        "# https://docs.djangoproject.com/en/3.2/ref/settings/#databases\n",
        "\n",
        "DATABASES = {\n",
        "    'default': {\n",
        "        'ENGINE': 'django.db.backends.sqlite3',\n",
        "        'NAME': BASE_DIR / 'db.sqlite3',\n",
        "    }\n",
        "}\n",
        "\n",
        "\n",
        "# パスワードの有効化について\n",
        "# https://docs.djangoproject.com/en/3.2/ref/settings/#auth-password-validators\n",
        "\n",
        "AUTH_PASSWORD_VALIDATORS = [\n",
        "    {\n",
        "        'NAME': 'django.contrib.auth.password_validation.UserAttributeSimilarityValidator',\n",
        "    },\n",
        "    {\n",
        "        'NAME': 'django.contrib.auth.password_validation.MinimumLengthValidator',\n",
        "    },\n",
        "    {\n",
        "        'NAME': 'django.contrib.auth.password_validation.CommonPasswordValidator',\n",
        "    },\n",
        "    {\n",
        "        'NAME': 'django.contrib.auth.password_validation.NumericPasswordValidator',\n",
        "    },\n",
        "]\n",
        "\n",
        "\n",
        "# 年齢制限・ローカライズについて\n",
        "# https://docs.djangoproject.com/en/3.2/topics/i18n/\n",
        "\n",
        "LANGUAGE_CODE = 'en-us'\n",
        "\n",
        "TIME_ZONE = 'UTC'\n",
        "\n",
        "USE_I18N = True\n",
        "\n",
        "USE_L10N = True\n",
        "\n",
        "USE_TZ = True\n",
        "\n",
        "\n",
        "# 静的ファイル（CSS、JavaScript、画像)の管理について\n",
        "# https://docs.djangoproject.com/en/3.2/howto/static-files/\n",
        "\n",
        "STATIC_URL = '/static/'\n",
        "\n",
        "# デフォルトの主なキーフィールドのタイプ\n",
        "# https://docs.djangoproject.com/en/3.2/ref/settings/#default-auto-field\n",
        "\n",
        "DEFAULT_AUTO_FIELD = 'django.db.models.BigAutoField'\n"
      ],
      "metadata": {
        "id": "wewnC18KbuQJ",
        "outputId": "084367c3-bc74-430d-c607-e155aa25c1b8",
        "colab": {
          "base_uri": "https://localhost:8080/"
        }
      },
      "execution_count": 12,
      "outputs": [
        {
          "output_type": "stream",
          "name": "stdout",
          "text": [
            "Overwriting settings.py\n"
          ]
        }
      ]
    },
    {
      "cell_type": "code",
      "source": [
        "#settings.pyファイルを表示\n",
        "from google.colab import files\n",
        "files.view(\"/content/pytorch_django/pytorch_django/settings.py\")"
      ],
      "metadata": {
        "id": "FSU9KP1IWuse",
        "outputId": "b7da83b4-0289-473c-9488-87eeee66ecba",
        "colab": {
          "base_uri": "https://localhost:8080/",
          "height": 17
        }
      },
      "execution_count": 13,
      "outputs": [
        {
          "output_type": "display_data",
          "data": {
            "text/plain": [
              "<IPython.core.display.Javascript object>"
            ],
            "application/javascript": [
              "\n",
              "      ((filepath) => {{\n",
              "        if (!google.colab.kernel.accessAllowed) {{\n",
              "          return;\n",
              "        }}\n",
              "        google.colab.files.view(filepath);\n",
              "      }})(\"/content/pytorch_django/pytorch_django/settings.py\")"
            ]
          },
          "metadata": {}
        }
      ]
    },
    {
      "cell_type": "code",
      "source": [
        "#ディレクトリを移動\n",
        "%cd /content/pytorch_django"
      ],
      "metadata": {
        "colab": {
          "base_uri": "https://localhost:8080/"
        },
        "id": "4fOoMqq2i4sX",
        "outputId": "d40370f7-fe59-444a-f98f-9cacfb615782"
      },
      "execution_count": 15,
      "outputs": [
        {
          "output_type": "stream",
          "name": "stdout",
          "text": [
            "/content/pytorch_django\n"
          ]
        }
      ]
    },
    {
      "cell_type": "markdown",
      "source": [
        "まだエラーがないことを確認するために、Django の開発サーバを起動します。"
      ],
      "metadata": {
        "id": "SqEJKaYrggUJ"
      }
    },
    {
      "cell_type": "code",
      "source": [
        "#colabではローカルホストにアクセスできないので表示されない\n",
        "#!python manage.py runserver"
      ],
      "metadata": {
        "id": "dmVPDVeRgh3k",
        "outputId": "bfaf52cb-02c5-46f2-8280-d0a5679330c4",
        "colab": {
          "base_uri": "https://localhost:8080/"
        }
      },
      "execution_count": 17,
      "outputs": [
        {
          "output_type": "stream",
          "name": "stdout",
          "text": [
            "Watching for file changes with StatReloader\n",
            "Performing system checks...\n",
            "\n",
            "System check identified no issues (0 silenced).\n",
            "\u001b[31m\n",
            "You have 18 unapplied migration(s). Your project may not work properly until you apply the migrations for app(s): admin, auth, contenttypes, sessions.\u001b[0m\n",
            "\u001b[31mRun 'python manage.py migrate' to apply them.\u001b[0m\n",
            "May 24, 2022 - 05:33:23\n",
            "Django version 3.2.13, using settings 'pytorch_django.settings'\n",
            "Starting development server at http://127.0.0.1:8000/\n",
            "Quit the server with CONTROL-C.\n"
          ]
        }
      ]
    },
    {
      "cell_type": "markdown",
      "source": [
        "## PyTorch による画像の分類\n",
        "\n",
        "アップロードされた画像を分類するために、[DenseNet neural network](https://pytorch.org/hub/pytorch_vision_densenet/)を使っています。\n",
        "[ImageNetデータセット](http://www.image-net.org/)で事前学習させた[DenseNetニューラルネットワーク](http://www.image-net.org/)を使用します。\n",
        "\n",
        "このウェブアプリは非常にシンプルで、他の機能を持たないので、単純に画像分類を実装しています。\n",
        "Django の `image_classification/views.py` モジュールの中で実装しています。"
      ],
      "metadata": {
        "id": "ZRpybrvTpr_N"
      }
    },
    {
      "cell_type": "code",
      "source": [
        "#views.pyファイルを表示\n",
        "from google.colab import files\n",
        "files.view(\"/content/pytorch_django/image_classification/views.py\")"
      ],
      "metadata": {
        "colab": {
          "base_uri": "https://localhost:8080/",
          "height": 17
        },
        "id": "umR4GW5fqiCj",
        "outputId": "6e2dfe70-1bb5-4c5c-b518-c3e7704055e8"
      },
      "execution_count": 28,
      "outputs": [
        {
          "output_type": "display_data",
          "data": {
            "text/plain": [
              "<IPython.core.display.Javascript object>"
            ],
            "application/javascript": [
              "\n",
              "      ((filepath) => {{\n",
              "        if (!google.colab.kernel.accessAllowed) {{\n",
              "          return;\n",
              "        }}\n",
              "        google.colab.files.view(filepath);\n",
              "      }})(\"/content/pytorch_django/image_classification/views.py\")"
            ]
          },
          "metadata": {}
        }
      ]
    },
    {
      "cell_type": "markdown",
      "source": [
        "> Note: このコードは [PyTorch tutorial](https://pytorch.org/tutorials/intermediate/flask_rest_api_tutorial.html) から引用したもので、MITライセンスのもとで公開しています。\n",
        "\n",
        "まず、学習済みのDenseNetをロードし、評価・推論モードに切り替える（これ以上の学習は必要ないため）。\n",
        "そして、ImageNetの予測インデックスと人間が読めるラベルのマッピングを読み込む。\n",
        "マッピングを含むJSONファイルは[こちら](https://s3.amazonaws.com/deep-learning-models/image-models/imagenet_class_index.json)から入手可能です。\n",
        "そして、 `STATICFILES_DIRS` (`settings.py`) で定義されているように、Django の [`static` ディレクトリ](https://docs.djangoproject.com/ja/3.2/intro/tutorial06/#customize-your-app-s-look-and-feel)に保存する必要があります。"
      ],
      "metadata": {
        "id": "V_mfE58DqzBQ"
      }
    },
    {
      "cell_type": "code",
      "source": [
        "#views.pyファイルを表示\n",
        "from google.colab import files\n",
        "files.view(\"/content/pytorch_django/image_classification/views.py\")"
      ],
      "metadata": {
        "id": "wl4rTZmirNLV"
      },
      "execution_count": null,
      "outputs": []
    },
    {
      "cell_type": "code",
      "source": [
        "import io\n",
        "import os\n",
        "import json\n",
        "\n",
        "from torchvision import models\n",
        "from torchvision import transforms\n",
        "from PIL import Image\n",
        "from django.conf import settings\n",
        "\n",
        "\n",
        "# 学習済みのDenseNetをロードし、そのまま推論のための評価モードに移行する。\n",
        "#  各リクエストで高価なリロードを避けるため、ここではグローバル変数としてロードする\n",
        "model = models.densenet121(pretrained=True)\n",
        "model.eval()\n",
        "\n",
        "# ImageNet のインデックスと人間が読めるラベルのマッピングをロード (staticfiles ディレクトリから)\n",
        "# \"python manage.py collectstatic \"を実行し、すべての静的ファイルがSTATICFILES_DIRSにコピーされるようにする。\n",
        "json_path = os.path.join(settings.STATIC_ROOT, \"imagenet_class_index.json\")\n",
        "imagenet_mapping = json.load(open(json_path))"
      ],
      "metadata": {
        "id": "4aGmnpYVsOK-"
      },
      "execution_count": null,
      "outputs": []
    },
    {
      "cell_type": "markdown",
      "source": [
        ">重要：プリトレーニングされたモデルをグローバル変数として一度ロードすることが重要であり、ビュー関数の内部でロードしないことは、リクエストごとにモデルを再ロードすることになります（高価で遅い！）。\n",
        "\n",
        ">Tip: settings.STATIC_ROOT を使って静的な JSON ファイルをロードすることは、開発環境でも本番環境でも機能しますが、最初に python manage.py collectstatic を実行する必要があります。"
      ],
      "metadata": {
        "id": "PVi4gcu4vaXk"
      }
    },
    {
      "cell_type": "markdown",
      "source": [
        "そこで、アップロードされた画像（バイトで渡される）をDenseNetに必要な形式に変換する関数が必要である。\n",
        "これは224 x 224の画像で、3つのRGBチャンネルを持つ。次のコードは、この変換を行い、また画像を正規化し、対応するテンソルを返す。\n",
        "画像を正規化し、対応するテンソルを返す。"
      ],
      "metadata": {
        "id": "o_UY_J8Evt37"
      }
    },
    {
      "cell_type": "code",
      "source": [
        "def transform_image(image_bytes):\n",
        "    \"\"\"\n",
        "    画像を必要なDenseNet形式に変換します。224x224、RGB3チャンネル、正規化。対応するテンソルを返す。\n",
        "    \"\"\"\n",
        "    my_transforms = transforms.Compose([transforms.Resize(255),\n",
        "                                        transforms.CenterCrop(224),\n",
        "                                        transforms.ToTensor(),\n",
        "                                        transforms.Normalize(\n",
        "                                            [0.485, 0.456, 0.406],\n",
        "                                            [0.229, 0.224, 0.225])])\n",
        "    image = Image.open(io.BytesIO(image_bytes))\n",
        "    return my_transforms(image).unsqueeze(0)"
      ],
      "metadata": {
        "id": "dGhsh5eVv0JB"
      },
      "execution_count": null,
      "outputs": []
    },
    {
      "cell_type": "markdown",
      "source": [
        "最後に、この関数は予測関数の内部で使用することができ、アップロードされた画像の変換されたテンソル\n",
        "はフォワードパスで事前学習されたDenseNetモデルに渡される。ここでは学習ではなく推論を行うだけなので、バックプロップは必要ない。\n",
        "バックプロパゲーションのためのバックワードパスは必要ない。\n",
        "このモデルは対応するImageNetクラスのインデックスを予測しますが、これは単なる整数です。より有用なラベルを表示するために\n",
        "ラベルを表示するために、冒頭で作成した `imagenet_mapping` ディクショナリから、対応する人間が読めるラベルを取得します。\n",
        "より有用なラベルを表示するために、ダウンロードしたJSONファイルから"
      ],
      "metadata": {
        "id": "qKEhFEyFwEHd"
      }
    },
    {
      "cell_type": "code",
      "source": [
        "def get_prediction(image_bytes):\n",
        "    \"\"\"与えられた画像バイトに対して、事前に学習したDenseNetを用いてラベルを予測する\"\"\"\n",
        "    tensor = transform_image(image_bytes)\n",
        "    outputs = model.forward(tensor)\n",
        "    _, y_hat = outputs.max(1)\n",
        "    predicted_idx = str(y_hat.item())\n",
        "    class_name, human_label = imagenet_mapping[predicted_idx]\n",
        "    return human_label"
      ],
      "metadata": {
        "id": "_nnFhRm0wIXH"
      },
      "execution_count": null,
      "outputs": []
    },
    {
      "cell_type": "markdown",
      "source": [
        "## Django の URL セットアップ\n",
        "\n",
        "PyTorch の分類ロジックを `image_classification/views.py` に実装したので、今度はそれを Django アプリに統合し、Django のビューとテンプレートで実際に使ってみる必要があります。そのために、まず画像分類アプリのURL用に別の `image_classification/urls.py` を作成して、URLの調整をします。"
      ],
      "metadata": {
        "id": "bLPIeV7SwQzG"
      }
    },
    {
      "cell_type": "code",
      "source": [
        "from django.urls import path, include\n",
        "from django.conf import settings\n",
        "from django.conf.urls.static import static\n",
        "from . import views\n",
        "\n",
        "app_name = 'image_classification'\n",
        "urlpatterns = [\n",
        "    # two paths: with or without given image\n",
        "    path('', views.index, name='index'),\n",
        "] + static(settings.MEDIA_URL, document_root=settings.MEDIA_ROOT)"
      ],
      "metadata": {
        "id": "fnAxCd3PwkgR"
      },
      "execution_count": null,
      "outputs": []
    },
    {
      "cell_type": "markdown",
      "source": [
        "ウェブアプリのメインページにアクセスすると、リクエストは `index` ビューに誘導されます。このビューでは、以前の PyTorch の分類ロジックを使用することになります。その前に、これらの URL を `pytorch_django/urls.py` にあるプロジェクトの URL にリンクして、有効にする必要があります。"
      ],
      "metadata": {
        "id": "3guInKRuwzsz"
      }
    },
    {
      "cell_type": "code",
      "source": [
        "urlpatterns = [\n",
        "    path('', include('image_classification.urls')),\n",
        "    path('admin/', admin.site.urls),\n",
        "]"
      ],
      "metadata": {
        "id": "yICRo0ePw3yG"
      },
      "execution_count": null,
      "outputs": []
    },
    {
      "cell_type": "markdown",
      "source": [
        "## Django 画像のアップロード、分類、そして表示\n",
        "\n",
        "アップロードされた画像を受け取り、それを処理し、上で実装した PyTorch の分類ロジックに渡す `index` ビューを実装しています。\n",
        "の分類ロジックに渡します。\n",
        "また、ユーザが画像をアップロードして分類のために送信できる Web インターフェースをレンダリングするための、シンプルな Django テンプレートが必要です。\n",
        "分類の後、テンプレートは予測されたラベルを表示する必要があります。\n",
        "\n"
      ],
      "metadata": {
        "id": "tNRrC8-qxCdG"
      }
    },
    {
      "cell_type": "markdown",
      "source": [
        "### Form\n",
        "\n",
        "For submitting uploaded images, I use a very simply Django form with an `ImageField` in `image_classification/forms.py`:"
      ],
      "metadata": {
        "id": "Z7dhMZ_fxH7-"
      }
    },
    {
      "cell_type": "code",
      "source": [
        "from django import forms\n",
        "\n",
        "class ImageUploadForm(forms.Form):\n",
        "    image = forms.ImageField()"
      ],
      "metadata": {
        "id": "hEWbUlPWxIph"
      },
      "execution_count": null,
      "outputs": []
    },
    {
      "cell_type": "markdown",
      "source": [
        "##ビュー\n",
        "\n",
        "アップロードされた画像を受け取るために、このフォームを `index` ビューの中で使用しています。\n",
        "(`index` は `image_classification/urls.py` での呼び方ですが、他の名前でもかまいません。\n",
        "他の名前でも構いません)。\n",
        "ここでは、アップロードされた画像を表示し、分類のためにPyTorchモデルに渡したいだけです。\n",
        "ファイルシステム/ディスクには(一時的にでも)保存したくありません。\n",
        "したがって、ビュー (`image_classification/views.py`) の内部で、フォームから画像を取得し、そのバイト表現 (PyTorch 用) を取得します。\n",
        "を取得し、後でテンプレートに画像を表示するための画像URIを作成します([StackOverflow](https://stackoverflow.com/a/40568024/2745116)を参照)。"
      ],
      "metadata": {
        "id": "kELNxOVtxSmd"
      }
    },
    {
      "cell_type": "code",
      "source": [
        "import base64\n",
        "from django.shortcuts import render\n",
        "from .forms import ImageUploadForm\n",
        "\n",
        "def index(request):\n",
        "    image_uri = None\n",
        "    predicted_label = None\n",
        "\n",
        "    if request.method == 'POST':\n",
        "        # in case of POST: get the uploaded image from the form and process it\n",
        "        form = ImageUploadForm(request.POST, request.FILES)\n",
        "        if form.is_valid():\n",
        "            # retrieve the uploaded image and convert it to bytes (for PyTorch)\n",
        "            image = form.cleaned_data['image']\n",
        "            image_bytes = image.file.read()\n",
        "            # convert and pass the image as base64 string to avoid storing it to DB or filesystem\n",
        "            encoded_img = base64.b64encode(image_bytes).decode('ascii')\n",
        "            image_uri = 'data:%s;base64,%s' % ('image/jpeg', encoded_img)\n",
        "\n",
        "            # get predicted label with previously implemented PyTorch function\n",
        "            try:\n",
        "                predicted_label = get_prediction(image_bytes)\n",
        "            except RuntimeError as re:\n",
        "                print(re)\n",
        "\n",
        "    else:\n",
        "        # in case of GET: simply show the empty form for uploading images\n",
        "        form = ImageUploadForm()\n",
        "\n",
        "    # pass the form, image URI, and predicted label to the template to be rendered\n",
        "    context = {\n",
        "        'form': form,\n",
        "        'image_uri': image_uri,\n",
        "        'predicted_label': predicted_label,\n",
        "    }\n",
        "    return render(request, 'image_classification/index.html', context)"
      ],
      "metadata": {
        "id": "qFqv7fpWxdhv"
      },
      "execution_count": null,
      "outputs": []
    },
    {
      "cell_type": "markdown",
      "source": [
        "### Template\n",
        "\n",
        "The `index` view above calls Django's `render` function on a template `image_classification/index.html`,\n",
        "which I need to create now (inside the `image_classification/templates` directory).\n",
        "The template needs to show the form for uploading images and, after submitting and image, the uploaded image and its\n",
        "predicted label.\n",
        "\n",
        "{% raw %}\n",
        "```html\n",
        "<h1>Image Classification App</h1>\n",
        "<p>A simple Django web app with a pretrained PyTorch DenseNet model will try to classify the selected image according to ImageNet labels. Uploaded images are not saved.</p>\n",
        "<p><small>Further information:\n",
        "    <a href=\"\" target=\"_blank\">Blog Post</a>,\n",
        "    <a href=\"https://github.com/stefanbschneider/pytorch-django\" target=\"_blank\">GitHub</a></small>\n",
        "</p>\n",
        "\n",
        "<form method=\"post\" enctype=\"multipart/form-data\" style=\"margin-top: 50px; margin-bottom: 30px;\">\n",
        "    {% csrf_token %}\n",
        "    {{ form }}\n",
        "    <button type=\"submit\" id=\"btnUpload\" class=\"btn btn-primary\">Upload</button>\n",
        "</form>\n",
        "\n",
        "{% if image_uri is not None %}\n",
        "    {% if predicted_label is not None %}\n",
        "        <div class=\"alert alert-primary\" role=\"alert\">\n",
        "            Predicted label: <b>{{ predicted_label }}</b>\n",
        "        </div>\n",
        "    {% else %}\n",
        "        <div class=\"alert alert-danger\" role=\"alert\">\n",
        "            Prediction error. No label predicted.\n",
        "        </div>\n",
        "    {% endif %}\n",
        "\n",
        "    <img src=\"{{ image_uri }}\" class=\"img-fluid\" alt=\"Uploaded image\"\n",
        "         style=\"max-width: min(500px, 100%); height: auto; margin-top: 30px;\">\n",
        "{% endif %}\n",
        "```\n",
        "{% endraw %}\n",
        "\n",
        "\n",
        "The uploaded image uses the saved and passed image URI from before and does not save or load any image from disk,\n",
        "which is important for privacy.\n",
        "\n",
        "This template relies on some Bootstrap styling (see [my corresponding blog post](https://stefanbschneider.github.io/blog/django-bootstrap)),\n",
        "but it is of course possible to omit that.\n",
        "\n",
        "### Testing the App Locally\n",
        "\n",
        "Running the app locally should now work without errors and show a simple page with the image upload form:\n",
        "\n",
        "![](https://github.com/stefanbschneider/blog/blob/master/_notebooks/pytorch-django/image-upload.png?raw=1)\n",
        "\n",
        "After uploading an image, the app shows the image and its classification below:\n",
        "\n",
        "![](https://github.com/stefanbschneider/blog/blob/master/_notebooks/pytorch-django/classification.png?raw=1)\n",
        "\n",
        "Here, it correctly classifies the image as a (tiger) cat.\n"
      ],
      "metadata": {
        "collapsed": false,
        "pycharm": {
          "name": "#%% md\n"
        },
        "id": "8e9xgcM76RRA"
      }
    },
    {
      "cell_type": "markdown",
      "source": [
        "\n",
        "## Deployment on Heroku\n",
        "\n",
        "For (production) deployment of this simple web app on Heroku, a few extra steps are necessary.\n",
        "Also refer to [my dedicated blog post](https://stefanbschneider.github.io/blog/django-heroku) on this topic for details.\n",
        "\n",
        "### File Structure\n",
        "\n",
        "For some reason, the default directory structure always breaks my Heroku deployment.\n",
        "It works, when removing the parent `pytorch_django` directory like this:\n",
        "```\n",
        "# original structure when generating the project and app\n",
        "pytorch_django\n",
        "    image_classification\n",
        "        ...\n",
        "    pytorch_django\n",
        "        ...\n",
        "    manage.py\n",
        "README.md\n",
        "\n",
        "# after removing the parent directory\n",
        "image_classification\n",
        "    ...\n",
        "pytorch_django\n",
        "    ...\n",
        "manage.py\n",
        "README.md\n",
        "```\n",
        "\n",
        "### Setup and Production Settings\n",
        "\n",
        "After creating the app on Heroku and enabling automatic deploys from the corresponding GitHub repo,\n",
        "set the following config variables (in Heroku: Settings > Config Vars):\n",
        "```\n",
        "DJANGO_SETTINGS_MODULE: pytorch_django.prod_settings\n",
        "DJANGO_SECRET_KEY: <randomly-generated-secret-key>\n",
        "```\n",
        "This indicates that Heroku should use a separate `prod_settings.py` rather than the `settings.py` used for development.\n",
        "This `prod_settings.py` simply overwrites and disables debug mode, sets the production secret key, and allowed hosts.\n",
        "It also makes use of the `django_heroku` package for further settings.\n",
        "```python\n",
        "import django_heroku\n",
        "# default: use settings from main settings.py if not overwritten\n",
        "from .settings import *\n",
        "\n",
        "DEBUG = False\n",
        "SECRET_KEY = os.getenv('DJANGO_SECRET_KEY', SECRET_KEY)\n",
        "# adjust this to the URL of your Heroku app\n",
        "ALLOWED_HOSTS = ['pytorch-django.herokuapp.com']\n",
        "# Activate Django-Heroku.\n",
        "django_heroku.settings(locals())\n",
        "```\n",
        "\n",
        "### Procfile and Requirements\n",
        "\n",
        "Also, add a `Procfile` in the project root that indicates how to prepare the release and deployment on Heroku using `gunicorn`:\n",
        "```\n",
        "release: python manage.py migrate --no-input\n",
        "web: gunicorn pytorch_django.wsgi\n",
        "```\n",
        "The paths depend on the project name and directory structure.\n",
        "\n",
        "Also specify the requirements that need to be installed for the app in `requirements.txt`:\n",
        "```\n",
        "-f https://download.pytorch.org/whl/torch_stable.html\n",
        "django==3.2\n",
        "whitenoise==5.2.0\n",
        "gunicorn==20.0.4\n",
        "django-heroku==0.3.1\n",
        "# cpu version of torch and torchvision for heroku to reduce slug size\n",
        "torch==1.8.1+cpu\n",
        "torchvision==0.9.1+cpu\n",
        "```\n",
        "For deployment on Heroku, it's important to use the CPU version of PyTorch since the slug size is otherwise too large\n",
        "(above 500 MB), which leads to a build error (see [StackOverflow](https://stackoverflow.com/a/59122860/2745116)).\n",
        "The free Herku dynos only support CPU anyways.\n",
        "\n",
        "\n",
        "### Static Files\n",
        "\n",
        "For serving static files (here, the JSON containing the ImageNet label mapping), configure `STATIC_ROOT`, `STATIC_URL`,\n",
        "and `STATICFILES_DIR` in `settings.py`:\n",
        "```python\n",
        "STATIC_URL = '/static/'\n",
        "# path to where static files are copied for deployment (eg, for heroku)\n",
        "STATIC_ROOT = os.path.join(BASE_DIR, 'staticfiles')\n",
        "# location of static files in local development: https://learndjango.com/tutorials/django-favicon-tutorial\n",
        "STATICFILES_DIRS = [os.path.join(BASE_DIR, 'static'),]\n",
        "```\n",
        "For production, use `whitenoise` as described [here](https://devcenter.heroku.com/articles/django-assets#whitenoise).\n",
        "Make sure to add the `staticfiles` directory to GitHub as it will not be created automatically by Django.\n",
        "\n",
        "The `STATIC_ROOT` is used inside `views.py` (see above) to load the JSON file for mapping.\n",
        "To copy all static files from their `STATICFILES_DIRS` to `STATIC_ROOT`, run\n",
        "```\n",
        "python manage.py collectstatic\n",
        "```\n",
        "This is only required once locally.\n",
        "Heroku executes it on each deploy automatically.\n",
        "\n",
        "### Testing the Deployed App\n",
        "\n",
        "Check the Heroku activity/logs to see if the build and deployment are successful.\n",
        "After successful deployment, access the app at its URL.\n",
        "Mine is at [https://pytorch-django.herokuapp.com/](https://pytorch-django.herokuapp.com/).\n",
        "\n",
        "\n",
        "\n",
        "## What Next?\n",
        "\n",
        "Outcomes of this blog post:\n",
        "\n",
        "* [Deployed app](https://pytorch-django.herokuapp.com/)\n",
        "* [GitHub code](https://github.com/stefanbschneider/pytorch-django)\n",
        "\n",
        "Other blog posts:\n",
        "\n",
        "* [Posts related to Django](https://stefanbschneider.github.io/blog/categories/#django)\n",
        "* [Posts related to PyTorch](https://stefanbschneider.github.io/blog/categories/#pytorch)\n",
        "* [Posts related to Heroku](https://stefanbschneider.github.io/blog/categories/#heroku)\n",
        "\n",
        "External links:\n",
        "\n",
        "* [PyTorch tutorial on image classification with DenseNet and Flask](https://pytorch.org/tutorials/intermediate/flask_rest_api_tutorial.html)\n",
        "* [PyTorch DenseNet information](https://pytorch.org/hub/pytorch_vision_densenet/)\n",
        "* [ImageNet dataset](http://www.image-net.org/)"
      ],
      "metadata": {
        "collapsed": false,
        "pycharm": {
          "name": "#%% md\n"
        },
        "id": "u2Vj0GBo6RRC"
      }
    }
  ],
  "metadata": {
    "kernelspec": {
      "display_name": "Python 3",
      "language": "python",
      "name": "python3"
    },
    "language_info": {
      "codemirror_mode": {
        "name": "ipython",
        "version": 3
      },
      "file_extension": ".py",
      "mimetype": "text/x-python",
      "name": "python",
      "nbconvert_exporter": "python",
      "pygments_lexer": "ipython3",
      "version": "3.8.2"
    },
    "colab": {
      "name": "2021-04-11-pytorch-django.ipynb",
      "provenance": [],
      "include_colab_link": true
    }
  },
  "nbformat": 4,
  "nbformat_minor": 0
}