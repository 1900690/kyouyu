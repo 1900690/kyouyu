{
  "nbformat": 4,
  "nbformat_minor": 0,
  "metadata": {
    "colab": {
      "name": "colabでサクッとStreamlit（最小構成）",
      "provenance": [],
      "collapsed_sections": [],
      "include_colab_link": true
    },
    "kernelspec": {
      "name": "python3",
      "display_name": "Python 3"
    },
    "language_info": {
      "name": "python"
    }
  },
  "cells": [
    {
      "cell_type": "markdown",
      "metadata": {
        "id": "view-in-github",
        "colab_type": "text"
      },
      "source": [
        "<a href=\"https://colab.research.google.com/github/1900690/kyouyu/blob/main/%E3%82%A2%E3%83%97%E3%83%AA%E3%82%B1%E3%83%BC%E3%82%B7%E3%83%A7%E3%83%B3%E5%8C%96.3.ipynb\" target=\"_parent\"><img src=\"https://colab.research.google.com/assets/colab-badge.svg\" alt=\"Open In Colab\"/></a>"
      ]
    },
    {
      "cell_type": "markdown",
      "source": [
        "#streamlitの参考情報\n",
        "[Streamlit API reference](https://docs.streamlit.io/library/api-reference)\n",
        "\n",
        "[Streamlit configuration](https://docs.streamlit.io/library/advanced-features/configuration)"
      ],
      "metadata": {
        "id": "zzAwS2UPPWGC"
      }
    },
    {
      "cell_type": "code",
      "source": [
        "#streamlitをインストール\n",
        "!pip -q install streamlit"
      ],
      "metadata": {
        "id": "R0ISPZ9ZN9Dh",
        "colab": {
          "base_uri": "https://localhost:8080/"
        },
        "outputId": "b306e34e-a6c4-412c-b3f3-7f23c12eb838"
      },
      "execution_count": 1,
      "outputs": [
        {
          "output_type": "stream",
          "name": "stdout",
          "text": [
            "\u001b[K     |████████████████████████████████| 10.1 MB 4.1 MB/s \n",
            "\u001b[K     |████████████████████████████████| 77 kB 6.6 MB/s \n",
            "\u001b[K     |████████████████████████████████| 4.3 MB 31.5 MB/s \n",
            "\u001b[K     |████████████████████████████████| 164 kB 43.3 MB/s \n",
            "\u001b[K     |████████████████████████████████| 181 kB 55.9 MB/s \n",
            "\u001b[K     |████████████████████████████████| 111 kB 56.4 MB/s \n",
            "\u001b[K     |████████████████████████████████| 63 kB 1.6 MB/s \n",
            "\u001b[K     |████████████████████████████████| 131 kB 51.0 MB/s \n",
            "\u001b[K     |████████████████████████████████| 793 kB 35.0 MB/s \n",
            "\u001b[K     |████████████████████████████████| 428 kB 52.0 MB/s \n",
            "\u001b[K     |████████████████████████████████| 130 kB 50.9 MB/s \n",
            "\u001b[K     |████████████████████████████████| 381 kB 48.5 MB/s \n",
            "\u001b[?25h  Building wheel for blinker (setup.py) ... \u001b[?25l\u001b[?25hdone\n",
            "  Building wheel for validators (setup.py) ... \u001b[?25l\u001b[?25hdone\n",
            "\u001b[31mERROR: pip's dependency resolver does not currently take into account all the packages that are installed. This behaviour is the source of the following dependency conflicts.\n",
            "jupyter-console 5.2.0 requires prompt-toolkit<2.0.0,>=1.0.0, but you have prompt-toolkit 3.0.29 which is incompatible.\n",
            "google-colab 1.0.0 requires ipykernel~=4.10, but you have ipykernel 6.13.0 which is incompatible.\n",
            "google-colab 1.0.0 requires ipython~=5.5.0, but you have ipython 7.33.0 which is incompatible.\n",
            "google-colab 1.0.0 requires tornado~=5.1.0; python_version >= \"3.0\", but you have tornado 6.1 which is incompatible.\u001b[0m\n"
          ]
        }
      ]
    },
    {
      "cell_type": "code",
      "source": [
        "#content内にapp.pyファイルを作成しHello Worldを表示させるコードを記入している\n",
        "%%writefile app.py\n",
        "# simple_streamlit_app.py\n",
        "import numpy as np\n",
        "import pandas as pd\n",
        "import streamlit as st\n",
        " \n",
        "df = pd.DataFrame( np.random.randn(10, 4), columns=['a', 'b', 'c','d'] )\n",
        " \n",
        "st.title(\"Simple Streamlit App\")\n",
        " \n",
        "st.write(\"📈　Line-Chart\")\n",
        "st.line_chart(df)\n",
        " \n",
        "if st.checkbox('👓 Show DataFrame (with highlight_max)'):\n",
        " st.table(df.style.highlight_max(axis=0))"
      ],
      "metadata": {
        "id": "QdiCbSmONOJg",
        "colab": {
          "base_uri": "https://localhost:8080/"
        },
        "outputId": "e50b8df4-ec00-4b14-d6c8-ce36f460d4d2"
      },
      "execution_count": 11,
      "outputs": [
        {
          "output_type": "stream",
          "name": "stdout",
          "text": [
            "Overwriting app.py\n"
          ]
        }
      ]
    },
    {
      "cell_type": "code",
      "source": [
        "#app.pyの内容をタブで表示\n",
        "from google.colab import files\n",
        "files.view(\"/content\")\n",
        "files.view(\"app.py\")"
      ],
      "metadata": {
        "id": "34SRW1wmNnI6",
        "colab": {
          "base_uri": "https://localhost:8080/",
          "height": 17
        },
        "outputId": "b6a76820-91e2-48d5-9118-b2a7065dae6b"
      },
      "execution_count": 3,
      "outputs": [
        {
          "output_type": "display_data",
          "data": {
            "text/plain": [
              "<IPython.core.display.Javascript object>"
            ],
            "application/javascript": [
              "\n",
              "      ((filepath) => {{\n",
              "        if (!google.colab.kernel.accessAllowed) {{\n",
              "          return;\n",
              "        }}\n",
              "        google.colab.files.view(filepath);\n",
              "      }})(\"/content\")"
            ]
          },
          "metadata": {}
        },
        {
          "output_type": "display_data",
          "data": {
            "text/plain": [
              "<IPython.core.display.Javascript object>"
            ],
            "application/javascript": [
              "\n",
              "      ((filepath) => {{\n",
              "        if (!google.colab.kernel.accessAllowed) {{\n",
              "          return;\n",
              "        }}\n",
              "        google.colab.files.view(filepath);\n",
              "      }})(\"/content/app.py\")"
            ]
          },
          "metadata": {}
        }
      ]
    },
    {
      "cell_type": "code",
      "execution_count": 31,
      "metadata": {
        "id": "8Fez2MmOMwA5",
        "colab": {
          "base_uri": "https://localhost:8080/"
        },
        "outputId": "096733c1-a6e1-4e85-9480-fd0104c5370a"
      },
      "outputs": [
        {
          "output_type": "stream",
          "name": "stdout",
          "text": [
            "2022-05-18 06:00:23.316 INFO    numexpr.utils: NumExpr defaulting to 2 threads.\n",
            "\u001b[0m\n",
            "\u001b[34m\u001b[1m  You can now view your Streamlit app in your browser.\u001b[0m\n",
            "\u001b[0m\n",
            "\u001b[34m  Network URL: \u001b[0m\u001b[1mhttp://172.28.0.2:8501\u001b[0m\n",
            "\u001b[34m  External URL: \u001b[0m\u001b[1mhttp://34.80.154.25:8501\u001b[0m\n",
            "\u001b[0m\n",
            "\u001b[K\u001b[?25hnpx: installed 22 in 1.657s\n",
            "your url is: https://witty-cows-tap-34-80-154-25.loca.lt\n",
            "\u001b[34m  Stopping...\u001b[0m\n",
            "^C\n"
          ]
        }
      ],
      "source": [
        "#アクセス用ＵＲＬを取得する\n",
        "!streamlit run app.py & sleep 3 && npx localtunnel --port 8501"
      ]
    },
    {
      "cell_type": "code",
      "source": [
        "#QRコード作成\n",
        "!pip install qrcode\n",
        "from matplotlib import pyplot as plt\n",
        "import qrcode\n",
        "\n",
        "url=\"https://bright-donkeys-attack-34-80-154-25.loca.lt\"\n",
        "img=qrcode.make(url)\n",
        "\n",
        "plt.axis('off')\n",
        "plt.imshow(img)\n",
        "plt.gray()"
      ],
      "metadata": {
        "id": "S29nsD1rtNio",
        "outputId": "6e13512f-9e9c-4f83-8a0f-d29077887fa0",
        "colab": {
          "base_uri": "https://localhost:8080/",
          "height": 265
        }
      },
      "execution_count": 29,
      "outputs": [
        {
          "output_type": "stream",
          "name": "stdout",
          "text": [
            "Requirement already satisfied: qrcode in /usr/local/lib/python3.7/dist-packages (7.3.1)\n"
          ]
        },
        {
          "output_type": "display_data",
          "data": {
            "text/plain": [
              "<Figure size 432x288 with 1 Axes>"
            ],
            "image/png": "[encoded data removed]"
          },
          "metadata": {
            "needs_background": "light"
          }
        }
      ]
    }
  ]
}