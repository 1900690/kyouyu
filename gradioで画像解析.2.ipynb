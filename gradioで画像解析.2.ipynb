{
  "nbformat": 4,
  "nbformat_minor": 0,
  "metadata": {
    "colab": {
      "name": "gradioで画像解析.ipynb",
      "provenance": [],
      "include_colab_link": true
    },
    "kernelspec": {
      "name": "python3",
      "display_name": "Python 3"
    },
    "language_info": {
      "name": "python"
    },
    "widgets": {
      "application/vnd.jupyter.widget-state+json": {
        "d80ad3ee446c4933b4c56a9ea1091c8e": {
          "model_module": "@jupyter-widgets/controls",
          "model_name": "HBoxModel",
          "model_module_version": "1.5.0",
          "state": {
            "_dom_classes": [],
            "_model_module": "@jupyter-widgets/controls",
            "_model_module_version": "1.5.0",
            "_model_name": "HBoxModel",
            "_view_count": null,
            "_view_module": "@jupyter-widgets/controls",
            "_view_module_version": "1.5.0",
            "_view_name": "HBoxView",
            "box_style": "",
            "children": [
              "IPY_MODEL_216e595a11d146babf625215e2392c52",
              "IPY_MODEL_b091eb6a9d6449f9a363eed16fb78cc2",
              "IPY_MODEL_466af50bd70b49adbe4d85bbc3ec570b"
            ],
            "layout": "IPY_MODEL_22d9feef24cf4a6192e9af38a204d12f"
          }
        },
        "216e595a11d146babf625215e2392c52": {
          "model_module": "@jupyter-widgets/controls",
          "model_name": "HTMLModel",
          "model_module_version": "1.5.0",
          "state": {
            "_dom_classes": [],
            "_model_module": "@jupyter-widgets/controls",
            "_model_module_version": "1.5.0",
            "_model_name": "HTMLModel",
            "_view_count": null,
            "_view_module": "@jupyter-widgets/controls",
            "_view_module_version": "1.5.0",
            "_view_name": "HTMLView",
            "description": "",
            "description_tooltip": null,
            "layout": "IPY_MODEL_b4fa1b2e95444313b12c5962f4d88e4f",
            "placeholder": "​",
            "style": "IPY_MODEL_063a119edcc44265ada57ea9f3134f04",
            "value": "100%"
          }
        },
        "b091eb6a9d6449f9a363eed16fb78cc2": {
          "model_module": "@jupyter-widgets/controls",
          "model_name": "FloatProgressModel",
          "model_module_version": "1.5.0",
          "state": {
            "_dom_classes": [],
            "_model_module": "@jupyter-widgets/controls",
            "_model_module_version": "1.5.0",
            "_model_name": "FloatProgressModel",
            "_view_count": null,
            "_view_module": "@jupyter-widgets/controls",
            "_view_module_version": "1.5.0",
            "_view_name": "ProgressView",
            "bar_style": "success",
            "description": "",
            "description_tooltip": null,
            "layout": "IPY_MODEL_000518d37be743fabf6020cf99152295",
            "max": 110273258,
            "min": 0,
            "orientation": "horizontal",
            "style": "IPY_MODEL_b34b431af32043cf8a94f6fddfa68468",
            "value": 110273258
          }
        },
        "466af50bd70b49adbe4d85bbc3ec570b": {
          "model_module": "@jupyter-widgets/controls",
          "model_name": "HTMLModel",
          "model_module_version": "1.5.0",
          "state": {
            "_dom_classes": [],
            "_model_module": "@jupyter-widgets/controls",
            "_model_module_version": "1.5.0",
            "_model_name": "HTMLModel",
            "_view_count": null,
            "_view_module": "@jupyter-widgets/controls",
            "_view_module_version": "1.5.0",
            "_view_name": "HTMLView",
            "description": "",
            "description_tooltip": null,
            "layout": "IPY_MODEL_993655cc5ec94d58be159f26e79aed7b",
            "placeholder": "​",
            "style": "IPY_MODEL_69696bc801b04a5485ccee2e997e44db",
            "value": " 105M/105M [00:00&lt;00:00, 122MB/s]"
          }
        },
        "22d9feef24cf4a6192e9af38a204d12f": {
          "model_module": "@jupyter-widgets/base",
          "model_name": "LayoutModel",
          "model_module_version": "1.2.0",
          "state": {
            "_model_module": "@jupyter-widgets/base",
            "_model_module_version": "1.2.0",
            "_model_name": "LayoutModel",
            "_view_count": null,
            "_view_module": "@jupyter-widgets/base",
            "_view_module_version": "1.2.0",
            "_view_name": "LayoutView",
            "align_content": null,
            "align_items": null,
            "align_self": null,
            "border": null,
            "bottom": null,
            "display": null,
            "flex": null,
            "flex_flow": null,
            "grid_area": null,
            "grid_auto_columns": null,
            "grid_auto_flow": null,
            "grid_auto_rows": null,
            "grid_column": null,
            "grid_gap": null,
            "grid_row": null,
            "grid_template_areas": null,
            "grid_template_columns": null,
            "grid_template_rows": null,
            "height": null,
            "justify_content": null,
            "justify_items": null,
            "left": null,
            "margin": null,
            "max_height": null,
            "max_width": null,
            "min_height": null,
            "min_width": null,
            "object_fit": null,
            "object_position": null,
            "order": null,
            "overflow": null,
            "overflow_x": null,
            "overflow_y": null,
            "padding": null,
            "right": null,
            "top": null,
            "visibility": null,
            "width": null
          }
        },
        "b4fa1b2e95444313b12c5962f4d88e4f": {
          "model_module": "@jupyter-widgets/base",
          "model_name": "LayoutModel",
          "model_module_version": "1.2.0",
          "state": {
            "_model_module": "@jupyter-widgets/base",
            "_model_module_version": "1.2.0",
            "_model_name": "LayoutModel",
            "_view_count": null,
            "_view_module": "@jupyter-widgets/base",
            "_view_module_version": "1.2.0",
            "_view_name": "LayoutView",
            "align_content": null,
            "align_items": null,
            "align_self": null,
            "border": null,
            "bottom": null,
            "display": null,
            "flex": null,
            "flex_flow": null,
            "grid_area": null,
            "grid_auto_columns": null,
            "grid_auto_flow": null,
            "grid_auto_rows": null,
            "grid_column": null,
            "grid_gap": null,
            "grid_row": null,
            "grid_template_areas": null,
            "grid_template_columns": null,
            "grid_template_rows": null,
            "height": null,
            "justify_content": null,
            "justify_items": null,
            "left": null,
            "margin": null,
            "max_height": null,
            "max_width": null,
            "min_height": null,
            "min_width": null,
            "object_fit": null,
            "object_position": null,
            "order": null,
            "overflow": null,
            "overflow_x": null,
            "overflow_y": null,
            "padding": null,
            "right": null,
            "top": null,
            "visibility": null,
            "width": null
          }
        },
        "063a119edcc44265ada57ea9f3134f04": {
          "model_module": "@jupyter-widgets/controls",
          "model_name": "DescriptionStyleModel",
          "model_module_version": "1.5.0",
          "state": {
            "_model_module": "@jupyter-widgets/controls",
            "_model_module_version": "1.5.0",
            "_model_name": "DescriptionStyleModel",
            "_view_count": null,
            "_view_module": "@jupyter-widgets/base",
            "_view_module_version": "1.2.0",
            "_view_name": "StyleView",
            "description_width": ""
          }
        },
        "000518d37be743fabf6020cf99152295": {
          "model_module": "@jupyter-widgets/base",
          "model_name": "LayoutModel",
          "model_module_version": "1.2.0",
          "state": {
            "_model_module": "@jupyter-widgets/base",
            "_model_module_version": "1.2.0",
            "_model_name": "LayoutModel",
            "_view_count": null,
            "_view_module": "@jupyter-widgets/base",
            "_view_module_version": "1.2.0",
            "_view_name": "LayoutView",
            "align_content": null,
            "align_items": null,
            "align_self": null,
            "border": null,
            "bottom": null,
            "display": null,
            "flex": null,
            "flex_flow": null,
            "grid_area": null,
            "grid_auto_columns": null,
            "grid_auto_flow": null,
            "grid_auto_rows": null,
            "grid_column": null,
            "grid_gap": null,
            "grid_row": null,
            "grid_template_areas": null,
            "grid_template_columns": null,
            "grid_template_rows": null,
            "height": null,
            "justify_content": null,
            "justify_items": null,
            "left": null,
            "margin": null,
            "max_height": null,
            "max_width": null,
            "min_height": null,
            "min_width": null,
            "object_fit": null,
            "object_position": null,
            "order": null,
            "overflow": null,
            "overflow_x": null,
            "overflow_y": null,
            "padding": null,
            "right": null,
            "top": null,
            "visibility": null,
            "width": null
          }
        },
        "b34b431af32043cf8a94f6fddfa68468": {
          "model_module": "@jupyter-widgets/controls",
          "model_name": "ProgressStyleModel",
          "model_module_version": "1.5.0",
          "state": {
            "_model_module": "@jupyter-widgets/controls",
            "_model_module_version": "1.5.0",
            "_model_name": "ProgressStyleModel",
            "_view_count": null,
            "_view_module": "@jupyter-widgets/base",
            "_view_module_version": "1.2.0",
            "_view_name": "StyleView",
            "bar_color": null,
            "description_width": ""
          }
        },
        "993655cc5ec94d58be159f26e79aed7b": {
          "model_module": "@jupyter-widgets/base",
          "model_name": "LayoutModel",
          "model_module_version": "1.2.0",
          "state": {
            "_model_module": "@jupyter-widgets/base",
            "_model_module_version": "1.2.0",
            "_model_name": "LayoutModel",
            "_view_count": null,
            "_view_module": "@jupyter-widgets/base",
            "_view_module_version": "1.2.0",
            "_view_name": "LayoutView",
            "align_content": null,
            "align_items": null,
            "align_self": null,
            "border": null,
            "bottom": null,
            "display": null,
            "flex": null,
            "flex_flow": null,
            "grid_area": null,
            "grid_auto_columns": null,
            "grid_auto_flow": null,
            "grid_auto_rows": null,
            "grid_column": null,
            "grid_gap": null,
            "grid_row": null,
            "grid_template_areas": null,
            "grid_template_columns": null,
            "grid_template_rows": null,
            "height": null,
            "justify_content": null,
            "justify_items": null,
            "left": null,
            "margin": null,
            "max_height": null,
            "max_width": null,
            "min_height": null,
            "min_width": null,
            "object_fit": null,
            "object_position": null,
            "order": null,
            "overflow": null,
            "overflow_x": null,
            "overflow_y": null,
            "padding": null,
            "right": null,
            "top": null,
            "visibility": null,
            "width": null
          }
        },
        "69696bc801b04a5485ccee2e997e44db": {
          "model_module": "@jupyter-widgets/controls",
          "model_name": "DescriptionStyleModel",
          "model_module_version": "1.5.0",
          "state": {
            "_model_module": "@jupyter-widgets/controls",
            "_model_module_version": "1.5.0",
            "_model_name": "DescriptionStyleModel",
            "_view_count": null,
            "_view_module": "@jupyter-widgets/base",
            "_view_module_version": "1.2.0",
            "_view_name": "StyleView",
            "description_width": ""
          }
        }
      }
    }
  },
  "cells": [
    {
      "cell_type": "markdown",
      "metadata": {
        "id": "view-in-github",
        "colab_type": "text"
      },
      "source": [
        "<a href=\"https://colab.research.google.com/github/1900690/kyouyu/blob/main/gradio%E3%81%A7%E7%94%BB%E5%83%8F%E8%A7%A3%E6%9E%90.2.ipynb\" target=\"_parent\"><img src=\"https://colab.research.google.com/assets/colab-badge.svg\" alt=\"Open In Colab\"/></a>"
      ]
    },
    {
      "cell_type": "markdown",
      "source": [
        "gradioをインストール"
      ],
      "metadata": {
        "id": "32crIWFqDeHc"
      }
    },
    {
      "cell_type": "code",
      "execution_count": 1,
      "metadata": {
        "id": "IT50CvOdDKwt",
        "outputId": "5d4e0fd2-b228-441d-fc8d-91d6eff8232a",
        "colab": {
          "base_uri": "https://localhost:8080/"
        }
      },
      "outputs": [
        {
          "output_type": "stream",
          "name": "stdout",
          "text": [
            "\u001b[K     |████████████████████████████████| 5.1 MB 5.3 MB/s \n",
            "\u001b[K     |████████████████████████████████| 54 kB 2.6 MB/s \n",
            "\u001b[K     |████████████████████████████████| 84 kB 3.0 MB/s \n",
            "\u001b[K     |████████████████████████████████| 212 kB 52.4 MB/s \n",
            "\u001b[K     |████████████████████████████████| 2.0 MB 51.8 MB/s \n",
            "\u001b[K     |████████████████████████████████| 253 kB 48.5 MB/s \n",
            "\u001b[K     |████████████████████████████████| 53 kB 998 kB/s \n",
            "\u001b[K     |████████████████████████████████| 1.1 MB 47.5 MB/s \n",
            "\u001b[K     |████████████████████████████████| 271 kB 66.4 MB/s \n",
            "\u001b[K     |████████████████████████████████| 94 kB 3.4 MB/s \n",
            "\u001b[K     |████████████████████████████████| 144 kB 47.8 MB/s \n",
            "\u001b[K     |████████████████████████████████| 11.1 MB 43.1 MB/s \n",
            "\u001b[K     |████████████████████████████████| 63 kB 1.9 MB/s \n",
            "\u001b[K     |████████████████████████████████| 80 kB 9.7 MB/s \n",
            "\u001b[K     |████████████████████████████████| 43 kB 2.1 MB/s \n",
            "\u001b[K     |████████████████████████████████| 62 kB 1.1 MB/s \n",
            "\u001b[K     |████████████████████████████████| 856 kB 48.3 MB/s \n",
            "\u001b[K     |████████████████████████████████| 4.0 MB 57.6 MB/s \n",
            "\u001b[K     |████████████████████████████████| 58 kB 5.4 MB/s \n",
            "\u001b[?25h  Building wheel for ffmpy (setup.py) ... \u001b[?25l\u001b[?25hdone\n",
            "  Building wheel for python-multipart (setup.py) ... \u001b[?25l\u001b[?25hdone\n"
          ]
        }
      ],
      "source": [
        "!pip install -q gradio"
      ]
    },
    {
      "cell_type": "markdown",
      "source": [
        "ライブラリをインポート"
      ],
      "metadata": {
        "id": "Co1OHj_NDnX1"
      }
    },
    {
      "cell_type": "code",
      "source": [
        "import gradio as gr\n",
        "import torch\n",
        "from torchvision import transforms\n",
        "import requests \n",
        "from PIL import Image\n",
        "!pip install -q fvcore\n",
        "import  fvcore"
      ],
      "metadata": {
        "id": "FLt79f29Dlp3",
        "outputId": "cb9c21e4-b83d-42d8-8c2d-9f8b7f36d3f1",
        "colab": {
          "base_uri": "https://localhost:8080/"
        }
      },
      "execution_count": 6,
      "outputs": [
        {
          "output_type": "stream",
          "name": "stdout",
          "text": [
            "\u001b[K     |████████████████████████████████| 50 kB 2.8 MB/s \n",
            "\u001b[K     |████████████████████████████████| 596 kB 10.7 MB/s \n",
            "\u001b[?25h  Building wheel for fvcore (setup.py) ... \u001b[?25l\u001b[?25hdone\n"
          ]
        }
      ]
    },
    {
      "cell_type": "markdown",
      "source": [
        "PyTorch Hub から好きな学習済みモデルをダウンロードします。今回は ResNeSt を採用しました。"
      ],
      "metadata": {
        "id": "YpMm1IXvDwjN"
      }
    },
    {
      "cell_type": "code",
      "source": [
        "model = torch.hub.load('zhanghang1989/ResNeSt', 'resnest50', pretrained=True)\n",
        "model.eval()\n",
        "\n",
        "response = requests.get(\"https://git.io/JJkYN\")\n",
        "labels = response.text.split(\"\\n\")"
      ],
      "metadata": {
        "id": "qhywqiKyD3d6",
        "outputId": "12eef446-fbc1-4947-ac60-a4425fefe9e7",
        "colab": {
          "base_uri": "https://localhost:8080/",
          "height": 84,
          "referenced_widgets": [
            "d80ad3ee446c4933b4c56a9ea1091c8e",
            "216e595a11d146babf625215e2392c52",
            "b091eb6a9d6449f9a363eed16fb78cc2",
            "466af50bd70b49adbe4d85bbc3ec570b",
            "22d9feef24cf4a6192e9af38a204d12f",
            "b4fa1b2e95444313b12c5962f4d88e4f",
            "063a119edcc44265ada57ea9f3134f04",
            "000518d37be743fabf6020cf99152295",
            "b34b431af32043cf8a94f6fddfa68468",
            "993655cc5ec94d58be159f26e79aed7b",
            "69696bc801b04a5485ccee2e997e44db"
          ]
        }
      },
      "execution_count": 7,
      "outputs": [
        {
          "output_type": "stream",
          "name": "stderr",
          "text": [
            "Using cache found in /root/.cache/torch/hub/zhanghang1989_ResNeSt_master\n",
            "Downloading: \"https://github.com/zhanghang1989/ResNeSt/releases/download/weights_step1/resnest50-528c19ca.pth\" to /root/.cache/torch/hub/checkpoints/resnest50-528c19ca.pth\n"
          ]
        },
        {
          "output_type": "display_data",
          "data": {
            "text/plain": [
              "  0%|          | 0.00/105M [00:00<?, ?B/s]"
            ],
            "application/vnd.jupyter.widget-view+json": {
              "version_major": 2,
              "version_minor": 0,
              "model_id": "d80ad3ee446c4933b4c56a9ea1091c8e"
            }
          },
          "metadata": {}
        }
      ]
    },
    {
      "cell_type": "markdown",
      "source": [
        "画像認識（推論）を行う関数を作成します。"
      ],
      "metadata": {
        "id": "U7m5c5t4GEwG"
      }
    },
    {
      "cell_type": "code",
      "source": [
        "def predict(inp):\n",
        "    inp = Image.fromarray(inp.astype('uint8'), 'RGB')\n",
        "    inp = transforms.ToTensor()(inp).unsqueeze(0)\n",
        "    with torch.no_grad():\n",
        "        prediction = torch.nn.functional.softmax(model(inp)[0], dim=0) \n",
        "    return {labels[i]: float(prediction[i]) for i in range(1000)}"
      ],
      "metadata": {
        "id": "XCYDRLgdGEX7"
      },
      "execution_count": 8,
      "outputs": []
    },
    {
      "cell_type": "markdown",
      "source": [
        "好きなインターフェイス（UI）を作成して、アプリを起動します。"
      ],
      "metadata": {
        "id": "bpXYRDIMGPEk"
      }
    },
    {
      "cell_type": "markdown",
      "source": [
        "72時間だけアプリとして機能するようになる。詳しくは[huggingfaceのSpaces](https://huggingface.co/spaces)を参照"
      ],
      "metadata": {
        "id": "oRvJQSOGH00w"
      }
    },
    {
      "cell_type": "code",
      "source": [
        "inputs = gr.inputs.Image()\n",
        "outputs = gr.outputs.Label(num_top_classes=5)\n",
        "interface = gr.Interface(fn=predict, inputs=inputs, outputs=outputs)\n",
        "\n",
        "interface.launch()"
      ],
      "metadata": {
        "id": "h4e5YMv8GJ32",
        "outputId": "7f400c9f-41cd-4125-e253-34d1c2f4503c",
        "colab": {
          "base_uri": "https://localhost:8080/",
          "height": 712
        }
      },
      "execution_count": 9,
      "outputs": [
        {
          "output_type": "stream",
          "name": "stderr",
          "text": [
            "/usr/local/lib/python3.7/dist-packages/gradio/deprecation.py:40: UserWarning: `optional` parameter is deprecated, and it has no effect\n",
            "  warnings.warn(value)\n",
            "/usr/local/lib/python3.7/dist-packages/gradio/deprecation.py:40: UserWarning: The 'type' parameter has been deprecated. Use the Number component instead.\n",
            "  warnings.warn(value)\n"
          ]
        },
        {
          "output_type": "stream",
          "name": "stdout",
          "text": [
            "Colab notebook detected. To show errors in colab notebook, set `debug=True` in `launch()`\n",
            "Running on public URL: https://20363.gradio.app\n",
            "\n",
            "This share link expires in 72 hours. For free permanent hosting, check out Spaces (https://huggingface.co/spaces)\n"
          ]
        },
        {
          "output_type": "display_data",
          "data": {
            "text/plain": [
              "<IPython.lib.display.IFrame at 0x7fc572061650>"
            ],
            "text/html": [
              "\n",
              "        <iframe\n",
              "            width=\"900\"\n",
              "            height=\"500\"\n",
              "            src=\"https://20363.gradio.app\"\n",
              "            frameborder=\"0\"\n",
              "            allowfullscreen\n",
              "        ></iframe>\n",
              "        "
            ]
          },
          "metadata": {}
        },
        {
          "output_type": "execute_result",
          "data": {
            "text/plain": [
              "(<gradio.routes.App at 0x7fc572ac88d0>,\n",
              " 'http://127.0.0.1:7860/',\n",
              " 'https://20363.gradio.app')"
            ]
          },
          "metadata": {},
          "execution_count": 9
        }
      ]
    }
  ]
}