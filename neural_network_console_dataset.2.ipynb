{
  "nbformat": 4,
  "nbformat_minor": 0,
  "metadata": {
    "colab": {
      "provenance": [],
      "authorship_tag": "ABX9TyOADjR6Fh7RZn9IXUCuVixz",
      "include_colab_link": true
    },
    "kernelspec": {
      "name": "python3",
      "display_name": "Python 3"
    },
    "language_info": {
      "name": "python"
    }
  },
  "cells": [
    {
      "cell_type": "markdown",
      "metadata": {
        "id": "view-in-github",
        "colab_type": "text"
      },
      "source": [
        "<a href=\"https://colab.research.google.com/github/1900690/kyouyu/blob/main/neural_network_console_dataset.2.ipynb\" target=\"_parent\"><img src=\"https://colab.research.google.com/assets/colab-badge.svg\" alt=\"Open In Colab\"/></a>"
      ]
    },
    {
      "cell_type": "code",
      "source": [
        "#インポート\n",
        "import pandas as pd\n",
        "import os\n",
        "import shutil\n",
        "import glob\n",
        "import datetime\n",
        "import csv"
      ],
      "metadata": {
        "id": "7gKtvlnrl2VX"
      },
      "execution_count": null,
      "outputs": []
    },
    {
      "cell_type": "code",
      "source": [
        "#zipを解凍\n",
        "shutil.unpack_archive(\"/content/mite.zip\", \"/content/mite\")"
      ],
      "metadata": {
        "id": "vk3v85Kmlkod"
      },
      "execution_count": 9,
      "outputs": []
    },
    {
      "cell_type": "code",
      "source": [
        "#trainとtestに分けたリストを作成\n",
        "import glob\n",
        "from os.path import join\n",
        "import random\n",
        "\n",
        "#分配率\n",
        "ratio=0.1\n",
        "\n",
        "#フォルダ名\n",
        "img_src1 = \"/content/mite/not/\"\n",
        "img_src2 = \"/content/mite/yes/\"\n",
        "\n",
        "kakutyousi=\"*.jpg\"\n",
        "\n",
        "# 指定パスのPNG画像ファイルのリストを取得\n",
        "files1 = glob.glob(join(img_src1, kakutyousi))\n",
        "# ファイルの総数を取得\n",
        "num_files1 = len(files1)\n",
        "# ファイルのリストを分ける\n",
        "test_1 = random.sample(files1, int(num_files1*ratio))\n",
        "train_1 = random.sample(files1, num_files1 - int(num_files1*ratio))\n",
        "\n",
        "\n",
        "# 指定パスのPNG画像ファイルのリストを取得\n",
        "files2 = glob.glob(join(img_src2,kakutyousi))\n",
        "# ファイルの総数を取得\n",
        "num_files2 = len(files2)\n",
        "# ファイルのリストを分ける\n",
        "test_2 = random.sample(files2, int(num_files2*ratio))\n",
        "train_2 = random.sample(files2, num_files2 - int(num_files2*ratio))\n",
        "\n",
        "#それぞれを足す\n",
        "train_list=train_1+train_2\n",
        "test_list=test_1+test_2"
      ],
      "metadata": {
        "id": "Ja-iOjzMm3Ti"
      },
      "execution_count": 23,
      "outputs": []
    },
    {
      "cell_type": "code",
      "source": [
        "now = datetime.datetime.now()\n",
        "#今日の日付からcsvファイル名を作成\n",
        "if os.path.exists('/content/'+now.strftime('%Y%m%d') + '_train.csv'):\n",
        "  os.remove('/content/'+now.strftime('%Y%m%d') + '_train.csv')\n",
        "\n",
        "f_name_train = now.strftime('%Y%m%d') + '_train.csv'\n",
        "file1 = open(f_name_train, 'a', newline=\"\")\n",
        "writer1 = csv.writer(file1)\n",
        "writer1.writerow(['x:image', 'y:label'])\n",
        "for i in train_list:\n",
        "  if os.path.split(i)[0][-3:]=='not': \n",
        "    writer1.writerow ( [\".\\\\\"+os.path.split(i)[0][-3:]+\"\\\\\"+os.path.split(i)[1],0])\n",
        "  else:\n",
        "    writer1.writerow ( [\".\\\\\"+os.path.split(i)[0][-3:]+\"\\\\\"+os.path.split(i)[1],1])\n",
        "file1.close()\n",
        "\n",
        "if os.path.exists('/content/'+now.strftime('%Y%m%d') + '_test.csv'):\n",
        "  os.remove('/content/'+now.strftime('%Y%m%d') + '_test.csv')\n",
        "\n",
        "f_name_test = now.strftime('%Y%m%d') + '_test.csv'\n",
        "file2 = open(f_name_test, 'a', newline=\"\")\n",
        "writer2 = csv.writer(file2)\n",
        "writer2.writerow(['x:image', 'y:label'])\n",
        "for i in test_list:\n",
        "  if os.path.split(i)[0][-3:]=='not': \n",
        "    writer2.writerow ( [\".\\\\\"+os.path.split(i)[0][-3:]+\"\\\\\"+os.path.split(i)[1],0])\n",
        "  else:\n",
        "    writer2.writerow ( [\".\\\\\"+os.path.split(i)[0][-3:]+\"\\\\\"+os.path.split(i)[1],1])\n",
        "file2.close()"
      ],
      "metadata": {
        "id": "DKZDQTEfii_3"
      },
      "execution_count": 47,
      "outputs": []
    },
    {
      "cell_type": "code",
      "source": [
        "#ダウンロード\n",
        "from google.colab import files\n",
        "files.download('/content/'+now.strftime('%Y%m%d') + '_train.csv')\n",
        "files.download('/content/'+now.strftime('%Y%m%d') + '_test.csv')"
      ],
      "metadata": {
        "id": "gc4wv2TTzi5u"
      },
      "execution_count": null,
      "outputs": []
    }
  ]
}