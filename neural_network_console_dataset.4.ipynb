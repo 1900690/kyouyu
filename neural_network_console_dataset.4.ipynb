{
  "nbformat": 4,
  "nbformat_minor": 0,
  "metadata": {
    "colab": {
      "provenance": [],
      "include_colab_link": true
    },
    "kernelspec": {
      "name": "python3",
      "display_name": "Python 3"
    },
    "language_info": {
      "name": "python"
    }
  },
  "cells": [
    {
      "cell_type": "markdown",
      "metadata": {
        "id": "view-in-github",
        "colab_type": "text"
      },
      "source": [
        "<a href=\"https://colab.research.google.com/github/1900690/kyouyu/blob/main/neural_network_console_dataset.4.ipynb\" target=\"_parent\"><img src=\"https://colab.research.google.com/assets/colab-badge.svg\" alt=\"Open In Colab\"/></a>"
      ]
    },
    {
      "cell_type": "code",
      "source": [
        "#グーグルドライブと同期\n",
        "from google.colab import drive\n",
        "drive.mount('/content/drive')"
      ],
      "metadata": {
        "colab": {
          "base_uri": "https://localhost:8080/"
        },
        "id": "zoC8A6CB78d3",
        "outputId": "892f28e8-2009-4ebc-cc77-4030c3ed66bf"
      },
      "execution_count": 1,
      "outputs": [
        {
          "output_type": "stream",
          "name": "stdout",
          "text": [
            "Mounted at /content/drive\n"
          ]
        }
      ]
    },
    {
      "cell_type": "code",
      "source": [
        "#★driveから持ってくるsutemeru133にある\n",
        "#dataはfastlabelのboundhingbox-mite-detectedを3角度回転、左右反転、crop,noiseで増やしたもの\n",
        "import shutil\n",
        "import pathlib\n",
        "import os\n",
        "shutil.copy('/content/drive/MyDrive/mitedataset.zip','/content/dataset.zip')\n",
        "shutil.unpack_archive(\"/content/dataset.zip\", \"/content\")\n",
        "os.rename('/content/mitedataset','/content/dataset')"
      ],
      "metadata": {
        "id": "GWgBC4Iv8Hqs"
      },
      "execution_count": 2,
      "outputs": []
    },
    {
      "cell_type": "code",
      "source": [
        "#インポート\n",
        "import pandas as pd\n",
        "import os\n",
        "import shutil\n",
        "import glob\n",
        "import datetime\n",
        "import csv"
      ],
      "metadata": {
        "id": "7gKtvlnrl2VX"
      },
      "execution_count": 3,
      "outputs": []
    },
    {
      "cell_type": "code",
      "source": [
        "#trainとtestに分けたリストを作成\n",
        "import glob\n",
        "from os.path import join\n",
        "import random\n",
        "\n",
        "#分配率\n",
        "ratio=0.1\n",
        "\n",
        "#フォルダ名\n",
        "img_src1 = \"/content/dataset/mite\"\n",
        "img_src2 = \"/content/dataset/notmite\"\n",
        "img_src3 = \"/content/dataset/devidedmite\"\n",
        "\n",
        "kakutyousi=\"*.jpg\"\n",
        "\n",
        "# 指定パスのjpg画像ファイルのリストを取得\n",
        "files1 = glob.glob(join(img_src1, kakutyousi))\n",
        "# ファイルの総数を取得\n",
        "num_files1 = len(files1)\n",
        "# ファイルのリストを分ける\n",
        "test_1 = random.sample(files1, int(num_files1*ratio))\n",
        "train_1 = random.sample(files1, num_files1 - int(num_files1*ratio))\n",
        "\n",
        "\n",
        "# 指定パスのjpg画像ファイルのリストを取得\n",
        "files2 = glob.glob(join(img_src2,kakutyousi))\n",
        "# ファイルの総数を取得\n",
        "num_files2 = len(files2)\n",
        "# ファイルのリストを分ける\n",
        "test_2 = random.sample(files2, int(num_files2*ratio))\n",
        "train_2 = random.sample(files2, num_files2 - int(num_files2*ratio))\n",
        "\n",
        "# 指定パスのjpg画像ファイルのリストを取得\n",
        "files3 = glob.glob(join(img_src3,kakutyousi))\n",
        "# ファイルの総数を取得\n",
        "num_files3 = len(files3)\n",
        "# ファイルのリストを分ける\n",
        "test_3 = random.sample(files3, int(num_files3*ratio))\n",
        "train_3 = random.sample(files3, num_files3 - int(num_files3*ratio))\n",
        "\n",
        "#それぞれを足す\n",
        "train_list=train_1+train_2+train_3\n",
        "test_list=test_1+test_2+test_3"
      ],
      "metadata": {
        "id": "Ja-iOjzMm3Ti"
      },
      "execution_count": 4,
      "outputs": []
    },
    {
      "cell_type": "code",
      "source": [
        "now = datetime.datetime.now()\n",
        "#今日の日付からcsvファイル名を作成\n",
        "if os.path.exists('/content/'+now.strftime('%Y%m%d') + '_train.csv'):\n",
        "  os.remove('/content/'+now.strftime('%Y%m%d') + '_train.csv')\n",
        "\n",
        "f_name_train = now.strftime('%Y%m%d') + '_train.csv'\n",
        "file1 = open(f_name_train, 'a', newline=\"\")\n",
        "writer1 = csv.writer(file1)\n",
        "writer1.writerow(['x:image', 'y:label'])\n",
        "for i in train_list:\n",
        "  if os.path.split(i)[0][17:]=='mite': \n",
        "    writer1.writerow ( [\".\\\\\"+os.path.split(i)[0][17:]+\"\\\\\"+os.path.split(i)[1],0])\n",
        "  elif os.path.split(i)[0][17:]=='notmite':\n",
        "    writer1.writerow ( [\".\\\\\"+os.path.split(i)[0][17:]+\"\\\\\"+os.path.split(i)[1],1])\n",
        "  else:\n",
        "    writer1.writerow ( [\".\\\\\"+os.path.split(i)[0][17:]+\"\\\\\"+os.path.split(i)[1],2])\n",
        "\n",
        "\n",
        "file1.close()\n",
        "\n",
        "if os.path.exists('/content/'+now.strftime('%Y%m%d') + '_test.csv'):\n",
        "  os.remove('/content/'+now.strftime('%Y%m%d') + '_test.csv')\n",
        "\n",
        "f_name_test = now.strftime('%Y%m%d') + '_test.csv'\n",
        "file2 = open(f_name_test, 'a', newline=\"\")\n",
        "writer2 = csv.writer(file2)\n",
        "writer2.writerow(['x:image', 'y:label'])\n",
        "for i in test_list:\n",
        "  if os.path.split(i)[0][17:]=='mite': \n",
        "    writer2.writerow ( [\".\\\\\"+os.path.split(i)[0][17:]+\"\\\\\"+os.path.split(i)[1],0])\n",
        "  elif os.path.split(i)[0][17:]=='notmite':\n",
        "    writer2.writerow ( [\".\\\\\"+os.path.split(i)[0][17:]+\"\\\\\"+os.path.split(i)[1],1])\n",
        "  else:\n",
        "    writer2.writerow ( [\".\\\\\"+os.path.split(i)[0][17:]+\"\\\\\"+os.path.split(i)[1],2])\n",
        "file2.close()"
      ],
      "metadata": {
        "id": "DKZDQTEfii_3"
      },
      "execution_count": 5,
      "outputs": []
    },
    {
      "cell_type": "code",
      "source": [
        "#ダウンロード\n",
        "from google.colab import files\n",
        "files.download('/content/'+now.strftime('%Y%m%d') + '_train.csv')\n",
        "files.download('/content/'+now.strftime('%Y%m%d') + '_test.csv')"
      ],
      "metadata": {
        "id": "gc4wv2TTzi5u",
        "outputId": "118917ab-27bc-40f5-e965-6b1a64e5d7ad",
        "colab": {
          "base_uri": "https://localhost:8080/",
          "height": 17
        }
      },
      "execution_count": 6,
      "outputs": [
        {
          "output_type": "display_data",
          "data": {
            "text/plain": [
              "<IPython.core.display.Javascript object>"
            ],
            "application/javascript": [
              "\n",
              "    async function download(id, filename, size) {\n",
              "      if (!google.colab.kernel.accessAllowed) {\n",
              "        return;\n",
              "      }\n",
              "      const div = document.createElement('div');\n",
              "      const label = document.createElement('label');\n",
              "      label.textContent = `Downloading \"${filename}\": `;\n",
              "      div.appendChild(label);\n",
              "      const progress = document.createElement('progress');\n",
              "      progress.max = size;\n",
              "      div.appendChild(progress);\n",
              "      document.body.appendChild(div);\n",
              "\n",
              "      const buffers = [];\n",
              "      let downloaded = 0;\n",
              "\n",
              "      const channel = await google.colab.kernel.comms.open(id);\n",
              "      // Send a message to notify the kernel that we're ready.\n",
              "      channel.send({})\n",
              "\n",
              "      for await (const message of channel.messages) {\n",
              "        // Send a message to notify the kernel that we're ready.\n",
              "        channel.send({})\n",
              "        if (message.buffers) {\n",
              "          for (const buffer of message.buffers) {\n",
              "            buffers.push(buffer);\n",
              "            downloaded += buffer.byteLength;\n",
              "            progress.value = downloaded;\n",
              "          }\n",
              "        }\n",
              "      }\n",
              "      const blob = new Blob(buffers, {type: 'application/binary'});\n",
              "      const a = document.createElement('a');\n",
              "      a.href = window.URL.createObjectURL(blob);\n",
              "      a.download = filename;\n",
              "      div.appendChild(a);\n",
              "      a.click();\n",
              "      div.remove();\n",
              "    }\n",
              "  "
            ]
          },
          "metadata": {}
        },
        {
          "output_type": "display_data",
          "data": {
            "text/plain": [
              "<IPython.core.display.Javascript object>"
            ],
            "application/javascript": [
              "download(\"download_812a29d2-d67b-4e4a-9060-4397aae6081f\", \"20230103_train.csv\", 261892)"
            ]
          },
          "metadata": {}
        },
        {
          "output_type": "display_data",
          "data": {
            "text/plain": [
              "<IPython.core.display.Javascript object>"
            ],
            "application/javascript": [
              "\n",
              "    async function download(id, filename, size) {\n",
              "      if (!google.colab.kernel.accessAllowed) {\n",
              "        return;\n",
              "      }\n",
              "      const div = document.createElement('div');\n",
              "      const label = document.createElement('label');\n",
              "      label.textContent = `Downloading \"${filename}\": `;\n",
              "      div.appendChild(label);\n",
              "      const progress = document.createElement('progress');\n",
              "      progress.max = size;\n",
              "      div.appendChild(progress);\n",
              "      document.body.appendChild(div);\n",
              "\n",
              "      const buffers = [];\n",
              "      let downloaded = 0;\n",
              "\n",
              "      const channel = await google.colab.kernel.comms.open(id);\n",
              "      // Send a message to notify the kernel that we're ready.\n",
              "      channel.send({})\n",
              "\n",
              "      for await (const message of channel.messages) {\n",
              "        // Send a message to notify the kernel that we're ready.\n",
              "        channel.send({})\n",
              "        if (message.buffers) {\n",
              "          for (const buffer of message.buffers) {\n",
              "            buffers.push(buffer);\n",
              "            downloaded += buffer.byteLength;\n",
              "            progress.value = downloaded;\n",
              "          }\n",
              "        }\n",
              "      }\n",
              "      const blob = new Blob(buffers, {type: 'application/binary'});\n",
              "      const a = document.createElement('a');\n",
              "      a.href = window.URL.createObjectURL(blob);\n",
              "      a.download = filename;\n",
              "      div.appendChild(a);\n",
              "      a.click();\n",
              "      div.remove();\n",
              "    }\n",
              "  "
            ]
          },
          "metadata": {}
        },
        {
          "output_type": "display_data",
          "data": {
            "text/plain": [
              "<IPython.core.display.Javascript object>"
            ],
            "application/javascript": [
              "download(\"download_3e13d57e-f66f-4926-a116-5c8d4512c471\", \"20230103_test.csv\", 28960)"
            ]
          },
          "metadata": {}
        }
      ]
    }
  ]
}