{
  "nbformat": 4,
  "nbformat_minor": 0,
  "metadata": {
    "colab": {
      "name": "マスク画像からCOCOファイル作成.ipynb",
      "provenance": [],
      "include_colab_link": true
    },
    "kernelspec": {
      "name": "python3",
      "display_name": "Python 3"
    },
    "language_info": {
      "name": "python"
    }
  },
  "cells": [
    {
      "cell_type": "markdown",
      "metadata": {
        "id": "view-in-github",
        "colab_type": "text"
      },
      "source": [
        "<a href=\"https://colab.research.google.com/github/1900690/kyouyu/blob/main/%E7%94%BB%E5%83%8F%E3%81%AE%E6%B0%B4%E5%A2%97%E3%81%97%E3%81%A8%E3%83%9E%E3%82%B9%E3%82%AF%E7%94%BB%E5%83%8F.7.ipynb\" target=\"_parent\"><img src=\"https://colab.research.google.com/assets/colab-badge.svg\" alt=\"Open In Colab\"/></a>"
      ]
    },
    {
      "cell_type": "markdown",
      "source": [
        "##※グーグルドライブをマウント"
      ],
      "metadata": {
        "id": "btW8nb_W_dX7"
      }
    },
    {
      "cell_type": "code",
      "metadata": {
        "id": "fi5zLmBGco2M",
        "outputId": "1ae6d7e5-66b2-4018-8587-abfd67437ccc",
        "colab": {
          "base_uri": "https://localhost:8080/"
        }
      },
      "source": [
        "from google.colab import drive\n",
        "drive.mount('/content/drive')"
      ],
      "execution_count": null,
      "outputs": [
        {
          "output_type": "stream",
          "name": "stdout",
          "text": [
            "Drive already mounted at /content/drive; to attempt to forcibly remount, call drive.mount(\"/content/drive\", force_remount=True).\n"
          ]
        }
      ]
    },
    {
      "cell_type": "code",
      "source": [
        "import shutil\n",
        "\n",
        "#フォルダをコピー\n",
        "shutil.copyfile(\"/content/drive/MyDrive/バラ画像/roze-reaf-rinkaku-resize.zip\", \"/content/roze-reaf-rinkaku-resize.zip\")\n",
        "#shutil.copyfile(\"/content/drive/MyDrive/バラ画像/semantic_segmentations.zip\", \"/content/semantic_segmentations.zip\")\n",
        "shutil.copyfile(\"/content/drive/MyDrive/バラ画像/background_image_resize.zip\", \"/content/background_image_resize.zip\")\n",
        "#フォルダを解凍\n",
        "!unzip -q roze-reaf-rinkaku-resize.zip\n",
        "#!unzip -q semantic_segmentations.zip\n",
        "!unzip -q background_image_resize.zip"
      ],
      "metadata": {
        "id": "T2vaQsKyZhoo"
      },
      "execution_count": null,
      "outputs": []
    },
    {
      "cell_type": "markdown",
      "source": [
        "##※ローカルから画像を入手する場合\n",
        "\n",
        "画像の入ったフォルダをzip化(日本語は文字化けする)、ダウンロードののち、以下のコードで解凍"
      ],
      "metadata": {
        "id": "HGRL9p2N6qDD"
      }
    },
    {
      "cell_type": "code",
      "source": [
        "!unzip -q roze-reaf-rinkaku-resize.zip"
      ],
      "metadata": {
        "id": "ciEn7BP26nIT"
      },
      "execution_count": null,
      "outputs": []
    },
    {
      "cell_type": "markdown",
      "source": [
        "##※まとめてリネーム"
      ],
      "metadata": {
        "id": "01muOZgJCQVW"
      }
    },
    {
      "cell_type": "code",
      "source": [
        "import glob\n",
        "import os\n",
        " \n",
        "# ファイルを取得する\n",
        "path = '/content/background_image/*'\n",
        "i = 1\n",
        " \n",
        "# ファイルリストを取得する\n",
        "flist = glob.glob(path)\n",
        "print('変更前')\n",
        "print(flist)\n",
        " \n",
        "# ファイル名を一括で変更する\n",
        "for file in flist:\n",
        "  os.rename(file, '/content/background_image/' + str(i) + '.jpg')\n",
        "  i+=1\n",
        " \n",
        "list = glob.glob(path)\n",
        "print('変更後')\n",
        "print(list)"
      ],
      "metadata": {
        "id": "jrSnai0bCSoM",
        "outputId": "c553b72d-5802-446e-e9df-680341158267",
        "colab": {
          "base_uri": "https://localhost:8080/"
        }
      },
      "execution_count": null,
      "outputs": [
        {
          "output_type": "stream",
          "name": "stdout",
          "text": [
            "変更前\n",
            "['/content/background_image/DSC_0228.jpg', '/content/background_image/DSC_0237.jpg', '/content/background_image/DSC_0259.jpg', '/content/background_image/DSC_0248.jpg', '/content/background_image/DSC_0233.jpg', '/content/background_image/IMG_20220427_102816.jpg', '/content/background_image/DSC_0236.jpg', '/content/background_image/DSC_0262.jpg', '/content/background_image/DSC_0244.jpg', '/content/background_image/IMG_20220427_103337.jpg', '/content/background_image/DSC_0258.jpg', '/content/background_image/IMG_20220427_103502.jpg', '/content/background_image/IMG_20220427_103057.jpg', '/content/background_image/DSC_0265.jpg', '/content/background_image/DSC_0232.jpg', '/content/background_image/DSC_0245.jpg', '/content/background_image/DSC_0234.jpg', '/content/background_image/DSC_0238.jpg', '/content/background_image/IMG_20220427_103312.jpg', '/content/background_image/IMG_20220427_104315.jpg', '/content/background_image/IMG_20220427_104042.jpg', '/content/background_image/DSC_0254.jpg', '/content/background_image/IMG_20220427_104438.jpg', '/content/background_image/DSC_0243.jpg', '/content/background_image/DSC_0257.jpg', '/content/background_image/DSC_0239.jpg', '/content/background_image/DSC_0260.jpg', '/content/background_image/DSC_0230.jpg', '/content/background_image/DSC_0235.jpg', '/content/background_image/DSC_0251.jpg', '/content/background_image/DSC_0249.jpg', '/content/background_image/IMG_20220427_102019.jpg', '/content/background_image/DSC_0255.jpg', '/content/background_image/DSC_0247.jpg', '/content/background_image/DSC_0264.jpg', '/content/background_image/DSC_0261.jpg', '/content/background_image/DSC_0227.jpg', '/content/background_image/IMG_20220427_103821.jpg', '/content/background_image/IMG_20220427_104435.jpg', '/content/background_image/DSC_0256.jpg', '/content/background_image/DSC_0242.jpg', '/content/background_image/IMG_20220427_102811.jpg', '/content/background_image/DSC_0240.jpg', '/content/background_image/DSC_0263.jpg', '/content/background_image/DSC_0231.jpg', '/content/background_image/IMG_20220427_102011.jpg', '/content/background_image/DSC_0246.jpg', '/content/background_image/DSC_0226.jpg', '/content/background_image/DSC_0253.jpg', '/content/background_image/DSC_0229.jpg', '/content/background_image/DSC_0241.jpg', '/content/background_image/IMG_20220427_104305.jpg', '/content/background_image/DSC_0252.jpg', '/content/background_image/DSC_0250.jpg', '/content/background_image/DSC_0225.jpg']\n",
            "変更後\n",
            "['/content/background_image/1.jpg', '/content/background_image/3.jpg', '/content/background_image/37.jpg', '/content/background_image/25.jpg', '/content/background_image/20.jpg', '/content/background_image/55.jpg', '/content/background_image/36.jpg', '/content/background_image/33.jpg', '/content/background_image/40.jpg', '/content/background_image/6.jpg', '/content/background_image/4.jpg', '/content/background_image/22.jpg', '/content/background_image/26.jpg', '/content/background_image/31.jpg', '/content/background_image/18.jpg', '/content/background_image/17.jpg', '/content/background_image/24.jpg', '/content/background_image/8.jpg', '/content/background_image/44.jpg', '/content/background_image/19.jpg', '/content/background_image/15.jpg', '/content/background_image/53.jpg', '/content/background_image/54.jpg', '/content/background_image/28.jpg', '/content/background_image/45.jpg', '/content/background_image/29.jpg', '/content/background_image/51.jpg', '/content/background_image/43.jpg', '/content/background_image/21.jpg', '/content/background_image/23.jpg', '/content/background_image/52.jpg', '/content/background_image/9.jpg', '/content/background_image/39.jpg', '/content/background_image/30.jpg', '/content/background_image/2.jpg', '/content/background_image/49.jpg', '/content/background_image/16.jpg', '/content/background_image/34.jpg', '/content/background_image/13.jpg', '/content/background_image/46.jpg', '/content/background_image/47.jpg', '/content/background_image/7.jpg', '/content/background_image/32.jpg', '/content/background_image/11.jpg', '/content/background_image/10.jpg', '/content/background_image/48.jpg', '/content/background_image/50.jpg', '/content/background_image/5.jpg', '/content/background_image/12.jpg', '/content/background_image/14.jpg', '/content/background_image/27.jpg', '/content/background_image/38.jpg', '/content/background_image/42.jpg', '/content/background_image/35.jpg', '/content/background_image/41.jpg']\n"
          ]
        }
      ]
    },
    {
      "cell_type": "markdown",
      "source": [
        "## ※画像サイズ変更"
      ],
      "metadata": {
        "id": "IkBJ9x_uUO2z"
      }
    },
    {
      "cell_type": "code",
      "source": [
        "!pip install Pillow\n",
        "import os\n",
        "from PIL import Image\n",
        "from google.colab import drive,files\n",
        "\n",
        "%cd /content\n",
        "!mkdir background_image_resize\n",
        "\n",
        "dir_name = \"/content/background_image\"\n",
        "new_dir_name = \"/content/background_image_resize\"\n",
        "files = os.listdir(dir_name)\n",
        "\n",
        "for file in files:\n",
        "    photo = Image.open(os.path.join(dir_name, file))\n",
        "    if photo.size[0] == 3120:\n",
        "      photo_resize = photo.resize((433,577))\n",
        "    else:\n",
        "      photo_resize = photo.resize((577,433))\n",
        "    photo_resize.save(os.path.join(new_dir_name, file))"
      ],
      "metadata": {
        "id": "YiXYxeiBKKEx",
        "outputId": "7d45edde-d66b-4bd7-cda7-23a8ee14a926",
        "colab": {
          "base_uri": "https://localhost:8080/"
        }
      },
      "execution_count": null,
      "outputs": [
        {
          "output_type": "stream",
          "name": "stdout",
          "text": [
            "Looking in indexes: https://pypi.org/simple, https://us-python.pkg.dev/colab-wheels/public/simple/\n",
            "Requirement already satisfied: Pillow in /usr/local/lib/python3.7/dist-packages (7.1.2)\n",
            "/content\n"
          ]
        }
      ]
    },
    {
      "cell_type": "markdown",
      "source": [
        "##※フォルダを圧縮"
      ],
      "metadata": {
        "id": "3kOuIXbnBw7A"
      }
    },
    {
      "cell_type": "code",
      "source": [
        "!cd \"/content\" && zip -q \"background_image_resize.zip\" -r \"background_image_resize\""
      ],
      "metadata": {
        "id": "ZViLUnIsAyia"
      },
      "execution_count": null,
      "outputs": []
    },
    {
      "cell_type": "markdown",
      "source": [
        "#背景処理画像を作成\n",
        "[remobe.bg](https://www.remove.bg/ja)にアクセスして、背景消去した画像を作成する\n",
        "\n",
        "※フォルダには生画像、背景処理画像をセットで入れておく"
      ],
      "metadata": {
        "id": "sSyAALr5UAk_"
      }
    },
    {
      "cell_type": "markdown",
      "source": [
        "#画像の仕分け\n",
        "\n",
        "画像のリストを取得し、生画像、背景処理画像それぞれのフォルダに入れる"
      ],
      "metadata": {
        "id": "Nqojv1P5WG2j"
      }
    },
    {
      "cell_type": "code",
      "source": [
        "#参考https://kino-code.com/files-move/\n",
        "import os\n",
        "import shutil\n",
        "#作成するフォルダネーム\n",
        "file_extensions = ['jpg','png']\n",
        "file_extensions \n",
        "\n",
        "#読み取りたいディレクトリパスを入れる\n",
        "read_path = 'roze-reaf-rinkaku-resize'#★読み取るフォルダネームに合わせて変更\n",
        "read_files = os.listdir(read_path)\n",
        "\n",
        "#拡張子リストを取得するフォー文を追加する。\n",
        "for file_extension in file_extensions:\n",
        "  if not os.path.exists(file_extension):\n",
        "    os.mkdir(file_extension)\n",
        "\n",
        "  #指定の拡張子だけのファイル名をリストを作る\n",
        "  file_list = []\n",
        "  for file_name in read_files:\n",
        "      if file_name.endswith(file_extension):\n",
        "          file_list.append(file_name)\n",
        "\n",
        "  #read_listから、指定の拡張子のファイルだけ指定のディレクトリにコピーする\n",
        "  for file_name in file_list:\n",
        "      copy_from = './' + read_path + '/' + file_name    \n",
        "      copy_to = './' + file_extension + '/' + file_name \n",
        "      shutil.copy2(copy_from, copy_to)"
      ],
      "metadata": {
        "id": "HuMmQBDPWZVF"
      },
      "execution_count": null,
      "outputs": []
    },
    {
      "cell_type": "markdown",
      "source": [
        "#マスク画像を取得"
      ],
      "metadata": {
        "id": "B0Mtw15qt-B5"
      }
    },
    {
      "cell_type": "markdown",
      "source": [
        "jpgフォルダには元の画像を、maskフォルダにはマスク画像を入れる。それぞれのセットごとに同じ名前を付けること"
      ],
      "metadata": {
        "id": "9k7WVm4x_x_i"
      }
    },
    {
      "cell_type": "markdown",
      "source": [
        "アルファチャンネル（透過度）のみ取得"
      ],
      "metadata": {
        "id": "d4iO6yqx7OSM"
      }
    },
    {
      "cell_type": "code",
      "source": [
        "import cv2\n",
        "from matplotlib import pyplot as plt\n",
        "import glob\n",
        "\n",
        "#jpgフォルダのリストを取得\n",
        "LOAD_FOLDA = 'png'\n",
        "LOAD_NAME = os.listdir(LOAD_FOLDA)\n",
        "\n",
        "\n",
        "#マスクフォルダを作成\n",
        "SAVE_NAME = 'mask'\n",
        "if not os.path.exists('./' +SAVE_NAME):\n",
        "    os.mkdir('./' +SAVE_NAME)\n",
        "\n",
        "#マスク画像を作るためのfor文\n",
        "for file_name in LOAD_NAME:\n",
        "\n",
        "  IMAGE_PATH='/content/' + LOAD_FOLDA +'/'+file_name\n",
        "  image = cv2.imread(IMAGE_PATH, cv2.IMREAD_UNCHANGED)# 画像を読み込んでNumPy配列を作成\n",
        "  alpha_image = image[:,:,3]# スライスを利用してアルファチャンネルのみを切り出し\n",
        "  cv2.imwrite('/content/'+SAVE_NAME+'/'+file_name, alpha_image)# 画像ファイルとして保存\n",
        "\n",
        "#マスク画像の名前を置き換えるためのfor文\n",
        "FILE_PASS=glob.glob('/content/mask/*')\n",
        "\n",
        "for name in FILE_PASS:\n",
        "  #nameの名前をRENAMEへ変更\n",
        "  RENAME=name.replace('-removebg-preview', '')\n",
        "  os.rename(name, RENAME)"
      ],
      "metadata": {
        "id": "VgG8XwOV7NgE"
      },
      "execution_count": null,
      "outputs": []
    },
    {
      "cell_type": "markdown",
      "source": [
        "#カラー画像を取得"
      ],
      "metadata": {
        "id": "C-iQ5ld3t0_t"
      }
    },
    {
      "cell_type": "code",
      "source": [
        "import cv2\n",
        "from matplotlib import pyplot as plt\n",
        "import glob\n",
        "\n",
        "color_list = [(255,0,0),(0,255,0),(0,0,255),(255,255,0),(0,255,255),(255,255,255)]\n",
        "\n",
        "\n",
        "#maskフォルダのリストを取得\n",
        "LOAD_FOLDA = 'mask'\n",
        "LOAD_NAME = os.listdir(LOAD_FOLDA)\n",
        "\n",
        "\n",
        "#colerを作成\n",
        "SAVE_NAME = 'coler'\n",
        "if not os.path.exists('./' +SAVE_NAME):\n",
        "    os.mkdir('./' +SAVE_NAME)\n",
        "\n",
        "#coler画像を作るためのfor文\n",
        "for file_name in LOAD_NAME:\n",
        "  im = cv2.imread('/content/'+LOAD_FOLDA+'/'+file_name,flags=cv2.IMREAD_GRAYSCALE)\n",
        "  contours, hierarchy = cv2.findContours(im,cv2.RETR_EXTERNAL,cv2.CHAIN_APPROX_SIMPLE)\n",
        "\n",
        "  img2 = cv2.cvtColor(im, cv2.COLOR_GRAY2BGR)\n",
        "  for i in range(len(contours)):\n",
        "      cnt = contours[i]\n",
        "      img2 = cv2.drawContours(img2, [cnt], 0, color_list[i], -1)\n",
        "  arfa_image = cv2.cvtColor(img2, cv2.COLOR_BGR2RGB)  \n",
        "  cv2.imwrite('/content/'+SAVE_NAME+'/'+file_name, arfa_image)# 画像ファイルとして保存\n",
        "\n",
        "#カラーコードをHEX形式でtxtに出力\n",
        "fname = '/content/'+SAVE_NAME+'/'+'coler_code.txt'\n",
        "f = open(fname,'w')\n",
        "for i in color_list:\n",
        "  html_color='#%02X%02X%02X' % i+\"\\n\"\n",
        "  f.write(html_color)\n",
        "f.close()"
      ],
      "metadata": {
        "id": "331DYtPdt0o0"
      },
      "execution_count": null,
      "outputs": []
    },
    {
      "cell_type": "markdown",
      "source": [
        "##読み込んだ画像を表示する場合\n",
        "\n",
        "・OpenCVを使って画像を読み込む cv2.imreadでOpenCV形式に変換 OpenCVはBGRなのでcvtColorでRGBに直してから表示する"
      ],
      "metadata": {
        "id": "5VRBG0d67CL_"
      }
    },
    {
      "cell_type": "code",
      "source": [
        "import cv2\n",
        "from matplotlib import pyplot as plt\n",
        "image_name='/content/mask/2neko.png'\n",
        "orig = cv2.imread(image_name)\n",
        "src = cv2.cvtColor(orig, cv2.COLOR_BGR2RGB)\n",
        "plt.imshow(src)"
      ],
      "metadata": {
        "id": "15iy-N5W7Dy5",
        "outputId": "f298b103-6b80-4b0b-e8e4-0a58dac5910e",
        "colab": {
          "base_uri": "https://localhost:8080/",
          "height": 257
        }
      },
      "execution_count": null,
      "outputs": [
        {
          "output_type": "execute_result",
          "data": {
            "text/plain": [
              "<matplotlib.image.AxesImage at 0x7f483df34c10>"
            ]
          },
          "metadata": {},
          "execution_count": 5
        },
        {
          "output_type": "display_data",
          "data": {
            "text/plain": [
              "<Figure size 432x288 with 1 Axes>"
            ],
            "image/png": "[encoded data removed]"
          },
          "metadata": {
            "needs_background": "light"
          }
        }
      ]
    },
    {
      "cell_type": "code",
      "source": [
        "im = cv2.imread(image_name,flags=cv2.IMREAD_GRAYSCALE)\n",
        "contours, hierarchy = cv2.findContours(im,cv2.RETR_EXTERNAL,cv2.CHAIN_APPROX_SIMPLE)\n",
        "img = cv2.cvtColor(im, cv2.COLOR_GRAY2BGR)\n",
        "#drawContoursの最後の引数で輪郭描画線の太さが指定できる。\n",
        "img = cv2.drawContours(img, contours, -1, (0,255,0), 1)\n",
        "plt.imshow(img)\n",
        "plt.show()"
      ],
      "metadata": {
        "colab": {
          "base_uri": "https://localhost:8080/",
          "height": 240
        },
        "id": "dk_yaDwjrdJy",
        "outputId": "b2a8d52c-4da8-4239-eb5c-1eb61949731d"
      },
      "execution_count": null,
      "outputs": [
        {
          "output_type": "display_data",
          "data": {
            "text/plain": [
              "<Figure size 432x288 with 1 Axes>"
            ],
            "image/png": "[encoded data removed]"
          },
          "metadata": {
            "needs_background": "light"
          }
        }
      ]
    },
    {
      "cell_type": "code",
      "source": [
        "img2 = cv2.cvtColor(im, cv2.COLOR_GRAY2BGR)\n",
        "color_list = [(255,0,0),(0,255,0),(0,0,153),(0,0,204),(0,0,255)]\n",
        "\n",
        "for i in range(len(contours)):\n",
        "    cnt = contours[i]\n",
        "    img2 = cv2.drawContours(img2, [cnt], 0, color_list[i], -1)\n",
        "arfa_image = cv2.cvtColor(img2, cv2.COLOR_BGR2RGB)\n",
        "plt.imshow(arfa_image)\n",
        "plt.show()\n",
        "cv2.imwrite(image_name, arfa_image)# 画像ファイルとして保存"
      ],
      "metadata": {
        "colab": {
          "base_uri": "https://localhost:8080/",
          "height": 257
        },
        "id": "Dn2JT2O_r2Cx",
        "outputId": "4dcd9566-2bbc-4c03-9d26-fa74d55482fd"
      },
      "execution_count": null,
      "outputs": [
        {
          "output_type": "display_data",
          "data": {
            "text/plain": [
              "<Figure size 432x288 with 1 Axes>"
            ],
            "image/png": "[encoded data removed]"
          },
          "metadata": {
            "needs_background": "light"
          }
        },
        {
          "output_type": "execute_result",
          "data": {
            "text/plain": [
              "True"
            ]
          },
          "metadata": {},
          "execution_count": 16
        }
      ]
    },
    {
      "cell_type": "markdown",
      "source": [
        "#cocoファイルを出力"
      ],
      "metadata": {
        "id": "EPSi7-s80Wc1"
      }
    },
    {
      "cell_type": "markdown",
      "source": [
        "ライブラリインポート"
      ],
      "metadata": {
        "id": "GwfJcrH4A6N4"
      }
    },
    {
      "cell_type": "code",
      "source": [
        "import json\n",
        "import collections as cl\n",
        "import numpy as np\n",
        "import matplotlib.pyplot as plt\n",
        "from scipy import ndimage\n",
        "from skimage import measure\n",
        "from skimage.segmentation import clear_border\n",
        "from skimage.filters import threshold_otsu\n",
        "import cv2\n",
        "import glob\n",
        "import sys\n",
        "import os"
      ],
      "metadata": {
        "id": "MlKvQKSNA8ZX"
      },
      "execution_count": null,
      "outputs": []
    },
    {
      "cell_type": "markdown",
      "source": [
        "関数定義"
      ],
      "metadata": {
        "id": "bksvD6tTA_jg"
      }
    },
    {
      "cell_type": "markdown",
      "source": [
        "問題点\n",
        "\n",
        "*複数枚の葉が写った画像に対応させる必要がある"
      ],
      "metadata": {
        "id": "7aNIghfb3PX0"
      }
    },
    {
      "cell_type": "markdown",
      "source": [
        "##〇roboflow形式"
      ],
      "metadata": {
        "id": "9BBa8HDrcivn"
      }
    },
    {
      "cell_type": "code",
      "source": [
        "### https://qiita.com/harmegiddo/items/da131ae5bcddbbbde41f\n",
        "\n",
        "def info():\n",
        "    tmp = cl.OrderedDict()\n",
        "    tmp[\"year\"] = \"2022\"\n",
        "    tmp[\"version\"] = \"1\"\n",
        "    tmp[\"description\"] = \"Exported from roboflow.ai\"\n",
        "    tmp[\"contributor\"] = \"\"\n",
        "    tmp[\"url\"] =\"https://public.roboflow.ai/object-detection/undefined\"\n",
        "    tmp[\"data_created\"] = \"2022\"\n",
        "    return tmp\n",
        "\n",
        "def licenses():\n",
        "    tmp = cl.OrderedDict()\n",
        "    tmp[\"id\"] = 1\n",
        "    tmp[\"url\"] = \"https://creativecommons.org/licenses/by/4.0/\"\n",
        "    tmp[\"name\"] = \"CC BY 4.0\"\n",
        "    return tmp\n",
        "\n",
        "def categories():\n",
        "    tmps = []\n",
        "    sup = [\"none\",\"reaf\",\"reaf\",\"reaf\",\"reaf\",\"reaf\"]\n",
        "    cat = [\"reaf\",\"reaf1\",\"reaf2\",\"reaf3\",\"reaf4\",\"reaf5\"]\n",
        "\n",
        "    for i in range(len(sup)):\n",
        "        tmp = cl.OrderedDict()\n",
        "        tmp[\"id\"] = i\n",
        "        tmp[\"name\"] = cat[i]\n",
        "        tmp[\"supercategory\"] = sup[i]\n",
        "        tmps.append(tmp)\n",
        "    return tmps\n",
        "\n",
        "def images(mask_path):\n",
        "    tmps = []\n",
        "    files = glob.glob(mask_path + \"/*.png\")\n",
        "    files.sort()\n",
        "\n",
        "    for i, file in enumerate(files):\n",
        "        img = cv2.imread(file, 0)\n",
        "        height, width = img.shape[:3]\n",
        "\n",
        "        tmp = cl.OrderedDict()\n",
        "        tmp[\"id\"] = i\n",
        "        tmp[\"license\"] = 1\n",
        "        tmp[\"file_name\"] = os.path.basename(file.replace('png', 'jpg'))\n",
        "        tmp[\"height\"] = height\n",
        "        tmp[\"width\"] = width\n",
        "        tmp[\"date_captured\"] = \"\"\n",
        "        tmps.append(tmp)\n",
        "    return tmps\n",
        "\n",
        "\n",
        "def annotations(mask_path):\n",
        "    tmps = []\n",
        "\n",
        "    files = glob.glob(mask_path + \"/*.png\")\n",
        "    files.sort()\n",
        "    \n",
        "    for i, file in enumerate(files):\n",
        "        img = cv2.imread(file, 0)\n",
        "        tmp = cl.OrderedDict()\n",
        "        contours = measure.find_contours(img, 0.5)\n",
        "        segmentation_list = []\n",
        "\n",
        "        for contour in contours:\n",
        "            for a in contour:\n",
        "                segmentation_list.append(a[1])\n",
        "                segmentation_list.append(a[0])\n",
        "\n",
        "\n",
        "        mask = np.array(img)\n",
        "        obj_ids = np.unique(mask)\n",
        "        obj_ids = obj_ids[1:]\n",
        "        masks = mask == obj_ids[:, None, None]\n",
        "        num_objs = len(obj_ids)\n",
        "        boxes = []\n",
        "\n",
        "        for j in range(num_objs):\n",
        "            pos = np.where(masks[j])\n",
        "            xmin = np.min(pos[1])\n",
        "            xmax = np.max(pos[1])\n",
        "            ymin = np.min(pos[0])\n",
        "            ymax = np.max(pos[0])\n",
        "            boxes.append([xmin, ymin, xmax, ymax])\n",
        "\n",
        "        tmp_segmentation = cl.OrderedDict()\n",
        "\n",
        "        tmp[\"id\"] = i\n",
        "        tmp[\"image_id\"] = i\n",
        "        tmp[\"category_id\"] = 1\n",
        "        tmp[\"bbox\"] =  [float(boxes[0][0]), float(boxes[0][1]), float(boxes[0][3] - boxes[0][1]), float(boxes[0][2] - boxes[0][0])]\n",
        "        tmp[\"area\"] = float(boxes[0][3] - boxes[0][1]) * float(boxes[0][2] - boxes[0][0])\n",
        "        tmp[\"segmentation\"] = [segmentation_list]\n",
        "        tmp[\"iscrowd\"] = 0        \n",
        "        tmps.append(tmp)\n",
        "    return tmps\n",
        "\n",
        "\n",
        "\n",
        "def main(mask_path, json_name):\n",
        "    query_list = [\"info\", \"licenses\", \"categories\", \"images\", \"annotations\"]\n",
        "    js = cl.OrderedDict()\n",
        "    for i in range(len(query_list)):\n",
        "        tmp = \"\"\n",
        "        # Info\n",
        "        if query_list[i] == \"info\":\n",
        "            tmp = info()\n",
        "            \n",
        "        # licenses\n",
        "        elif query_list[i] == \"licenses\":\n",
        "            tmp = licenses()\n",
        "\n",
        "        elif query_list[i] == \"categories\":\n",
        "            tmp = categories()\n",
        "\n",
        "        elif query_list[i] == \"images\":\n",
        "            tmp = images(mask_path)\n",
        "\n",
        "        elif query_list[i] == \"annotations\":\n",
        "            tmp = annotations(mask_path)\n",
        "\n",
        "        # save it\n",
        "        js[query_list[i]] = tmp\n",
        "\n",
        "    # write\n",
        "    fw = open(json_name,'w')\n",
        "    json.dump(js,fw,indent=2)\n",
        "\n",
        "#main\n",
        "#args = sys.argv\n",
        "#mask_path = args[1]\n",
        "mask_path =  \"/content/mask\"\n",
        "#json_name = args[2]\n",
        "json_name = \"reaf-roboflow.json\"\n",
        "\n",
        "if __name__=='__main__':\n",
        "    main(mask_path, json_name)"
      ],
      "metadata": {
        "id": "RzqJcdTXA1yd"
      },
      "execution_count": null,
      "outputs": []
    },
    {
      "cell_type": "markdown",
      "source": [
        "##〇FastLabel形式"
      ],
      "metadata": {
        "id": "Av9y28L8cwxn"
      }
    },
    {
      "cell_type": "code",
      "source": [
        "### https://docs.fastlabel.ai/docs/import-annotation\n",
        "\n",
        "def images(mask_path):\n",
        "    tmps = []\n",
        "    files = glob.glob(mask_path + \"/*.png\")\n",
        "    files.sort()\n",
        "\n",
        "    for i, file in enumerate(files):\n",
        "        img = cv2.imread(file, 0)\n",
        "        height, width = img.shape[:3]\n",
        "\n",
        "        tmp = cl.OrderedDict()\n",
        "        tmp[\"file_name\"] = os.path.basename(file.replace('png', 'jpg'))\n",
        "        tmp[\"id\"] = i+1\n",
        "        tmps.append(tmp)\n",
        "    return tmps\n",
        "\n",
        "def categories():\n",
        "    tmps = []\n",
        "    sup = [\"reaf\"]\n",
        "\n",
        "    for i in range(len(sup)):\n",
        "        tmp = cl.OrderedDict()\n",
        "        tmp[\"id\"] = i+1\n",
        "        tmp[\"supercategory\"] = sup[0]\n",
        "        tmps.append(tmp)\n",
        "    return tmps\n",
        "\n",
        "\n",
        "def annotations(mask_path):\n",
        "    tmps = []\n",
        "\n",
        "    files = glob.glob(mask_path + \"/*.png\")\n",
        "    files.sort()\n",
        "    \n",
        "    for i, file in enumerate(files):\n",
        "        img = cv2.imread(file, 0)\n",
        "        tmp = cl.OrderedDict()\n",
        "        contours = measure.find_contours(img, 0.5)\n",
        "        segmentation_list = []\n",
        "\n",
        "        for contour in contours:\n",
        "            for a in contour:\n",
        "                segmentation_list.append(a[1])\n",
        "                segmentation_list.append(a[0])\n",
        "\n",
        "\n",
        "        mask = np.array(img)\n",
        "        obj_ids = np.unique(mask)\n",
        "        obj_ids = obj_ids[1:]\n",
        "        masks = mask == obj_ids[:, None, None]\n",
        "        num_objs = len(obj_ids)\n",
        "        boxes = []\n",
        "\n",
        "        for j in range(num_objs):\n",
        "            pos = np.where(masks[j])\n",
        "            xmin = np.min(pos[1])\n",
        "            xmax = np.max(pos[1])\n",
        "            ymin = np.min(pos[0])\n",
        "            ymax = np.max(pos[0])\n",
        "            boxes.append([xmin, ymin, xmax, ymax])\n",
        "\n",
        "        tmp_segmentation = cl.OrderedDict()\n",
        "        tmp[\"segmentation\"] = [segmentation_list]\n",
        "\n",
        "        tmp_segmentation = cl.OrderedDict()\n",
        "        tmp[\"image_id\"] = i\n",
        "        tmp[\"category_id\"] = 1\n",
        "        tmp[\"id\"] = i        \n",
        "        tmps.append(tmp)\n",
        "    return tmps\n",
        "\n",
        "\n",
        "\n",
        "def main(mask_path, json_name):\n",
        "    query_list = [\"images\",\"categories\",\"annotations\"]\n",
        "    js = cl.OrderedDict()\n",
        "    for i in range(len(query_list)):\n",
        "        tmp = \"\"\n",
        "        # Info\n",
        "        if query_list[i] == \"images\":\n",
        "            tmp = images(mask_path)\n",
        "\n",
        "        elif query_list[i] == \"categories\":\n",
        "            tmp = categories()\n",
        "\n",
        "        elif query_list[i] == \"annotations\":\n",
        "            tmp = annotations(mask_path)\n",
        "\n",
        "        # save it\n",
        "        js[query_list[i]] = tmp\n",
        "\n",
        "    # write\n",
        "    fw = open(json_name,'w')\n",
        "    json.dump(js,fw,indent=2)\n",
        "\n",
        "#main\n",
        "#args = sys.argv\n",
        "#mask_path = args[1]\n",
        "mask_path =  \"/content/mask\"\n",
        "#json_name = args[2]\n",
        "json_name = \"reaf-fastlabel.json\"\n",
        "\n",
        "if __name__=='__main__':\n",
        "    main(mask_path, json_name)"
      ],
      "metadata": {
        "id": "fgE9cnNocuuC"
      },
      "execution_count": null,
      "outputs": []
    },
    {
      "cell_type": "markdown",
      "source": [
        "#背景合成\n",
        "\n"
      ],
      "metadata": {
        "id": "kpBtaUBCDw0U"
      }
    },
    {
      "cell_type": "code",
      "source": [
        "import cv2\n",
        "import numpy as np\n",
        "#背景合成のためにはpng,jpgフォルダが必要\n",
        "\n",
        "img1 = cv2.imread('/content/png/1-removebg-preview.png')#合成する葉の画像\n",
        "img2 = cv2.imread('/content/background_image_resize/1.jpg')#合成する背景の画像\n",
        "img3 = np.array(Image.open('/content/png/1-removebg-preview.png'))#葉の画像のマスク\n",
        "\n",
        "#アルファ情報をスライス\n",
        "ALPHA = np.array(img3[:, :, 3], dtype=np.int16)\n",
        "ALPHAtest = np.array(img3[:, :, 3], dtype=np.int16)\n",
        "\n",
        "#掛け算のために0->1に置き換えし逆転したアルファ画像を作る\n",
        "ALPHA=np.where(ALPHA<144, 0, 1)\n",
        "ALPHA_INV=np.where(ALPHA==0, 1, 0)\n",
        "#retval,r2 = cv2.threshold(r, 0, 255, cv2.THRESH_BINARY)#二値化\n",
        "#r= cv2.blur(r,(6, 6))#ぼかす\n",
        "\n",
        "\n",
        "#マスクに合わせて掛け算\n",
        "for i in list(range(3)):\n",
        "  img1[:,:,i]=ALPHA*img1[:,:,i]\n",
        "  img2[:,:,i]=ALPHA_INV*img2[:,:,i]\n",
        "\n",
        "#足し算で合成\n",
        "img=img1+img2\n",
        "\n",
        "plt.imshow(cv2.cvtColor(img, cv2.COLOR_BGR2RGB))\n",
        "\n",
        "cv2.imwrite('/content/new.jpg', img)\n",
        "#np.savetxt('/content/ALPHAtest.txt',ALPHAtest,fmt='%d')"
      ],
      "metadata": {
        "id": "sAwNs7q4IRPw",
        "outputId": "7c9418bd-bcda-429d-b705-42946256c94b",
        "colab": {
          "base_uri": "https://localhost:8080/",
          "height": 286
        }
      },
      "execution_count": null,
      "outputs": [
        {
          "output_type": "execute_result",
          "data": {
            "text/plain": [
              "True"
            ]
          },
          "metadata": {},
          "execution_count": 81
        },
        {
          "output_type": "display_data",
          "data": {
            "text/plain": [
              "<Figure size 432x288 with 1 Axes>"
            ],
            "image/png": "[encoded data removed]"
          },
          "metadata": {
            "needs_background": "light"
          }
        }
      ]
    },
    {
      "cell_type": "markdown",
      "source": [
        "#オーグメンテーション\n",
        "*   roboflowオーグメンテーションは最大３倍までしかできないので、先にいくつかの画像加工を行っておくとよい\n",
        "\n",
        "\n",
        "1.   このノートブックでオーグメンテーションしたjpgとmaskのペアを作成\n",
        "2.   作成したペアをFastLabelで修正\n",
        "3.   FastLabelでcoco.jsonとオリジナル画像をエクスポート\n",
        "4.   roboflowで読み込み追加のオーグメンテーションを行う\n",
        "\n",
        "\n",
        "\n",
        "\n",
        "\n",
        "\n"
      ],
      "metadata": {
        "id": "EzghR1t9V4lW"
      }
    },
    {
      "cell_type": "markdown",
      "source": [
        "##回転、ズーム、切り取り、一部を隠す等"
      ],
      "metadata": {
        "id": "1ufFgYb-bmyg"
      }
    },
    {
      "cell_type": "code",
      "source": [
        "#参考：https://www.kumilog.net/entry/numpy-data-augmentation\n",
        "import numpy as np\n",
        "from PIL import Image\n",
        "import matplotlib.pyplot  as plt\n",
        "from skimage.transform import resize\n",
        "from scipy.ndimage.interpolation import rotate\n",
        "\n",
        "#関数定義\n",
        "#複数画像表示関数\n",
        "def mkfig_imshow(dat1,title1,dat2,title2):\n",
        "   fig = plt.figure(figsize=(10,10))\n",
        "   ax1 = fig.add_subplot(2,3,1)\n",
        "   ax1.set_title(title1)\n",
        "   plt.imshow(dat1, interpolation='nearest', origin='upper')\n",
        "   ax2 = fig.add_subplot(2,3,2)\n",
        "   ax2.set_title(title2)\n",
        "   plt.imshow(dat2, cmap='gray', interpolation='nearest', origin='upper')\n",
        "\n",
        "   im = Image.fromarray(dat1)\n",
        "   im.save(\".jpg\")\n",
        "   im = Image.fromarray(dat2)\n",
        "   im.save(\"dat2.png\")\n",
        "\n",
        "#左右反転\n",
        "def horizontal_flip(image):\n",
        "    image =Image.fromarray(np.flip(image, 1))\n",
        "    return image\n",
        "\n",
        "#上下反転\n",
        "def vertical_flip(image):\n",
        "    image =Image.fromarray(np.flip(image, 0))\n",
        "    return image\n",
        "\n",
        "#ランダムに切り取り\n",
        "# crop_sizeは入力画像に合わせて変える\n",
        "def random_crop(image,seed_number, crop_size):\n",
        "    if len(image.shape)==3:\n",
        "      h, w, _ = image.shape\n",
        "    else:\n",
        "      h, w= image.shape\n",
        "\n",
        "    # 0~(400-224)の間で画像のtop, leftを決める\n",
        "    np.random.seed(seed=seed_number)#★シードを変えると位置が変わる\n",
        "    top = np.random.randint(0, h - crop_size[0])\n",
        "    left = np.random.randint(0, w - crop_size[1])\n",
        "\n",
        "    # top, leftから画像のサイズである224を足して、bottomとrightを決める\n",
        "    bottom = top + crop_size[0]\n",
        "    right = left + crop_size[1]\n",
        "\n",
        "    # 決めたtop, bottom, left, rightを使って画像を抜き出す\n",
        "    if len(image.shape)==3:\n",
        "      image = image[top:bottom, left:right, :]\n",
        "    else:\n",
        "      image = image[top:bottom, left:right]\n",
        "    \n",
        "    return image\n",
        "#拡大縮小しながら切り取り   \n",
        "def scale_augmentation(image,seed_number, scale_range=(256, 400), crop_size=224):\n",
        "    np.random.seed(seed=seed_number)#★シードを変えると位置が変わる\n",
        "    scale_size = np.random.randint(*scale_range)\n",
        "    #image = imresize(image, (scale_size, scale_size))\n",
        "    image = np.array(Image.fromarray(image))#.resize(((scale_size, scale_size), Image.NEAREST)))\n",
        "    #image = Image.resize((scale_size, scale_size))\n",
        "    image = resize(image, (scale_size, scale_size))\n",
        "    image = random_crop(image, (crop_size, crop_size))\n",
        "    return image\n",
        "\n",
        "#ランダムな角度に回転させる\n",
        "def random_rotation(image,seed_number, angle_range=(0, 180)):\n",
        "    np.random.seed(seed=seed_number)#★シードを変えると位置が変わる\n",
        "    if len(image.shape)==3:\n",
        "      h, w, _ = image.shape\n",
        "    else:\n",
        "      h, w= image.shape\n",
        "    angle = np.random.randint(*angle_range)\n",
        "    image = rotate(image, angle)\n",
        "    image = resize(image, (h, w))\n",
        "    return image\n",
        "\n",
        "#ランダムな位置を切り取る\n",
        "def cutout(image_origin, mask_size,seed_number):\n",
        "    np.random.seed(seed=seed_number)#★シードを変えると位置が変わる\n",
        "    # 最後に使うfill()は元の画像を書き換えるので、コピーしておく\n",
        "    image = np.copy(image_origin)\n",
        "    mask_value = image.mean()\n",
        "\n",
        "    if len(image.shape)==3:\n",
        "      h, w, _ = image.shape\n",
        "    else:\n",
        "      h, w= image.shape\n",
        "    # マスクをかける場所のtop, leftをランダムに決める\n",
        "    # はみ出すことを許すので、0以上ではなく負の値もとる(最大mask_size // 2はみ出す)\n",
        "    top = np.random.randint(0 - mask_size // 2, h - mask_size)\n",
        "    left = np.random.randint(0 - mask_size // 2, w - mask_size)\n",
        "    bottom = top + mask_size\n",
        "    right = left + mask_size\n",
        "\n",
        "    # はみ出した場合の処理\n",
        "    if top < 0:\n",
        "      top = 0\n",
        "    if left < 0:\n",
        "      left = 0\n",
        "\n",
        "    # マスク部分の画素値を平均値で埋める\n",
        "    if len(image.shape)==3:\n",
        "      image[top:bottom, left:right, :].fill(mask_value)\n",
        "    else:\n",
        "      image[top:bottom, left:right].fill(mask_value)\n",
        "    return image\n",
        "    \n",
        "#ランダムな位置をランダムな形で切り取る\n",
        "def random_erasing(image_origin,seed_number, p=0.5, s=(0.02, 0.4), r=(0.3, 3)):\n",
        "    np.random.seed(seed=seed_number)#★シードを変えると位置が変わる\n",
        "    # マスクするかしないか\n",
        "    if np.random.rand() > p:\n",
        "      image =image_origin\n",
        "      #return image\n",
        "    image = np.copy(image_origin)\n",
        "\n",
        "    # マスクする画素値をランダムで決める\n",
        "    mask_value = np.random.randint(0, 256)\n",
        "\n",
        "    if len(image.shape)==3:\n",
        "      h, w, _ = image.shape\n",
        "    else:\n",
        "      h, w= image.shape\n",
        "    # マスクのサイズを元画像のs(0.02~0.4)倍の範囲からランダムに決める\n",
        "    mask_area = np.random.randint(h * w * s[0], h * w * s[1])\n",
        "\n",
        "    # マスクのアスペクト比をr(0.3~3)の範囲からランダムに決める\n",
        "    mask_aspect_ratio = np.random.rand() * r[1] + r[0]\n",
        "\n",
        "    # マスクのサイズとアスペクト比からマスクの高さと幅を決める\n",
        "    # 算出した高さと幅(のどちらか)が元画像より大きくなることがあるので修正する\n",
        "    mask_height = int(np.sqrt(mask_area / mask_aspect_ratio))\n",
        "    if mask_height > h - 1:\n",
        "        mask_height = h - 1\n",
        "    mask_width = int(mask_aspect_ratio * mask_height)\n",
        "    if mask_width > w - 1:\n",
        "        mask_width = w - 1\n",
        "\n",
        "    top = np.random.randint(0, h - mask_height)\n",
        "    left = np.random.randint(0, w - mask_width)\n",
        "    bottom = top + mask_height\n",
        "    right = left + mask_width\n",
        "\n",
        "    if len(image.shape)==3:\n",
        "      image[top:bottom, left:right, :].fill(mask_value)\n",
        "    else:\n",
        "      image[top:bottom, left:right].fill(mask_value)\n",
        "    return image"
      ],
      "metadata": {
        "id": "jps9BcCncVTL"
      },
      "execution_count": 31,
      "outputs": []
    },
    {
      "cell_type": "code",
      "source": [
        "#実行部\n",
        "#画像を指定\n",
        "#image_jpg = np.array(Image.open('/content/jpg/1.jpg'))\n",
        "#image_png = np.array(Image.open('/content/mask/1.png'))\n",
        "image_jpg = np.array(Image.open('/content/saikoro2.jpg'))\n",
        "image_png = np.array(Image.open('/content/saikoro2.png'))\n",
        "\n",
        "seed_number=10#randomを確定させるシード値\n",
        "mask_size=20#マスクするサイズ\n",
        "crop_size=(24, 24)#切取り部分の大きさ\n",
        "\n",
        "\n",
        "#それぞれの操作を見る\n",
        "fig1=mkfig_imshow(image_jpg,'original_jpg',image_png,'original_png')\n",
        "#fig2=mkfig_imshow(horizontal_flip(image_jpg),'horizontal_flip_jpeg',horizontal_flip(image_png),'horizontal_flip_png')\n",
        "#fig3=mkfig_imshow(vertical_flip(image_jpg),'vertical_flip_jpeg',vertical_flip(image_png),'vertical_flip_png')\n",
        "#fig4=mkfig_imshow(random_crop(image_jpg,seed_number,crop_size),'random_crop_jpeg',random_crop(image_png,seed_number,crop_size),'random_crop_png')\n",
        "#fig5=mkfig_imshow(scale_augmentation(image_jpg,seed_number),'scale_augmentation_jpeg',scale_augmentation(image_png,seed_number),'scale_augmentation_png')\n",
        "#fig6=mkfig_imshow(random_rotation(image_jpg,seed_number),'random_rotation_jpeg',random_rotation(image_png,seed_number),'random_rotation_png')\n",
        "#fig7=mkfig_imshow(cutout(image_jpg,mask_size,seed_number),'cutout_jpeg',cutout(image_png,mask_size,seed_number),'cutout_png')\n",
        "#fig8=mkfig_imshow(random_erasing(image_jpg,seed_number),'random_erasing_jpeg',random_erasing(image_png,seed_number),'random_erasing_png')\n",
        "#plt.show()\n"
      ],
      "metadata": {
        "id": "ejw6mVV_c7-3",
        "outputId": "90b5707d-269c-4090-9375-b75fc13423ff",
        "colab": {
          "base_uri": "https://localhost:8080/",
          "height": 173
        }
      },
      "execution_count": 32,
      "outputs": [
        {
          "output_type": "display_data",
          "data": {
            "text/plain": [
              "<Figure size 720x720 with 2 Axes>"
            ],
            "image/png": "[encoded data removed]"
          },
          "metadata": {
            "needs_background": "light"
          }
        }
      ]
    },
    {
      "cell_type": "markdown",
      "source": [
        "##ノイズ追加、色を変える、エッジ検出、ブラー、光でとばす"
      ],
      "metadata": {
        "id": "ZJJeQd-wbzrC"
      }
    },
    {
      "cell_type": "markdown",
      "source": [
        "#分けてzip化する"
      ],
      "metadata": {
        "id": "uOp72ZIMHaDc"
      }
    },
    {
      "cell_type": "code",
      "source": [
        "#参考https://kino-code.com/files-move/\n",
        "import os\n",
        "import shutil\n",
        "import zipfile\n",
        "\n",
        "DOWNLOAD_FILE_NAME=\"zip_coler\"\n",
        "\n",
        "#l行のリストをn分割する関数\n",
        "def split_list(l, n):\n",
        "    for idx in range(0, len(l), n):\n",
        "        yield l[idx:idx + n]\n",
        "\n",
        "#作成するフォルダネーム\n",
        "file_extensions = list(range(0,10))\n",
        "split_list_number=10#分割する個数\n",
        "\n",
        "#読み取りたいディレクトリパスを入れる\n",
        "read_path = 'coler'#★読み取るフォルダネームに合わせて変更\n",
        "read_files = os.listdir(read_path)\n",
        "\n",
        "#拡張子リストを取得するフォー文を追加する。\n",
        "for i in file_extensions:\n",
        "  if not os.path.exists(str(i)):\n",
        "    os.mkdir(str(i))\n",
        "\n",
        "#指定の拡張子だけのファイル名をリストを作る\n",
        "file_list = list(split_list(read_files, split_list_number))\n",
        "\n",
        "  #read_listから、指定の拡張子のファイルだけ指定のディレクトリにコピーする\n",
        "for i in file_extensions:\n",
        "  for file_name in file_list[i]:\n",
        "    copy_from = './' + read_path + '/' + file_name    \n",
        "    copy_to = './' + str(i) + '/' + file_name \n",
        "    shutil.copy2(copy_from, copy_to)\n",
        "\n",
        "if not os.path.exists('/content/'+DOWNLOAD_FILE_NAME):\n",
        "  os.mkdir(DOWNLOAD_FILE_NAME)\n",
        "\n",
        "  # ZIPファイルを作成\n",
        "for i in file_extensions:\n",
        "  shutil.make_archive(str(i), format='zip', root_dir='/content/'+str(i))"
      ],
      "metadata": {
        "id": "d61ICiYv-ZmH"
      },
      "execution_count": null,
      "outputs": []
    },
    {
      "cell_type": "code",
      "source": [
        "#フォルダを移動\n",
        "for i in file_extensions:\n",
        "  if not os.path.exists('./' + str(i)+'.zip'):\n",
        "    shutil.move('/content/' + str(i)+'.zip','/content/'+DOWNLOAD_FILE_NAME)"
      ],
      "metadata": {
        "id": "TJnd_zu8gRyQ"
      },
      "execution_count": null,
      "outputs": []
    },
    {
      "cell_type": "code",
      "source": [
        "#元ファイルの消去\n",
        "for i in file_extensions:\n",
        "  shutil.rmtree(str(i))\n",
        "  os.remove('/content/' + str(i)+'.zip')\n",
        "\n",
        "#まとめたファイルをzip化\n",
        "shutil.make_archive(DOWNLOAD_FILE_NAME, format='zip', root_dir='/content/'+DOWNLOAD_FILE_NAME)"
      ],
      "metadata": {
        "id": "e6upUoQKgIWe"
      },
      "execution_count": null,
      "outputs": []
    }
  ]
}