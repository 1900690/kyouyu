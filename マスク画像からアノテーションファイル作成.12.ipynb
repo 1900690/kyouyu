{
  "nbformat": 4,
  "nbformat_minor": 0,
  "metadata": {
    "colab": {
      "name": "マスク画像からCOCOファイル作成.ipynb",
      "provenance": [],
      "include_colab_link": true
    },
    "kernelspec": {
      "name": "python3",
      "display_name": "Python 3"
    },
    "language_info": {
      "name": "python"
    }
  },
  "cells": [
    {
      "cell_type": "markdown",
      "metadata": {
        "id": "view-in-github",
        "colab_type": "text"
      },
      "source": [
        "<a href=\"https://colab.research.google.com/github/1900690/kyouyu/blob/main/%E3%83%9E%E3%82%B9%E3%82%AF%E7%94%BB%E5%83%8F%E3%81%8B%E3%82%89%E3%82%A2%E3%83%8E%E3%83%86%E3%83%BC%E3%82%B7%E3%83%A7%E3%83%B3%E3%83%95%E3%82%A1%E3%82%A4%E3%83%AB%E4%BD%9C%E6%88%90.12.ipynb\" target=\"_parent\"><img src=\"https://colab.research.google.com/assets/colab-badge.svg\" alt=\"Open In Colab\"/></a>"
      ]
    },
    {
      "cell_type": "markdown",
      "source": [
        "#指示書\n",
        "###★ダニのアノテーションははっきりと黒い星が見える物のみ印をつける★\n",
        "アノテーションを行って保存する\n",
        "*   ドライブをマウント\n",
        "*   segmentation-reaf.csv、boundhingbox-reaf-mite.csvをダウンロード（エクセルが入ってない場合はcsvをtxt化して扱う。txtはエクセルが使える時にcsv化する【スペース区切りは列がずれるのでダメ】）\n",
        "*   動画からフレーム指定して画像を切り取り、ダウンロード\n",
        "*   画像をremovebgにかけ背景消去、背景消去済みのpngをアップロードして大きく引き伸ばしマスクとカラーを作成。\n",
        "*   FastLabelのセグメンテーションとバウンディングボックス両方に一枚ずつjpgをアップロード、葉の輪郭のboundhingboxとsegmentaionはインポートする。ダニのboundhingboxは自分でつける\n",
        "*   両方のcsvをエクスポートしてcsvの中身をデータをsegmentation-reaf.csvとboundhingbox-reaf-mite.csvに追加\n",
        "*   アノテーションが終わった画像をcolab内でfastlabel済み画像に移動\n",
        "*   作業終了時にsegmentation-reaf.csv、boundhingbox-reaf-mite.csvをドライブにアップロード\n",
        "\n",
        "（FastLabelの画像がいっぱいになったら消す。復活させる場合はドライブから画像とboundhingbox-reaf-mite.csvをインポートさせる）"
      ],
      "metadata": {
        "id": "gOsSdu9EC0P5"
      }
    },
    {
      "cell_type": "markdown",
      "source": [
        "##※グーグルドライブをマウント"
      ],
      "metadata": {
        "id": "btW8nb_W_dX7"
      }
    },
    {
      "cell_type": "code",
      "metadata": {
        "id": "fi5zLmBGco2M",
        "outputId": "b76bc160-755e-470c-9628-e55494dde54f",
        "colab": {
          "base_uri": "https://localhost:8080/"
        }
      },
      "source": [
        "from google.colab import drive\n",
        "drive.mount('/content/drive')"
      ],
      "execution_count": null,
      "outputs": [
        {
          "output_type": "stream",
          "name": "stdout",
          "text": [
            "Mounted at /content/drive\n"
          ]
        }
      ]
    },
    {
      "cell_type": "markdown",
      "source": [
        "##※ドライブの動画フォルダからまとめて画像フレームを切り取りsliceフォルダに保存\n",
        "https://note.nkmk.me/python-opencv-video-to-still-image/"
      ],
      "metadata": {
        "id": "ALgMFk2LUjZX"
      }
    },
    {
      "cell_type": "code",
      "source": [
        "import cv2\n",
        "import os\n",
        "\n",
        "def save_frame_range(video_path,\n",
        "                     dir_path, ext='jpg'):\n",
        "  \n",
        "    basename=video_path[-12:-4]\n",
        "    cap = cv2.VideoCapture(video_path)\n",
        "    \n",
        "    # 総フレーム数\n",
        "    total_frames = int(cap.get(cv2.CAP_PROP_FRAME_COUNT));\n",
        "\n",
        "    #真ん中+1のフレームを取り出すプラスの数値を調整することでフレームをずらせる\n",
        "    center_frame=total_frames//2+40\n",
        "    start_frame=center_frame\n",
        "    stop_frame=total_frames\n",
        "    step_frame=center_frame\n",
        "\n",
        "    if not cap.isOpened():\n",
        "        return\n",
        "\n",
        "    os.makedirs(dir_path, exist_ok=True)\n",
        "    base_path = os.path.join(dir_path, basename)\n",
        "\n",
        "    digit = len(str(int(cap.get(cv2.CAP_PROP_FRAME_COUNT))))\n",
        "\n",
        "    for n in range(start_frame, stop_frame, step_frame):\n",
        "        cap.set(cv2.CAP_PROP_POS_FRAMES, n)\n",
        "        ret, frame = cap.read()\n",
        "        if ret:\n",
        "            cv2.imwrite('{}_{}.{}'.format(base_path, str(n).zfill(digit), ext), frame)\n",
        "        else:\n",
        "            return\n",
        "\n",
        "#スライスフォルダを作成\n",
        "SAVE_NAME = 'slice'\n",
        "if not os.path.exists('./' +SAVE_NAME):\n",
        "    os.mkdir('./' +SAVE_NAME)\n",
        "\n",
        "LOAD_FOLDA = '/content/drive/MyDrive/バラ画像/ダニ動画/20220823'\n",
        "LOAD_NAME = os.listdir(LOAD_FOLDA)\n",
        "\n",
        "\n",
        "for file_name in LOAD_NAME:\n",
        "  IMAGE_PATH= LOAD_FOLDA +'/'+file_name\n",
        "  save_frame_range(IMAGE_PATH,\n",
        "                 '/content/'+SAVE_NAME)\n",
        "  \n",
        "image_date=LOAD_FOLDA[-8:]\n"
      ],
      "metadata": {
        "id": "xjCxbhTrZ59r"
      },
      "execution_count": null,
      "outputs": []
    },
    {
      "cell_type": "markdown",
      "source": [
        "##※フォルダ作成"
      ],
      "metadata": {
        "id": "bT5pBjOTeAdP"
      }
    },
    {
      "cell_type": "code",
      "source": [
        "#参考https://kino-code.com/files-move/\n",
        "import os\n",
        "import shutil\n",
        "#作成するフォルダネーム\n",
        "file_extensions = ['remove','png','jpg']\n",
        "\n",
        "#拡張子リストを取得するフォー文を追加する。\n",
        "for file_extension in file_extensions:\n",
        "  if not os.path.exists(file_extension):\n",
        "    os.mkdir(file_extension)"
      ],
      "metadata": {
        "id": "U9Gtvmx1eEaV"
      },
      "execution_count": null,
      "outputs": []
    },
    {
      "cell_type": "markdown",
      "source": [
        "##※sliceフォルダを圧縮してダウンロードする"
      ],
      "metadata": {
        "id": "ZgVjQUnk9mcI"
      }
    },
    {
      "cell_type": "code",
      "source": [
        "#画像をまとめてダウンロード\n",
        "from google.colab import files\n",
        "import shutil\n",
        "\n",
        "shutil.make_archive('slice', format='zip', root_dir='/content/slice')\n",
        "\n",
        "files.download('slice.zip')"
      ],
      "metadata": {
        "id": "w8PWQ6mq9Mhz",
        "outputId": "46a00d90-79c4-4c73-c02a-be03e17352c2",
        "colab": {
          "base_uri": "https://localhost:8080/",
          "height": 17
        }
      },
      "execution_count": null,
      "outputs": [
        {
          "output_type": "display_data",
          "data": {
            "text/plain": [
              "<IPython.core.display.Javascript object>"
            ],
            "application/javascript": [
              "\n",
              "    async function download(id, filename, size) {\n",
              "      if (!google.colab.kernel.accessAllowed) {\n",
              "        return;\n",
              "      }\n",
              "      const div = document.createElement('div');\n",
              "      const label = document.createElement('label');\n",
              "      label.textContent = `Downloading \"${filename}\": `;\n",
              "      div.appendChild(label);\n",
              "      const progress = document.createElement('progress');\n",
              "      progress.max = size;\n",
              "      div.appendChild(progress);\n",
              "      document.body.appendChild(div);\n",
              "\n",
              "      const buffers = [];\n",
              "      let downloaded = 0;\n",
              "\n",
              "      const channel = await google.colab.kernel.comms.open(id);\n",
              "      // Send a message to notify the kernel that we're ready.\n",
              "      channel.send({})\n",
              "\n",
              "      for await (const message of channel.messages) {\n",
              "        // Send a message to notify the kernel that we're ready.\n",
              "        channel.send({})\n",
              "        if (message.buffers) {\n",
              "          for (const buffer of message.buffers) {\n",
              "            buffers.push(buffer);\n",
              "            downloaded += buffer.byteLength;\n",
              "            progress.value = downloaded;\n",
              "          }\n",
              "        }\n",
              "      }\n",
              "      const blob = new Blob(buffers, {type: 'application/binary'});\n",
              "      const a = document.createElement('a');\n",
              "      a.href = window.URL.createObjectURL(blob);\n",
              "      a.download = filename;\n",
              "      div.appendChild(a);\n",
              "      a.click();\n",
              "      div.remove();\n",
              "    }\n",
              "  "
            ]
          },
          "metadata": {}
        },
        {
          "output_type": "display_data",
          "data": {
            "text/plain": [
              "<IPython.core.display.Javascript object>"
            ],
            "application/javascript": [
              "download(\"download_f9df5209-ea55-4e48-849e-26965bc80acc\", \"slice.zip\", 4689387)"
            ]
          },
          "metadata": {}
        }
      ]
    },
    {
      "cell_type": "markdown",
      "source": [
        "##※画像を背景消去してremoveフォルダにアップロード\n",
        "背景消去はadobeで大まかに消し、removebgで細かく消すのが早い\n",
        "\n",
        "[adobe](https://www.adobe.com/jp/express/feature/image/remove-background)\n",
        "\n",
        "[remove.bg](https://www.remove.bg/ja)"
      ],
      "metadata": {
        "id": "6R0UJFzjBLJQ"
      }
    },
    {
      "cell_type": "markdown",
      "source": [
        "※removeフォルダの画像を引き延ばしpngへ保存"
      ],
      "metadata": {
        "id": "R_7gtR2n5kB9"
      }
    },
    {
      "cell_type": "code",
      "source": [
        "from PIL import Image\n",
        "\n",
        "read_files = os.listdir('/content/remove')\n",
        "\n",
        "for file_name in read_files:\n",
        "  img = Image.open('/content/remove/'+file_name)\n",
        "  rename=file_name[:-21]\n",
        "  if img.size[0]<img.size[1]:\n",
        "    img_resize_lanczos = img.resize((1080, 1920), Image.LANCZOS)\n",
        "  else:\n",
        "    img_resize_lanczos = img.resize((1920,1080 ), Image.LANCZOS)\n",
        "  if len(file_name)>16:\n",
        "    img_resize_lanczos.save('/content/png/'+rename+'.png')\n",
        "  else:\n",
        "    img_resize_lanczos.save('/content/png/'+file_name)"
      ],
      "metadata": {
        "id": "-U4Yi1FQ1iFp"
      },
      "execution_count": null,
      "outputs": []
    },
    {
      "cell_type": "markdown",
      "source": [
        "##※pngに保存した画像と同じものをsliceからjpgに移動"
      ],
      "metadata": {
        "id": "fjSqi_NQhQgg"
      }
    },
    {
      "cell_type": "code",
      "source": [
        "import os\n",
        "import shutil\n",
        "\n",
        "read_files = os.listdir('/content/png')\n",
        "\n",
        "#read_listから、指定の拡張子のファイルだけ指定のディレクトリにコピーする\n",
        "for file_name in read_files:\n",
        "  rename=file_name[:-3]\n",
        "  copy_from = '/content/slice/' + rename+'jpg'    \n",
        "  copy_to = '/content/jpg/' + rename +'jpg'\n",
        "  shutil.copy2(copy_from, copy_to)"
      ],
      "metadata": {
        "id": "QEiCB1U0hQB1"
      },
      "execution_count": null,
      "outputs": []
    },
    {
      "cell_type": "markdown",
      "source": [
        "##※pngフォルダから白黒画像を取得しmaskフォルダに保存"
      ],
      "metadata": {
        "id": "8NUmUpR5gFDm"
      }
    },
    {
      "cell_type": "code",
      "source": [
        "import cv2\n",
        "from matplotlib import pyplot as plt\n",
        "import glob\n",
        "\n",
        "#.ipynb_checkpointsを消去\n",
        "!cd '/content/png'\n",
        "!rm -rf `find -type d -name .ipynb_checkpoints`\n",
        "!cd '/content'\n",
        "\n",
        "#二値化の閾値\n",
        "threshold_value = 127\n",
        "\n",
        "#jpgフォルダのリストを取得\n",
        "LOAD_FOLDA = 'png'\n",
        "LOAD_NAME = os.listdir(LOAD_FOLDA)\n",
        "\n",
        "\n",
        "#マスクフォルダを作成\n",
        "SAVE_NAME = 'mask'\n",
        "if not os.path.exists('./' +SAVE_NAME):\n",
        "    os.mkdir('./' +SAVE_NAME)\n",
        "\n",
        "#マスク画像を作るためのfor文\n",
        "for file_name in LOAD_NAME:\n",
        "\n",
        "  IMAGE_PATH='/content/' + LOAD_FOLDA +'/'+file_name\n",
        "  image = cv2.imread(IMAGE_PATH, cv2.IMREAD_UNCHANGED)# 画像を読み込んでNumPy配列を作成\n",
        "  alpha_image = image[:,:,3]# スライスを利用してアルファチャンネルのみを切り出し\n",
        "  ret, threshold_img = cv2.threshold(alpha_image, threshold_value, 255, cv2.THRESH_BINARY) #黒白二値化\n",
        "  cv2.imwrite('/content/'+SAVE_NAME+'/'+file_name, threshold_img)# 画像ファイルとして保存\n",
        "\n",
        "#マスク画像の名前を置き換えるためのfor文\n",
        "FILE_PASS=glob.glob('/content/mask/*')\n",
        "\n",
        "for name in FILE_PASS:\n",
        "  #nameの名前をRENAMEへ変更\n",
        "  RENAME=name.replace('-removebg-preview', '')\n",
        "  os.rename(name, RENAME)"
      ],
      "metadata": {
        "id": "dQcjZbUJgErN",
        "outputId": "a8ecfd9f-3b3d-427a-ef20-2410c6ed0452",
        "colab": {
          "base_uri": "https://localhost:8080/"
        }
      },
      "execution_count": null,
      "outputs": [
        {
          "output_type": "stream",
          "name": "stdout",
          "text": [
            "/bin/bash: line 0: cd: /comtent: No such file or directory\n"
          ]
        }
      ]
    },
    {
      "cell_type": "markdown",
      "source": [
        "##※maskフォルダの画像をインデックスカラー化"
      ],
      "metadata": {
        "id": "bbxBf3RDjm4U"
      }
    },
    {
      "cell_type": "code",
      "source": [
        "import cv2\n",
        "from matplotlib import pyplot as plt\n",
        "import glob\n",
        "\n",
        "color_list = [(255,0,0),(255,0,0),(255,0,0),(255,0,0),(255,0,0),(255,0,0),(255,0,0)]\n",
        "\n",
        "\n",
        "#maskフォルダのリストを取得\n",
        "LOAD_FOLDA = 'mask'\n",
        "LOAD_NAME = os.listdir(LOAD_FOLDA)\n",
        "\n",
        "\n",
        "#colerを作成\n",
        "SAVE_NAME = 'coler'\n",
        "if not os.path.exists('./' +SAVE_NAME):\n",
        "    os.mkdir('./' +SAVE_NAME)\n",
        "\n",
        "#coler画像を作るためのfor文\n",
        "for file_name in LOAD_NAME:\n",
        "  im = cv2.imread('/content/'+LOAD_FOLDA+'/'+file_name,flags=cv2.IMREAD_GRAYSCALE)\n",
        "  contours, hierarchy = cv2.findContours(im,cv2.RETR_EXTERNAL,cv2.CHAIN_APPROX_SIMPLE)\n",
        "  img2 = cv2.cvtColor(im, cv2.COLOR_GRAY2BGR)\n",
        "  for i in range(len(contours)):\n",
        "      cnt = contours[i]\n",
        "      img2 = cv2.drawContours(img2, [cnt], 0, color_list[i], -1)\n",
        "  arfa_image = cv2.cvtColor(img2, cv2.COLOR_BGR2RGB)  \n",
        "  cv2.imwrite('/content/'+SAVE_NAME+'/'+file_name, arfa_image)# 画像ファイルとして保存\n",
        "\n",
        "#カラーコードをHEX形式でtxtに出力\n",
        "#fname = '/content/'+SAVE_NAME+'/'+'coler_code.txt'\n",
        "#f = open(fname,'w')\n",
        "#for i in color_list:\n",
        "#  html_color='#%02X%02X%02X' % i+\"\\n\"\n",
        "#  f.write(html_color)\n",
        "#f.close()"
      ],
      "metadata": {
        "id": "8VUy3GiwjpQr"
      },
      "execution_count": null,
      "outputs": []
    },
    {
      "cell_type": "markdown",
      "source": [
        "##※maskからバウンディングボックスを取得"
      ],
      "metadata": {
        "id": "5oKuS2sve5l3"
      }
    },
    {
      "cell_type": "code",
      "source": [
        "import cv2\n",
        "from matplotlib import pyplot as plt\n",
        "import numpy as np\n",
        "\n",
        "#'NoneType' object is not subscriptableといわれるので先にipynb_checkpointsを消す\n",
        "!rm -rf `find -type d -name .ipynb_checkpoints`\n",
        "\n",
        "#maskフォルダのリストを取得\n",
        "LOAD_FOLDA = 'mask'\n",
        "LOAD_NAME = os.listdir(LOAD_FOLDA)\n",
        "#ヘッダ作成\n",
        "import csv\n",
        "data = [[\"Name\",\"Type\",\"Value\",\"x1\",\"y1\",\"x2\",\"y2\",\"Attributes\"],]\n",
        "with open(\"csvfile2.csv\", \"w\") as file:\n",
        "        writer = csv.writer(file)\n",
        "        writer.writerows(data)\n",
        "\n",
        "#csvに書き込むときは、行列を作って一気に書き込んだほうが処理が速い\n",
        "for file_name in LOAD_NAME:\n",
        "  #Nameを修正\n",
        "  Name=file_name[:-4]+\".jpg\"\n",
        "\n",
        "  mask_indexes = np.where(cv2.imread('/content/'+LOAD_FOLDA+'/'+file_name)[:,:,0]>0)\n",
        "  y_min = np.min(mask_indexes[0])\n",
        "  y_max = np.max(mask_indexes[0])\n",
        "  x_min = np.min(mask_indexes[1])\n",
        "  x_max = np.max(mask_indexes[1])\n",
        "  list=[[Name,\"bbox\",\"reaf\",x_min,y_min,x_max,y_max,\"\"]]\n",
        "  \n",
        "  with open(\"csvfile2.csv\",mode=\"a\", newline=\"\") as file:\n",
        "        writer = csv.writer(file)\n",
        "        writer.writerows(list)"
      ],
      "metadata": {
        "id": "VLONy3mpt7Nq"
      },
      "execution_count": null,
      "outputs": []
    },
    {
      "cell_type": "markdown",
      "source": [
        "##※fastlabelに必要なものを圧縮してダウンロード\n",
        "\n",
        "\n"
      ],
      "metadata": {
        "id": "kYwvxE7sgibg"
      }
    },
    {
      "cell_type": "code",
      "source": [
        "from google.colab import files\n",
        "import shutil\n",
        "\n",
        "shutil.make_archive('jpg', format='zip', root_dir='/content/jpg')\n",
        "shutil.make_archive('coler', format='zip', root_dir='/content/coler')\n",
        "\n",
        "files.download('csvfile2.csv')\n",
        "files.download('jpg.zip')\n",
        "files.download('coler.zip')"
      ],
      "metadata": {
        "id": "DDynqqPAghrx",
        "colab": {
          "base_uri": "https://localhost:8080/",
          "height": 17
        },
        "outputId": "e4ca250a-493d-41da-e4d1-2e6da566dae8"
      },
      "execution_count": null,
      "outputs": [
        {
          "output_type": "display_data",
          "data": {
            "text/plain": [
              "<IPython.core.display.Javascript object>"
            ],
            "application/javascript": [
              "\n",
              "    async function download(id, filename, size) {\n",
              "      if (!google.colab.kernel.accessAllowed) {\n",
              "        return;\n",
              "      }\n",
              "      const div = document.createElement('div');\n",
              "      const label = document.createElement('label');\n",
              "      label.textContent = `Downloading \"${filename}\": `;\n",
              "      div.appendChild(label);\n",
              "      const progress = document.createElement('progress');\n",
              "      progress.max = size;\n",
              "      div.appendChild(progress);\n",
              "      document.body.appendChild(div);\n",
              "\n",
              "      const buffers = [];\n",
              "      let downloaded = 0;\n",
              "\n",
              "      const channel = await google.colab.kernel.comms.open(id);\n",
              "      // Send a message to notify the kernel that we're ready.\n",
              "      channel.send({})\n",
              "\n",
              "      for await (const message of channel.messages) {\n",
              "        // Send a message to notify the kernel that we're ready.\n",
              "        channel.send({})\n",
              "        if (message.buffers) {\n",
              "          for (const buffer of message.buffers) {\n",
              "            buffers.push(buffer);\n",
              "            downloaded += buffer.byteLength;\n",
              "            progress.value = downloaded;\n",
              "          }\n",
              "        }\n",
              "      }\n",
              "      const blob = new Blob(buffers, {type: 'application/binary'});\n",
              "      const a = document.createElement('a');\n",
              "      a.href = window.URL.createObjectURL(blob);\n",
              "      a.download = filename;\n",
              "      div.appendChild(a);\n",
              "      a.click();\n",
              "      div.remove();\n",
              "    }\n",
              "  "
            ]
          },
          "metadata": {}
        },
        {
          "output_type": "display_data",
          "data": {
            "text/plain": [
              "<IPython.core.display.Javascript object>"
            ],
            "application/javascript": [
              "download(\"download_e072c20f-0cfd-4179-a904-fb170d9022c4\", \"csvfile2.csv\", 397)"
            ]
          },
          "metadata": {}
        },
        {
          "output_type": "display_data",
          "data": {
            "text/plain": [
              "<IPython.core.display.Javascript object>"
            ],
            "application/javascript": [
              "\n",
              "    async function download(id, filename, size) {\n",
              "      if (!google.colab.kernel.accessAllowed) {\n",
              "        return;\n",
              "      }\n",
              "      const div = document.createElement('div');\n",
              "      const label = document.createElement('label');\n",
              "      label.textContent = `Downloading \"${filename}\": `;\n",
              "      div.appendChild(label);\n",
              "      const progress = document.createElement('progress');\n",
              "      progress.max = size;\n",
              "      div.appendChild(progress);\n",
              "      document.body.appendChild(div);\n",
              "\n",
              "      const buffers = [];\n",
              "      let downloaded = 0;\n",
              "\n",
              "      const channel = await google.colab.kernel.comms.open(id);\n",
              "      // Send a message to notify the kernel that we're ready.\n",
              "      channel.send({})\n",
              "\n",
              "      for await (const message of channel.messages) {\n",
              "        // Send a message to notify the kernel that we're ready.\n",
              "        channel.send({})\n",
              "        if (message.buffers) {\n",
              "          for (const buffer of message.buffers) {\n",
              "            buffers.push(buffer);\n",
              "            downloaded += buffer.byteLength;\n",
              "            progress.value = downloaded;\n",
              "          }\n",
              "        }\n",
              "      }\n",
              "      const blob = new Blob(buffers, {type: 'application/binary'});\n",
              "      const a = document.createElement('a');\n",
              "      a.href = window.URL.createObjectURL(blob);\n",
              "      a.download = filename;\n",
              "      div.appendChild(a);\n",
              "      a.click();\n",
              "      div.remove();\n",
              "    }\n",
              "  "
            ]
          },
          "metadata": {}
        },
        {
          "output_type": "display_data",
          "data": {
            "text/plain": [
              "<IPython.core.display.Javascript object>"
            ],
            "application/javascript": [
              "download(\"download_337bb177-d155-49eb-ac36-0c680bbe6c20\", \"jpg.zip\", 4689273)"
            ]
          },
          "metadata": {}
        },
        {
          "output_type": "display_data",
          "data": {
            "text/plain": [
              "<IPython.core.display.Javascript object>"
            ],
            "application/javascript": [
              "\n",
              "    async function download(id, filename, size) {\n",
              "      if (!google.colab.kernel.accessAllowed) {\n",
              "        return;\n",
              "      }\n",
              "      const div = document.createElement('div');\n",
              "      const label = document.createElement('label');\n",
              "      label.textContent = `Downloading \"${filename}\": `;\n",
              "      div.appendChild(label);\n",
              "      const progress = document.createElement('progress');\n",
              "      progress.max = size;\n",
              "      div.appendChild(progress);\n",
              "      document.body.appendChild(div);\n",
              "\n",
              "      const buffers = [];\n",
              "      let downloaded = 0;\n",
              "\n",
              "      const channel = await google.colab.kernel.comms.open(id);\n",
              "      // Send a message to notify the kernel that we're ready.\n",
              "      channel.send({})\n",
              "\n",
              "      for await (const message of channel.messages) {\n",
              "        // Send a message to notify the kernel that we're ready.\n",
              "        channel.send({})\n",
              "        if (message.buffers) {\n",
              "          for (const buffer of message.buffers) {\n",
              "            buffers.push(buffer);\n",
              "            downloaded += buffer.byteLength;\n",
              "            progress.value = downloaded;\n",
              "          }\n",
              "        }\n",
              "      }\n",
              "      const blob = new Blob(buffers, {type: 'application/binary'});\n",
              "      const a = document.createElement('a');\n",
              "      a.href = window.URL.createObjectURL(blob);\n",
              "      a.download = filename;\n",
              "      div.appendChild(a);\n",
              "      a.click();\n",
              "      div.remove();\n",
              "    }\n",
              "  "
            ]
          },
          "metadata": {}
        },
        {
          "output_type": "display_data",
          "data": {
            "text/plain": [
              "<IPython.core.display.Javascript object>"
            ],
            "application/javascript": [
              "download(\"download_47d8f2b6-b6da-4973-9556-7d60d642d6da\", \"coler.zip\", 99251)"
            ]
          },
          "metadata": {}
        }
      ]
    },
    {
      "cell_type": "markdown",
      "source": [
        "##※編集したデータをエクセルに記録"
      ],
      "metadata": {
        "id": "BOuw-78BqkUr"
      }
    },
    {
      "cell_type": "code",
      "source": [
        "#記録する内容のかぶりを消去\n",
        "import shutil\n",
        "import glob\n",
        "\n",
        "#移動元と移動先のフォルダを定義する。\n",
        "input_path = \"/content/slice\"\n",
        "output_path = \"/content/coler\"\n",
        "\n",
        "#フォルダのリストを取得\n",
        "LOAD_FOLDA = 'jpg'\n",
        "LOAD_NAME = os.listdir(LOAD_FOLDA)\n",
        "\n",
        "for file_name in LOAD_NAME:\n",
        "  #移動用ファイルリストを作成\n",
        "  move_file_list = glob.glob(input_path +\"/\"+ file_name)\n",
        "\n",
        "  #リストの要素を一つずつ取り出して移動させていく。かぶったファイルは消える\n",
        "  for item in move_file_list:\n",
        "    shutil.move(item, output_path)"
      ],
      "metadata": {
        "id": "J-U9C-DK3ZOa"
      },
      "execution_count": null,
      "outputs": []
    },
    {
      "cell_type": "code",
      "source": [
        "import cv2\n",
        "from matplotlib import pyplot as plt\n",
        "import numpy as np\n",
        "\n",
        "#'NoneType' object is not subscriptableといわれるので先にipynb_checkpointsを消す\n",
        "!rm -rf `find -type d -name .ipynb_checkpoints`\n",
        "\n",
        "#jpgフォルダのリストを取得\n",
        "LOAD_FOLDA = 'jpg'\n",
        "LOAD_NAME = os.listdir(LOAD_FOLDA)\n",
        "#ヘッダ作成\n",
        "import csv\n",
        "\n",
        "if not os.path.exists('/content/drive/MyDrive/バラ画像/image-data.csv'):\n",
        "  data = [[\"Video-name\",\"Image-name\",\"date\"],]\n",
        "  with open(\"/content/drive/MyDrive/バラ画像/image-data.csv\", \"w\") as file:\n",
        "    writer = csv.writer(file)\n",
        "    writer.writerows(data)\n",
        "\n",
        "#csvに書き込むときは、行列を作って一気に書き込んだほうが処理が速い\n",
        "for file_name in LOAD_NAME:\n",
        "  #Nameを修正\n",
        "  videoname=file_name[:-8]+\".mp4\"\n",
        "  imagename=file_name\n",
        "\n",
        "  list=[[videoname,imagename,image_date]]\n",
        "  with open(\"/content/drive/MyDrive/バラ画像/image-data.csv\",mode=\"a\", newline=\"\") as file:\n",
        "        writer = csv.writer(file)\n",
        "        writer.writerows(list)"
      ],
      "metadata": {
        "id": "SeLbunzPqiz6"
      },
      "execution_count": null,
      "outputs": []
    },
    {
      "cell_type": "markdown",
      "source": [
        "##※出力が終わったものを消す"
      ],
      "metadata": {
        "id": "tEx6VTCb3S-6"
      }
    },
    {
      "cell_type": "code",
      "source": [
        "#coler,jpg,mask,png,removeを消去\n",
        "shutil.rmtree('/content/coler')\n",
        "shutil.rmtree('/content/jpg')\n",
        "shutil.rmtree('/content/mask')\n",
        "shutil.rmtree('/content/png')\n",
        "shutil.rmtree('/content/remove')\n",
        "os.remove('/content/coler.zip')\n",
        "os.remove('/content/csvfile2.csv')\n",
        "os.remove('/content/jpg.zip')\n",
        "os.remove('/content/slice.zip')"
      ],
      "metadata": {
        "id": "I76l5qJI-xHj"
      },
      "execution_count": null,
      "outputs": []
    },
    {
      "cell_type": "markdown",
      "source": [
        "##※背景合成"
      ],
      "metadata": {
        "id": "zomNmJxiAKQW"
      }
    },
    {
      "cell_type": "code",
      "source": [
        "import cv2\n",
        "import numpy as np\n",
        "from PIL import Image, ImageFilter\n",
        "#背景合成のためにはpng,jpgフォルダが必要\n",
        "\n",
        "img1 = cv2.imread('/content/MOV_0297_127.jpg')#合成する葉の画像\n",
        "img2 = cv2.imread('/content/drive/MyDrive/バラ画像/background_image/DSC_0225.jpg')#合成する背景の画像\n",
        "img3 = np.array(Image.open('/content/MOV_0297_127.png'))#葉の画像のマスク\n",
        "\n",
        "#アルファ情報をスライス\n",
        "#ALPHA = np.array(img3[:, :, 3], dtype=np.int16)\n",
        "#ALPHAtest = np.array(img3[:, :, 3], dtype=np.int16)\n",
        "ALPHA =np.array(img3, dtype=np.int16)\n",
        "ALPHAtest = np.array(img3, dtype=np.int16)\n",
        "\n",
        "#掛け算のために0->1に置き換えし逆転したアルファ画像を作る\n",
        "ALPHA=np.where(ALPHA<144, 0, 1)\n",
        "ALPHA_INV=np.where(ALPHA==0, 1, 0)\n",
        "#retval,r2 = cv2.threshold(r, 0, 255, cv2.THRESH_BINARY)#二値化\n",
        "#r= cv2.blur(r,(6, 6))#ぼかす\n",
        "\n",
        "\n",
        "#マスクに合わせて掛け算\n",
        "for i in list(range(3)):\n",
        "  img1[:,:,i]=ALPHA*img1[:,:,i]\n",
        "  img2[:,:,i]=ALPHA_INV*img2[:,:,i]\n",
        "\n",
        "#足し算で合成\n",
        "img=img1+img2\n",
        "\n",
        "plt.imshow(cv2.cvtColor(img, cv2.COLOR_BGR2RGB))\n",
        "\n",
        "cv2.imwrite('/content/new.jpg', img)\n",
        "#np.savetxt('/content/ALPHAtest.txt',ALPHAtest,fmt='%d')"
      ],
      "metadata": {
        "id": "w7rRZGxmASMS",
        "outputId": "43b7e8de-b6a9-4013-edb8-294a85617d58",
        "colab": {
          "base_uri": "https://localhost:8080/",
          "height": 247
        }
      },
      "execution_count": null,
      "outputs": [
        {
          "output_type": "error",
          "ename": "ValueError",
          "evalue": "ignored",
          "traceback": [
            "\u001b[0;31m---------------------------------------------------------------------------\u001b[0m",
            "\u001b[0;31mValueError\u001b[0m                                Traceback (most recent call last)",
            "\u001b[0;32m<ipython-input-6-4c4d6b8e0777>\u001b[0m in \u001b[0;36m<module>\u001b[0;34m\u001b[0m\n\u001b[1;32m     24\u001b[0m \u001b[0;32mfor\u001b[0m \u001b[0mi\u001b[0m \u001b[0;32min\u001b[0m \u001b[0mlist\u001b[0m\u001b[0;34m(\u001b[0m\u001b[0mrange\u001b[0m\u001b[0;34m(\u001b[0m\u001b[0;36m3\u001b[0m\u001b[0;34m)\u001b[0m\u001b[0;34m)\u001b[0m\u001b[0;34m:\u001b[0m\u001b[0;34m\u001b[0m\u001b[0;34m\u001b[0m\u001b[0m\n\u001b[1;32m     25\u001b[0m   \u001b[0mimg1\u001b[0m\u001b[0;34m[\u001b[0m\u001b[0;34m:\u001b[0m\u001b[0;34m,\u001b[0m\u001b[0;34m:\u001b[0m\u001b[0;34m,\u001b[0m\u001b[0mi\u001b[0m\u001b[0;34m]\u001b[0m\u001b[0;34m=\u001b[0m\u001b[0mALPHA\u001b[0m\u001b[0;34m*\u001b[0m\u001b[0mimg1\u001b[0m\u001b[0;34m[\u001b[0m\u001b[0;34m:\u001b[0m\u001b[0;34m,\u001b[0m\u001b[0;34m:\u001b[0m\u001b[0;34m,\u001b[0m\u001b[0mi\u001b[0m\u001b[0;34m]\u001b[0m\u001b[0;34m\u001b[0m\u001b[0;34m\u001b[0m\u001b[0m\n\u001b[0;32m---> 26\u001b[0;31m   \u001b[0mimg2\u001b[0m\u001b[0;34m[\u001b[0m\u001b[0;34m:\u001b[0m\u001b[0;34m,\u001b[0m\u001b[0;34m:\u001b[0m\u001b[0;34m,\u001b[0m\u001b[0mi\u001b[0m\u001b[0;34m]\u001b[0m\u001b[0;34m=\u001b[0m\u001b[0mALPHA_INV\u001b[0m\u001b[0;34m*\u001b[0m\u001b[0mimg2\u001b[0m\u001b[0;34m[\u001b[0m\u001b[0;34m:\u001b[0m\u001b[0;34m,\u001b[0m\u001b[0;34m:\u001b[0m\u001b[0;34m,\u001b[0m\u001b[0mi\u001b[0m\u001b[0;34m]\u001b[0m\u001b[0;34m\u001b[0m\u001b[0;34m\u001b[0m\u001b[0m\n\u001b[0m\u001b[1;32m     27\u001b[0m \u001b[0;34m\u001b[0m\u001b[0m\n\u001b[1;32m     28\u001b[0m \u001b[0;31m#足し算で合成\u001b[0m\u001b[0;34m\u001b[0m\u001b[0;34m\u001b[0m\u001b[0;34m\u001b[0m\u001b[0m\n",
            "\u001b[0;31mValueError\u001b[0m: operands could not be broadcast together with shapes (1920,1080) (4160,3120) "
          ]
        }
      ]
    },
    {
      "cell_type": "markdown",
      "source": [
        "##※画像分割（フォルダの中の画像をN分割してフォルダを作成して保存）"
      ],
      "metadata": {
        "id": "28YQHqx1MFf9"
      }
    },
    {
      "cell_type": "code",
      "source": [
        "import cv2\n",
        "import numpy as np\n",
        "import os\n",
        "\n",
        "#★画像を分割して保存\n",
        "#画像の読み込み\n",
        "\n",
        "read_files = os.listdir('/content/mask')\n",
        "\n",
        "for file_name in read_files:\n",
        "  fname = \"/content/mask/\"+file_name #画像ファイル名\n",
        "  foldaname=fname[9:]\n",
        "\n",
        "  img=cv2.imread(fname,cv2.IMREAD_COLOR)\n",
        "  #画像分割先のフォルダを作成\n",
        "  if not os.path.exists('/content/split_pic/'+file_name[:-4]):\n",
        "    os.makedirs('/content/split_pic/'+file_name[:-4])\n",
        "\n",
        "  h,w=img.shape[:2]\n",
        "  #分割数\n",
        "  split_x=4\n",
        "  split_y=4\n",
        "  #画像の分割処理\n",
        "  cx=0\n",
        "  cy=0\n",
        "  for j in range(split_x):\n",
        "    for i in range(split_y):\n",
        "      split_pic=img[cy:cy+int(h/split_y),cx:cx+int(w/split_x),:]\n",
        "      cv2.imwrite(\"/content/split_pic/\"+file_name[:-4]+\"/\"+file_name[:-4]+'split_y'+str(i)+'_x'+str(j)+foldaname[-4:],split_pic)\n",
        "      cy=cy+int(h/split_y)\n",
        "    cy=0\n",
        "    cx=cx+int(w/split_x)\n",
        "\n",
        "  #%cd \"/content\"\n",
        "  #★分割する線を描いた画像を出力\n",
        "  y_step=int(h/split_y) #縦の分割間隔\n",
        "  x_step=int(w/split_x) #横の分割間隔\n",
        "\n",
        "  #オブジェクトimgのshapeメソッドの1つ目の戻り値(画像の高さ)をimg_yに、2つ目の戻り値(画像の幅)をimg_xに\n",
        "  img_y,img_x=img.shape[:2]  \n",
        "\n",
        "  #横線を引く：y_stepからimg_yの手前までy_stepおきに白い(BGRすべて255)横線を引く\n",
        "  img[y_step:img_y:y_step, :, :] = 255\n",
        "  #縦線を引く：x_stepからimg_xの手前までx_stepおきに白い(BGRすべて255)縦線を引く\n",
        "  img[:, x_step:img_x:x_step, :] = 255\n",
        "\n",
        "  cv2.imwrite(\"/content/split_pic/\"+file_name[:-4]+\"/agrid\"+foldaname[-4:],img) #ファイル名'grid.png'でimgを保存"
      ],
      "metadata": {
        "id": "e4DiIeSy-hwa"
      },
      "execution_count": 19,
      "outputs": []
    },
    {
      "cell_type": "markdown",
      "source": [
        "##※画像の位置情報をCSV化\n",
        "[自前のMask画像からCOCO format jsonを作成](https://salt22g.hatenablog.jp/entry/2020/12/20/210419)"
      ],
      "metadata": {
        "id": "5qRa62qiEuBa"
      }
    },
    {
      "cell_type": "code",
      "source": [
        "#★切り取り消去用道具★\n",
        "import shutil\n",
        "shutil.rmtree('/content/split_pic')\n",
        "#%mkdir \"/content/drive/MyDrive/yolov7/dataset/mite/train/images\""
      ],
      "metadata": {
        "id": "tNRZEE8Q96Ho"
      },
      "execution_count": null,
      "outputs": []
    },
    {
      "cell_type": "code",
      "source": [
        "import cv2\n",
        "from matplotlib import pyplot as plt\n",
        "import numpy as np\n",
        "from PIL import Image\n",
        "from skimage import measure\n",
        "\n",
        "#画像読み込み\n",
        "fname='/content/DSC_0299.png'\n",
        "im = np.array(Image.open(fname))\n",
        "NAME=fname[9:-4]+\".png\"\n",
        "#分ける\n",
        "contours = measure.find_contours(im, 0.0)\n",
        "\n",
        "import csv\n",
        "data = [[\"Name\",\"Type\",\"Value\",\"x1\",\"y1\",\"x2\",\"y2\",\"Attributes\"],]\n",
        "with open(\"csvfile2.csv\", \"w\") as file:\n",
        "        writer = csv.writer(file)\n",
        "        writer.writerows(data)\n",
        "\n",
        "#csvに書き込むときは、行列を作って一気に書き込んだほうが処理が速い\n",
        "for number in list(range(len(contours))):\n",
        "\n",
        "  y_min = int(np.amin(contours[number],axis=0)[0])\n",
        "  y_max = int(np.amax(contours[number],axis=0)[0])\n",
        "  x_min = int(np.amin(contours[number],axis=0)[1])\n",
        "  x_max = int(np.amax(contours[number],axis=0)[1])\n",
        "  data=[[NAME,\"bbox\",\"mite\",x_min,y_min,x_max,y_max,\"\"]]\n",
        "  \n",
        "  with open(\"csvfile2.csv\",mode=\"a\", newline=\"\") as file:\n",
        "        writer = csv.writer(file)\n",
        "        writer.writerows(data)"
      ],
      "metadata": {
        "id": "M9_hfITXbLge"
      },
      "execution_count": null,
      "outputs": []
    },
    {
      "cell_type": "markdown",
      "source": [
        "※境目部分を処理（大きいほうのバウンディングボックスを採用する）"
      ],
      "metadata": {
        "id": "smshbgFFk1eZ"
      }
    },
    {
      "cell_type": "markdown",
      "source": [
        "#ここからは無修正"
      ],
      "metadata": {
        "id": "dLGEKX6Msk3e"
      }
    },
    {
      "cell_type": "code",
      "source": [
        "import shutil\n",
        "shutil.copyfile(\"/content/drive/MyDrive/バラ画像/roze-reaf-rinkaku-resize.zip\", \"/content/roze-reaf-rinkaku-resize.zip\")\n",
        "shutil.copyfile(\"/content/drive/MyDrive/バラ画像/semantic_segmentations.zip\", \"/content/semantic_segmentations.zip\")\n",
        "\n",
        "!unzip -q roze-reaf-rinkaku-resize.zip\n",
        "!unzip -q semantic_segmentations.zip"
      ],
      "metadata": {
        "id": "T2vaQsKyZhoo"
      },
      "execution_count": null,
      "outputs": []
    },
    {
      "cell_type": "markdown",
      "source": [
        "※まとめてリネーム"
      ],
      "metadata": {
        "id": "01muOZgJCQVW"
      }
    },
    {
      "cell_type": "code",
      "source": [
        "import glob\n",
        "import os\n",
        " \n",
        "# ファイルを取得する\n",
        "path = '/content/葉の輪郭用/*'\n",
        "i = 1\n",
        " \n",
        "# ファイルリストを取得する\n",
        "flist = glob.glob(path)\n",
        "print('変更前')\n",
        "print(flist)\n",
        " \n",
        "# ファイル名を一括で変更する\n",
        "for file in flist:\n",
        "  os.rename(file, '/content/葉の輪郭用/' + str(i) + '.jpg')\n",
        "  i+=1\n",
        " \n",
        "list = glob.glob(path)\n",
        "print('変更後')\n",
        "print(list)"
      ],
      "metadata": {
        "id": "jrSnai0bCSoM",
        "outputId": "7ea0fa3e-e985-4132-d91f-d1a3bf336030",
        "colab": {
          "base_uri": "https://localhost:8080/"
        }
      },
      "execution_count": null,
      "outputs": [
        {
          "output_type": "stream",
          "name": "stdout",
          "text": [
            "変更前\n",
            "['/content/葉の輪郭用/DSC_0213.jpg のコピー', '/content/葉の輪郭用/DSC_0209.jpg のコピー', '/content/葉の輪郭用/DSC_0032.jpg のコピー', '/content/葉の輪郭用/DSC_0261.jpg のコピー', '/content/葉の輪郭用/DSC_0250.jpg のコピー', '/content/葉の輪郭用/IMG_20220310_111627.jpg のコピー', '/content/葉の輪郭用/IMG_20220310_111329.jpg のコピー', '/content/葉の輪郭用/DSC_0024.jpg のコピー', '/content/葉の輪郭用/DSC_0036.jpg のコピー', '/content/葉の輪郭用/DSC_0212.jpg のコピー', '/content/葉の輪郭用/DSC_0211.jpg のコピー', '/content/葉の輪郭用/IMG_20220310_111725.jpg のコピー', '/content/葉の輪郭用/DSC_0021.jpg のコピー', '/content/葉の輪郭用/DSC_0031.jpg のコピー', '/content/葉の輪郭用/DSC_0223.jpg のコピー', '/content/葉の輪郭用/DSC_0249.jpg のコピー', '/content/葉の輪郭用/DSC_0248.jpg のコピー', '/content/葉の輪郭用/IMG_20220310_110713.jpg のコピー', '/content/葉の輪郭用/DSC_0033.jpg のコピー', '/content/葉の輪郭用/IMG_20220330_102929.jpg のコピー', '/content/葉の輪郭用/DSC_0243.jpg のコピー', '/content/葉の輪郭用/IMG_20220310_111743.jpg のコピー', '/content/葉の輪郭用/DSC_0241.jpg のコピー', '/content/葉の輪郭用/DSC_0245.jpg のコピー', '/content/葉の輪郭用/DSC_0016.jpg のコピー', '/content/葉の輪郭用/DSC_0029.jpg のコピー', '/content/葉の輪郭用/IMG_20220310_111701.jpg のコピー', '/content/葉の輪郭用/DSC_0268.jpg のコピー', '/content/葉の輪郭用/DSC_0035.jpg のコピー', '/content/葉の輪郭用/DSC_0038.jpg のコピー', '/content/葉の輪郭用/DSC_0227.jpg のコピー', '/content/葉の輪郭用/DSC_0020.jpg のコピー', '/content/葉の輪郭用/DSC_0011.jpg のコピー', '/content/葉の輪郭用/DSC_0266.jpg のコピー', '/content/葉の輪郭用/DSC_0224.jpg のコピー', '/content/葉の輪郭用/DSC_0215.jpg のコピー', '/content/葉の輪郭用/DSC_001_BURST20220330102929864.jpg のコピー', '/content/葉の輪郭用/DSC_0210.jpg のコピー', '/content/葉の輪郭用/DSC_0229.jpg のコピー', '/content/葉の輪郭用/DSC_0030.jpg のコピー', '/content/葉の輪郭用/DSC_0015.jpg のコピー', '/content/葉の輪郭用/DSC_0262.jpg のコピー', '/content/葉の輪郭用/DSC_0232.jpg のコピー', '/content/葉の輪郭用/DSC_0246.jpg のコピー', '/content/葉の輪郭用/IMG_20220330_101129.jpg のコピー', '/content/葉の輪郭用/DSC_0012.jpg のコピー', '/content/葉の輪郭用/DSC_0007.jpg のコピー', '/content/葉の輪郭用/DSC_001.jpg のコピー', '/content/葉の輪郭用/IMG_20220330_102121.jpg のコピー', '/content/葉の輪郭用/DSC_0028.jpg のコピー', '/content/葉の輪郭用/DSC_0253.jpg のコピー', '/content/葉の輪郭用/DSC_0247.jpg のコピー', '/content/葉の輪郭用/DSC_0023.jpg のコピー', '/content/葉の輪郭用/DSC_0018.jpg のコピー', '/content/葉の輪郭用/DSC_0039.jpg のコピー', '/content/葉の輪郭用/DSC_0257.jpg のコピー', '/content/葉の輪郭用/DSC_0238.jpg のコピー', '/content/葉の輪郭用/IMG_20220330_102638.jpg のコピー', '/content/葉の輪郭用/IMG_20220330_102643.jpg のコピー', '/content/葉の輪郭用/IMG_20220330_100921.jpg のコピー', '/content/葉の輪郭用/DSC_0214.jpg のコピー', '/content/葉の輪郭用/IMG_20220330_101121.jpg のコピー', '/content/葉の輪郭用/DSC_0005.jpg のコピー', '/content/葉の輪郭用/DSC_0006.jpg のコピー', '/content/葉の輪郭用/DSC_0256.jpg のコピー', '/content/葉の輪郭用/DSC_0267.jpg のコピー', '/content/葉の輪郭用/IMG_20220310_111636.jpg のコピー', '/content/葉の輪郭用/DSC_0017.jpg のコピー', '/content/葉の輪郭用/IMG_20220310_111551.jpg のコピー', '/content/葉の輪郭用/DSC_0037.jpg のコピー', '/content/葉の輪郭用/IMG_20220310_111604.jpg のコピー', '/content/葉の輪郭用/DSC_0251.jpg のコピー', '/content/葉の輪郭用/DSC_0216.jpg のコピー', '/content/葉の輪郭用/DSC_0260.jpg のコピー', '/content/葉の輪郭用/IMG_20220310_111649.jpg のコピー', '/content/葉の輪郭用/IMG_20220330_102925.jpg のコピー', '/content/葉の輪郭用/DSC_0258.jpg のコピー', '/content/葉の輪郭用/DSC_0231.jpg のコピー', '/content/葉の輪郭用/DSC_0236.jpg のコピー', '/content/葉の輪郭用/DSC_0008.jpg のコピー', '/content/葉の輪郭用/IMG_20220330_100931.jpg のコピー', '/content/葉の輪郭用/DSC_0237.jpg のコピー', '/content/葉の輪郭用/DSC_0255.jpg のコピー', '/content/葉の輪郭用/DSC_0022.jpg のコピー', '/content/葉の輪郭用/DSC_0240.jpg のコピー', '/content/葉の輪郭用/DSC_0242.jpg のコピー', '/content/葉の輪郭用/DSC_0254.jpg のコピー', '/content/葉の輪郭用/DSC_0019.jpg のコピー', '/content/葉の輪郭用/DSC_0259.jpg のコピー', '/content/葉の輪郭用/DSC_0239.jpg のコピー', '/content/葉の輪郭用/IMG_20220310_110722_007.jpg のコピー', '/content/葉の輪郭用/IMG_20220310_111502.jpg のコピー', '/content/葉の輪郭用/DSC_0252.jpg のコピー', '/content/葉の輪郭用/DSC_0230.jpg のコピー', '/content/葉の輪郭用/DSC_0225.jpg のコピー', '/content/葉の輪郭用/DSC_0027.jpg のコピー', '/content/葉の輪郭用/DSC_0034.jpg のコピー', '/content/葉の輪郭用/DSC_0228.jpg のコピー', '/content/葉の輪郭用/DSC_0244.jpg のコピー', '/content/葉の輪郭用/DSC_0226.jpg のコピー']\n",
            "変更後\n",
            "['/content/葉の輪郭用/17.jpg', '/content/葉の輪郭用/33.jpg', '/content/葉の輪郭用/30.jpg', '/content/葉の輪郭用/35.jpg', '/content/葉の輪郭用/21.jpg', '/content/葉の輪郭用/3.jpg', '/content/葉の輪郭用/11.jpg', '/content/葉の輪郭用/25.jpg', '/content/葉の輪郭用/73.jpg', '/content/葉の輪郭用/96.jpg', '/content/葉の輪郭用/41.jpg', '/content/葉の輪郭用/68.jpg', '/content/葉の輪郭用/95.jpg', '/content/葉の輪郭用/77.jpg', '/content/葉の輪郭用/36.jpg', '/content/葉の輪郭用/65.jpg', '/content/葉の輪郭用/80.jpg', '/content/葉の輪郭用/19.jpg', '/content/葉の輪郭用/99.jpg', '/content/葉の輪郭用/15.jpg', '/content/葉の輪郭用/24.jpg', '/content/葉の輪郭用/62.jpg', '/content/葉の輪郭用/5.jpg', '/content/葉の輪郭用/49.jpg', '/content/葉の輪郭用/50.jpg', '/content/葉の輪郭用/67.jpg', '/content/葉の輪郭用/76.jpg', '/content/葉の輪郭用/42.jpg', '/content/葉の輪郭用/61.jpg', '/content/葉の輪郭用/58.jpg', '/content/葉の輪郭用/29.jpg', '/content/葉の輪郭用/88.jpg', '/content/葉の輪郭用/90.jpg', '/content/葉の輪郭用/69.jpg', '/content/葉の輪郭用/66.jpg', '/content/葉の輪郭用/57.jpg', '/content/葉の輪郭用/7.jpg', '/content/葉の輪郭用/48.jpg', '/content/葉の輪郭用/83.jpg', '/content/葉の輪郭用/52.jpg', '/content/葉の輪郭用/84.jpg', '/content/葉の輪郭用/82.jpg', '/content/葉の輪郭用/53.jpg', '/content/葉の輪郭用/27.jpg', '/content/葉の輪郭用/32.jpg', '/content/葉の輪郭用/23.jpg', '/content/葉の輪郭用/39.jpg', '/content/葉の輪郭用/63.jpg', '/content/葉の輪郭用/44.jpg', '/content/葉の輪郭用/38.jpg', '/content/葉の輪郭用/34.jpg', '/content/葉の輪郭用/85.jpg', '/content/葉の輪郭用/47.jpg', '/content/葉の輪郭用/79.jpg', '/content/葉の輪郭用/28.jpg', '/content/葉の輪郭用/37.jpg', '/content/葉の輪郭用/1.jpg', '/content/葉の輪郭用/94.jpg', '/content/葉の輪郭用/72.jpg', '/content/葉の輪郭用/59.jpg', '/content/葉の輪郭用/51.jpg', '/content/葉の輪郭用/45.jpg', '/content/葉の輪郭用/18.jpg', '/content/葉の輪郭用/22.jpg', '/content/葉の輪郭用/14.jpg', '/content/葉の輪郭用/92.jpg', '/content/葉の輪郭用/40.jpg', '/content/葉の輪郭用/87.jpg', '/content/葉の輪郭用/31.jpg', '/content/葉の輪郭用/74.jpg', '/content/葉の輪郭用/60.jpg', '/content/葉の輪郭用/98.jpg', '/content/葉の輪郭用/2.jpg', '/content/葉の輪郭用/86.jpg', '/content/葉の輪郭用/6.jpg', '/content/葉の輪郭用/56.jpg', '/content/葉の輪郭用/100.jpg', '/content/葉の輪郭用/75.jpg', '/content/葉の輪郭用/70.jpg', '/content/葉の輪郭用/78.jpg', '/content/葉の輪郭用/71.jpg', '/content/葉の輪郭用/93.jpg', '/content/葉の輪郭用/43.jpg', '/content/葉の輪郭用/26.jpg', '/content/葉の輪郭用/91.jpg', '/content/葉の輪郭用/54.jpg', '/content/葉の輪郭用/4.jpg', '/content/葉の輪郭用/9.jpg', '/content/葉の輪郭用/16.jpg', '/content/葉の輪郭用/10.jpg', '/content/葉の輪郭用/81.jpg', '/content/葉の輪郭用/55.jpg', '/content/葉の輪郭用/20.jpg', '/content/葉の輪郭用/13.jpg', '/content/葉の輪郭用/89.jpg', '/content/葉の輪郭用/8.jpg', '/content/葉の輪郭用/12.jpg', '/content/葉の輪郭用/64.jpg', '/content/葉の輪郭用/97.jpg', '/content/葉の輪郭用/46.jpg']\n"
          ]
        }
      ]
    },
    {
      "cell_type": "markdown",
      "source": [
        "※画像は433＊577or577＊433に合わせておく"
      ],
      "metadata": {
        "id": "IkBJ9x_uUO2z"
      }
    },
    {
      "cell_type": "code",
      "source": [
        "!pip install Pillow\n",
        "import os\n",
        "from PIL import Image\n",
        "from google.colab import drive,files\n",
        "\n",
        "%cd /content\n",
        "!mkdir 葉の輪郭用resize\n",
        "\n",
        "dir_name = \"/content/葉の輪郭用\"\n",
        "new_dir_name = \"/content/葉の輪郭用resize\"\n",
        "files = os.listdir(dir_name)\n",
        "\n",
        "for file in files:\n",
        "    photo = Image.open(os.path.join(dir_name, file))\n",
        "    if photo.size[0] == 3120:\n",
        "      photo_resize = photo.resize((433,577))\n",
        "    else:\n",
        "      photo_resize = photo.resize((577,433))\n",
        "    photo_resize.save(os.path.join(new_dir_name, file))"
      ],
      "metadata": {
        "id": "YiXYxeiBKKEx",
        "outputId": "a0e14deb-ff89-4a4f-ce43-e160971b53d6",
        "colab": {
          "base_uri": "https://localhost:8080/"
        }
      },
      "execution_count": null,
      "outputs": [
        {
          "output_type": "stream",
          "name": "stdout",
          "text": [
            "Looking in indexes: https://pypi.org/simple, https://us-python.pkg.dev/colab-wheels/public/simple/\n",
            "Requirement already satisfied: Pillow in /usr/local/lib/python3.7/dist-packages (7.1.2)\n",
            "/content\n",
            "mkdir: cannot create directory ‘葉の輪郭用resize’: File exists\n"
          ]
        }
      ]
    },
    {
      "cell_type": "markdown",
      "source": [
        "※フォルダを圧縮"
      ],
      "metadata": {
        "id": "3kOuIXbnBw7A"
      }
    },
    {
      "cell_type": "code",
      "source": [
        "!cd \"/content\" && zip -q \"coler.zip\" -r \"coler\""
      ],
      "metadata": {
        "id": "ZViLUnIsAyia",
        "colab": {
          "base_uri": "https://localhost:8080/"
        },
        "outputId": "ddde4b71-ae77-44a8-bda0-eaacbe38393f"
      },
      "execution_count": null,
      "outputs": [
        {
          "output_type": "stream",
          "name": "stdout",
          "text": [
            "\n",
            "zip error: Nothing to do! (try: zip -q -r coler.zip . -i coler)\n"
          ]
        }
      ]
    },
    {
      "cell_type": "markdown",
      "source": [
        "#背景処理画像を作成\n",
        "[remobe.bg](https://www.remove.bg/ja)にアクセスして、背景消去した画像を作成する"
      ],
      "metadata": {
        "id": "sSyAALr5UAk_"
      }
    },
    {
      "cell_type": "markdown",
      "source": [
        "※フォルダには生画像、背景処理画像をセットで入れておく"
      ],
      "metadata": {
        "id": "csL-qRHPV5Aq"
      }
    },
    {
      "cell_type": "markdown",
      "source": [
        "##ローカルから画像を入手する場合\n",
        "\n",
        "画像の入ったフォルダをzip化(日本語は文字化けする)、ダウンロードののち、以下のコードで解凍"
      ],
      "metadata": {
        "id": "HGRL9p2N6qDD"
      }
    },
    {
      "cell_type": "code",
      "source": [
        "!unzip -q roze-reaf-rinkaku-resize.zip"
      ],
      "metadata": {
        "id": "ciEn7BP26nIT"
      },
      "execution_count": null,
      "outputs": []
    },
    {
      "cell_type": "markdown",
      "source": [
        "#画像の仕分け\n",
        "\n",
        "画像のリストを取得し、生画像、背景処理画像それぞれのフォルダに入れるプログラム"
      ],
      "metadata": {
        "id": "Nqojv1P5WG2j"
      }
    },
    {
      "cell_type": "code",
      "source": [
        "#参考https://kino-code.com/files-move/\n",
        "import os\n",
        "import shutil\n",
        "#作成するフォルダネーム\n",
        "file_extensions = ['jpg','png']\n",
        "file_extensions \n",
        "\n",
        "#読み取りたいディレクトリパスを入れる\n",
        "read_path = 'roze-reaf-rinkaku-resize'#★読み取るフォルダネームに合わせて変更\n",
        "read_files = os.listdir(read_path)\n",
        "\n",
        "#拡張子リストを取得するフォー文を追加する。\n",
        "for file_extension in file_extensions:\n",
        "  if not os.path.exists(file_extension):\n",
        "    os.mkdir(file_extension)\n",
        "\n",
        "  #指定の拡張子だけのファイル名をリストを作る\n",
        "  file_list = []\n",
        "  for file_name in read_files:\n",
        "      if file_name.endswith(file_extension):\n",
        "          file_list.append(file_name)\n",
        "\n",
        "  #read_listから、指定の拡張子のファイルだけ指定のディレクトリにコピーする\n",
        "  for file_name in file_list:\n",
        "      copy_from = './' + read_path + '/' + file_name    \n",
        "      copy_to = './' + file_extension + '/' + file_name \n",
        "      shutil.copy2(copy_from, copy_to)"
      ],
      "metadata": {
        "id": "HuMmQBDPWZVF"
      },
      "execution_count": null,
      "outputs": []
    },
    {
      "cell_type": "markdown",
      "source": [
        "#マスク画像を取得"
      ],
      "metadata": {
        "id": "B0Mtw15qt-B5"
      }
    },
    {
      "cell_type": "markdown",
      "source": [
        "jpgフォルダには元の画像を、maskフォルダにはマスク画像を入れる。それぞれのセットごとに同じ名前を付けること"
      ],
      "metadata": {
        "id": "9k7WVm4x_x_i"
      }
    },
    {
      "cell_type": "markdown",
      "source": [
        "アルファチャンネル（透過度）のみ取得"
      ],
      "metadata": {
        "id": "d4iO6yqx7OSM"
      }
    },
    {
      "cell_type": "code",
      "source": [
        "import cv2\n",
        "from matplotlib import pyplot as plt\n",
        "import glob\n",
        "\n",
        "#jpgフォルダのリストを取得\n",
        "LOAD_FOLDA = 'png'\n",
        "LOAD_NAME = os.listdir(LOAD_FOLDA)\n",
        "\n",
        "\n",
        "#マスクフォルダを作成\n",
        "SAVE_NAME = 'mask'\n",
        "if not os.path.exists('./' +SAVE_NAME):\n",
        "    os.mkdir('./' +SAVE_NAME)\n",
        "\n",
        "#マスク画像を作るためのfor文\n",
        "for file_name in LOAD_NAME:\n",
        "\n",
        "  IMAGE_PATH='/content/' + LOAD_FOLDA +'/'+file_name\n",
        "  image = cv2.imread(IMAGE_PATH, cv2.IMREAD_UNCHANGED)# 画像を読み込んでNumPy配列を作成\n",
        "  alpha_image = image[:,:,3]# スライスを利用してアルファチャンネルのみを切り出し\n",
        "  cv2.imwrite('/content/'+SAVE_NAME+'/'+file_name, alpha_image)# 画像ファイルとして保存\n",
        "\n",
        "#マスク画像の名前を置き換えるためのfor文\n",
        "FILE_PASS=glob.glob('/content/mask/*')\n",
        "\n",
        "for name in FILE_PASS:\n",
        "  #nameの名前をRENAMEへ変更\n",
        "  RENAME=name.replace('-removebg-preview', '')\n",
        "  os.rename(name, RENAME)"
      ],
      "metadata": {
        "id": "VgG8XwOV7NgE"
      },
      "execution_count": null,
      "outputs": []
    },
    {
      "cell_type": "markdown",
      "source": [
        "#カラー画像を取得"
      ],
      "metadata": {
        "id": "C-iQ5ld3t0_t"
      }
    },
    {
      "cell_type": "code",
      "source": [
        "import cv2\n",
        "from matplotlib import pyplot as plt\n",
        "import glob\n",
        "\n",
        "color_list = [(255,0,0),(0,255,0),(0,0,255),(255,255,0),(0,255,255),(255,255,255)]\n",
        "\n",
        "\n",
        "#maskフォルダのリストを取得\n",
        "LOAD_FOLDA = 'mask'\n",
        "LOAD_NAME = os.listdir(LOAD_FOLDA)\n",
        "\n",
        "\n",
        "#colerを作成\n",
        "SAVE_NAME = 'coler'\n",
        "if not os.path.exists('./' +SAVE_NAME):\n",
        "    os.mkdir('./' +SAVE_NAME)\n",
        "\n",
        "#coler画像を作るためのfor文\n",
        "for file_name in LOAD_NAME:\n",
        "  im = cv2.imread('/content/'+LOAD_FOLDA+'/'+file_name,flags=cv2.IMREAD_GRAYSCALE)\n",
        "  contours, hierarchy = cv2.findContours(im,cv2.RETR_EXTERNAL,cv2.CHAIN_APPROX_SIMPLE)\n",
        "\n",
        "  img2 = cv2.cvtColor(im, cv2.COLOR_GRAY2BGR)\n",
        "  for i in range(len(contours)):\n",
        "      cnt = contours[i]\n",
        "      img2 = cv2.drawContours(img2, [cnt], 0, color_list[i], -1)\n",
        "  arfa_image = cv2.cvtColor(img2, cv2.COLOR_BGR2RGB)  \n",
        "  cv2.imwrite('/content/'+SAVE_NAME+'/'+file_name, arfa_image)# 画像ファイルとして保存\n",
        "\n",
        "#カラーコードをHEX形式でtxtに出力\n",
        "fname = '/content/'+SAVE_NAME+'/'+'coler_code.txt'\n",
        "f = open(fname,'w')\n",
        "for i in color_list:\n",
        "  html_color='#%02X%02X%02X' % i+\"\\n\"\n",
        "  f.write(html_color)\n",
        "f.close()"
      ],
      "metadata": {
        "id": "331DYtPdt0o0"
      },
      "execution_count": null,
      "outputs": []
    },
    {
      "cell_type": "markdown",
      "source": [
        "##読み込んだ画像を表示する場合\n",
        "\n",
        "・OpenCVを使って画像を読み込む cv2.imreadでOpenCV形式に変換 OpenCVはBGRなのでcvtColorでRGBに直してから表示する"
      ],
      "metadata": {
        "id": "5VRBG0d67CL_"
      }
    },
    {
      "cell_type": "code",
      "source": [
        "import cv2\n",
        "from matplotlib import pyplot as plt\n",
        "image_name='/content/mask/1.png'\n",
        "orig = cv2.imread(image_name)\n",
        "src = cv2.cvtColor(orig, cv2.COLOR_BGR2RGB)\n",
        "plt.imshow(src)"
      ],
      "metadata": {
        "id": "15iy-N5W7Dy5",
        "outputId": "8d842a47-9bf2-418d-b4c8-b1bd270b0e25",
        "colab": {
          "base_uri": "https://localhost:8080/",
          "height": 287
        }
      },
      "execution_count": null,
      "outputs": [
        {
          "output_type": "execute_result",
          "data": {
            "text/plain": [
              "<matplotlib.image.AxesImage at 0x7f40f40ae2d0>"
            ]
          },
          "metadata": {},
          "execution_count": 7
        },
        {
          "output_type": "display_data",
          "data": {
            "text/plain": [
              "<Figure size 432x288 with 1 Axes>"
            ],
            "image/png": "[encoded data removed]"
          },
          "metadata": {
            "needs_background": "light"
          }
        }
      ]
    },
    {
      "cell_type": "code",
      "source": [
        "im = cv2.imread(image_name,flags=cv2.IMREAD_GRAYSCALE)\n",
        "contours, hierarchy = cv2.findContours(im,cv2.RETR_EXTERNAL,cv2.CHAIN_APPROX_SIMPLE)\n",
        "img = cv2.cvtColor(im, cv2.COLOR_GRAY2BGR)\n",
        "#drawContoursの最後の引数で輪郭描画線の太さが指定できる。\n",
        "img = cv2.drawContours(img, contours, -1, (0,255,0), 1)\n",
        "plt.imshow(img)\n",
        "plt.show()"
      ],
      "metadata": {
        "colab": {
          "base_uri": "https://localhost:8080/",
          "height": 269
        },
        "id": "dk_yaDwjrdJy",
        "outputId": "b0799e73-ad3e-4d2c-82d2-cc3958131068"
      },
      "execution_count": null,
      "outputs": [
        {
          "output_type": "display_data",
          "data": {
            "text/plain": [
              "<Figure size 432x288 with 1 Axes>"
            ],
            "image/png": "[encoded data removed]"
          },
          "metadata": {
            "needs_background": "light"
          }
        }
      ]
    },
    {
      "cell_type": "code",
      "source": [
        "img2 = cv2.cvtColor(im, cv2.COLOR_GRAY2BGR)\n",
        "color_list = [(255,0,0),(0,255,0),(0,0,153),(0,0,204),(0,0,255)]\n",
        "\n",
        "for i in range(len(contours)):\n",
        "    cnt = contours[i]\n",
        "    img2 = cv2.drawContours(img2, [cnt], 0, color_list[i], -1)\n",
        "arfa_image = cv2.cvtColor(img2, cv2.COLOR_BGR2RGB)\n",
        "plt.imshow(arfa_image)\n",
        "plt.show()\n",
        "#cv2.imwrite(image_name, arfa_image)# 画像ファイルとして保存"
      ],
      "metadata": {
        "colab": {
          "base_uri": "https://localhost:8080/",
          "height": 287
        },
        "id": "Dn2JT2O_r2Cx",
        "outputId": "1e0ef3dd-fa0e-4d79-b23a-58f49b0fe58c"
      },
      "execution_count": null,
      "outputs": [
        {
          "output_type": "display_data",
          "data": {
            "text/plain": [
              "<Figure size 432x288 with 1 Axes>"
            ],
            "image/png": "[encoded data removed]"
          },
          "metadata": {
            "needs_background": "light"
          }
        },
        {
          "output_type": "execute_result",
          "data": {
            "text/plain": [
              "True"
            ]
          },
          "metadata": {},
          "execution_count": 9
        }
      ]
    },
    {
      "cell_type": "markdown",
      "source": [
        "#CSVでバウンディングボックスのアノテーションデータを出力\n",
        "\n"
      ],
      "metadata": {
        "id": "_5Pd3W4abfmr"
      }
    },
    {
      "cell_type": "code",
      "source": [
        "#csvに書き込むときは、行列を作って一気に書き込んだほうが処理が速い\n",
        "mask_indexes = np.where(cv2.imread(image_name)[:,:,0]>0)\n",
        "y_min = np.min(mask_indexes[0])\n",
        "y_max = np.max(mask_indexes[0])\n",
        "x_min = np.min(mask_indexes[1])\n",
        "x_max = np.max(mask_indexes[1])\n"
      ],
      "metadata": {
        "id": "IED3Nw5O3kHv"
      },
      "execution_count": null,
      "outputs": []
    },
    {
      "cell_type": "markdown",
      "source": [
        "#JSON(coco)形式でインスタンスセグメンテーションのアノテーションデータを出力"
      ],
      "metadata": {
        "id": "EPSi7-s80Wc1"
      }
    },
    {
      "cell_type": "markdown",
      "source": [
        "ライブラリインポート"
      ],
      "metadata": {
        "id": "GwfJcrH4A6N4"
      }
    },
    {
      "cell_type": "code",
      "source": [
        "import json\n",
        "import collections as cl\n",
        "import numpy as np\n",
        "import matplotlib.pyplot as plt\n",
        "from scipy import ndimage\n",
        "from skimage import measure\n",
        "from skimage.segmentation import clear_border\n",
        "from skimage.filters import threshold_otsu\n",
        "import cv2\n",
        "import glob\n",
        "import sys\n",
        "import os"
      ],
      "metadata": {
        "id": "MlKvQKSNA8ZX"
      },
      "execution_count": null,
      "outputs": []
    },
    {
      "cell_type": "markdown",
      "source": [
        "関数定義"
      ],
      "metadata": {
        "id": "bksvD6tTA_jg"
      }
    },
    {
      "cell_type": "markdown",
      "source": [
        "問題点\n",
        "\n",
        "*複数枚の葉が写った画像に対応させる必要がある"
      ],
      "metadata": {
        "id": "7aNIghfb3PX0"
      }
    },
    {
      "cell_type": "markdown",
      "source": [
        "##※roboflow形式"
      ],
      "metadata": {
        "id": "9BBa8HDrcivn"
      }
    },
    {
      "cell_type": "code",
      "source": [
        "### https://qiita.com/harmegiddo/items/da131ae5bcddbbbde41f\n",
        "\n",
        "def info():\n",
        "    tmp = cl.OrderedDict()\n",
        "    tmp[\"year\"] = \"2022\"\n",
        "    tmp[\"version\"] = \"1\"\n",
        "    tmp[\"description\"] = \"Exported from roboflow.ai\"\n",
        "    tmp[\"contributor\"] = \"\"\n",
        "    tmp[\"url\"] =\"https://public.roboflow.ai/object-detection/undefined\"\n",
        "    tmp[\"data_created\"] = \"2022\"\n",
        "    return tmp\n",
        "\n",
        "def licenses():\n",
        "    tmp = cl.OrderedDict()\n",
        "    tmp[\"id\"] = 1\n",
        "    tmp[\"url\"] = \"https://creativecommons.org/licenses/by/4.0/\"\n",
        "    tmp[\"name\"] = \"CC BY 4.0\"\n",
        "    return tmp\n",
        "\n",
        "def categories():\n",
        "    tmps = []\n",
        "    sup = [\"none\",\"reaf\",\"reaf\",\"reaf\",\"reaf\",\"reaf\"]\n",
        "    cat = [\"reaf\",\"reaf1\",\"reaf2\",\"reaf3\",\"reaf4\",\"reaf5\"]\n",
        "\n",
        "    for i in range(len(sup)):\n",
        "        tmp = cl.OrderedDict()\n",
        "        tmp[\"id\"] = i\n",
        "        tmp[\"name\"] = cat[i]\n",
        "        tmp[\"supercategory\"] = sup[i]\n",
        "        tmps.append(tmp)\n",
        "    return tmps\n",
        "\n",
        "def images(mask_path):\n",
        "    tmps = []\n",
        "    files = glob.glob(mask_path + \"/*.png\")\n",
        "    files.sort()\n",
        "\n",
        "    for i, file in enumerate(files):\n",
        "        img = cv2.imread(file, 0)\n",
        "        height, width = img.shape[:3]\n",
        "\n",
        "        tmp = cl.OrderedDict()\n",
        "        tmp[\"id\"] = i\n",
        "        tmp[\"license\"] = 1\n",
        "        tmp[\"file_name\"] = os.path.basename(file.replace('png', 'jpg'))\n",
        "        tmp[\"height\"] = height\n",
        "        tmp[\"width\"] = width\n",
        "        tmp[\"date_captured\"] = \"\"\n",
        "        tmps.append(tmp)\n",
        "    return tmps\n",
        "\n",
        "\n",
        "def annotations(mask_path):\n",
        "    tmps = []\n",
        "\n",
        "    files = glob.glob(mask_path + \"/*.png\")\n",
        "    files.sort()\n",
        "    \n",
        "    for i, file in enumerate(files):\n",
        "        img = cv2.imread(file, 0)\n",
        "        tmp = cl.OrderedDict()\n",
        "        contours = measure.find_contours(img, 0.5)\n",
        "        segmentation_list = []\n",
        "\n",
        "        for contour in contours:\n",
        "            for a in contour:\n",
        "                segmentation_list.append(a[1])\n",
        "                segmentation_list.append(a[0])\n",
        "\n",
        "\n",
        "        mask = np.array(img)\n",
        "        obj_ids = np.unique(mask)\n",
        "        obj_ids = obj_ids[1:]\n",
        "        masks = mask == obj_ids[:, None, None]\n",
        "        num_objs = len(obj_ids)\n",
        "        boxes = []\n",
        "\n",
        "        for j in range(num_objs):\n",
        "            pos = np.where(masks[j])\n",
        "            xmin = np.min(pos[1])\n",
        "            xmax = np.max(pos[1])\n",
        "            ymin = np.min(pos[0])\n",
        "            ymax = np.max(pos[0])\n",
        "            boxes.append([xmin, ymin, xmax, ymax])\n",
        "\n",
        "        tmp_segmentation = cl.OrderedDict()\n",
        "\n",
        "        tmp[\"id\"] = i\n",
        "        tmp[\"image_id\"] = i\n",
        "        tmp[\"category_id\"] = 1\n",
        "        tmp[\"bbox\"] =  [float(boxes[0][0]), float(boxes[0][1]), float(boxes[0][3] - boxes[0][1]), float(boxes[0][2] - boxes[0][0])]\n",
        "        tmp[\"area\"] = float(boxes[0][3] - boxes[0][1]) * float(boxes[0][2] - boxes[0][0])\n",
        "        tmp[\"segmentation\"] = [segmentation_list]\n",
        "        tmp[\"iscrowd\"] = 0        \n",
        "        tmps.append(tmp)\n",
        "    return tmps\n",
        "\n",
        "\n",
        "\n",
        "def main(mask_path, json_name):\n",
        "    query_list = [\"info\", \"licenses\", \"categories\", \"images\", \"annotations\"]\n",
        "    js = cl.OrderedDict()\n",
        "    for i in range(len(query_list)):\n",
        "        tmp = \"\"\n",
        "        # Info\n",
        "        if query_list[i] == \"info\":\n",
        "            tmp = info()\n",
        "            \n",
        "        # licenses\n",
        "        elif query_list[i] == \"licenses\":\n",
        "            tmp = licenses()\n",
        "\n",
        "        elif query_list[i] == \"categories\":\n",
        "            tmp = categories()\n",
        "\n",
        "        elif query_list[i] == \"images\":\n",
        "            tmp = images(mask_path)\n",
        "\n",
        "        elif query_list[i] == \"annotations\":\n",
        "            tmp = annotations(mask_path)\n",
        "\n",
        "        # save it\n",
        "        js[query_list[i]] = tmp\n",
        "\n",
        "    # write\n",
        "    fw = open(json_name,'w')\n",
        "    json.dump(js,fw,indent=2)\n",
        "\n",
        "#main\n",
        "#args = sys.argv\n",
        "#mask_path = args[1]\n",
        "mask_path =  \"/content/mask\"\n",
        "#json_name = args[2]\n",
        "json_name = \"reaf-roboflow.json\"\n",
        "\n",
        "if __name__=='__main__':\n",
        "    main(mask_path, json_name)"
      ],
      "metadata": {
        "id": "RzqJcdTXA1yd",
        "outputId": "3199a093-7734-4bc9-e67d-da3aa7ed4bbd",
        "colab": {
          "base_uri": "https://localhost:8080/",
          "height": 341
        }
      },
      "execution_count": null,
      "outputs": [
        {
          "output_type": "error",
          "ename": "NameError",
          "evalue": "ignored",
          "traceback": [
            "\u001b[0;31m---------------------------------------------------------------------------\u001b[0m",
            "\u001b[0;31mNameError\u001b[0m                                 Traceback (most recent call last)",
            "\u001b[0;32m<ipython-input-12-f3fcd8ab6c68>\u001b[0m in \u001b[0;36m<module>\u001b[0;34m\u001b[0m\n\u001b[1;32m    135\u001b[0m \u001b[0;34m\u001b[0m\u001b[0m\n\u001b[1;32m    136\u001b[0m \u001b[0;32mif\u001b[0m \u001b[0m__name__\u001b[0m\u001b[0;34m==\u001b[0m\u001b[0;34m'__main__'\u001b[0m\u001b[0;34m:\u001b[0m\u001b[0;34m\u001b[0m\u001b[0;34m\u001b[0m\u001b[0m\n\u001b[0;32m--> 137\u001b[0;31m     \u001b[0mmain\u001b[0m\u001b[0;34m(\u001b[0m\u001b[0mmask_path\u001b[0m\u001b[0;34m,\u001b[0m \u001b[0mjson_name\u001b[0m\u001b[0;34m)\u001b[0m\u001b[0;34m\u001b[0m\u001b[0;34m\u001b[0m\u001b[0m\n\u001b[0m",
            "\u001b[0;32m<ipython-input-12-f3fcd8ab6c68>\u001b[0m in \u001b[0;36mmain\u001b[0;34m(mask_path, json_name)\u001b[0m\n\u001b[1;32m    100\u001b[0m \u001b[0;32mdef\u001b[0m \u001b[0mmain\u001b[0m\u001b[0;34m(\u001b[0m\u001b[0mmask_path\u001b[0m\u001b[0;34m,\u001b[0m \u001b[0mjson_name\u001b[0m\u001b[0;34m)\u001b[0m\u001b[0;34m:\u001b[0m\u001b[0;34m\u001b[0m\u001b[0;34m\u001b[0m\u001b[0m\n\u001b[1;32m    101\u001b[0m     \u001b[0mquery_list\u001b[0m \u001b[0;34m=\u001b[0m \u001b[0;34m[\u001b[0m\u001b[0;34m\"info\"\u001b[0m\u001b[0;34m,\u001b[0m \u001b[0;34m\"licenses\"\u001b[0m\u001b[0;34m,\u001b[0m \u001b[0;34m\"categories\"\u001b[0m\u001b[0;34m,\u001b[0m \u001b[0;34m\"images\"\u001b[0m\u001b[0;34m,\u001b[0m \u001b[0;34m\"annotations\"\u001b[0m\u001b[0;34m]\u001b[0m\u001b[0;34m\u001b[0m\u001b[0;34m\u001b[0m\u001b[0m\n\u001b[0;32m--> 102\u001b[0;31m     \u001b[0mjs\u001b[0m \u001b[0;34m=\u001b[0m \u001b[0mcl\u001b[0m\u001b[0;34m.\u001b[0m\u001b[0mOrderedDict\u001b[0m\u001b[0;34m(\u001b[0m\u001b[0;34m)\u001b[0m\u001b[0;34m\u001b[0m\u001b[0;34m\u001b[0m\u001b[0m\n\u001b[0m\u001b[1;32m    103\u001b[0m     \u001b[0;32mfor\u001b[0m \u001b[0mi\u001b[0m \u001b[0;32min\u001b[0m \u001b[0mrange\u001b[0m\u001b[0;34m(\u001b[0m\u001b[0mlen\u001b[0m\u001b[0;34m(\u001b[0m\u001b[0mquery_list\u001b[0m\u001b[0;34m)\u001b[0m\u001b[0;34m)\u001b[0m\u001b[0;34m:\u001b[0m\u001b[0;34m\u001b[0m\u001b[0;34m\u001b[0m\u001b[0m\n\u001b[1;32m    104\u001b[0m         \u001b[0mtmp\u001b[0m \u001b[0;34m=\u001b[0m \u001b[0;34m\"\"\u001b[0m\u001b[0;34m\u001b[0m\u001b[0;34m\u001b[0m\u001b[0m\n",
            "\u001b[0;31mNameError\u001b[0m: name 'cl' is not defined"
          ]
        }
      ]
    },
    {
      "cell_type": "markdown",
      "source": [
        "##※FastLabel形式"
      ],
      "metadata": {
        "id": "Av9y28L8cwxn"
      }
    },
    {
      "cell_type": "code",
      "source": [
        "### https://docs.fastlabel.ai/docs/import-annotation\n",
        "\n",
        "def images(mask_path):\n",
        "    tmps = []\n",
        "    files = glob.glob(mask_path + \"/*.png\")\n",
        "    files.sort()\n",
        "\n",
        "    for i, file in enumerate(files):\n",
        "        img = cv2.imread(file, 0)\n",
        "        height, width = img.shape[:3]\n",
        "\n",
        "        tmp = cl.OrderedDict()\n",
        "        tmp[\"file_name\"] = os.path.basename(file.replace('png', 'jpg'))\n",
        "        tmp[\"id\"] = i+1\n",
        "        tmps.append(tmp)\n",
        "    return tmps\n",
        "\n",
        "def categories():\n",
        "    tmps = []\n",
        "    sup = [\"reaf\"]\n",
        "\n",
        "    for i in range(len(sup)):\n",
        "        tmp = cl.OrderedDict()\n",
        "        tmp[\"id\"] = i+1\n",
        "        tmp[\"supercategory\"] = sup[0]\n",
        "        tmps.append(tmp)\n",
        "    return tmps\n",
        "\n",
        "\n",
        "def annotations(mask_path):\n",
        "    tmps = []\n",
        "\n",
        "    files = glob.glob(mask_path + \"/*.png\")\n",
        "    files.sort()\n",
        "    \n",
        "    for i, file in enumerate(files):\n",
        "        img = cv2.imread(file, 0)\n",
        "        tmp = cl.OrderedDict()\n",
        "        contours = measure.find_contours(img, 0.5)\n",
        "        segmentation_list = []\n",
        "\n",
        "        for contour in contours:\n",
        "            for a in contour:\n",
        "                segmentation_list.append(a[1])\n",
        "                segmentation_list.append(a[0])\n",
        "\n",
        "\n",
        "        mask = np.array(img)\n",
        "        obj_ids = np.unique(mask)\n",
        "        obj_ids = obj_ids[1:]\n",
        "        masks = mask == obj_ids[:, None, None]\n",
        "        num_objs = len(obj_ids)\n",
        "        boxes = []\n",
        "\n",
        "        for j in range(num_objs):\n",
        "            pos = np.where(masks[j])\n",
        "            xmin = np.min(pos[1])\n",
        "            xmax = np.max(pos[1])\n",
        "            ymin = np.min(pos[0])\n",
        "            ymax = np.max(pos[0])\n",
        "            boxes.append([xmin, ymin, xmax, ymax])\n",
        "\n",
        "        tmp_segmentation = cl.OrderedDict()\n",
        "        tmp[\"segmentation\"] = [segmentation_list]\n",
        "\n",
        "        tmp_segmentation = cl.OrderedDict()\n",
        "        tmp[\"image_id\"] = i\n",
        "        tmp[\"category_id\"] = 1\n",
        "        tmp[\"id\"] = i        \n",
        "        tmps.append(tmp)\n",
        "    return tmps\n",
        "\n",
        "\n",
        "\n",
        "def main(mask_path, json_name):\n",
        "    query_list = [\"images\",\"categories\",\"annotations\"]\n",
        "    js = cl.OrderedDict()\n",
        "    for i in range(len(query_list)):\n",
        "        tmp = \"\"\n",
        "        # Info\n",
        "        if query_list[i] == \"images\":\n",
        "            tmp = images(mask_path)\n",
        "\n",
        "        elif query_list[i] == \"categories\":\n",
        "            tmp = categories()\n",
        "\n",
        "        elif query_list[i] == \"annotations\":\n",
        "            tmp = annotations(mask_path)\n",
        "\n",
        "        # save it\n",
        "        js[query_list[i]] = tmp\n",
        "\n",
        "    # write\n",
        "    fw = open(json_name,'w')\n",
        "    json.dump(js,fw,indent=2)\n",
        "\n",
        "#main\n",
        "#args = sys.argv\n",
        "#mask_path = args[1]\n",
        "mask_path =  \"/content/mask\"\n",
        "#json_name = args[2]\n",
        "json_name = \"reaf-fastlabel.json\"\n",
        "\n",
        "if __name__=='__main__':\n",
        "    main(mask_path, json_name)"
      ],
      "metadata": {
        "id": "fgE9cnNocuuC"
      },
      "execution_count": null,
      "outputs": []
    },
    {
      "cell_type": "markdown",
      "source": [
        "#背景合成"
      ],
      "metadata": {
        "id": "kpBtaUBCDw0U"
      }
    },
    {
      "cell_type": "markdown",
      "source": [
        "※ドライブから背景を取得"
      ],
      "metadata": {
        "id": "OWYRd15KIdQo"
      }
    },
    {
      "cell_type": "code",
      "source": [
        "import shutil\n",
        "#!cd \"/content/drive/MyDrive/バラ画像/\" && zip -q \"background_image.zip\" -r \"background_image\"\n",
        "shutil.move('/content/drive/MyDrive/バラ画像/background_image.zip','/content')\n",
        "!unzip -q background_image.zip"
      ],
      "metadata": {
        "id": "ik9gvAGbIcLE"
      },
      "execution_count": null,
      "outputs": []
    },
    {
      "cell_type": "markdown",
      "source": [
        "背景画像をrisaize"
      ],
      "metadata": {
        "id": "2B0X5zXVNf-o"
      }
    },
    {
      "cell_type": "code",
      "source": [
        "!pip install Pillow\n",
        "import os\n",
        "from PIL import Image\n",
        "from google.colab import drive,files\n",
        "\n",
        "%cd /content\n",
        "!mkdir background_image_resize\n",
        "\n",
        "dir_name = \"/content/background_image\"\n",
        "new_dir_name = \"/content/background_image_resize\"\n",
        "files = os.listdir(dir_name)\n",
        "\n",
        "for file in files:\n",
        "    photo = Image.open(os.path.join(dir_name, file))\n",
        "    if photo.size[0] == 3120:\n",
        "      photo_resize = photo.resize((433,577))\n",
        "    else:\n",
        "      photo_resize = photo.resize((577,433))\n",
        "    photo_resize.save(os.path.join(new_dir_name, file))"
      ],
      "metadata": {
        "id": "uzg8_4iXNfTs",
        "outputId": "5a4f8902-5dd3-428c-9c78-e1ae781994d8",
        "colab": {
          "base_uri": "https://localhost:8080/"
        }
      },
      "execution_count": null,
      "outputs": [
        {
          "output_type": "stream",
          "name": "stdout",
          "text": [
            "Looking in indexes: https://pypi.org/simple, https://us-python.pkg.dev/colab-wheels/public/simple/\n",
            "Requirement already satisfied: Pillow in /usr/local/lib/python3.7/dist-packages (7.1.2)\n",
            "/content\n"
          ]
        }
      ]
    },
    {
      "cell_type": "code",
      "source": [
        "import cv2\n",
        "\n",
        "img1 = cv2.imread('/content/jpg/1.jpg')\n",
        "img2 = cv2.imread('/content/background_image_resize/IMG_20220427_102011.jpg')\n",
        "\n",
        "height, width = img1.shape[:2]\n",
        "img2[0:height, 0:width] = img1\n",
        "\n",
        "cv2.imwrite('new.jpg', img2)"
      ],
      "metadata": {
        "id": "sAwNs7q4IRPw",
        "outputId": "e82b0968-521d-42d2-d1f1-6f59cdcb67db",
        "colab": {
          "base_uri": "https://localhost:8080/",
          "height": 240
        }
      },
      "execution_count": null,
      "outputs": [
        {
          "output_type": "error",
          "ename": "ValueError",
          "evalue": "ignored",
          "traceback": [
            "\u001b[0;31m---------------------------------------------------------------------------\u001b[0m",
            "\u001b[0;31mValueError\u001b[0m                                Traceback (most recent call last)",
            "\u001b[0;32m<ipython-input-11-9592f2f7bddb>\u001b[0m in \u001b[0;36m<module>\u001b[0;34m()\u001b[0m\n\u001b[1;32m      5\u001b[0m \u001b[0;34m\u001b[0m\u001b[0m\n\u001b[1;32m      6\u001b[0m \u001b[0mheight\u001b[0m\u001b[0;34m,\u001b[0m \u001b[0mwidth\u001b[0m \u001b[0;34m=\u001b[0m \u001b[0mimg1\u001b[0m\u001b[0;34m.\u001b[0m\u001b[0mshape\u001b[0m\u001b[0;34m[\u001b[0m\u001b[0;34m:\u001b[0m\u001b[0;36m2\u001b[0m\u001b[0;34m]\u001b[0m\u001b[0;34m\u001b[0m\u001b[0;34m\u001b[0m\u001b[0m\n\u001b[0;32m----> 7\u001b[0;31m \u001b[0mimg2\u001b[0m\u001b[0;34m[\u001b[0m\u001b[0;36m0\u001b[0m\u001b[0;34m:\u001b[0m\u001b[0mheight\u001b[0m\u001b[0;34m,\u001b[0m \u001b[0;36m0\u001b[0m\u001b[0;34m:\u001b[0m\u001b[0mwidth\u001b[0m\u001b[0;34m]\u001b[0m \u001b[0;34m=\u001b[0m \u001b[0mimg1\u001b[0m\u001b[0;34m\u001b[0m\u001b[0;34m\u001b[0m\u001b[0m\n\u001b[0m\u001b[1;32m      8\u001b[0m \u001b[0;34m\u001b[0m\u001b[0m\n\u001b[1;32m      9\u001b[0m \u001b[0mcv2\u001b[0m\u001b[0;34m.\u001b[0m\u001b[0mimwrite\u001b[0m\u001b[0;34m(\u001b[0m\u001b[0;34m'new.jpg'\u001b[0m\u001b[0;34m,\u001b[0m \u001b[0mimg2\u001b[0m\u001b[0;34m)\u001b[0m\u001b[0;34m\u001b[0m\u001b[0;34m\u001b[0m\u001b[0m\n",
            "\u001b[0;31mValueError\u001b[0m: could not broadcast input array from shape (577,433,3) into shape (433,433,3)"
          ]
        }
      ]
    },
    {
      "cell_type": "markdown",
      "source": [
        "#分けてzip化する"
      ],
      "metadata": {
        "id": "uOp72ZIMHaDc"
      }
    },
    {
      "cell_type": "code",
      "source": [
        "#参考https://kino-code.com/files-move/\n",
        "import os\n",
        "import shutil\n",
        "import zipfile\n",
        "\n",
        "DOWNLOAD_FILE_NAME=\"zip_coler\"\n",
        "\n",
        "#l行のリストをn分割する関数\n",
        "def split_list(l, n):\n",
        "    for idx in range(0, len(l), n):\n",
        "        yield l[idx:idx + n]\n",
        "\n",
        "#作成するフォルダネーム\n",
        "file_extensions = list(range(0,10))\n",
        "split_list_number=10#分割する個数\n",
        "\n",
        "#読み取りたいディレクトリパスを入れる\n",
        "read_path = 'coler'#★読み取るフォルダネームに合わせて変更\n",
        "read_files = os.listdir(read_path)\n",
        "\n",
        "#拡張子リストを取得するフォー文を追加する。\n",
        "for i in file_extensions:\n",
        "  if not os.path.exists(str(i)):\n",
        "    os.mkdir(str(i))\n",
        "\n",
        "#指定の拡張子だけのファイル名をリストを作る\n",
        "file_list = list(split_list(read_files, split_list_number))\n",
        "\n",
        "  #read_listから、指定の拡張子のファイルだけ指定のディレクトリにコピーする\n",
        "for i in file_extensions:\n",
        "  for file_name in file_list[i]:\n",
        "    copy_from = './' + read_path + '/' + file_name    \n",
        "    copy_to = './' + str(i) + '/' + file_name \n",
        "    shutil.copy2(copy_from, copy_to)\n",
        "\n",
        "if not os.path.exists('/content/'+DOWNLOAD_FILE_NAME):\n",
        "  os.mkdir(DOWNLOAD_FILE_NAME)\n",
        "\n",
        "  # ZIPファイルを作成\n",
        "for i in file_extensions:\n",
        "  shutil.make_archive(str(i), format='zip', root_dir='/content/'+str(i))"
      ],
      "metadata": {
        "id": "d61ICiYv-ZmH"
      },
      "execution_count": null,
      "outputs": []
    },
    {
      "cell_type": "code",
      "source": [
        "#フォルダを移動\n",
        "for i in file_extensions:\n",
        "  if not os.path.exists('./' + str(i)+'.zip'):\n",
        "    shutil.move('/content/' + str(i)+'.zip','/content/'+DOWNLOAD_FILE_NAME)"
      ],
      "metadata": {
        "id": "TJnd_zu8gRyQ"
      },
      "execution_count": null,
      "outputs": []
    },
    {
      "cell_type": "code",
      "source": [
        "\n",
        "\n",
        "#元ファイルの消去\n",
        "for i in file_extensions:\n",
        "  shutil.rmtree(str(i))\n",
        "  os.remove('/content/' + str(i)+'.zip')\n",
        "\n",
        "#まとめたファイルをzip化\n",
        "shutil.make_archive(DOWNLOAD_FILE_NAME, format='zip', root_dir='/content/'+DOWNLOAD_FILE_NAME)"
      ],
      "metadata": {
        "id": "e6upUoQKgIWe"
      },
      "execution_count": null,
      "outputs": []
    },
    {
      "cell_type": "markdown",
      "source": [
        "白画像生成"
      ],
      "metadata": {
        "id": "vVGDXgncUz7Y"
      }
    },
    {
      "cell_type": "code",
      "source": [
        "import cv2\n",
        "import numpy as np\n",
        "size=(577,433)\n",
        "black_img=np.zeros(size,np.uint8)\n",
        "white_img=black_img+255\n",
        "cv2.imwrite('white.jpg',white_img)"
      ],
      "metadata": {
        "id": "1QNrxIJxUzMK",
        "outputId": "a14482e2-78e9-4036-e6bc-6dd7a84e7158",
        "colab": {
          "base_uri": "https://localhost:8080/"
        }
      },
      "execution_count": null,
      "outputs": [
        {
          "output_type": "execute_result",
          "data": {
            "text/plain": [
              "True"
            ]
          },
          "metadata": {},
          "execution_count": 31
        }
      ]
    },
    {
      "cell_type": "code",
      "source": [
        "import cv2\n",
        "from matplotlib import pyplot as plt\n",
        "import numpy as np\n",
        "from PIL import Image\n",
        "\n",
        "orig1 = np.array(Image.open('/content/jpg/1.jpg'))\n",
        "orig1=cv2.cvtColor(orig1, cv2.COLOR_BGR2RGB)\n",
        "orig2 = np.array(Image.open('/content/semantic_segmentations/1.png'))\n",
        "\n",
        "r = np.array(orig2[:, :, 0], dtype=np.int16)#スライス\n",
        "#retval,r2 = cv2.threshold(r, 0, 255, cv2.THRESH_BINARY)\n",
        "#r= cv2.blur(r,(6, 6))#ぼかす\n",
        "#retval,r = cv2.threshold(r, 250, 255, cv2.THRESH_BINARY)#二値化\n",
        "\n",
        "shape=orig1.shape\n",
        "\n",
        "kiritori=np.zeros((shape[0],shape[1],4))\n",
        "for i in list(range(3)):\n",
        "  kiritori[:,:,i]=orig1[:,:,i]\n",
        "\n",
        "kiritori[:,:,3]=r\n",
        "plt.imshow(orig2)\n",
        "#cv2.imwrite('/content/kiritori.png', kiritori)\n",
        "#np.savetxt('/content/r.txt',r,fmt='%d')"
      ],
      "metadata": {
        "id": "9LIhfp0qTLMt",
        "outputId": "52930395-f04d-4200-9798-7310bda345e4",
        "colab": {
          "base_uri": "https://localhost:8080/",
          "height": 287
        }
      },
      "execution_count": null,
      "outputs": [
        {
          "output_type": "execute_result",
          "data": {
            "text/plain": [
              "<matplotlib.image.AxesImage at 0x7f1eefebaf50>"
            ]
          },
          "metadata": {},
          "execution_count": 58
        },
        {
          "output_type": "display_data",
          "data": {
            "text/plain": [
              "<Figure size 432x288 with 1 Axes>"
            ],
            "image/png": "[encoded data removed]"
          },
          "metadata": {
            "needs_background": "light"
          }
        }
      ]
    }
  ]
}