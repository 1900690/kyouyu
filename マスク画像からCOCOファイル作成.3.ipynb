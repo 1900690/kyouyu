{
  "nbformat": 4,
  "nbformat_minor": 0,
  "metadata": {
    "colab": {
      "name": "マスク画像からCOCOファイル作成.ipynb",
      "provenance": [],
      "include_colab_link": true
    },
    "kernelspec": {
      "name": "python3",
      "display_name": "Python 3"
    },
    "language_info": {
      "name": "python"
    }
  },
  "cells": [
    {
      "cell_type": "markdown",
      "metadata": {
        "id": "view-in-github",
        "colab_type": "text"
      },
      "source": [
        "<a href=\"https://colab.research.google.com/github/1900690/kyouyu/blob/main/%E3%83%9E%E3%82%B9%E3%82%AF%E7%94%BB%E5%83%8F%E3%81%8B%E3%82%89COCO%E3%83%95%E3%82%A1%E3%82%A4%E3%83%AB%E4%BD%9C%E6%88%90.3.ipynb\" target=\"_parent\"><img src=\"https://colab.research.google.com/assets/colab-badge.svg\" alt=\"Open In Colab\"/></a>"
      ]
    },
    {
      "cell_type": "markdown",
      "source": [
        "グーグルドライブから画像を入手する場合\n",
        "\n",
        "グーグルドライブをマウント"
      ],
      "metadata": {
        "id": "btW8nb_W_dX7"
      }
    },
    {
      "cell_type": "code",
      "metadata": {
        "id": "fi5zLmBGco2M"
      },
      "source": [
        "from google.colab import drive\n",
        "drive.mount('/content/drive')"
      ],
      "execution_count": null,
      "outputs": []
    },
    {
      "cell_type": "markdown",
      "source": [
        "ローカルから画像を入手する場合\n",
        "\n",
        "表示する画像を選択"
      ],
      "metadata": {
        "id": "HGRL9p2N6qDD"
      }
    },
    {
      "cell_type": "code",
      "source": [
        "#ファイル選択を押して画像を選択\n",
        "from google.colab import files\n",
        "uploaded = files.upload()\n",
        "uploaded_file_name = next(iter(uploaded_file))"
      ],
      "metadata": {
        "id": "ciEn7BP26nIT",
        "outputId": "e8857b2f-6291-4f95-812c-b0d6baae4bc7",
        "colab": {
          "base_uri": "https://localhost:8080/",
          "height": 394
        }
      },
      "execution_count": 5,
      "outputs": [
        {
          "output_type": "display_data",
          "data": {
            "text/plain": [
              "<IPython.core.display.HTML object>"
            ],
            "text/html": [
              "\n",
              "     <input type=\"file\" id=\"files-23044efc-77f1-44cd-afb5-96e613397240\" name=\"files[]\" multiple disabled\n",
              "        style=\"border:none\" />\n",
              "     <output id=\"result-23044efc-77f1-44cd-afb5-96e613397240\">\n",
              "      Upload widget is only available when the cell has been executed in the\n",
              "      current browser session. Please rerun this cell to enable.\n",
              "      </output>\n",
              "      <script src=\"/nbextensions/google.colab/files.js\"></script> "
            ]
          },
          "metadata": {}
        },
        {
          "output_type": "error",
          "ename": "MessageError",
          "evalue": "ignored",
          "traceback": [
            "\u001b[0;31m---------------------------------------------------------------------------\u001b[0m",
            "\u001b[0;31mMessageError\u001b[0m                              Traceback (most recent call last)",
            "\u001b[0;32m<ipython-input-5-a6edc099ebaf>\u001b[0m in \u001b[0;36m<module>\u001b[0;34m()\u001b[0m\n\u001b[1;32m      2\u001b[0m \u001b[0;32mfrom\u001b[0m \u001b[0mgoogle\u001b[0m\u001b[0;34m.\u001b[0m\u001b[0mcolab\u001b[0m \u001b[0;32mimport\u001b[0m \u001b[0mfiles\u001b[0m\u001b[0;34m\u001b[0m\u001b[0;34m\u001b[0m\u001b[0m\n\u001b[1;32m      3\u001b[0m \u001b[0;34m\u001b[0m\u001b[0m\n\u001b[0;32m----> 4\u001b[0;31m \u001b[0muploaded\u001b[0m \u001b[0;34m=\u001b[0m \u001b[0mfiles\u001b[0m\u001b[0;34m.\u001b[0m\u001b[0mupload\u001b[0m\u001b[0;34m(\u001b[0m\u001b[0;34m)\u001b[0m\u001b[0;34m\u001b[0m\u001b[0;34m\u001b[0m\u001b[0m\n\u001b[0m\u001b[1;32m      5\u001b[0m \u001b[0muploaded_file_name\u001b[0m \u001b[0;34m=\u001b[0m \u001b[0mnext\u001b[0m\u001b[0;34m(\u001b[0m\u001b[0miter\u001b[0m\u001b[0;34m(\u001b[0m\u001b[0muploaded_file\u001b[0m\u001b[0;34m)\u001b[0m\u001b[0;34m)\u001b[0m\u001b[0;34m\u001b[0m\u001b[0;34m\u001b[0m\u001b[0m\n",
            "\u001b[0;32m/usr/local/lib/python3.7/dist-packages/google/colab/files.py\u001b[0m in \u001b[0;36mupload\u001b[0;34m()\u001b[0m\n\u001b[1;32m     44\u001b[0m   \"\"\"\n\u001b[1;32m     45\u001b[0m \u001b[0;34m\u001b[0m\u001b[0m\n\u001b[0;32m---> 46\u001b[0;31m   \u001b[0muploaded_files\u001b[0m \u001b[0;34m=\u001b[0m \u001b[0m_upload_files\u001b[0m\u001b[0;34m(\u001b[0m\u001b[0mmultiple\u001b[0m\u001b[0;34m=\u001b[0m\u001b[0;32mTrue\u001b[0m\u001b[0;34m)\u001b[0m\u001b[0;34m\u001b[0m\u001b[0;34m\u001b[0m\u001b[0m\n\u001b[0m\u001b[1;32m     47\u001b[0m   \u001b[0;31m# Mapping from original filename to filename as saved locally.\u001b[0m\u001b[0;34m\u001b[0m\u001b[0;34m\u001b[0m\u001b[0;34m\u001b[0m\u001b[0m\n\u001b[1;32m     48\u001b[0m   \u001b[0mlocal_filenames\u001b[0m \u001b[0;34m=\u001b[0m \u001b[0mdict\u001b[0m\u001b[0;34m(\u001b[0m\u001b[0;34m)\u001b[0m\u001b[0;34m\u001b[0m\u001b[0;34m\u001b[0m\u001b[0m\n",
            "\u001b[0;32m/usr/local/lib/python3.7/dist-packages/google/colab/files.py\u001b[0m in \u001b[0;36m_upload_files\u001b[0;34m(multiple)\u001b[0m\n\u001b[1;32m    121\u001b[0m   result = _output.eval_js(\n\u001b[1;32m    122\u001b[0m       'google.colab._files._uploadFiles(\"{input_id}\", \"{output_id}\")'.format(\n\u001b[0;32m--> 123\u001b[0;31m           input_id=input_id, output_id=output_id))\n\u001b[0m\u001b[1;32m    124\u001b[0m   \u001b[0mfiles\u001b[0m \u001b[0;34m=\u001b[0m \u001b[0m_collections\u001b[0m\u001b[0;34m.\u001b[0m\u001b[0mdefaultdict\u001b[0m\u001b[0;34m(\u001b[0m\u001b[0m_six\u001b[0m\u001b[0;34m.\u001b[0m\u001b[0mbinary_type\u001b[0m\u001b[0;34m)\u001b[0m\u001b[0;34m\u001b[0m\u001b[0;34m\u001b[0m\u001b[0m\n\u001b[1;32m    125\u001b[0m \u001b[0;34m\u001b[0m\u001b[0m\n",
            "\u001b[0;32m/usr/local/lib/python3.7/dist-packages/google/colab/output/_js.py\u001b[0m in \u001b[0;36meval_js\u001b[0;34m(script, ignore_result, timeout_sec)\u001b[0m\n\u001b[1;32m     38\u001b[0m   \u001b[0;32mif\u001b[0m \u001b[0mignore_result\u001b[0m\u001b[0;34m:\u001b[0m\u001b[0;34m\u001b[0m\u001b[0;34m\u001b[0m\u001b[0m\n\u001b[1;32m     39\u001b[0m     \u001b[0;32mreturn\u001b[0m\u001b[0;34m\u001b[0m\u001b[0;34m\u001b[0m\u001b[0m\n\u001b[0;32m---> 40\u001b[0;31m   \u001b[0;32mreturn\u001b[0m \u001b[0m_message\u001b[0m\u001b[0;34m.\u001b[0m\u001b[0mread_reply_from_input\u001b[0m\u001b[0;34m(\u001b[0m\u001b[0mrequest_id\u001b[0m\u001b[0;34m,\u001b[0m \u001b[0mtimeout_sec\u001b[0m\u001b[0;34m)\u001b[0m\u001b[0;34m\u001b[0m\u001b[0;34m\u001b[0m\u001b[0m\n\u001b[0m\u001b[1;32m     41\u001b[0m \u001b[0;34m\u001b[0m\u001b[0m\n\u001b[1;32m     42\u001b[0m \u001b[0;34m\u001b[0m\u001b[0m\n",
            "\u001b[0;32m/usr/local/lib/python3.7/dist-packages/google/colab/_message.py\u001b[0m in \u001b[0;36mread_reply_from_input\u001b[0;34m(message_id, timeout_sec)\u001b[0m\n\u001b[1;32m    104\u001b[0m         reply.get('colab_msg_id') == message_id):\n\u001b[1;32m    105\u001b[0m       \u001b[0;32mif\u001b[0m \u001b[0;34m'error'\u001b[0m \u001b[0;32min\u001b[0m \u001b[0mreply\u001b[0m\u001b[0;34m:\u001b[0m\u001b[0;34m\u001b[0m\u001b[0;34m\u001b[0m\u001b[0m\n\u001b[0;32m--> 106\u001b[0;31m         \u001b[0;32mraise\u001b[0m \u001b[0mMessageError\u001b[0m\u001b[0;34m(\u001b[0m\u001b[0mreply\u001b[0m\u001b[0;34m[\u001b[0m\u001b[0;34m'error'\u001b[0m\u001b[0;34m]\u001b[0m\u001b[0;34m)\u001b[0m\u001b[0;34m\u001b[0m\u001b[0;34m\u001b[0m\u001b[0m\n\u001b[0m\u001b[1;32m    107\u001b[0m       \u001b[0;32mreturn\u001b[0m \u001b[0mreply\u001b[0m\u001b[0;34m.\u001b[0m\u001b[0mget\u001b[0m\u001b[0;34m(\u001b[0m\u001b[0;34m'data'\u001b[0m\u001b[0;34m,\u001b[0m \u001b[0;32mNone\u001b[0m\u001b[0;34m)\u001b[0m\u001b[0;34m\u001b[0m\u001b[0;34m\u001b[0m\u001b[0m\n\u001b[1;32m    108\u001b[0m \u001b[0;34m\u001b[0m\u001b[0m\n",
            "\u001b[0;31mMessageError\u001b[0m: TypeError: Cannot read properties of undefined (reading '_uploadFiles')"
          ]
        }
      ]
    },
    {
      "cell_type": "markdown",
      "source": [
        "読み込んだ画像を表示\n",
        "\n",
        "・OpenCVを使って画像を読み込む cv2.imreadでOpenCV形式に変換 OpenCVはBGRなのでcvtColorでRGBに直してから表示する"
      ],
      "metadata": {
        "id": "5VRBG0d67CL_"
      }
    },
    {
      "cell_type": "code",
      "source": [
        "import cv2\n",
        "from matplotlib import pyplot as plt\n",
        "orig = cv2.imread(uploaded_file_name)\n",
        "src = cv2.cvtColor(orig, cv2.COLOR_BGR2RGB)\n",
        "plt.imshow(src)"
      ],
      "metadata": {
        "id": "15iy-N5W7Dy5"
      },
      "execution_count": null,
      "outputs": []
    },
    {
      "cell_type": "markdown",
      "source": [
        "アルファチャンネル（透過度）のみ取得"
      ],
      "metadata": {
        "id": "d4iO6yqx7OSM"
      }
    },
    {
      "cell_type": "code",
      "source": [
        "import cv2\n",
        "\n",
        "# 読み込みたい画像のファイルパス\n",
        "IMAGE_PATH = \"/content/FudanPed00005-removebg-preview.png\"\n",
        "\n",
        "# アルファチャネルのみの画像を保存するファイルパス\n",
        "SAVE_PATH = \"/content/FudanPed00005-removebg-preview1.png\"\n",
        "\n",
        "# 画像を読み込んでNumPy配列を作成\n",
        "image = cv2.imread(IMAGE_PATH, cv2.IMREAD_UNCHANGED)\n",
        "\n",
        "# スライスを利用してアルファチャンネルのみを切り出し\n",
        "alpha_image = image[:,:,3]\n",
        "\n",
        "# 画像ファイルとして保存\n",
        "#cv2.imwrite(SAVE_PATH, alpha_image)\n",
        "\n",
        "#画像を表示\n",
        "plt.imshow(alpha_image)\n",
        "\n",
        "#白黒表示\n",
        "plt.gray()"
      ],
      "metadata": {
        "id": "VgG8XwOV7NgE"
      },
      "execution_count": null,
      "outputs": []
    },
    {
      "cell_type": "markdown",
      "source": [
        "Imageフォルダとmaskフォルダを作成。Imageフォルダには元の画像を、maskフォルダにはマスク画像を入れる。それぞれのセットごとに同じ名前を付けること"
      ],
      "metadata": {
        "id": "9k7WVm4x_x_i"
      }
    },
    {
      "cell_type": "code",
      "source": [
        "!mkdir \"mask\"\n",
        "!mkdir \"image\""
      ],
      "metadata": {
        "id": "wWyHckxgAb9t"
      },
      "execution_count": null,
      "outputs": []
    },
    {
      "cell_type": "markdown",
      "source": [
        "ライブラリインポート"
      ],
      "metadata": {
        "id": "GwfJcrH4A6N4"
      }
    },
    {
      "cell_type": "code",
      "source": [
        "import json\n",
        "import collections as cl\n",
        "import numpy as np\n",
        "import matplotlib.pyplot as plt\n",
        "from scipy import ndimage\n",
        "from skimage import measure\n",
        "from skimage.segmentation import clear_border\n",
        "from skimage.filters import threshold_otsu\n",
        "import cv2\n",
        "import glob\n",
        "import sys\n",
        "import os"
      ],
      "metadata": {
        "id": "MlKvQKSNA8ZX"
      },
      "execution_count": null,
      "outputs": []
    },
    {
      "cell_type": "markdown",
      "source": [
        "関数定義"
      ],
      "metadata": {
        "id": "bksvD6tTA_jg"
      }
    },
    {
      "cell_type": "code",
      "source": [
        "### https://qiita.com/harmegiddo/items/da131ae5bcddbbbde41f\n",
        "\n",
        "def info():\n",
        "    tmp = cl.OrderedDict()\n",
        "    tmp[\"description\"] = \"Test\"\n",
        "    tmp[\"url\"] = \"https://test\"\n",
        "    tmp[\"version\"] = \"0.01\"\n",
        "    tmp[\"year\"] = 2020\n",
        "    tmp[\"contributor\"] = \"salt22g\"\n",
        "    tmp[\"data_created\"] = \"2020/12/20\"\n",
        "    return tmp\n",
        "\n",
        "def licenses():\n",
        "    tmp = cl.OrderedDict()\n",
        "    tmp[\"id\"] = 1\n",
        "    tmp[\"url\"] = \"dummy_words\"\n",
        "    tmp[\"name\"] = \"salt22g\"\n",
        "    return tmp\n",
        "\n",
        "def images(mask_path):\n",
        "    tmps = []\n",
        "    files = glob.glob(mask_path + \"/*.png\")\n",
        "    files.sort()\n",
        "\n",
        "    for i, file in enumerate(files):\n",
        "        img = cv2.imread(file, 0)\n",
        "        height, width = img.shape[:3]\n",
        "\n",
        "        tmp = cl.OrderedDict()\n",
        "        tmp[\"license\"] = 1\n",
        "        tmp[\"id\"] = i\n",
        "        tmp[\"file_name\"] = os.path.basename(file)\n",
        "        tmp[\"width\"] = width\n",
        "        tmp[\"height\"] = height\n",
        "        tmp[\"date_captured\"] = \"\"\n",
        "        tmp[\"coco_url\"] = \"dummy_words\"\n",
        "        tmp[\"flickr_url\"] = \"dummy_words\"\n",
        "        tmps.append(tmp)\n",
        "    return tmps\n",
        "\n",
        "\n",
        "def annotations(mask_path):\n",
        "    tmps = []\n",
        "\n",
        "    files = glob.glob(mask_path + \"/*.png\")\n",
        "    files.sort()\n",
        "    \n",
        "    for i, file in enumerate(files):\n",
        "        img = cv2.imread(file, 0)\n",
        "        tmp = cl.OrderedDict()\n",
        "        contours = measure.find_contours(img, 0.5)\n",
        "        segmentation_list = []\n",
        "\n",
        "        for contour in contours:\n",
        "            for a in contour:\n",
        "                segmentation_list.append(a[0])\n",
        "                segmentation_list.append(a[1])\n",
        "\n",
        "\n",
        "        mask = np.array(img)\n",
        "        obj_ids = np.unique(mask)\n",
        "        obj_ids = obj_ids[1:]\n",
        "        masks = mask == obj_ids[:, None, None]\n",
        "        num_objs = len(obj_ids)\n",
        "        boxes = []\n",
        "\n",
        "        for j in range(num_objs):\n",
        "            pos = np.where(masks[j])\n",
        "            xmin = np.min(pos[1])\n",
        "            xmax = np.max(pos[1])\n",
        "            ymin = np.min(pos[0])\n",
        "            ymax = np.max(pos[0])\n",
        "            boxes.append([xmin, ymin, xmax, ymax])\n",
        "\n",
        "        tmp_segmentation = cl.OrderedDict()\n",
        "\n",
        "        tmp[\"segmentation\"] = [segmentation_list]\n",
        "        tmp[\"id\"] = str(i)\n",
        "        tmp[\"image_id\"] = i\n",
        "        tmp[\"category_id\"] = 1\n",
        "        tmp[\"area\"] = float(boxes[0][3] - boxes[0][1]) * float(boxes[0][2] - boxes[0][0])\n",
        "        tmp[\"iscrowd\"] = 0\n",
        "        tmp[\"bbox\"] =  [float(boxes[0][0]), float(boxes[0][1]), float(boxes[0][3] - boxes[0][1]), float(boxes[0][2] - boxes[0][0])]\n",
        "        tmps.append(tmp)\n",
        "    return tmps\n",
        "\n",
        "def categories():\n",
        "    tmps = []\n",
        "    sup = [\"person\"]\n",
        "    cat = [\"person\"]\n",
        "    for i in range(len(sup)):\n",
        "        tmp = cl.OrderedDict()\n",
        "        tmp[\"id\"] = i+1\n",
        "        tmp[\"name\"] = cat[i]\n",
        "        tmp[\"supercategory\"] = sup[i]\n",
        "        tmps.append(tmp)\n",
        "    return tmps\n",
        "\n",
        "def main(mask_path, json_name):\n",
        "    query_list = [\"info\", \"licenses\", \"images\", \"annotations\", \"categories\", \"segment_info\"]\n",
        "    js = cl.OrderedDict()\n",
        "    for i in range(len(query_list)):\n",
        "        tmp = \"\"\n",
        "        # Info\n",
        "        if query_list[i] == \"info\":\n",
        "            tmp = info()\n",
        "\n",
        "        # licenses\n",
        "        elif query_list[i] == \"licenses\":\n",
        "            tmp = licenses()\n",
        "\n",
        "        elif query_list[i] == \"images\":\n",
        "            tmp = images(mask_path)\n",
        "\n",
        "        elif query_list[i] == \"annotations\":\n",
        "            tmp = annotations(mask_path)\n",
        "\n",
        "        elif query_list[i] == \"categories\":\n",
        "            tmp = categories()\n",
        "\n",
        "        # save it\n",
        "        js[query_list[i]] = tmp\n",
        "\n",
        "    # write\n",
        "    fw = open(json_name,'w')\n",
        "    json.dump(js,fw,indent=2)"
      ],
      "metadata": {
        "id": "RzqJcdTXA1yd"
      },
      "execution_count": null,
      "outputs": []
    },
    {
      "cell_type": "markdown",
      "source": [
        "main"
      ],
      "metadata": {
        "id": "EIaG55pvBslv"
      }
    },
    {
      "cell_type": "code",
      "source": [
        "#args = sys.argv\n",
        "#mask_path = args[1]\n",
        "mask_path =  \"/content/mask\"\n",
        "#json_name = args[2]\n",
        "json_name = \"person_sample.json\"\n",
        "\n",
        "if __name__=='__main__':\n",
        "    main(mask_path, json_name)"
      ],
      "metadata": {
        "id": "kR6Qw60oBLdP"
      },
      "execution_count": null,
      "outputs": []
    }
  ]
}