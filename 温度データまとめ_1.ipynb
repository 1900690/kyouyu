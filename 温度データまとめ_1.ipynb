{
  "nbformat": 4,
  "nbformat_minor": 0,
  "metadata": {
    "colab": {
      "provenance": [],
      "include_colab_link": true
    },
    "kernelspec": {
      "name": "python3",
      "display_name": "Python 3"
    },
    "language_info": {
      "name": "python"
    }
  },
  "cells": [
    {
      "cell_type": "markdown",
      "metadata": {
        "id": "view-in-github",
        "colab_type": "text"
      },
      "source": [
        "<a href=\"https://colab.research.google.com/github/1900690/kyouyu/blob/main/%E6%B8%A9%E5%BA%A6%E3%83%87%E3%83%BC%E3%82%BF%E3%81%BE%E3%81%A8%E3%82%81_1.ipynb\" target=\"_parent\"><img src=\"https://colab.research.google.com/assets/colab-badge.svg\" alt=\"Open In Colab\"/></a>"
      ]
    },
    {
      "cell_type": "markdown",
      "source": [
        "#Seleniumスクレイピング\n",
        "https://www.teijitaisya.com/python-scraping1/#index_id33\n",
        "https://libproc.com/python-selenium-web-scraping-at-login-page/"
      ],
      "metadata": {
        "id": "TOCpVJVsToRM"
      }
    },
    {
      "cell_type": "code",
      "source": [
        "#必要なもの\n",
        "!pip install selenium\n",
        "!apt-get update\n",
        "!apt install chromium-chromedriver\n",
        "!cp /usr/lib/chromium-browser/chromedriver /usr/bin"
      ],
      "metadata": {
        "id": "gE5tA7L0UZxl",
        "outputId": "ebe63a71-cb42-40ab-a372-a6a572540e22",
        "colab": {
          "base_uri": "https://localhost:8080/",
          "height": 1000
        }
      },
      "execution_count": 73,
      "outputs": [
        {
          "output_type": "stream",
          "name": "stdout",
          "text": [
            "Looking in indexes: https://pypi.org/simple, https://us-python.pkg.dev/colab-wheels/public/simple/\n",
            "Collecting selenium\n",
            "  Downloading selenium-4.5.0-py3-none-any.whl (995 kB)\n",
            "\u001b[K     |████████████████████████████████| 995 kB 5.2 MB/s \n",
            "\u001b[?25hRequirement already satisfied: certifi>=2021.10.8 in /usr/local/lib/python3.7/dist-packages (from selenium) (2022.9.24)\n",
            "Collecting trio~=0.17\n",
            "  Downloading trio-0.22.0-py3-none-any.whl (384 kB)\n",
            "\u001b[K     |████████████████████████████████| 384 kB 52.9 MB/s \n",
            "\u001b[?25hCollecting trio-websocket~=0.9\n",
            "  Downloading trio_websocket-0.9.2-py3-none-any.whl (16 kB)\n",
            "Collecting urllib3[socks]~=1.26\n",
            "  Downloading urllib3-1.26.12-py2.py3-none-any.whl (140 kB)\n",
            "\u001b[K     |████████████████████████████████| 140 kB 57.6 MB/s \n",
            "\u001b[?25hCollecting outcome\n",
            "  Downloading outcome-1.2.0-py2.py3-none-any.whl (9.7 kB)\n",
            "Requirement already satisfied: sortedcontainers in /usr/local/lib/python3.7/dist-packages (from trio~=0.17->selenium) (2.4.0)\n",
            "Requirement already satisfied: attrs>=19.2.0 in /usr/local/lib/python3.7/dist-packages (from trio~=0.17->selenium) (22.1.0)\n",
            "Requirement already satisfied: idna in /usr/local/lib/python3.7/dist-packages (from trio~=0.17->selenium) (2.10)\n",
            "Collecting exceptiongroup>=1.0.0rc9\n",
            "  Downloading exceptiongroup-1.0.0rc9-py3-none-any.whl (12 kB)\n",
            "Collecting sniffio\n",
            "  Downloading sniffio-1.3.0-py3-none-any.whl (10 kB)\n",
            "Collecting async-generator>=1.9\n",
            "  Downloading async_generator-1.10-py3-none-any.whl (18 kB)\n",
            "Collecting wsproto>=0.14\n",
            "  Downloading wsproto-1.2.0-py3-none-any.whl (24 kB)\n",
            "Requirement already satisfied: PySocks!=1.5.7,<2.0,>=1.5.6 in /usr/local/lib/python3.7/dist-packages (from urllib3[socks]~=1.26->selenium) (1.7.1)\n",
            "Collecting h11<1,>=0.9.0\n",
            "  Downloading h11-0.14.0-py3-none-any.whl (58 kB)\n",
            "\u001b[K     |████████████████████████████████| 58 kB 5.0 MB/s \n",
            "\u001b[?25hRequirement already satisfied: typing-extensions in /usr/local/lib/python3.7/dist-packages (from h11<1,>=0.9.0->wsproto>=0.14->trio-websocket~=0.9->selenium) (4.1.1)\n",
            "Installing collected packages: sniffio, outcome, h11, exceptiongroup, async-generator, wsproto, urllib3, trio, trio-websocket, selenium\n",
            "  Attempting uninstall: urllib3\n",
            "    Found existing installation: urllib3 1.24.3\n",
            "    Uninstalling urllib3-1.24.3:\n",
            "      Successfully uninstalled urllib3-1.24.3\n",
            "\u001b[31mERROR: pip's dependency resolver does not currently take into account all the packages that are installed. This behaviour is the source of the following dependency conflicts.\n",
            "requests 2.23.0 requires urllib3!=1.25.0,!=1.25.1,<1.26,>=1.21.1, but you have urllib3 1.26.12 which is incompatible.\u001b[0m\n",
            "Successfully installed async-generator-1.10 exceptiongroup-1.0.0rc9 h11-0.14.0 outcome-1.2.0 selenium-4.5.0 sniffio-1.3.0 trio-0.22.0 trio-websocket-0.9.2 urllib3-1.26.12 wsproto-1.2.0\n"
          ]
        },
        {
          "output_type": "display_data",
          "data": {
            "application/vnd.colab-display-data+json": {
              "pip_warning": {
                "packages": [
                  "urllib3"
                ]
              }
            }
          },
          "metadata": {}
        },
        {
          "output_type": "stream",
          "name": "stdout",
          "text": [
            "Get:1 https://cloud.r-project.org/bin/linux/ubuntu bionic-cran40/ InRelease [3,626 B]\n",
            "Get:2 http://security.ubuntu.com/ubuntu bionic-security InRelease [88.7 kB]\n",
            "Ign:3 https://developer.download.nvidia.com/compute/machine-learning/repos/ubuntu1804/x86_64  InRelease\n",
            "Hit:4 https://developer.download.nvidia.com/compute/cuda/repos/ubuntu1804/x86_64  InRelease\n",
            "Hit:5 http://archive.ubuntu.com/ubuntu bionic InRelease\n",
            "Hit:6 https://developer.download.nvidia.com/compute/machine-learning/repos/ubuntu1804/x86_64  Release\n",
            "Get:7 http://ppa.launchpad.net/c2d4u.team/c2d4u4.0+/ubuntu bionic InRelease [15.9 kB]\n",
            "Get:8 http://archive.ubuntu.com/ubuntu bionic-updates InRelease [88.7 kB]\n",
            "Hit:9 http://ppa.launchpad.net/cran/libgit2/ubuntu bionic InRelease\n",
            "Get:10 http://archive.ubuntu.com/ubuntu bionic-backports InRelease [83.3 kB]\n",
            "Get:11 http://ppa.launchpad.net/deadsnakes/ppa/ubuntu bionic InRelease [15.9 kB]\n",
            "Hit:12 http://ppa.launchpad.net/graphics-drivers/ppa/ubuntu bionic InRelease\n",
            "Get:14 http://ppa.launchpad.net/c2d4u.team/c2d4u4.0+/ubuntu bionic/main Sources [2,164 kB]\n",
            "Get:15 http://security.ubuntu.com/ubuntu bionic-security/universe amd64 Packages [1,550 kB]\n",
            "Get:16 http://archive.ubuntu.com/ubuntu bionic-updates/main amd64 Packages [3,444 kB]\n",
            "Get:17 http://security.ubuntu.com/ubuntu bionic-security/main amd64 Packages [3,012 kB]\n",
            "Get:18 http://security.ubuntu.com/ubuntu bionic-security/restricted amd64 Packages [1,187 kB]\n",
            "Get:19 http://ppa.launchpad.net/c2d4u.team/c2d4u4.0+/ubuntu bionic/main amd64 Packages [1,109 kB]\n",
            "Get:20 http://archive.ubuntu.com/ubuntu bionic-updates/universe amd64 Packages [2,328 kB]\n",
            "Get:21 http://archive.ubuntu.com/ubuntu bionic-updates/restricted amd64 Packages [1,227 kB]\n",
            "Get:22 http://ppa.launchpad.net/deadsnakes/ppa/ubuntu bionic/main amd64 Packages [45.3 kB]\n",
            "Fetched 16.4 MB in 4s (4,301 kB/s)\n",
            "Reading package lists... Done\n",
            "Reading package lists... Done\n",
            "Building dependency tree       \n",
            "Reading state information... Done\n",
            "The following package was automatically installed and is no longer required:\n",
            "  libnvidia-common-460\n",
            "Use 'apt autoremove' to remove it.\n",
            "The following additional packages will be installed:\n",
            "  chromium-browser chromium-browser-l10n chromium-codecs-ffmpeg-extra\n",
            "Suggested packages:\n",
            "  webaccounts-chromium-extension unity-chromium-extension\n",
            "The following NEW packages will be installed:\n",
            "  chromium-browser chromium-browser-l10n chromium-chromedriver\n",
            "  chromium-codecs-ffmpeg-extra\n",
            "0 upgraded, 4 newly installed, 0 to remove and 30 not upgraded.\n",
            "Need to get 91.7 MB of archives.\n",
            "After this operation, 309 MB of additional disk space will be used.\n",
            "Get:1 http://archive.ubuntu.com/ubuntu bionic-updates/universe amd64 chromium-codecs-ffmpeg-extra amd64 105.0.5195.102-0ubuntu0.18.04.1 [1,156 kB]\n",
            "Get:2 http://archive.ubuntu.com/ubuntu bionic-updates/universe amd64 chromium-browser amd64 105.0.5195.102-0ubuntu0.18.04.1 [80.1 MB]\n",
            "Get:3 http://archive.ubuntu.com/ubuntu bionic-updates/universe amd64 chromium-browser-l10n all 105.0.5195.102-0ubuntu0.18.04.1 [5,097 kB]\n",
            "Get:4 http://archive.ubuntu.com/ubuntu bionic-updates/universe amd64 chromium-chromedriver amd64 105.0.5195.102-0ubuntu0.18.04.1 [5,320 kB]\n",
            "Fetched 91.7 MB in 4s (23.9 MB/s)\n",
            "Selecting previously unselected package chromium-codecs-ffmpeg-extra.\n",
            "(Reading database ... 123934 files and directories currently installed.)\n",
            "Preparing to unpack .../chromium-codecs-ffmpeg-extra_105.0.5195.102-0ubuntu0.18.04.1_amd64.deb ...\n",
            "Unpacking chromium-codecs-ffmpeg-extra (105.0.5195.102-0ubuntu0.18.04.1) ...\n",
            "Selecting previously unselected package chromium-browser.\n",
            "Preparing to unpack .../chromium-browser_105.0.5195.102-0ubuntu0.18.04.1_amd64.deb ...\n",
            "Unpacking chromium-browser (105.0.5195.102-0ubuntu0.18.04.1) ...\n",
            "Selecting previously unselected package chromium-browser-l10n.\n",
            "Preparing to unpack .../chromium-browser-l10n_105.0.5195.102-0ubuntu0.18.04.1_all.deb ...\n",
            "Unpacking chromium-browser-l10n (105.0.5195.102-0ubuntu0.18.04.1) ...\n",
            "Selecting previously unselected package chromium-chromedriver.\n",
            "Preparing to unpack .../chromium-chromedriver_105.0.5195.102-0ubuntu0.18.04.1_amd64.deb ...\n",
            "Unpacking chromium-chromedriver (105.0.5195.102-0ubuntu0.18.04.1) ...\n",
            "Setting up chromium-codecs-ffmpeg-extra (105.0.5195.102-0ubuntu0.18.04.1) ...\n",
            "Setting up chromium-browser (105.0.5195.102-0ubuntu0.18.04.1) ...\n",
            "update-alternatives: using /usr/bin/chromium-browser to provide /usr/bin/x-www-browser (x-www-browser) in auto mode\n",
            "update-alternatives: using /usr/bin/chromium-browser to provide /usr/bin/gnome-www-browser (gnome-www-browser) in auto mode\n",
            "Setting up chromium-chromedriver (105.0.5195.102-0ubuntu0.18.04.1) ...\n",
            "Setting up chromium-browser-l10n (105.0.5195.102-0ubuntu0.18.04.1) ...\n",
            "Processing triggers for man-db (2.8.3-2ubuntu0.1) ...\n",
            "Processing triggers for hicolor-icon-theme (0.17-2) ...\n",
            "Processing triggers for mime-support (3.60ubuntu1) ...\n",
            "Processing triggers for libc-bin (2.27-3ubuntu1.6) ...\n",
            "cp: '/usr/lib/chromium-browser/chromedriver' and '/usr/bin/chromedriver' are the same file\n"
          ]
        }
      ]
    },
    {
      "cell_type": "code",
      "source": [
        "from selenium import webdriver\n",
        "from selenium.webdriver.common.by import By\n",
        "# 出力先フォルダ\n",
        "!mkdir \"/content/URL\"\n",
        "filepath = \"/content/URL\"\n",
        "# ターゲットURL\n",
        "URL = \"https://www.teijitaisya.com/\"\n",
        "# Chrome Driverにセットするオプションの設定。\n",
        "# やっとかないとエラーになるよ！\n",
        "options = webdriver.ChromeOptions()\n",
        "options.add_argument('--headless') # ヘッドレスモードを有効にする。\n",
        "options.add_argument('--no-sandbox') # sandboxモードを解除する。この記述がないとエラーになってしまう。 \n",
        "options.add_argument('--disable-dev-shm-usage') # /dev/shmパーティションの使用を禁止し、パーティションが小さすぎることによる、クラッシュを回避する。\n",
        "# Webドライバーをセット\n",
        "driver = webdriver.Chrome('chromedriver',options=options)\n",
        "# URLにpostしてページ情報を取得する\n",
        "driver.get(URL)\n",
        "driver.implicitly_wait(10) #暗黙の待機\n",
        "# 要素をまとめてリストとして取得\n",
        "results = driver.find_elements(By.TAG_NAME,\"a\")\n",
        "# リストから要素をひとつひとつ取り出し、そこからhref属性を抽出する。\n",
        "for r in results:\n",
        "  print(r.get_attribute(\"href\")) \n",
        "# ブラウザーを終了します。\n",
        "driver.quit()"
      ],
      "metadata": {
        "id": "n3plKqayT9G8",
        "outputId": "875032e1-614a-4cc5-d861-ad3266888487",
        "colab": {
          "base_uri": "https://localhost:8080/"
        }
      },
      "execution_count": 75,
      "outputs": [
        {
          "output_type": "stream",
          "name": "stdout",
          "text": [
            "https://www.teijitaisya.com/category/office/\n",
            "https://www.teijitaisya.com/category/office/windows/\n",
            "https://www.teijitaisya.com/category/office/excel/\n",
            "https://www.teijitaisya.com/category/office/ms-teams/\n",
            "https://www.teijitaisya.com/category/office/outlook/\n",
            "https://www.teijitaisya.com/category/office/sharepoint/\n",
            "https://www.teijitaisya.com/category/office/msforms/\n",
            "https://www.teijitaisya.com/category/office/powerautomate/\n",
            "https://www.teijitaisya.com/category/office/powerautomate-desktop/\n",
            "https://www.teijitaisya.com/category/office/publisher/\n",
            "https://www.teijitaisya.com/category/programming/\n",
            "https://www.teijitaisya.com/category/programming/vba/\n",
            "https://www.teijitaisya.com/category/office/officescripts/\n",
            "https://www.teijitaisya.com/category/programming/python/\n",
            "https://www.teijitaisya.com/category/programming/googleappsscript/\n",
            "https://www.teijitaisya.com/category/teiji/\n",
            "https://www.teijitaisya.com/category/teiji/application/\n",
            "https://www.teijitaisya.com/category/webproduction/\n",
            "https://www.teijitaisya.com/category/webproduction/wordpress/\n",
            "https://www.teijitaisya.com/category/webproduction/desigin/\n",
            "https://www.teijitaisya.com/category/webproduction/%e3%83%96%e3%83%ad%e3%82%b0%e4%be%bf%e5%88%a9%e3%83%84%e3%83%bc%e3%83%ab/\n",
            "https://www.teijitaisya.com/category/webproduction/blogtools/\n",
            "https://www.teijitaisya.com/category/teiji/random-note/\n",
            "https://www.teijitaisya.com/relive/\n",
            "https://twitter.com/teijilabo\n",
            "https://www.instagram.com/jojio_illustration/\n",
            "https://line.me/ti/g2/fCRMo_zBEuqLGC-qVRJ2cg?utm_source=invitation&utm_medium=link_copy&utm_campaign=default\n",
            "https://www.pinterest.jp/jojiojojioo\n",
            "https://www.teijitaisya.com/feed/\n",
            "https://www.teijitaisya.com/contact\n",
            "https://www.teijitaisya.com/\n",
            "https://www.teijitaisya.com/category/office/\n",
            "https://www.teijitaisya.com/category/office/windows/\n",
            "https://www.teijitaisya.com/category/office/excel/\n",
            "https://www.teijitaisya.com/category/office/ms-teams/\n",
            "https://www.teijitaisya.com/category/office/outlook/\n",
            "https://www.teijitaisya.com/category/office/sharepoint/\n",
            "https://www.teijitaisya.com/category/office/msforms/\n",
            "https://www.teijitaisya.com/category/office/powerautomate/\n",
            "https://www.teijitaisya.com/category/office/powerautomate-desktop/\n",
            "https://www.teijitaisya.com/category/office/publisher/\n",
            "https://www.teijitaisya.com/category/programming/\n",
            "https://www.teijitaisya.com/category/programming/vba/\n",
            "https://www.teijitaisya.com/category/office/officescripts/\n",
            "https://www.teijitaisya.com/category/programming/python/\n",
            "https://www.teijitaisya.com/category/programming/googleappsscript/\n",
            "https://www.teijitaisya.com/category/teiji/\n",
            "https://www.teijitaisya.com/category/teiji/application/\n",
            "https://www.teijitaisya.com/category/webproduction/\n",
            "https://www.teijitaisya.com/category/webproduction/wordpress/\n",
            "https://www.teijitaisya.com/category/webproduction/desigin/\n",
            "https://www.teijitaisya.com/category/webproduction/%e3%83%96%e3%83%ad%e3%82%b0%e4%be%bf%e5%88%a9%e3%83%84%e3%83%bc%e3%83%ab/\n",
            "https://www.teijitaisya.com/category/webproduction/blogtools/\n",
            "https://www.teijitaisya.com/category/teiji/random-note/\n",
            "https://www.teijitaisya.com/remotework-gear/\n",
            "https://www.teijitaisya.com/\n",
            "https://www.teijitaisya.com/category/office/\n",
            "https://www.teijitaisya.com/category/office/windows/\n",
            "https://www.teijitaisya.com/category/office/excel/\n",
            "https://www.teijitaisya.com/category/office/ms-teams/\n",
            "https://www.teijitaisya.com/category/office/outlook/\n",
            "https://www.teijitaisya.com/category/office/sharepoint/\n",
            "https://www.teijitaisya.com/category/office/msforms/\n",
            "https://www.teijitaisya.com/category/office/powerautomate/\n",
            "https://www.teijitaisya.com/category/office/powerautomate-desktop/\n",
            "https://www.teijitaisya.com/category/office/publisher/\n",
            "https://www.teijitaisya.com/category/programming/\n",
            "https://www.teijitaisya.com/category/programming/vba/\n",
            "https://www.teijitaisya.com/category/office/officescripts/\n",
            "https://www.teijitaisya.com/category/programming/python/\n",
            "https://www.teijitaisya.com/category/programming/googleappsscript/\n",
            "https://www.teijitaisya.com/category/teiji/\n",
            "https://www.teijitaisya.com/category/teiji/application/\n",
            "https://www.teijitaisya.com/category/webproduction/\n",
            "https://www.teijitaisya.com/category/webproduction/wordpress/\n",
            "https://www.teijitaisya.com/category/webproduction/desigin/\n",
            "https://www.teijitaisya.com/category/webproduction/%e3%83%96%e3%83%ad%e3%82%b0%e4%be%bf%e5%88%a9%e3%83%84%e3%83%bc%e3%83%ab/\n",
            "https://www.teijitaisya.com/category/webproduction/blogtools/\n",
            "https://www.teijitaisya.com/category/teiji/random-note/\n",
            "https://www.teijitaisya.com/remotework-gear/\n",
            "https://af.moshimo.com/af/c/click?a_id=2765891&p_id=54&pc_id=54&pl_id=616&url=https%3A%2F%2Fwww.rakuten.co.jp%2F\n",
            "https://www.teijitaisya.com/remotework-gear/\n",
            "https://www.teijitaisya.com/excel-vba-publisher/\n",
            "https://www.teijitaisya.com/exceladdins-shortcut/\n",
            "https://www.teijitaisya.com/edrawmind/\n",
            "https://www.teijitaisya.com/figma-removebg/\n",
            "https://www.teijitaisya.com/nobilista/\n",
            "https://www.teijitaisya.com/blog-time-saving/\n",
            "https://www.teijitaisya.com/wordpress-header-button/\n",
            "https://www.teijitaisya.com/vba-publisher/\n",
            "https://www.teijitaisya.com/excel-vba-publisher/\n",
            "https://www.teijitaisya.com/exceladdins-shortcut/\n",
            "https://www.teijitaisya.com/edrawmind/\n",
            "https://www.teijitaisya.com/figma-removebg/\n",
            "https://www.teijitaisya.com/pad-casestudy/\n",
            "https://www.teijitaisya.com/powerautomate-recipe/\n",
            "https://www.teijitaisya.com/category/office/powerautomate/\n",
            "https://www.teijitaisya.com/category/office/powerautomate-desktop/\n",
            "https://www.teijitaisya.com/tag/excel/\n",
            "https://www.teijitaisya.com/tag/outlook/\n",
            "https://www.teijitaisya.com/tag/python/\n",
            "https://www.teijitaisya.com/category/webproduction/wordpress/\n",
            "https://www.teijitaisya.com/microsoft365books/\n",
            "https://www.teijitaisya.com/teamsa-fileopen/\n",
            "https://www.teijitaisya.com/pad-to-teams/\n",
            "https://www.teijitaisya.com/powerautomate-team-mention/\n",
            "https://www.teijitaisya.com/teams-transcription/\n",
            "https://www.teijitaisya.com/category/office/ms-teams/\n",
            "https://www.teijitaisya.com/microsoft-lists/\n",
            "https://www.teijitaisya.com/sharepoint-create-site/\n",
            "https://www.teijitaisya.com/microsoftlists2/\n",
            "https://www.teijitaisya.com/powerautomate-mailattachment/\n",
            "https://www.teijitaisya.com/sharepoint-filelist/\n",
            "https://www.teijitaisya.com/shrepoint-col-autonum/\n",
            "https://www.teijitaisya.com/category/office/sharepoint/\n",
            "https://www.teijitaisya.com/powerautomate-substring/\n",
            "https://www.teijitaisya.com/pa-outlookevents/\n",
            "https://www.teijitaisya.com/powerautomate-text2/\n",
            "https://www.teijitaisya.com/powerautomate-mailattachment/\n",
            "https://www.teijitaisya.com/outlook-macro/\n",
            "https://www.teijitaisya.com/teams-mail-foward/\n",
            "https://www.teijitaisya.com/category/office/outlook/\n",
            "https://www.teijitaisya.com/instagram-graph-api/\n",
            "https://www.teijitaisya.com/python-gsheets/\n",
            "https://www.teijitaisya.com/python-gspread/\n",
            "https://www.teijitaisya.com/python-scraping1/\n",
            "https://www.teijitaisya.com/python-openpyxl/\n",
            "https://www.teijitaisya.com/python-pandas-datacleansing/\n",
            "https://www.teijitaisya.com/category/programming/python/\n",
            "https://www.teijitaisya.com/excel-vba-publisher/\n",
            "https://www.teijitaisya.com/exceladdins-shortcut/\n",
            "https://www.teijitaisya.com/udemy-excel/\n",
            "https://www.teijitaisya.com/vba-selfcert/\n",
            "https://www.teijitaisya.com/excel-books/\n",
            "https://www.teijitaisya.com/coconala-excel/\n",
            "https://www.teijitaisya.com/category/office/excel/\n",
            "https://www.teijitaisya.com/gas-googledocument/\n",
            "https://www.teijitaisya.com/gas-googleform/\n",
            "https://www.teijitaisya.com/gas-vba-spreadsheet/\n",
            "https://www.teijitaisya.com/gas-excel-to-spreadsheet/\n",
            "https://www.teijitaisya.com/gas-search-gdrive/\n",
            "https://www.teijitaisya.com/gas-sheets2pdf/\n",
            "https://www.teijitaisya.com/category/programming/googleappsscript/\n",
            "https://www.teijitaisya.com/microsoft365tips/\n",
            "https://www.teijitaisya.com/microsoftforms-validation/\n",
            "https://www.teijitaisya.com/microsoft-devcenter/\n",
            "https://www.teijitaisya.com/officescripts-code-collection/\n",
            "https://www.teijitaisya.com/officescripts2/\n",
            "https://www.teijitaisya.com/shrepoint-col-autonum/\n",
            "https://www.teijitaisya.com/pa-change-pw-err/\n",
            "https://www.teijitaisya.com/pa-mail-css/\n",
            "https://www.teijitaisya.com/pa-embed-onedrive-image-in-mail/\n",
            "https://www.teijitaisya.com/powerautomate-team-mention/\n",
            "https://www.teijitaisya.com/lists2teams/\n",
            "https://www.teijitaisya.com/powerautomate-text2/\n",
            "https://www.teijitaisya.com/powerautomate-regex/\n",
            "https://www.teijitaisya.com/powerautomate-substring/\n",
            "https://www.teijitaisya.com/azure-cognitive-services/\n",
            "https://www.teijitaisya.com/category/office/powerautomate/\n",
            "https://www.teijitaisya.com/splittext-sentence/\n",
            "https://www.teijitaisya.com/splittext-newline/\n",
            "https://www.teijitaisya.com/splittext-sentence/\n",
            "https://www.teijitaisya.com/splittext-newline/\n",
            "https://www.teijitaisya.com/pad-read-csv/\n",
            "https://www.teijitaisya.com/pad-filesearch-or/\n",
            "https://www.teijitaisya.com/pad-filesearch-and/\n",
            "https://www.teijitaisya.com/pad-pdf-table/\n",
            "https://www.teijitaisya.com/pad-base64/\n",
            "https://www.teijitaisya.com/insert-excel2mail/\n",
            "https://www.teijitaisya.com/category/office/powerautomate-desktop/\n",
            "https://www.teijitaisya.com/contact/\n",
            "https://www.teijitaisya.com/wordpress-header-button/\n",
            "https://www.teijitaisya.com/splittext-sentence/\n",
            "https://www.teijitaisya.com/splittext-newline/\n",
            "https://www.teijitaisya.com/pad-read-csv/\n",
            "https://www.teijitaisya.com/pad-filesearch-or/\n",
            "https://www.teijitaisya.com/pad-filesearch-and/\n",
            "https://www.teijitaisya.com/python-gspread/\n",
            "https://www.teijitaisya.com/python-scraping1/\n",
            "https://www.teijitaisya.com/python-openpyxl/\n",
            "https://www.teijitaisya.com/python-pandas-concat/\n",
            "https://www.teijitaisya.com/pad-pdf-table/\n",
            "https://www.teijitaisya.com/python-file/\n",
            "https://www.teijitaisya.com/new-post\n",
            "https://www.teijitaisya.com/microsoft365books/\n",
            "https://www.teijitaisya.com/microsoft365books/\n",
            "https://px.a8.net/svt/ejp?a8mat=3HID0Q+F8XOJ6+3L4M+6L9O2\n",
            "https://www.teijitaisya.com/udemy/\n",
            "https://www.amazon.co.jp/dp/4297123118?tag=jinyo-22&linkCode=ogi&th=1&psc=1\n",
            "https://www.amazon.co.jp/dp/4297123118?tag=jinyo-22&linkCode=ogi&th=1&psc=1\n",
            "https://www.amazon.co.jp/dp/4297123118?tag=jinyo-22&linkCode=ogi&th=1&psc=1\n",
            "https://af.moshimo.com/af/c/click?a_id=2765891&p_id=54&pc_id=54&pl_id=616&url=https%3A%2F%2Fsearch.rakuten.co.jp%2Fsearch%2Fmall%2FPower%2520automate\n",
            "https://af.moshimo.com/af/c/click?a_id=2855730&p_id=1225&pc_id=1925&pl_id=18502&url=https%3A%2F%2Fshopping.yahoo.co.jp%2Fsearch%3Fp%3DPower%2520automate\n",
            "https://www.amazon.co.jp/dp/4899775237?tag=jinyo-22&linkCode=ogi&th=1&psc=1\n",
            "https://www.amazon.co.jp/dp/4899775237?tag=jinyo-22&linkCode=ogi&th=1&psc=1\n",
            "https://www.amazon.co.jp/dp/4899775237?tag=jinyo-22&linkCode=ogi&th=1&psc=1\n",
            "https://af.moshimo.com/af/c/click?a_id=2765891&p_id=54&pc_id=54&pl_id=616&url=https%3A%2F%2Fsearch.rakuten.co.jp%2Fsearch%2Fmall%2FPower%2520automate\n",
            "https://af.moshimo.com/af/c/click?a_id=2855730&p_id=1225&pc_id=1925&pl_id=18502&url=https%3A%2F%2Fshopping.yahoo.co.jp%2Fsearch%3Fp%3DPower%2520automate\n",
            "https://www.amazon.co.jp/dp/4296080059?tag=jinyo-22&linkCode=ogi&th=1&psc=1\n",
            "https://www.amazon.co.jp/dp/4296080059?tag=jinyo-22&linkCode=ogi&th=1&psc=1\n",
            "https://www.amazon.co.jp/dp/4296080059?tag=jinyo-22&linkCode=ogi&th=1&psc=1\n",
            "https://af.moshimo.com/af/c/click?a_id=2765891&p_id=54&pc_id=54&pl_id=616&url=https%3A%2F%2Fsearch.rakuten.co.jp%2Fsearch%2Fmall%2FSharepoint\n",
            "https://af.moshimo.com/af/c/click?a_id=2855730&p_id=1225&pc_id=1925&pl_id=18502&url=https%3A%2F%2Fshopping.yahoo.co.jp%2Fsearch%3Fp%3DSharepoint\n",
            "https://www.amazon.co.jp/dp/4295011762?tag=jinyo-22&linkCode=ogi&th=1&psc=1\n",
            "https://www.amazon.co.jp/dp/4295011762?tag=jinyo-22&linkCode=ogi&th=1&psc=1\n",
            "https://www.amazon.co.jp/dp/4295011762?tag=jinyo-22&linkCode=ogi&th=1&psc=1\n",
            "https://af.moshimo.com/af/c/click?a_id=2765891&p_id=54&pc_id=54&pl_id=616&url=https%3A%2F%2Fsearch.rakuten.co.jp%2Fsearch%2Fmall%2FTeams\n",
            "https://af.moshimo.com/af/c/click?a_id=2855730&p_id=1225&pc_id=1925&pl_id=18502&url=https%3A%2F%2Fshopping.yahoo.co.jp%2Fsearch%3Fp%3DTeams\n",
            "https://www.teijitaisya.com/profile1/\n",
            "https://twitter.com/teijilabo\n",
            "https://www.teijitaisya.com/profile1/\n",
            "https://www.teijitaisya.com/contact\n",
            "https://www.teijitaisya.com/2022/08/\n",
            "https://www.teijitaisya.com/2022/07/\n",
            "https://www.teijitaisya.com/2022/06/\n",
            "https://www.teijitaisya.com/2022/05/\n",
            "https://www.teijitaisya.com/2022/04/\n",
            "https://www.teijitaisya.com/2022/03/\n",
            "https://www.teijitaisya.com/2022/02/\n",
            "https://www.teijitaisya.com/2022/01/\n",
            "https://www.teijitaisya.com/2021/12/\n",
            "https://www.teijitaisya.com/2021/11/\n",
            "https://www.teijitaisya.com/2021/10/\n",
            "https://www.teijitaisya.com/2021/09/\n",
            "https://www.teijitaisya.com/2021/08/\n",
            "https://www.teijitaisya.com/2021/07/\n"
          ]
        }
      ]
    },
    {
      "cell_type": "markdown",
      "source": [
        "#おんどとりＡＰＩ使用例"
      ],
      "metadata": {
        "id": "qrnqIB39TiT2"
      }
    },
    {
      "cell_type": "markdown",
      "source": [
        "ＡＰＩ操作用\n",
        "[参考サイト](https://yadotech.hateblo.jp/entry/2018/04/21/173326)"
      ],
      "metadata": {
        "id": "wwmXqD2OPymP"
      }
    },
    {
      "cell_type": "code",
      "source": [
        "import requests\n",
        "import pprint\n",
        "import json\n",
        "\n",
        "#現在値取得\n",
        "url = \"https://api.webstorage.jp/v1/devices/current\"\n",
        "api_key = \"fft4bgfo28tft6aic5guu3ijq7tn8se5f738hhg18l7rc\"\n",
        "login_id =\"tbad1686\"\n",
        "password = \"kurume001\"\n",
        "\n",
        "paylord = {'api-key':api_key,\"login-id\":login_id,'login-pass':password}\n",
        "header = {'Host':'api.webstrage.js:443','Content-Type': 'application/json','X-HTTP-Method-Override':'GET'}\n",
        "\n",
        "def main():\n",
        "    response = requests.post(url,json.dumps(paylord).encode('utf-8'),headers=header)\n",
        "    pprint.pprint(response.json())\n",
        "    receive_data = json.loads(response.text)\n",
        "\n",
        "    return receive_data\n",
        "\n",
        "\n",
        "if __name__ ==\"__main__\":\n",
        "    receive_data=main()"
      ],
      "metadata": {
        "id": "GTr7QifEOLn6",
        "outputId": "0308e23b-5c54-4131-adec-68b2dc268b11",
        "colab": {
          "base_uri": "https://localhost:8080/"
        }
      },
      "execution_count": 63,
      "outputs": [
        {
          "output_type": "stream",
          "name": "stdout",
          "text": [
            "{'devices': [{'baseunit': {'model': 'RTR-500MBS',\n",
            "                           'name': 'nakano',\n",
            "                           'serial': '52A21984'},\n",
            "              'battery': '',\n",
            "              'channel': [{'name': '',\n",
            "                           'num': '1',\n",
            "                           'unit': 'ppm',\n",
            "                           'value': 'Communication Error'},\n",
            "                          {'name': '',\n",
            "                           'num': '2',\n",
            "                           'unit': 'C',\n",
            "                           'value': 'Communication Error'},\n",
            "                          {'name': '',\n",
            "                           'num': '3',\n",
            "                           'unit': '%',\n",
            "                           'value': 'Communication Error'}],\n",
            "              'dst_bias': '0',\n",
            "              'group': {'name': 'Group1', 'num': '0'},\n",
            "              'model': 'RTR-576',\n",
            "              'name': 'Nakano',\n",
            "              'num': '1',\n",
            "              'rssi': '0',\n",
            "              'serial': '52C40EC0',\n",
            "              'std_bias': '0',\n",
            "              'time_diff': '540',\n",
            "              'unixtime': '1661346607'}]}\n"
          ]
        }
      ]
    },
    {
      "cell_type": "code",
      "source": [
        "receive_data['devices'][0]['channel'][1]"
      ],
      "metadata": {
        "id": "UzzAhLAVRcLN",
        "outputId": "cd7ea934-5fab-48c1-e7f2-2dfead6637c1",
        "colab": {
          "base_uri": "https://localhost:8080/"
        }
      },
      "execution_count": 41,
      "outputs": [
        {
          "output_type": "execute_result",
          "data": {
            "text/plain": [
              "{'num': '2', 'name': '', 'value': 'Communication Error', 'unit': 'C'}"
            ]
          },
          "metadata": {},
          "execution_count": 41
        }
      ]
    },
    {
      "cell_type": "markdown",
      "source": [
        "##RTR500シリーズは現在地データの取得しかできない"
      ],
      "metadata": {
        "id": "Y84vVEY8TVRF"
      }
    },
    {
      "cell_type": "code",
      "source": [
        "import requests\n",
        "import pprint\n",
        "import json\n",
        "\n",
        "#期間値取得\n",
        "url = \"https://api.webstorage.jp/v1/devices/data-rtr500\"\n",
        "api_key = \"klaj86ja8ufgsnmijkmc3h0c4jqcp1hu5j61570eu85df\"\n",
        "login_id =\"tbad0266\"\n",
        "password = \"kurume002\"\n",
        "remote_serial=\"52C40EBB\"#子機シリアル\n",
        "base_serial=\"52A2197F\"#親機シリアル\n",
        "#unixtime_from=1619827200#20210501\n",
        "#unixtime_to=1619913600#20210502\n",
        "#upper_limit=\"65535\"#取り出すデータ件数\n",
        "\n",
        "\n",
        "paylord = {'api-key':api_key\n",
        "           ,\"login-id\":login_id\n",
        "          ,'login-pass':password\n",
        "           ,'remote-serial':remote_serial\n",
        "           ,'base-serial':base_serial}\n",
        "#           ,'unixtime-from':unixtime_from\n",
        "#           ,'unixtime-to':unixtime_to\n",
        "#           ,'number':upper_limit}\n",
        "\n",
        "header = {'Host':'api.webstrage.js:443','Content-Type': 'application/json','X-HTTP-Method-Override':'GET'}\n",
        "\n",
        "def main():\n",
        "    response = requests.post(url,json.dumps(paylord).encode('utf-8'),headers=header)\n",
        "    pprint.pprint(response.json())\n",
        "    receive_data = json.loads(response.text)\n",
        "\n",
        "    return receive_data\n",
        "\n",
        "\n",
        "if __name__ ==\"__main__\":\n",
        "    receive_data=main()"
      ],
      "metadata": {
        "id": "YQ_AvMtTPxc3",
        "outputId": "b7685d1b-e321-46ae-eb82-289807b1acb3",
        "colab": {
          "base_uri": "https://localhost:8080/"
        }
      },
      "execution_count": 71,
      "outputs": [
        {
          "output_type": "stream",
          "name": "stdout",
          "text": [
            "{'base-model': 'RTR-500MBS',\n",
            " 'base-name': 'sakamoto',\n",
            " 'base-serial': '52A2197F',\n",
            " 'channel': [{'name': 'ch1', 'num': '1', 'unit': 'ppm'},\n",
            "             {'name': 'ch2', 'num': '2', 'unit': 'C'},\n",
            "             {'name': 'ch3', 'num': '3', 'unit': '%'}],\n",
            " 'data': [],\n",
            " 'dst-bias': '0',\n",
            " 'remote-model': 'RTR-576',\n",
            " 'remote-name': 'Sakamoto',\n",
            " 'remote-serial': '52C40EBB',\n",
            " 'std-bias': '0',\n",
            " 'time-diff': '540'}\n"
          ]
        }
      ]
    },
    {
      "cell_type": "code",
      "source": [
        "receive_data['data']"
      ],
      "metadata": {
        "id": "ahMhpX7nPbRt",
        "outputId": "b18f2ab0-fe0d-4927-dc0d-45eb12f3025a",
        "colab": {
          "base_uri": "https://localhost:8080/"
        }
      },
      "execution_count": 67,
      "outputs": [
        {
          "output_type": "execute_result",
          "data": {
            "text/plain": [
              "[]"
            ]
          },
          "metadata": {},
          "execution_count": 67
        }
      ]
    },
    {
      "cell_type": "code",
      "source": [
        "import csv\n",
        "#csvに書き込むときは、行列を作って一気に書き込んだほうが処理が速い\n",
        "with open(\"ondodata.csv\",mode=\"a\", newline=\"\") as file:\n",
        "  writer = csv.writer(file)\n",
        "  writer.writerows(main())"
      ],
      "metadata": {
        "id": "P8xTsEqHQchM",
        "outputId": "bd61f0e5-9042-4329-ac48-410b446f3aca",
        "colab": {
          "base_uri": "https://localhost:8080/",
          "height": 251
        }
      },
      "execution_count": null,
      "outputs": [
        {
          "output_type": "stream",
          "name": "stdout",
          "text": [
            "{'devices': [{'num': '1', 'serial': '52C40EC0', 'model': 'RTR-576', 'name': 'Nakano', 'battery': '', 'rssi': '0', 'time_diff': '540', 'std_bias': '0', 'dst_bias': '0', 'unixtime': '1661346607', 'channel': [{'num': '1', 'name': '', 'value': 'Communication Error', 'unit': 'ppm'}, {'num': '2', 'name': '', 'value': 'Communication Error', 'unit': 'C'}, {'num': '3', 'name': '', 'value': 'Communication Error', 'unit': '%'}], 'baseunit': {'serial': '52A21984', 'model': 'RTR-500MBS', 'name': 'nakano'}, 'group': {'num': '0', 'name': 'Group1'}}]}\n"
          ]
        },
        {
          "output_type": "error",
          "ename": "TypeError",
          "evalue": "ignored",
          "traceback": [
            "\u001b[0;31m---------------------------------------------------------------------------\u001b[0m",
            "\u001b[0;31mTypeError\u001b[0m                                 Traceback (most recent call last)",
            "\u001b[0;32m<ipython-input-5-062f4eaee3e7>\u001b[0m in \u001b[0;36m<module>\u001b[0;34m\u001b[0m\n\u001b[1;32m      3\u001b[0m \u001b[0;32mwith\u001b[0m \u001b[0mopen\u001b[0m\u001b[0;34m(\u001b[0m\u001b[0;34m\"ondodata.csv\"\u001b[0m\u001b[0;34m,\u001b[0m\u001b[0mmode\u001b[0m\u001b[0;34m=\u001b[0m\u001b[0;34m\"a\"\u001b[0m\u001b[0;34m,\u001b[0m \u001b[0mnewline\u001b[0m\u001b[0;34m=\u001b[0m\u001b[0;34m\"\"\u001b[0m\u001b[0;34m)\u001b[0m \u001b[0;32mas\u001b[0m \u001b[0mfile\u001b[0m\u001b[0;34m:\u001b[0m\u001b[0;34m\u001b[0m\u001b[0;34m\u001b[0m\u001b[0m\n\u001b[1;32m      4\u001b[0m   \u001b[0mwriter\u001b[0m \u001b[0;34m=\u001b[0m \u001b[0mcsv\u001b[0m\u001b[0;34m.\u001b[0m\u001b[0mwriter\u001b[0m\u001b[0;34m(\u001b[0m\u001b[0mfile\u001b[0m\u001b[0;34m)\u001b[0m\u001b[0;34m\u001b[0m\u001b[0;34m\u001b[0m\u001b[0m\n\u001b[0;32m----> 5\u001b[0;31m   \u001b[0mwriter\u001b[0m\u001b[0;34m.\u001b[0m\u001b[0mwriterows\u001b[0m\u001b[0;34m(\u001b[0m\u001b[0mmain\u001b[0m\u001b[0;34m(\u001b[0m\u001b[0;34m)\u001b[0m\u001b[0;34m)\u001b[0m\u001b[0;34m\u001b[0m\u001b[0;34m\u001b[0m\u001b[0m\n\u001b[0m",
            "\u001b[0;31mTypeError\u001b[0m: writerows() argument must be iterable"
          ]
        }
      ]
    },
    {
      "cell_type": "markdown",
      "source": [
        "selenium操作用\n",
        "[参考サイト](https://www.teijitaisya.com/python-scraping1/#index_id17)"
      ],
      "metadata": {
        "id": "kFC8zT2nP3Yp"
      }
    },
    {
      "cell_type": "code",
      "source": [
        "from selenium import webdriver\n",
        "from selenium.webdriver.common.by import By\n",
        "\n",
        "# 出力先フォルダ\n",
        "filepath = \"/content/Untitled Folder\"\n",
        "\n",
        "# ターゲットURL\n",
        "URL = \"https://www.teijitaisya.com/\"\n",
        "\n",
        "# Chrome Driverにセットするオプションの設定。\n",
        "# やっとかないとエラーになるよ！\n",
        "options = webdriver.ChromeOptions()\n",
        "options.add_argument('--headless') # ヘッドレスモードを有効にする。\n",
        "options.add_argument('--no-sandbox') # sandboxモードを解除する。この記述がないとエラーになってしまう。 \n",
        "options.add_argument('--disable-dev-shm-usage') # /dev/shmパーティションの使用を禁止し、パーティションが小さすぎることによる、クラッシュを回避する。\n",
        "\n",
        "# Webドライバーをセット\n",
        "driver = webdriver.Chrome('chromedriver',options=options)\n",
        "\n",
        "# URLにpostしてページ情報を取得する\n",
        "driver.get(URL)\n",
        "driver.implicitly_wait(10) #暗黙の待機\n",
        "\n",
        "# 要素をまとめてリストとして取得\n",
        "results = driver.find_elements(By.TAG_NAME,\"a\")\n",
        "\n",
        "# リストから要素をひとつひとつ取り出し、そこからhref属性を抽出する。\n",
        "for r in results:\n",
        "  print(r.get_attribute(\"href\")) \n",
        "\n",
        "# ブラウザーを終了します。\n",
        "driver.quit()"
      ],
      "metadata": {
        "id": "2JdIl48RP6y5"
      },
      "execution_count": null,
      "outputs": []
    }
  ]
}