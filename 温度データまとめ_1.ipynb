{
  "nbformat": 4,
  "nbformat_minor": 0,
  "metadata": {
    "colab": {
      "provenance": [],
      "include_colab_link": true
    },
    "kernelspec": {
      "name": "python3",
      "display_name": "Python 3"
    },
    "language_info": {
      "name": "python"
    }
  },
  "cells": [
    {
      "cell_type": "markdown",
      "metadata": {
        "id": "view-in-github",
        "colab_type": "text"
      },
      "source": [
        "<a href=\"https://colab.research.google.com/github/1900690/kyouyu/blob/main/%E6%B8%A9%E5%BA%A6%E3%83%87%E3%83%BC%E3%82%BF%E3%81%BE%E3%81%A8%E3%82%81_1.ipynb\" target=\"_parent\"><img src=\"https://colab.research.google.com/assets/colab-badge.svg\" alt=\"Open In Colab\"/></a>"
      ]
    },
    {
      "cell_type": "markdown",
      "source": [
        "ＡＰＩ操作用\n",
        "[参考サイト](https://yadotech.hateblo.jp/entry/2018/04/21/173326)"
      ],
      "metadata": {
        "id": "wwmXqD2OPymP"
      }
    },
    {
      "cell_type": "code",
      "source": [
        "import requests\n",
        "\n",
        "import json\n",
        "\n",
        "url = \"https://api.webstorage.jp/v1/devices/current\"\n",
        "\n",
        "api_key = \"fft4bgfo28tft6aic5guu3ijq7tn8se5f738hhg18l7rc\"\n",
        "login_id =\"tbad1686\"\n",
        "password = \"kurume001\"\n",
        "\n",
        "paylord = {'api-key':api_key,\"login-id\":login_id,'login-pass':password}\n",
        "\n",
        "header = {'Host':'api.webstrage.js:443','Content-Type': 'application/json','X-HTTP-Method-Override':'GET'}\n",
        "\n",
        "def main():\n",
        "    response = requests.post(url,json.dumps(paylord).encode('utf-8'),headers=header).json()\n",
        "    print(response)\n",
        "    #print(response['devices'][0]['channel'][0]['value'])\n",
        "    #print(response['devices'][1]['channel'][0]['value'])\n",
        "    #print(response['devices'][2]['channel'][0]['value'])\n",
        "\n",
        "if __name__ ==\"__main__\":\n",
        "    main()"
      ],
      "metadata": {
        "id": "YQ_AvMtTPxc3",
        "outputId": "3fbb05fb-35fb-4add-e0fb-47d728404c69",
        "colab": {
          "base_uri": "https://localhost:8080/"
        }
      },
      "execution_count": 1,
      "outputs": [
        {
          "output_type": "stream",
          "name": "stdout",
          "text": [
            "{'devices': [{'num': '1', 'serial': '52C40EC0', 'model': 'RTR-576', 'name': 'Nakano', 'battery': '', 'rssi': '0', 'time_diff': '540', 'std_bias': '0', 'dst_bias': '0', 'unixtime': '1661346607', 'channel': [{'num': '1', 'name': '', 'value': 'Communication Error', 'unit': 'ppm'}, {'num': '2', 'name': '', 'value': 'Communication Error', 'unit': 'C'}, {'num': '3', 'name': '', 'value': 'Communication Error', 'unit': '%'}], 'baseunit': {'serial': '52A21984', 'model': 'RTR-500MBS', 'name': 'nakano'}, 'group': {'num': '0', 'name': 'Group1'}}]}\n"
          ]
        }
      ]
    },
    {
      "cell_type": "code",
      "source": [
        "main()"
      ],
      "metadata": {
        "id": "UzzAhLAVRcLN",
        "outputId": "0491c46b-9c3b-4344-9d25-40a729548801",
        "colab": {
          "base_uri": "https://localhost:8080/",
          "height": 214
        }
      },
      "execution_count": 10,
      "outputs": [
        {
          "output_type": "stream",
          "name": "stdout",
          "text": [
            "{'devices': [{'num': '1', 'serial': '52C40EC0', 'model': 'RTR-576', 'name': 'Nakano', 'battery': '', 'rssi': '0', 'time_diff': '540', 'std_bias': '0', 'dst_bias': '0', 'unixtime': '1661346607', 'channel': [{'num': '1', 'name': '', 'value': 'Communication Error', 'unit': 'ppm'}, {'num': '2', 'name': '', 'value': 'Communication Error', 'unit': 'C'}, {'num': '3', 'name': '', 'value': 'Communication Error', 'unit': '%'}], 'baseunit': {'serial': '52A21984', 'model': 'RTR-500MBS', 'name': 'nakano'}, 'group': {'num': '0', 'name': 'Group1'}}]}\n"
          ]
        },
        {
          "output_type": "error",
          "ename": "TypeError",
          "evalue": "ignored",
          "traceback": [
            "\u001b[0;31m---------------------------------------------------------------------------\u001b[0m",
            "\u001b[0;31mTypeError\u001b[0m                                 Traceback (most recent call last)",
            "\u001b[0;32m<ipython-input-10-e31077f09855>\u001b[0m in \u001b[0;36m<module>\u001b[0;34m\u001b[0m\n\u001b[0;32m----> 1\u001b[0;31m \u001b[0mmain\u001b[0m\u001b[0;34m(\u001b[0m\u001b[0;34m)\u001b[0m\u001b[0;34m[\u001b[0m\u001b[0;36m1\u001b[0m\u001b[0;34m]\u001b[0m\u001b[0;34m\u001b[0m\u001b[0;34m\u001b[0m\u001b[0m\n\u001b[0m",
            "\u001b[0;31mTypeError\u001b[0m: 'NoneType' object is not subscriptable"
          ]
        }
      ]
    },
    {
      "cell_type": "code",
      "source": [
        "import csv\n",
        "#csvに書き込むときは、行列を作って一気に書き込んだほうが処理が速い\n",
        "with open(\"ondodata.csv\",mode=\"a\", newline=\"\") as file:\n",
        "  writer = csv.writer(file)\n",
        "  writer.writerows(main())"
      ],
      "metadata": {
        "id": "P8xTsEqHQchM",
        "outputId": "bd61f0e5-9042-4329-ac48-410b446f3aca",
        "colab": {
          "base_uri": "https://localhost:8080/",
          "height": 251
        }
      },
      "execution_count": 5,
      "outputs": [
        {
          "output_type": "stream",
          "name": "stdout",
          "text": [
            "{'devices': [{'num': '1', 'serial': '52C40EC0', 'model': 'RTR-576', 'name': 'Nakano', 'battery': '', 'rssi': '0', 'time_diff': '540', 'std_bias': '0', 'dst_bias': '0', 'unixtime': '1661346607', 'channel': [{'num': '1', 'name': '', 'value': 'Communication Error', 'unit': 'ppm'}, {'num': '2', 'name': '', 'value': 'Communication Error', 'unit': 'C'}, {'num': '3', 'name': '', 'value': 'Communication Error', 'unit': '%'}], 'baseunit': {'serial': '52A21984', 'model': 'RTR-500MBS', 'name': 'nakano'}, 'group': {'num': '0', 'name': 'Group1'}}]}\n"
          ]
        },
        {
          "output_type": "error",
          "ename": "TypeError",
          "evalue": "ignored",
          "traceback": [
            "\u001b[0;31m---------------------------------------------------------------------------\u001b[0m",
            "\u001b[0;31mTypeError\u001b[0m                                 Traceback (most recent call last)",
            "\u001b[0;32m<ipython-input-5-062f4eaee3e7>\u001b[0m in \u001b[0;36m<module>\u001b[0;34m\u001b[0m\n\u001b[1;32m      3\u001b[0m \u001b[0;32mwith\u001b[0m \u001b[0mopen\u001b[0m\u001b[0;34m(\u001b[0m\u001b[0;34m\"ondodata.csv\"\u001b[0m\u001b[0;34m,\u001b[0m\u001b[0mmode\u001b[0m\u001b[0;34m=\u001b[0m\u001b[0;34m\"a\"\u001b[0m\u001b[0;34m,\u001b[0m \u001b[0mnewline\u001b[0m\u001b[0;34m=\u001b[0m\u001b[0;34m\"\"\u001b[0m\u001b[0;34m)\u001b[0m \u001b[0;32mas\u001b[0m \u001b[0mfile\u001b[0m\u001b[0;34m:\u001b[0m\u001b[0;34m\u001b[0m\u001b[0;34m\u001b[0m\u001b[0m\n\u001b[1;32m      4\u001b[0m   \u001b[0mwriter\u001b[0m \u001b[0;34m=\u001b[0m \u001b[0mcsv\u001b[0m\u001b[0;34m.\u001b[0m\u001b[0mwriter\u001b[0m\u001b[0;34m(\u001b[0m\u001b[0mfile\u001b[0m\u001b[0;34m)\u001b[0m\u001b[0;34m\u001b[0m\u001b[0;34m\u001b[0m\u001b[0m\n\u001b[0;32m----> 5\u001b[0;31m   \u001b[0mwriter\u001b[0m\u001b[0;34m.\u001b[0m\u001b[0mwriterows\u001b[0m\u001b[0;34m(\u001b[0m\u001b[0mmain\u001b[0m\u001b[0;34m(\u001b[0m\u001b[0;34m)\u001b[0m\u001b[0;34m)\u001b[0m\u001b[0;34m\u001b[0m\u001b[0;34m\u001b[0m\u001b[0m\n\u001b[0m",
            "\u001b[0;31mTypeError\u001b[0m: writerows() argument must be iterable"
          ]
        }
      ]
    },
    {
      "cell_type": "markdown",
      "source": [
        "selenium操作用\n",
        "[参考サイト](https://www.teijitaisya.com/python-scraping1/#index_id17)"
      ],
      "metadata": {
        "id": "kFC8zT2nP3Yp"
      }
    },
    {
      "cell_type": "code",
      "source": [
        "from selenium import webdriver\n",
        "from selenium.webdriver.common.by import By\n",
        "\n",
        "# 出力先フォルダ\n",
        "filepath = \"/content/Untitled Folder\"\n",
        "\n",
        "# ターゲットURL\n",
        "URL = \"https://www.teijitaisya.com/\"\n",
        "\n",
        "# Chrome Driverにセットするオプションの設定。\n",
        "# やっとかないとエラーになるよ！\n",
        "options = webdriver.ChromeOptions()\n",
        "options.add_argument('--headless') # ヘッドレスモードを有効にする。\n",
        "options.add_argument('--no-sandbox') # sandboxモードを解除する。この記述がないとエラーになってしまう。 \n",
        "options.add_argument('--disable-dev-shm-usage') # /dev/shmパーティションの使用を禁止し、パーティションが小さすぎることによる、クラッシュを回避する。\n",
        "\n",
        "# Webドライバーをセット\n",
        "driver = webdriver.Chrome('chromedriver',options=options)\n",
        "\n",
        "# URLにpostしてページ情報を取得する\n",
        "driver.get(URL)\n",
        "driver.implicitly_wait(10) #暗黙の待機\n",
        "\n",
        "# 要素をまとめてリストとして取得\n",
        "results = driver.find_elements(By.TAG_NAME,\"a\")\n",
        "\n",
        "# リストから要素をひとつひとつ取り出し、そこからhref属性を抽出する。\n",
        "for r in results:\n",
        "  print(r.get_attribute(\"href\")) \n",
        "\n",
        "# ブラウザーを終了します。\n",
        "driver.quit()"
      ],
      "metadata": {
        "id": "2JdIl48RP6y5"
      },
      "execution_count": null,
      "outputs": []
    }
  ]
}