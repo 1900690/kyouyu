{
  "nbformat": 4,
  "nbformat_minor": 0,
  "metadata": {
    "colab": {
      "name": "マスク画像からCOCOファイル作成.ipynb",
      "provenance": [],
      "include_colab_link": true
    },
    "kernelspec": {
      "name": "python3",
      "display_name": "Python 3"
    },
    "language_info": {
      "name": "python"
    }
  },
  "cells": [
    {
      "cell_type": "markdown",
      "metadata": {
        "id": "view-in-github",
        "colab_type": "text"
      },
      "source": [
        "<a href=\"https://colab.research.google.com/github/1900690/kyouyu/blob/main/%E3%83%9E%E3%82%B9%E3%82%AF%E7%94%BB%E5%83%8F%E3%81%8B%E3%82%89COCO%E3%83%95%E3%82%A1%E3%82%A4%E3%83%AB%E4%BD%9C%E6%88%90.21.ipynb\" target=\"_parent\"><img src=\"https://colab.research.google.com/assets/colab-badge.svg\" alt=\"Open In Colab\"/></a>"
      ]
    },
    {
      "cell_type": "markdown",
      "source": [
        "※グーグルドライブをマウント"
      ],
      "metadata": {
        "id": "btW8nb_W_dX7"
      }
    },
    {
      "cell_type": "code",
      "metadata": {
        "id": "fi5zLmBGco2M",
        "outputId": "bbcef440-316d-4041-a095-2e3079f30940",
        "colab": {
          "base_uri": "https://localhost:8080/"
        }
      },
      "source": [
        "from google.colab import drive\n",
        "drive.mount('/content/drive')"
      ],
      "execution_count": 1,
      "outputs": [
        {
          "output_type": "stream",
          "name": "stdout",
          "text": [
            "Mounted at /content/drive\n"
          ]
        }
      ]
    },
    {
      "cell_type": "code",
      "source": [
        "import shutil\n",
        "shutil.copyfile(\"/content/drive/MyDrive/バラ画像/roze-reaf-rinkaku-resize.zip\", \"/content/roze-reaf-rinkaku-resize.zip\")\n",
        "shutil.copyfile(\"/content/drive/MyDrive/バラ画像/semantic_segmentations.zip\", \"/content/semantic_segmentations.zip\")\n",
        "\n",
        "!unzip -q roze-reaf-rinkaku-resize.zip\n",
        "!unzip -q semantic_segmentations.zip"
      ],
      "metadata": {
        "id": "T2vaQsKyZhoo"
      },
      "execution_count": 2,
      "outputs": []
    },
    {
      "cell_type": "markdown",
      "source": [
        "※まとめてリネーム"
      ],
      "metadata": {
        "id": "01muOZgJCQVW"
      }
    },
    {
      "cell_type": "code",
      "source": [
        "import glob\n",
        "import os\n",
        " \n",
        "# ファイルを取得する\n",
        "path = '/content/葉の輪郭用/*'\n",
        "i = 1\n",
        " \n",
        "# ファイルリストを取得する\n",
        "flist = glob.glob(path)\n",
        "print('変更前')\n",
        "print(flist)\n",
        " \n",
        "# ファイル名を一括で変更する\n",
        "for file in flist:\n",
        "  os.rename(file, '/content/葉の輪郭用/' + str(i) + '.jpg')\n",
        "  i+=1\n",
        " \n",
        "list = glob.glob(path)\n",
        "print('変更後')\n",
        "print(list)"
      ],
      "metadata": {
        "id": "jrSnai0bCSoM",
        "outputId": "7ea0fa3e-e985-4132-d91f-d1a3bf336030",
        "colab": {
          "base_uri": "https://localhost:8080/"
        }
      },
      "execution_count": null,
      "outputs": [
        {
          "output_type": "stream",
          "name": "stdout",
          "text": [
            "変更前\n",
            "['/content/葉の輪郭用/DSC_0213.jpg のコピー', '/content/葉の輪郭用/DSC_0209.jpg のコピー', '/content/葉の輪郭用/DSC_0032.jpg のコピー', '/content/葉の輪郭用/DSC_0261.jpg のコピー', '/content/葉の輪郭用/DSC_0250.jpg のコピー', '/content/葉の輪郭用/IMG_20220310_111627.jpg のコピー', '/content/葉の輪郭用/IMG_20220310_111329.jpg のコピー', '/content/葉の輪郭用/DSC_0024.jpg のコピー', '/content/葉の輪郭用/DSC_0036.jpg のコピー', '/content/葉の輪郭用/DSC_0212.jpg のコピー', '/content/葉の輪郭用/DSC_0211.jpg のコピー', '/content/葉の輪郭用/IMG_20220310_111725.jpg のコピー', '/content/葉の輪郭用/DSC_0021.jpg のコピー', '/content/葉の輪郭用/DSC_0031.jpg のコピー', '/content/葉の輪郭用/DSC_0223.jpg のコピー', '/content/葉の輪郭用/DSC_0249.jpg のコピー', '/content/葉の輪郭用/DSC_0248.jpg のコピー', '/content/葉の輪郭用/IMG_20220310_110713.jpg のコピー', '/content/葉の輪郭用/DSC_0033.jpg のコピー', '/content/葉の輪郭用/IMG_20220330_102929.jpg のコピー', '/content/葉の輪郭用/DSC_0243.jpg のコピー', '/content/葉の輪郭用/IMG_20220310_111743.jpg のコピー', '/content/葉の輪郭用/DSC_0241.jpg のコピー', '/content/葉の輪郭用/DSC_0245.jpg のコピー', '/content/葉の輪郭用/DSC_0016.jpg のコピー', '/content/葉の輪郭用/DSC_0029.jpg のコピー', '/content/葉の輪郭用/IMG_20220310_111701.jpg のコピー', '/content/葉の輪郭用/DSC_0268.jpg のコピー', '/content/葉の輪郭用/DSC_0035.jpg のコピー', '/content/葉の輪郭用/DSC_0038.jpg のコピー', '/content/葉の輪郭用/DSC_0227.jpg のコピー', '/content/葉の輪郭用/DSC_0020.jpg のコピー', '/content/葉の輪郭用/DSC_0011.jpg のコピー', '/content/葉の輪郭用/DSC_0266.jpg のコピー', '/content/葉の輪郭用/DSC_0224.jpg のコピー', '/content/葉の輪郭用/DSC_0215.jpg のコピー', '/content/葉の輪郭用/DSC_001_BURST20220330102929864.jpg のコピー', '/content/葉の輪郭用/DSC_0210.jpg のコピー', '/content/葉の輪郭用/DSC_0229.jpg のコピー', '/content/葉の輪郭用/DSC_0030.jpg のコピー', '/content/葉の輪郭用/DSC_0015.jpg のコピー', '/content/葉の輪郭用/DSC_0262.jpg のコピー', '/content/葉の輪郭用/DSC_0232.jpg のコピー', '/content/葉の輪郭用/DSC_0246.jpg のコピー', '/content/葉の輪郭用/IMG_20220330_101129.jpg のコピー', '/content/葉の輪郭用/DSC_0012.jpg のコピー', '/content/葉の輪郭用/DSC_0007.jpg のコピー', '/content/葉の輪郭用/DSC_001.jpg のコピー', '/content/葉の輪郭用/IMG_20220330_102121.jpg のコピー', '/content/葉の輪郭用/DSC_0028.jpg のコピー', '/content/葉の輪郭用/DSC_0253.jpg のコピー', '/content/葉の輪郭用/DSC_0247.jpg のコピー', '/content/葉の輪郭用/DSC_0023.jpg のコピー', '/content/葉の輪郭用/DSC_0018.jpg のコピー', '/content/葉の輪郭用/DSC_0039.jpg のコピー', '/content/葉の輪郭用/DSC_0257.jpg のコピー', '/content/葉の輪郭用/DSC_0238.jpg のコピー', '/content/葉の輪郭用/IMG_20220330_102638.jpg のコピー', '/content/葉の輪郭用/IMG_20220330_102643.jpg のコピー', '/content/葉の輪郭用/IMG_20220330_100921.jpg のコピー', '/content/葉の輪郭用/DSC_0214.jpg のコピー', '/content/葉の輪郭用/IMG_20220330_101121.jpg のコピー', '/content/葉の輪郭用/DSC_0005.jpg のコピー', '/content/葉の輪郭用/DSC_0006.jpg のコピー', '/content/葉の輪郭用/DSC_0256.jpg のコピー', '/content/葉の輪郭用/DSC_0267.jpg のコピー', '/content/葉の輪郭用/IMG_20220310_111636.jpg のコピー', '/content/葉の輪郭用/DSC_0017.jpg のコピー', '/content/葉の輪郭用/IMG_20220310_111551.jpg のコピー', '/content/葉の輪郭用/DSC_0037.jpg のコピー', '/content/葉の輪郭用/IMG_20220310_111604.jpg のコピー', '/content/葉の輪郭用/DSC_0251.jpg のコピー', '/content/葉の輪郭用/DSC_0216.jpg のコピー', '/content/葉の輪郭用/DSC_0260.jpg のコピー', '/content/葉の輪郭用/IMG_20220310_111649.jpg のコピー', '/content/葉の輪郭用/IMG_20220330_102925.jpg のコピー', '/content/葉の輪郭用/DSC_0258.jpg のコピー', '/content/葉の輪郭用/DSC_0231.jpg のコピー', '/content/葉の輪郭用/DSC_0236.jpg のコピー', '/content/葉の輪郭用/DSC_0008.jpg のコピー', '/content/葉の輪郭用/IMG_20220330_100931.jpg のコピー', '/content/葉の輪郭用/DSC_0237.jpg のコピー', '/content/葉の輪郭用/DSC_0255.jpg のコピー', '/content/葉の輪郭用/DSC_0022.jpg のコピー', '/content/葉の輪郭用/DSC_0240.jpg のコピー', '/content/葉の輪郭用/DSC_0242.jpg のコピー', '/content/葉の輪郭用/DSC_0254.jpg のコピー', '/content/葉の輪郭用/DSC_0019.jpg のコピー', '/content/葉の輪郭用/DSC_0259.jpg のコピー', '/content/葉の輪郭用/DSC_0239.jpg のコピー', '/content/葉の輪郭用/IMG_20220310_110722_007.jpg のコピー', '/content/葉の輪郭用/IMG_20220310_111502.jpg のコピー', '/content/葉の輪郭用/DSC_0252.jpg のコピー', '/content/葉の輪郭用/DSC_0230.jpg のコピー', '/content/葉の輪郭用/DSC_0225.jpg のコピー', '/content/葉の輪郭用/DSC_0027.jpg のコピー', '/content/葉の輪郭用/DSC_0034.jpg のコピー', '/content/葉の輪郭用/DSC_0228.jpg のコピー', '/content/葉の輪郭用/DSC_0244.jpg のコピー', '/content/葉の輪郭用/DSC_0226.jpg のコピー']\n",
            "変更後\n",
            "['/content/葉の輪郭用/17.jpg', '/content/葉の輪郭用/33.jpg', '/content/葉の輪郭用/30.jpg', '/content/葉の輪郭用/35.jpg', '/content/葉の輪郭用/21.jpg', '/content/葉の輪郭用/3.jpg', '/content/葉の輪郭用/11.jpg', '/content/葉の輪郭用/25.jpg', '/content/葉の輪郭用/73.jpg', '/content/葉の輪郭用/96.jpg', '/content/葉の輪郭用/41.jpg', '/content/葉の輪郭用/68.jpg', '/content/葉の輪郭用/95.jpg', '/content/葉の輪郭用/77.jpg', '/content/葉の輪郭用/36.jpg', '/content/葉の輪郭用/65.jpg', '/content/葉の輪郭用/80.jpg', '/content/葉の輪郭用/19.jpg', '/content/葉の輪郭用/99.jpg', '/content/葉の輪郭用/15.jpg', '/content/葉の輪郭用/24.jpg', '/content/葉の輪郭用/62.jpg', '/content/葉の輪郭用/5.jpg', '/content/葉の輪郭用/49.jpg', '/content/葉の輪郭用/50.jpg', '/content/葉の輪郭用/67.jpg', '/content/葉の輪郭用/76.jpg', '/content/葉の輪郭用/42.jpg', '/content/葉の輪郭用/61.jpg', '/content/葉の輪郭用/58.jpg', '/content/葉の輪郭用/29.jpg', '/content/葉の輪郭用/88.jpg', '/content/葉の輪郭用/90.jpg', '/content/葉の輪郭用/69.jpg', '/content/葉の輪郭用/66.jpg', '/content/葉の輪郭用/57.jpg', '/content/葉の輪郭用/7.jpg', '/content/葉の輪郭用/48.jpg', '/content/葉の輪郭用/83.jpg', '/content/葉の輪郭用/52.jpg', '/content/葉の輪郭用/84.jpg', '/content/葉の輪郭用/82.jpg', '/content/葉の輪郭用/53.jpg', '/content/葉の輪郭用/27.jpg', '/content/葉の輪郭用/32.jpg', '/content/葉の輪郭用/23.jpg', '/content/葉の輪郭用/39.jpg', '/content/葉の輪郭用/63.jpg', '/content/葉の輪郭用/44.jpg', '/content/葉の輪郭用/38.jpg', '/content/葉の輪郭用/34.jpg', '/content/葉の輪郭用/85.jpg', '/content/葉の輪郭用/47.jpg', '/content/葉の輪郭用/79.jpg', '/content/葉の輪郭用/28.jpg', '/content/葉の輪郭用/37.jpg', '/content/葉の輪郭用/1.jpg', '/content/葉の輪郭用/94.jpg', '/content/葉の輪郭用/72.jpg', '/content/葉の輪郭用/59.jpg', '/content/葉の輪郭用/51.jpg', '/content/葉の輪郭用/45.jpg', '/content/葉の輪郭用/18.jpg', '/content/葉の輪郭用/22.jpg', '/content/葉の輪郭用/14.jpg', '/content/葉の輪郭用/92.jpg', '/content/葉の輪郭用/40.jpg', '/content/葉の輪郭用/87.jpg', '/content/葉の輪郭用/31.jpg', '/content/葉の輪郭用/74.jpg', '/content/葉の輪郭用/60.jpg', '/content/葉の輪郭用/98.jpg', '/content/葉の輪郭用/2.jpg', '/content/葉の輪郭用/86.jpg', '/content/葉の輪郭用/6.jpg', '/content/葉の輪郭用/56.jpg', '/content/葉の輪郭用/100.jpg', '/content/葉の輪郭用/75.jpg', '/content/葉の輪郭用/70.jpg', '/content/葉の輪郭用/78.jpg', '/content/葉の輪郭用/71.jpg', '/content/葉の輪郭用/93.jpg', '/content/葉の輪郭用/43.jpg', '/content/葉の輪郭用/26.jpg', '/content/葉の輪郭用/91.jpg', '/content/葉の輪郭用/54.jpg', '/content/葉の輪郭用/4.jpg', '/content/葉の輪郭用/9.jpg', '/content/葉の輪郭用/16.jpg', '/content/葉の輪郭用/10.jpg', '/content/葉の輪郭用/81.jpg', '/content/葉の輪郭用/55.jpg', '/content/葉の輪郭用/20.jpg', '/content/葉の輪郭用/13.jpg', '/content/葉の輪郭用/89.jpg', '/content/葉の輪郭用/8.jpg', '/content/葉の輪郭用/12.jpg', '/content/葉の輪郭用/64.jpg', '/content/葉の輪郭用/97.jpg', '/content/葉の輪郭用/46.jpg']\n"
          ]
        }
      ]
    },
    {
      "cell_type": "markdown",
      "source": [
        "※画像は433＊577or577＊433に合わせておく"
      ],
      "metadata": {
        "id": "IkBJ9x_uUO2z"
      }
    },
    {
      "cell_type": "code",
      "source": [
        "!pip install Pillow\n",
        "import os\n",
        "from PIL import Image\n",
        "from google.colab import drive,files\n",
        "\n",
        "%cd /content\n",
        "!mkdir 葉の輪郭用resize\n",
        "\n",
        "dir_name = \"/content/葉の輪郭用\"\n",
        "new_dir_name = \"/content/葉の輪郭用resize\"\n",
        "files = os.listdir(dir_name)\n",
        "\n",
        "for file in files:\n",
        "    photo = Image.open(os.path.join(dir_name, file))\n",
        "    if photo.size[0] == 3120:\n",
        "      photo_resize = photo.resize((433,577))\n",
        "    else:\n",
        "      photo_resize = photo.resize((577,433))\n",
        "    photo_resize.save(os.path.join(new_dir_name, file))"
      ],
      "metadata": {
        "id": "YiXYxeiBKKEx",
        "outputId": "a0e14deb-ff89-4a4f-ce43-e160971b53d6",
        "colab": {
          "base_uri": "https://localhost:8080/"
        }
      },
      "execution_count": null,
      "outputs": [
        {
          "output_type": "stream",
          "name": "stdout",
          "text": [
            "Looking in indexes: https://pypi.org/simple, https://us-python.pkg.dev/colab-wheels/public/simple/\n",
            "Requirement already satisfied: Pillow in /usr/local/lib/python3.7/dist-packages (7.1.2)\n",
            "/content\n",
            "mkdir: cannot create directory ‘葉の輪郭用resize’: File exists\n"
          ]
        }
      ]
    },
    {
      "cell_type": "markdown",
      "source": [
        "※フォルダを圧縮"
      ],
      "metadata": {
        "id": "3kOuIXbnBw7A"
      }
    },
    {
      "cell_type": "code",
      "source": [
        "!cd \"/content\" && zip -q \"coler.zip\" -r \"coler\""
      ],
      "metadata": {
        "id": "ZViLUnIsAyia",
        "colab": {
          "base_uri": "https://localhost:8080/"
        },
        "outputId": "ddde4b71-ae77-44a8-bda0-eaacbe38393f"
      },
      "execution_count": null,
      "outputs": [
        {
          "output_type": "stream",
          "name": "stdout",
          "text": [
            "\n",
            "zip error: Nothing to do! (try: zip -q -r coler.zip . -i coler)\n"
          ]
        }
      ]
    },
    {
      "cell_type": "markdown",
      "source": [
        "#背景処理画像を作成\n",
        "[remobe.bg](https://www.remove.bg/ja)にアクセスして、背景消去した画像を作成する"
      ],
      "metadata": {
        "id": "sSyAALr5UAk_"
      }
    },
    {
      "cell_type": "markdown",
      "source": [
        "※フォルダには生画像、背景処理画像をセットで入れておく"
      ],
      "metadata": {
        "id": "csL-qRHPV5Aq"
      }
    },
    {
      "cell_type": "markdown",
      "source": [
        "##ローカルから画像を入手する場合\n",
        "\n",
        "画像の入ったフォルダをzip化(日本語は文字化けする)、ダウンロードののち、以下のコードで解凍"
      ],
      "metadata": {
        "id": "HGRL9p2N6qDD"
      }
    },
    {
      "cell_type": "code",
      "source": [
        "!unzip -q roze-reaf-rinkaku-resize.zip"
      ],
      "metadata": {
        "id": "ciEn7BP26nIT"
      },
      "execution_count": null,
      "outputs": []
    },
    {
      "cell_type": "markdown",
      "source": [
        "#画像の仕分け\n",
        "\n",
        "画像のリストを取得し、生画像、背景処理画像それぞれのフォルダに入れる"
      ],
      "metadata": {
        "id": "Nqojv1P5WG2j"
      }
    },
    {
      "cell_type": "code",
      "source": [
        "#参考https://kino-code.com/files-move/\n",
        "import os\n",
        "import shutil\n",
        "#作成するフォルダネーム\n",
        "file_extensions = ['jpg','png']\n",
        "file_extensions \n",
        "\n",
        "#読み取りたいディレクトリパスを入れる\n",
        "read_path = 'roze-reaf-rinkaku-resize'#★読み取るフォルダネームに合わせて変更\n",
        "read_files = os.listdir(read_path)\n",
        "\n",
        "#拡張子リストを取得するフォー文を追加する。\n",
        "for file_extension in file_extensions:\n",
        "  if not os.path.exists(file_extension):\n",
        "    os.mkdir(file_extension)\n",
        "\n",
        "  #指定の拡張子だけのファイル名をリストを作る\n",
        "  file_list = []\n",
        "  for file_name in read_files:\n",
        "      if file_name.endswith(file_extension):\n",
        "          file_list.append(file_name)\n",
        "\n",
        "  #read_listから、指定の拡張子のファイルだけ指定のディレクトリにコピーする\n",
        "  for file_name in file_list:\n",
        "      copy_from = './' + read_path + '/' + file_name    \n",
        "      copy_to = './' + file_extension + '/' + file_name \n",
        "      shutil.copy2(copy_from, copy_to)"
      ],
      "metadata": {
        "id": "HuMmQBDPWZVF"
      },
      "execution_count": 3,
      "outputs": []
    },
    {
      "cell_type": "markdown",
      "source": [
        "#マスク画像を取得"
      ],
      "metadata": {
        "id": "B0Mtw15qt-B5"
      }
    },
    {
      "cell_type": "markdown",
      "source": [
        "jpgフォルダには元の画像を、maskフォルダにはマスク画像を入れる。それぞれのセットごとに同じ名前を付けること"
      ],
      "metadata": {
        "id": "9k7WVm4x_x_i"
      }
    },
    {
      "cell_type": "markdown",
      "source": [
        "アルファチャンネル（透過度）のみ取得"
      ],
      "metadata": {
        "id": "d4iO6yqx7OSM"
      }
    },
    {
      "cell_type": "code",
      "source": [
        "import cv2\n",
        "from matplotlib import pyplot as plt\n",
        "import glob\n",
        "\n",
        "#jpgフォルダのリストを取得\n",
        "LOAD_FOLDA = 'png'\n",
        "LOAD_NAME = os.listdir(LOAD_FOLDA)\n",
        "\n",
        "\n",
        "#マスクフォルダを作成\n",
        "SAVE_NAME = 'mask'\n",
        "if not os.path.exists('./' +SAVE_NAME):\n",
        "    os.mkdir('./' +SAVE_NAME)\n",
        "\n",
        "#マスク画像を作るためのfor文\n",
        "for file_name in LOAD_NAME:\n",
        "\n",
        "  IMAGE_PATH='/content/' + LOAD_FOLDA +'/'+file_name\n",
        "  image = cv2.imread(IMAGE_PATH, cv2.IMREAD_UNCHANGED)# 画像を読み込んでNumPy配列を作成\n",
        "  alpha_image = image[:,:,3]# スライスを利用してアルファチャンネルのみを切り出し\n",
        "  cv2.imwrite('/content/'+SAVE_NAME+'/'+file_name, alpha_image)# 画像ファイルとして保存\n",
        "\n",
        "#マスク画像の名前を置き換えるためのfor文\n",
        "FILE_PASS=glob.glob('/content/mask/*')\n",
        "\n",
        "for name in FILE_PASS:\n",
        "  #nameの名前をRENAMEへ変更\n",
        "  RENAME=name.replace('-removebg-preview', '')\n",
        "  os.rename(name, RENAME)"
      ],
      "metadata": {
        "id": "VgG8XwOV7NgE"
      },
      "execution_count": null,
      "outputs": []
    },
    {
      "cell_type": "markdown",
      "source": [
        "#カラー画像を取得"
      ],
      "metadata": {
        "id": "C-iQ5ld3t0_t"
      }
    },
    {
      "cell_type": "code",
      "source": [
        "import cv2\n",
        "from matplotlib import pyplot as plt\n",
        "import glob\n",
        "\n",
        "color_list = [(255,0,0),(0,255,0),(0,0,255),(255,255,0),(0,255,255),(255,255,255)]\n",
        "\n",
        "\n",
        "#maskフォルダのリストを取得\n",
        "LOAD_FOLDA = 'mask'\n",
        "LOAD_NAME = os.listdir(LOAD_FOLDA)\n",
        "\n",
        "\n",
        "#colerを作成\n",
        "SAVE_NAME = 'coler'\n",
        "if not os.path.exists('./' +SAVE_NAME):\n",
        "    os.mkdir('./' +SAVE_NAME)\n",
        "\n",
        "#coler画像を作るためのfor文\n",
        "for file_name in LOAD_NAME:\n",
        "  im = cv2.imread('/content/'+LOAD_FOLDA+'/'+file_name,flags=cv2.IMREAD_GRAYSCALE)\n",
        "  contours, hierarchy = cv2.findContours(im,cv2.RETR_EXTERNAL,cv2.CHAIN_APPROX_SIMPLE)\n",
        "\n",
        "  img2 = cv2.cvtColor(im, cv2.COLOR_GRAY2BGR)\n",
        "  for i in range(len(contours)):\n",
        "      cnt = contours[i]\n",
        "      img2 = cv2.drawContours(img2, [cnt], 0, color_list[i], -1)\n",
        "  arfa_image = cv2.cvtColor(img2, cv2.COLOR_BGR2RGB)  \n",
        "  cv2.imwrite('/content/'+SAVE_NAME+'/'+file_name, arfa_image)# 画像ファイルとして保存\n",
        "\n",
        "#カラーコードをHEX形式でtxtに出力\n",
        "fname = '/content/'+SAVE_NAME+'/'+'coler_code.txt'\n",
        "f = open(fname,'w')\n",
        "for i in color_list:\n",
        "  html_color='#%02X%02X%02X' % i+\"\\n\"\n",
        "  f.write(html_color)\n",
        "f.close()"
      ],
      "metadata": {
        "id": "331DYtPdt0o0"
      },
      "execution_count": null,
      "outputs": []
    },
    {
      "cell_type": "markdown",
      "source": [
        "##読み込んだ画像を表示する場合\n",
        "\n",
        "・OpenCVを使って画像を読み込む cv2.imreadでOpenCV形式に変換 OpenCVはBGRなのでcvtColorでRGBに直してから表示する"
      ],
      "metadata": {
        "id": "5VRBG0d67CL_"
      }
    },
    {
      "cell_type": "code",
      "source": [
        "import cv2\n",
        "from matplotlib import pyplot as plt\n",
        "image_name='/content/mask/2neko.png'\n",
        "orig = cv2.imread(image_name)\n",
        "src = cv2.cvtColor(orig, cv2.COLOR_BGR2RGB)\n",
        "plt.imshow(src)"
      ],
      "metadata": {
        "id": "15iy-N5W7Dy5",
        "outputId": "f298b103-6b80-4b0b-e8e4-0a58dac5910e",
        "colab": {
          "base_uri": "https://localhost:8080/",
          "height": 257
        }
      },
      "execution_count": null,
      "outputs": [
        {
          "output_type": "execute_result",
          "data": {
            "text/plain": [
              "<matplotlib.image.AxesImage at 0x7f483df34c10>"
            ]
          },
          "metadata": {},
          "execution_count": 5
        },
        {
          "output_type": "display_data",
          "data": {
            "text/plain": [
              "<Figure size 432x288 with 1 Axes>"
            ],
            "image/png": "[encoded data removed]"
          },
          "metadata": {
            "needs_background": "light"
          }
        }
      ]
    },
    {
      "cell_type": "code",
      "source": [
        "im = cv2.imread(image_name,flags=cv2.IMREAD_GRAYSCALE)\n",
        "contours, hierarchy = cv2.findContours(im,cv2.RETR_EXTERNAL,cv2.CHAIN_APPROX_SIMPLE)\n",
        "img = cv2.cvtColor(im, cv2.COLOR_GRAY2BGR)\n",
        "#drawContoursの最後の引数で輪郭描画線の太さが指定できる。\n",
        "img = cv2.drawContours(img, contours, -1, (0,255,0), 1)\n",
        "plt.imshow(img)\n",
        "plt.show()"
      ],
      "metadata": {
        "colab": {
          "base_uri": "https://localhost:8080/",
          "height": 240
        },
        "id": "dk_yaDwjrdJy",
        "outputId": "b2a8d52c-4da8-4239-eb5c-1eb61949731d"
      },
      "execution_count": null,
      "outputs": [
        {
          "output_type": "display_data",
          "data": {
            "text/plain": [
              "<Figure size 432x288 with 1 Axes>"
            ],
            "image/png": "[encoded data removed]"
          },
          "metadata": {
            "needs_background": "light"
          }
        }
      ]
    },
    {
      "cell_type": "code",
      "source": [
        "img2 = cv2.cvtColor(im, cv2.COLOR_GRAY2BGR)\n",
        "color_list = [(255,0,0),(0,255,0),(0,0,153),(0,0,204),(0,0,255)]\n",
        "\n",
        "for i in range(len(contours)):\n",
        "    cnt = contours[i]\n",
        "    img2 = cv2.drawContours(img2, [cnt], 0, color_list[i], -1)\n",
        "arfa_image = cv2.cvtColor(img2, cv2.COLOR_BGR2RGB)\n",
        "plt.imshow(arfa_image)\n",
        "plt.show()\n",
        "cv2.imwrite(image_name, arfa_image)# 画像ファイルとして保存"
      ],
      "metadata": {
        "colab": {
          "base_uri": "https://localhost:8080/",
          "height": 257
        },
        "id": "Dn2JT2O_r2Cx",
        "outputId": "4dcd9566-2bbc-4c03-9d26-fa74d55482fd"
      },
      "execution_count": null,
      "outputs": [
        {
          "output_type": "display_data",
          "data": {
            "text/plain": [
              "<Figure size 432x288 with 1 Axes>"
            ],
            "image/png": "[encoded data removed]"
          },
          "metadata": {
            "needs_background": "light"
          }
        },
        {
          "output_type": "execute_result",
          "data": {
            "text/plain": [
              "True"
            ]
          },
          "metadata": {},
          "execution_count": 16
        }
      ]
    },
    {
      "cell_type": "markdown",
      "source": [
        "#cocoファイルを出力"
      ],
      "metadata": {
        "id": "EPSi7-s80Wc1"
      }
    },
    {
      "cell_type": "markdown",
      "source": [
        "ライブラリインポート"
      ],
      "metadata": {
        "id": "GwfJcrH4A6N4"
      }
    },
    {
      "cell_type": "code",
      "source": [
        "import json\n",
        "import collections as cl\n",
        "import numpy as np\n",
        "import matplotlib.pyplot as plt\n",
        "from scipy import ndimage\n",
        "from skimage import measure\n",
        "from skimage.segmentation import clear_border\n",
        "from skimage.filters import threshold_otsu\n",
        "import cv2\n",
        "import glob\n",
        "import sys\n",
        "import os"
      ],
      "metadata": {
        "id": "MlKvQKSNA8ZX"
      },
      "execution_count": null,
      "outputs": []
    },
    {
      "cell_type": "markdown",
      "source": [
        "関数定義"
      ],
      "metadata": {
        "id": "bksvD6tTA_jg"
      }
    },
    {
      "cell_type": "markdown",
      "source": [
        "問題点\n",
        "\n",
        "*複数枚の葉が写った画像に対応させる必要がある"
      ],
      "metadata": {
        "id": "7aNIghfb3PX0"
      }
    },
    {
      "cell_type": "markdown",
      "source": [
        "##※roboflow形式"
      ],
      "metadata": {
        "id": "9BBa8HDrcivn"
      }
    },
    {
      "cell_type": "code",
      "source": [
        "### https://qiita.com/harmegiddo/items/da131ae5bcddbbbde41f\n",
        "\n",
        "def info():\n",
        "    tmp = cl.OrderedDict()\n",
        "    tmp[\"year\"] = \"2022\"\n",
        "    tmp[\"version\"] = \"1\"\n",
        "    tmp[\"description\"] = \"Exported from roboflow.ai\"\n",
        "    tmp[\"contributor\"] = \"\"\n",
        "    tmp[\"url\"] =\"https://public.roboflow.ai/object-detection/undefined\"\n",
        "    tmp[\"data_created\"] = \"2022\"\n",
        "    return tmp\n",
        "\n",
        "def licenses():\n",
        "    tmp = cl.OrderedDict()\n",
        "    tmp[\"id\"] = 1\n",
        "    tmp[\"url\"] = \"https://creativecommons.org/licenses/by/4.0/\"\n",
        "    tmp[\"name\"] = \"CC BY 4.0\"\n",
        "    return tmp\n",
        "\n",
        "def categories():\n",
        "    tmps = []\n",
        "    sup = [\"none\",\"reaf\",\"reaf\",\"reaf\",\"reaf\",\"reaf\"]\n",
        "    cat = [\"reaf\",\"reaf1\",\"reaf2\",\"reaf3\",\"reaf4\",\"reaf5\"]\n",
        "\n",
        "    for i in range(len(sup)):\n",
        "        tmp = cl.OrderedDict()\n",
        "        tmp[\"id\"] = i\n",
        "        tmp[\"name\"] = cat[i]\n",
        "        tmp[\"supercategory\"] = sup[i]\n",
        "        tmps.append(tmp)\n",
        "    return tmps\n",
        "\n",
        "def images(mask_path):\n",
        "    tmps = []\n",
        "    files = glob.glob(mask_path + \"/*.png\")\n",
        "    files.sort()\n",
        "\n",
        "    for i, file in enumerate(files):\n",
        "        img = cv2.imread(file, 0)\n",
        "        height, width = img.shape[:3]\n",
        "\n",
        "        tmp = cl.OrderedDict()\n",
        "        tmp[\"id\"] = i\n",
        "        tmp[\"license\"] = 1\n",
        "        tmp[\"file_name\"] = os.path.basename(file.replace('png', 'jpg'))\n",
        "        tmp[\"height\"] = height\n",
        "        tmp[\"width\"] = width\n",
        "        tmp[\"date_captured\"] = \"\"\n",
        "        tmps.append(tmp)\n",
        "    return tmps\n",
        "\n",
        "\n",
        "def annotations(mask_path):\n",
        "    tmps = []\n",
        "\n",
        "    files = glob.glob(mask_path + \"/*.png\")\n",
        "    files.sort()\n",
        "    \n",
        "    for i, file in enumerate(files):\n",
        "        img = cv2.imread(file, 0)\n",
        "        tmp = cl.OrderedDict()\n",
        "        contours = measure.find_contours(img, 0.5)\n",
        "        segmentation_list = []\n",
        "\n",
        "        for contour in contours:\n",
        "            for a in contour:\n",
        "                segmentation_list.append(a[1])\n",
        "                segmentation_list.append(a[0])\n",
        "\n",
        "\n",
        "        mask = np.array(img)\n",
        "        obj_ids = np.unique(mask)\n",
        "        obj_ids = obj_ids[1:]\n",
        "        masks = mask == obj_ids[:, None, None]\n",
        "        num_objs = len(obj_ids)\n",
        "        boxes = []\n",
        "\n",
        "        for j in range(num_objs):\n",
        "            pos = np.where(masks[j])\n",
        "            xmin = np.min(pos[1])\n",
        "            xmax = np.max(pos[1])\n",
        "            ymin = np.min(pos[0])\n",
        "            ymax = np.max(pos[0])\n",
        "            boxes.append([xmin, ymin, xmax, ymax])\n",
        "\n",
        "        tmp_segmentation = cl.OrderedDict()\n",
        "\n",
        "        tmp[\"id\"] = i\n",
        "        tmp[\"image_id\"] = i\n",
        "        tmp[\"category_id\"] = 1\n",
        "        tmp[\"bbox\"] =  [float(boxes[0][0]), float(boxes[0][1]), float(boxes[0][3] - boxes[0][1]), float(boxes[0][2] - boxes[0][0])]\n",
        "        tmp[\"area\"] = float(boxes[0][3] - boxes[0][1]) * float(boxes[0][2] - boxes[0][0])\n",
        "        tmp[\"segmentation\"] = [segmentation_list]\n",
        "        tmp[\"iscrowd\"] = 0        \n",
        "        tmps.append(tmp)\n",
        "    return tmps\n",
        "\n",
        "\n",
        "\n",
        "def main(mask_path, json_name):\n",
        "    query_list = [\"info\", \"licenses\", \"categories\", \"images\", \"annotations\"]\n",
        "    js = cl.OrderedDict()\n",
        "    for i in range(len(query_list)):\n",
        "        tmp = \"\"\n",
        "        # Info\n",
        "        if query_list[i] == \"info\":\n",
        "            tmp = info()\n",
        "            \n",
        "        # licenses\n",
        "        elif query_list[i] == \"licenses\":\n",
        "            tmp = licenses()\n",
        "\n",
        "        elif query_list[i] == \"categories\":\n",
        "            tmp = categories()\n",
        "\n",
        "        elif query_list[i] == \"images\":\n",
        "            tmp = images(mask_path)\n",
        "\n",
        "        elif query_list[i] == \"annotations\":\n",
        "            tmp = annotations(mask_path)\n",
        "\n",
        "        # save it\n",
        "        js[query_list[i]] = tmp\n",
        "\n",
        "    # write\n",
        "    fw = open(json_name,'w')\n",
        "    json.dump(js,fw,indent=2)\n",
        "\n",
        "#main\n",
        "#args = sys.argv\n",
        "#mask_path = args[1]\n",
        "mask_path =  \"/content/mask\"\n",
        "#json_name = args[2]\n",
        "json_name = \"reaf-roboflow.json\"\n",
        "\n",
        "if __name__=='__main__':\n",
        "    main(mask_path, json_name)"
      ],
      "metadata": {
        "id": "RzqJcdTXA1yd"
      },
      "execution_count": null,
      "outputs": []
    },
    {
      "cell_type": "markdown",
      "source": [
        "##※FastLabel形式"
      ],
      "metadata": {
        "id": "Av9y28L8cwxn"
      }
    },
    {
      "cell_type": "code",
      "source": [
        "### https://docs.fastlabel.ai/docs/import-annotation\n",
        "\n",
        "def images(mask_path):\n",
        "    tmps = []\n",
        "    files = glob.glob(mask_path + \"/*.png\")\n",
        "    files.sort()\n",
        "\n",
        "    for i, file in enumerate(files):\n",
        "        img = cv2.imread(file, 0)\n",
        "        height, width = img.shape[:3]\n",
        "\n",
        "        tmp = cl.OrderedDict()\n",
        "        tmp[\"file_name\"] = os.path.basename(file.replace('png', 'jpg'))\n",
        "        tmp[\"id\"] = i+1\n",
        "        tmps.append(tmp)\n",
        "    return tmps\n",
        "\n",
        "def categories():\n",
        "    tmps = []\n",
        "    sup = [\"reaf\"]\n",
        "\n",
        "    for i in range(len(sup)):\n",
        "        tmp = cl.OrderedDict()\n",
        "        tmp[\"id\"] = i+1\n",
        "        tmp[\"supercategory\"] = sup[0]\n",
        "        tmps.append(tmp)\n",
        "    return tmps\n",
        "\n",
        "\n",
        "def annotations(mask_path):\n",
        "    tmps = []\n",
        "\n",
        "    files = glob.glob(mask_path + \"/*.png\")\n",
        "    files.sort()\n",
        "    \n",
        "    for i, file in enumerate(files):\n",
        "        img = cv2.imread(file, 0)\n",
        "        tmp = cl.OrderedDict()\n",
        "        contours = measure.find_contours(img, 0.5)\n",
        "        segmentation_list = []\n",
        "\n",
        "        for contour in contours:\n",
        "            for a in contour:\n",
        "                segmentation_list.append(a[1])\n",
        "                segmentation_list.append(a[0])\n",
        "\n",
        "\n",
        "        mask = np.array(img)\n",
        "        obj_ids = np.unique(mask)\n",
        "        obj_ids = obj_ids[1:]\n",
        "        masks = mask == obj_ids[:, None, None]\n",
        "        num_objs = len(obj_ids)\n",
        "        boxes = []\n",
        "\n",
        "        for j in range(num_objs):\n",
        "            pos = np.where(masks[j])\n",
        "            xmin = np.min(pos[1])\n",
        "            xmax = np.max(pos[1])\n",
        "            ymin = np.min(pos[0])\n",
        "            ymax = np.max(pos[0])\n",
        "            boxes.append([xmin, ymin, xmax, ymax])\n",
        "\n",
        "        tmp_segmentation = cl.OrderedDict()\n",
        "        tmp[\"segmentation\"] = [segmentation_list]\n",
        "\n",
        "        tmp_segmentation = cl.OrderedDict()\n",
        "        tmp[\"image_id\"] = i\n",
        "        tmp[\"category_id\"] = 1\n",
        "        tmp[\"id\"] = i        \n",
        "        tmps.append(tmp)\n",
        "    return tmps\n",
        "\n",
        "\n",
        "\n",
        "def main(mask_path, json_name):\n",
        "    query_list = [\"images\",\"categories\",\"annotations\"]\n",
        "    js = cl.OrderedDict()\n",
        "    for i in range(len(query_list)):\n",
        "        tmp = \"\"\n",
        "        # Info\n",
        "        if query_list[i] == \"images\":\n",
        "            tmp = images(mask_path)\n",
        "\n",
        "        elif query_list[i] == \"categories\":\n",
        "            tmp = categories()\n",
        "\n",
        "        elif query_list[i] == \"annotations\":\n",
        "            tmp = annotations(mask_path)\n",
        "\n",
        "        # save it\n",
        "        js[query_list[i]] = tmp\n",
        "\n",
        "    # write\n",
        "    fw = open(json_name,'w')\n",
        "    json.dump(js,fw,indent=2)\n",
        "\n",
        "#main\n",
        "#args = sys.argv\n",
        "#mask_path = args[1]\n",
        "mask_path =  \"/content/mask\"\n",
        "#json_name = args[2]\n",
        "json_name = \"reaf-fastlabel.json\"\n",
        "\n",
        "if __name__=='__main__':\n",
        "    main(mask_path, json_name)"
      ],
      "metadata": {
        "id": "fgE9cnNocuuC"
      },
      "execution_count": null,
      "outputs": []
    },
    {
      "cell_type": "markdown",
      "source": [
        "#背景合成"
      ],
      "metadata": {
        "id": "kpBtaUBCDw0U"
      }
    },
    {
      "cell_type": "markdown",
      "source": [
        "※ドライブから背景を取得"
      ],
      "metadata": {
        "id": "OWYRd15KIdQo"
      }
    },
    {
      "cell_type": "code",
      "source": [
        "import shutil\n",
        "#!cd \"/content/drive/MyDrive/バラ画像/\" && zip -q \"background_image.zip\" -r \"background_image\"\n",
        "shutil.move('/content/drive/MyDrive/バラ画像/background_image.zip','/content')\n",
        "!unzip -q background_image.zip"
      ],
      "metadata": {
        "id": "ik9gvAGbIcLE"
      },
      "execution_count": null,
      "outputs": []
    },
    {
      "cell_type": "markdown",
      "source": [
        "背景画像をrisaize"
      ],
      "metadata": {
        "id": "2B0X5zXVNf-o"
      }
    },
    {
      "cell_type": "code",
      "source": [
        "!pip install Pillow\n",
        "import os\n",
        "from PIL import Image\n",
        "from google.colab import drive,files\n",
        "\n",
        "%cd /content\n",
        "!mkdir background_image_resize\n",
        "\n",
        "dir_name = \"/content/background_image\"\n",
        "new_dir_name = \"/content/background_image_resize\"\n",
        "files = os.listdir(dir_name)\n",
        "\n",
        "for file in files:\n",
        "    photo = Image.open(os.path.join(dir_name, file))\n",
        "    if photo.size[0] == 3120:\n",
        "      photo_resize = photo.resize((433,577))\n",
        "    else:\n",
        "      photo_resize = photo.resize((577,433))\n",
        "    photo_resize.save(os.path.join(new_dir_name, file))"
      ],
      "metadata": {
        "id": "uzg8_4iXNfTs",
        "outputId": "5a4f8902-5dd3-428c-9c78-e1ae781994d8",
        "colab": {
          "base_uri": "https://localhost:8080/"
        }
      },
      "execution_count": null,
      "outputs": [
        {
          "output_type": "stream",
          "name": "stdout",
          "text": [
            "Looking in indexes: https://pypi.org/simple, https://us-python.pkg.dev/colab-wheels/public/simple/\n",
            "Requirement already satisfied: Pillow in /usr/local/lib/python3.7/dist-packages (7.1.2)\n",
            "/content\n"
          ]
        }
      ]
    },
    {
      "cell_type": "code",
      "source": [
        "import cv2\n",
        "\n",
        "img1 = cv2.imread('/content/jpg/1.jpg')\n",
        "img2 = cv2.imread('/content/background_image_resize/IMG_20220427_102011.jpg')\n",
        "\n",
        "height, width = img1.shape[:2]\n",
        "img2[0:height, 0:width] = img1\n",
        "\n",
        "cv2.imwrite('new.jpg', img2)"
      ],
      "metadata": {
        "id": "sAwNs7q4IRPw",
        "outputId": "e82b0968-521d-42d2-d1f1-6f59cdcb67db",
        "colab": {
          "base_uri": "https://localhost:8080/",
          "height": 240
        }
      },
      "execution_count": null,
      "outputs": [
        {
          "output_type": "error",
          "ename": "ValueError",
          "evalue": "ignored",
          "traceback": [
            "\u001b[0;31m---------------------------------------------------------------------------\u001b[0m",
            "\u001b[0;31mValueError\u001b[0m                                Traceback (most recent call last)",
            "\u001b[0;32m<ipython-input-11-9592f2f7bddb>\u001b[0m in \u001b[0;36m<module>\u001b[0;34m()\u001b[0m\n\u001b[1;32m      5\u001b[0m \u001b[0;34m\u001b[0m\u001b[0m\n\u001b[1;32m      6\u001b[0m \u001b[0mheight\u001b[0m\u001b[0;34m,\u001b[0m \u001b[0mwidth\u001b[0m \u001b[0;34m=\u001b[0m \u001b[0mimg1\u001b[0m\u001b[0;34m.\u001b[0m\u001b[0mshape\u001b[0m\u001b[0;34m[\u001b[0m\u001b[0;34m:\u001b[0m\u001b[0;36m2\u001b[0m\u001b[0;34m]\u001b[0m\u001b[0;34m\u001b[0m\u001b[0;34m\u001b[0m\u001b[0m\n\u001b[0;32m----> 7\u001b[0;31m \u001b[0mimg2\u001b[0m\u001b[0;34m[\u001b[0m\u001b[0;36m0\u001b[0m\u001b[0;34m:\u001b[0m\u001b[0mheight\u001b[0m\u001b[0;34m,\u001b[0m \u001b[0;36m0\u001b[0m\u001b[0;34m:\u001b[0m\u001b[0mwidth\u001b[0m\u001b[0;34m]\u001b[0m \u001b[0;34m=\u001b[0m \u001b[0mimg1\u001b[0m\u001b[0;34m\u001b[0m\u001b[0;34m\u001b[0m\u001b[0m\n\u001b[0m\u001b[1;32m      8\u001b[0m \u001b[0;34m\u001b[0m\u001b[0m\n\u001b[1;32m      9\u001b[0m \u001b[0mcv2\u001b[0m\u001b[0;34m.\u001b[0m\u001b[0mimwrite\u001b[0m\u001b[0;34m(\u001b[0m\u001b[0;34m'new.jpg'\u001b[0m\u001b[0;34m,\u001b[0m \u001b[0mimg2\u001b[0m\u001b[0;34m)\u001b[0m\u001b[0;34m\u001b[0m\u001b[0;34m\u001b[0m\u001b[0m\n",
            "\u001b[0;31mValueError\u001b[0m: could not broadcast input array from shape (577,433,3) into shape (433,433,3)"
          ]
        }
      ]
    },
    {
      "cell_type": "markdown",
      "source": [
        "#分けてzip化する"
      ],
      "metadata": {
        "id": "uOp72ZIMHaDc"
      }
    },
    {
      "cell_type": "code",
      "source": [
        "#参考https://kino-code.com/files-move/\n",
        "import os\n",
        "import shutil\n",
        "import zipfile\n",
        "\n",
        "DOWNLOAD_FILE_NAME=\"zip_coler\"\n",
        "\n",
        "#l行のリストをn分割する関数\n",
        "def split_list(l, n):\n",
        "    for idx in range(0, len(l), n):\n",
        "        yield l[idx:idx + n]\n",
        "\n",
        "#作成するフォルダネーム\n",
        "file_extensions = list(range(0,10))\n",
        "split_list_number=10#分割する個数\n",
        "\n",
        "#読み取りたいディレクトリパスを入れる\n",
        "read_path = 'coler'#★読み取るフォルダネームに合わせて変更\n",
        "read_files = os.listdir(read_path)\n",
        "\n",
        "#拡張子リストを取得するフォー文を追加する。\n",
        "for i in file_extensions:\n",
        "  if not os.path.exists(str(i)):\n",
        "    os.mkdir(str(i))\n",
        "\n",
        "#指定の拡張子だけのファイル名をリストを作る\n",
        "file_list = list(split_list(read_files, split_list_number))\n",
        "\n",
        "  #read_listから、指定の拡張子のファイルだけ指定のディレクトリにコピーする\n",
        "for i in file_extensions:\n",
        "  for file_name in file_list[i]:\n",
        "    copy_from = './' + read_path + '/' + file_name    \n",
        "    copy_to = './' + str(i) + '/' + file_name \n",
        "    shutil.copy2(copy_from, copy_to)\n",
        "\n",
        "if not os.path.exists('/content/'+DOWNLOAD_FILE_NAME):\n",
        "  os.mkdir(DOWNLOAD_FILE_NAME)\n",
        "\n",
        "  # ZIPファイルを作成\n",
        "for i in file_extensions:\n",
        "  shutil.make_archive(str(i), format='zip', root_dir='/content/'+str(i))"
      ],
      "metadata": {
        "id": "d61ICiYv-ZmH"
      },
      "execution_count": null,
      "outputs": []
    },
    {
      "cell_type": "code",
      "source": [
        "#フォルダを移動\n",
        "for i in file_extensions:\n",
        "  if not os.path.exists('./' + str(i)+'.zip'):\n",
        "    shutil.move('/content/' + str(i)+'.zip','/content/'+DOWNLOAD_FILE_NAME)"
      ],
      "metadata": {
        "id": "TJnd_zu8gRyQ"
      },
      "execution_count": null,
      "outputs": []
    },
    {
      "cell_type": "code",
      "source": [
        "\n",
        "\n",
        "#元ファイルの消去\n",
        "for i in file_extensions:\n",
        "  shutil.rmtree(str(i))\n",
        "  os.remove('/content/' + str(i)+'.zip')\n",
        "\n",
        "#まとめたファイルをzip化\n",
        "shutil.make_archive(DOWNLOAD_FILE_NAME, format='zip', root_dir='/content/'+DOWNLOAD_FILE_NAME)"
      ],
      "metadata": {
        "id": "e6upUoQKgIWe"
      },
      "execution_count": null,
      "outputs": []
    },
    {
      "cell_type": "markdown",
      "source": [
        "白画像生成"
      ],
      "metadata": {
        "id": "vVGDXgncUz7Y"
      }
    },
    {
      "cell_type": "code",
      "source": [
        "import cv2\n",
        "import numpy as np\n",
        "size=(577,433)\n",
        "black_img=np.zeros(size,np.uint8)\n",
        "white_img=black_img+255\n",
        "cv2.imwrite('white.jpg',white_img)"
      ],
      "metadata": {
        "id": "1QNrxIJxUzMK",
        "outputId": "a14482e2-78e9-4036-e6bc-6dd7a84e7158",
        "colab": {
          "base_uri": "https://localhost:8080/"
        }
      },
      "execution_count": null,
      "outputs": [
        {
          "output_type": "execute_result",
          "data": {
            "text/plain": [
              "True"
            ]
          },
          "metadata": {},
          "execution_count": 31
        }
      ]
    },
    {
      "cell_type": "code",
      "source": [
        "import cv2\n",
        "from matplotlib import pyplot as plt\n",
        "import numpy as np\n",
        "from PIL import Image\n",
        "\n",
        "orig1 = np.array(Image.open('/content/jpg/1.jpg'))\n",
        "orig2 = np.array(Image.open('/content/semantic_segmentations/1.png'))\n",
        "\n",
        "\n",
        "r = np.array(orig2[:, :, 0], dtype=np.int16)\n",
        "retval,r2 = cv2.threshold(r, 0, 1, cv2.THRESH_BINARY)\n",
        "\n",
        "#orig1=orig1[:,:,:,np.newaxis]\n",
        "\n",
        "kiritori=np.zeros_like(orig1)\n",
        "for i in list(range(3)):\n",
        "  kiritori[:,:,i]=np.multiply(r2,orig1[:,:,i])\n",
        "\n",
        "kiritori2=cv2.cvtColor(kiritori, cv2.COLOR_BGR2RGB)\n",
        "\n",
        "cv2.imwrite('/content/kiritori2.jpg', kiritori2)\n",
        "#np.savetxt('/content/r.txt', r,fmt='%d')\n",
        "plt.imshow(kiritori)\n",
        "#print(src1[:,:,0].shape)\n"
      ],
      "metadata": {
        "id": "9LIhfp0qTLMt",
        "outputId": "b1f226b9-38c9-492e-d90f-d042cfe722d2",
        "colab": {
          "base_uri": "https://localhost:8080/",
          "height": 286
        }
      },
      "execution_count": 25,
      "outputs": [
        {
          "output_type": "execute_result",
          "data": {
            "text/plain": [
              "<matplotlib.image.AxesImage at 0x7f94205c81d0>"
            ]
          },
          "metadata": {},
          "execution_count": 25
        },
        {
          "output_type": "display_data",
          "data": {
            "text/plain": [
              "<Figure size 432x288 with 1 Axes>"
            ],
            "image/png": "[encoded data removed]"
          },
          "metadata": {
            "needs_background": "light"
          }
        }
      ]
    },
    {
      "cell_type": "code",
      "source": [
        "from PIL import Image\n",
        "im = Image.open('kiritori.jpg')\n",
        "im.save('kiritori.png')"
      ],
      "metadata": {
        "id": "wQMIYIBCdDYZ"
      },
      "execution_count": 24,
      "outputs": []
    }
  ]
}